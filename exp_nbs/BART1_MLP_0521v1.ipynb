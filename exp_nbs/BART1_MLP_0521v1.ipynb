{
  "nbformat": 4,
  "nbformat_minor": 0,
  "metadata": {
    "accelerator": "GPU",
    "colab": {
      "name": "BART_model_customize_0521.ipynb",
      "provenance": [],
      "collapsed_sections": [],
      "machine_shape": "hm"
    },
    "kernelspec": {
      "display_name": "Python 3",
      "name": "python3"
    },
    "widgets": {
      "application/vnd.jupyter.widget-state+json": {
        "b215dbb5805440c99258da0539635d57": {
          "model_module": "@jupyter-widgets/controls",
          "model_name": "HBoxModel",
          "state": {
            "_view_name": "HBoxView",
            "_dom_classes": [],
            "_model_name": "HBoxModel",
            "_view_module": "@jupyter-widgets/controls",
            "_model_module_version": "1.5.0",
            "_view_count": null,
            "_view_module_version": "1.5.0",
            "box_style": "",
            "layout": "IPY_MODEL_22a42929a7fa47a290a834442fd032c4",
            "_model_module": "@jupyter-widgets/controls",
            "children": [
              "IPY_MODEL_4dd299c1910d4bfa80c2914a86b21e38",
              "IPY_MODEL_2eae657a54b04e0d9e5f108c1709ac40"
            ]
          }
        },
        "22a42929a7fa47a290a834442fd032c4": {
          "model_module": "@jupyter-widgets/base",
          "model_name": "LayoutModel",
          "state": {
            "_view_name": "LayoutView",
            "grid_template_rows": null,
            "right": null,
            "justify_content": null,
            "_view_module": "@jupyter-widgets/base",
            "overflow": null,
            "_model_module_version": "1.2.0",
            "_view_count": null,
            "flex_flow": null,
            "width": null,
            "min_width": null,
            "border": null,
            "align_items": null,
            "bottom": null,
            "_model_module": "@jupyter-widgets/base",
            "top": null,
            "grid_column": null,
            "overflow_y": null,
            "overflow_x": null,
            "grid_auto_flow": null,
            "grid_area": null,
            "grid_template_columns": null,
            "flex": null,
            "_model_name": "LayoutModel",
            "justify_items": null,
            "grid_row": null,
            "max_height": null,
            "align_content": null,
            "visibility": null,
            "align_self": null,
            "height": null,
            "min_height": null,
            "padding": null,
            "grid_auto_rows": null,
            "grid_gap": null,
            "max_width": null,
            "order": null,
            "_view_module_version": "1.2.0",
            "grid_template_areas": null,
            "object_position": null,
            "object_fit": null,
            "grid_auto_columns": null,
            "margin": null,
            "display": null,
            "left": null
          }
        },
        "4dd299c1910d4bfa80c2914a86b21e38": {
          "model_module": "@jupyter-widgets/controls",
          "model_name": "FloatProgressModel",
          "state": {
            "_view_name": "ProgressView",
            "style": "IPY_MODEL_253591dd4eab49f6bb060031d38e442e",
            "_dom_classes": [],
            "description": "Downloading: 100%",
            "_model_name": "FloatProgressModel",
            "bar_style": "success",
            "max": 898823,
            "_view_module": "@jupyter-widgets/controls",
            "_model_module_version": "1.5.0",
            "value": 898823,
            "_view_count": null,
            "_view_module_version": "1.5.0",
            "orientation": "horizontal",
            "min": 0,
            "description_tooltip": null,
            "_model_module": "@jupyter-widgets/controls",
            "layout": "IPY_MODEL_85e4a994fb3d4c9d94eb2bc8857fc92b"
          }
        },
        "2eae657a54b04e0d9e5f108c1709ac40": {
          "model_module": "@jupyter-widgets/controls",
          "model_name": "HTMLModel",
          "state": {
            "_view_name": "HTMLView",
            "style": "IPY_MODEL_196f611c0eca47e9856df9aff3c008c2",
            "_dom_classes": [],
            "description": "",
            "_model_name": "HTMLModel",
            "placeholder": "​",
            "_view_module": "@jupyter-widgets/controls",
            "_model_module_version": "1.5.0",
            "value": " 899k/899k [00:01&lt;00:00, 841kB/s]",
            "_view_count": null,
            "_view_module_version": "1.5.0",
            "description_tooltip": null,
            "_model_module": "@jupyter-widgets/controls",
            "layout": "IPY_MODEL_1edf0fd9793646828cfe2d7861aa79ec"
          }
        },
        "253591dd4eab49f6bb060031d38e442e": {
          "model_module": "@jupyter-widgets/controls",
          "model_name": "ProgressStyleModel",
          "state": {
            "_view_name": "StyleView",
            "_model_name": "ProgressStyleModel",
            "description_width": "initial",
            "_view_module": "@jupyter-widgets/base",
            "_model_module_version": "1.5.0",
            "_view_count": null,
            "_view_module_version": "1.2.0",
            "bar_color": null,
            "_model_module": "@jupyter-widgets/controls"
          }
        },
        "85e4a994fb3d4c9d94eb2bc8857fc92b": {
          "model_module": "@jupyter-widgets/base",
          "model_name": "LayoutModel",
          "state": {
            "_view_name": "LayoutView",
            "grid_template_rows": null,
            "right": null,
            "justify_content": null,
            "_view_module": "@jupyter-widgets/base",
            "overflow": null,
            "_model_module_version": "1.2.0",
            "_view_count": null,
            "flex_flow": null,
            "width": null,
            "min_width": null,
            "border": null,
            "align_items": null,
            "bottom": null,
            "_model_module": "@jupyter-widgets/base",
            "top": null,
            "grid_column": null,
            "overflow_y": null,
            "overflow_x": null,
            "grid_auto_flow": null,
            "grid_area": null,
            "grid_template_columns": null,
            "flex": null,
            "_model_name": "LayoutModel",
            "justify_items": null,
            "grid_row": null,
            "max_height": null,
            "align_content": null,
            "visibility": null,
            "align_self": null,
            "height": null,
            "min_height": null,
            "padding": null,
            "grid_auto_rows": null,
            "grid_gap": null,
            "max_width": null,
            "order": null,
            "_view_module_version": "1.2.0",
            "grid_template_areas": null,
            "object_position": null,
            "object_fit": null,
            "grid_auto_columns": null,
            "margin": null,
            "display": null,
            "left": null
          }
        },
        "196f611c0eca47e9856df9aff3c008c2": {
          "model_module": "@jupyter-widgets/controls",
          "model_name": "DescriptionStyleModel",
          "state": {
            "_view_name": "StyleView",
            "_model_name": "DescriptionStyleModel",
            "description_width": "",
            "_view_module": "@jupyter-widgets/base",
            "_model_module_version": "1.5.0",
            "_view_count": null,
            "_view_module_version": "1.2.0",
            "_model_module": "@jupyter-widgets/controls"
          }
        },
        "1edf0fd9793646828cfe2d7861aa79ec": {
          "model_module": "@jupyter-widgets/base",
          "model_name": "LayoutModel",
          "state": {
            "_view_name": "LayoutView",
            "grid_template_rows": null,
            "right": null,
            "justify_content": null,
            "_view_module": "@jupyter-widgets/base",
            "overflow": null,
            "_model_module_version": "1.2.0",
            "_view_count": null,
            "flex_flow": null,
            "width": null,
            "min_width": null,
            "border": null,
            "align_items": null,
            "bottom": null,
            "_model_module": "@jupyter-widgets/base",
            "top": null,
            "grid_column": null,
            "overflow_y": null,
            "overflow_x": null,
            "grid_auto_flow": null,
            "grid_area": null,
            "grid_template_columns": null,
            "flex": null,
            "_model_name": "LayoutModel",
            "justify_items": null,
            "grid_row": null,
            "max_height": null,
            "align_content": null,
            "visibility": null,
            "align_self": null,
            "height": null,
            "min_height": null,
            "padding": null,
            "grid_auto_rows": null,
            "grid_gap": null,
            "max_width": null,
            "order": null,
            "_view_module_version": "1.2.0",
            "grid_template_areas": null,
            "object_position": null,
            "object_fit": null,
            "grid_auto_columns": null,
            "margin": null,
            "display": null,
            "left": null
          }
        },
        "fd45c7d71ba0459898ac8c1e26858bda": {
          "model_module": "@jupyter-widgets/controls",
          "model_name": "HBoxModel",
          "state": {
            "_view_name": "HBoxView",
            "_dom_classes": [],
            "_model_name": "HBoxModel",
            "_view_module": "@jupyter-widgets/controls",
            "_model_module_version": "1.5.0",
            "_view_count": null,
            "_view_module_version": "1.5.0",
            "box_style": "",
            "layout": "IPY_MODEL_56623aa5beb644f586da69f2004d77ae",
            "_model_module": "@jupyter-widgets/controls",
            "children": [
              "IPY_MODEL_3e9626da8e404acaacd2729bed26c061",
              "IPY_MODEL_c2b1b4058cbe4c08b10bf70b64b92cac"
            ]
          }
        },
        "56623aa5beb644f586da69f2004d77ae": {
          "model_module": "@jupyter-widgets/base",
          "model_name": "LayoutModel",
          "state": {
            "_view_name": "LayoutView",
            "grid_template_rows": null,
            "right": null,
            "justify_content": null,
            "_view_module": "@jupyter-widgets/base",
            "overflow": null,
            "_model_module_version": "1.2.0",
            "_view_count": null,
            "flex_flow": null,
            "width": null,
            "min_width": null,
            "border": null,
            "align_items": null,
            "bottom": null,
            "_model_module": "@jupyter-widgets/base",
            "top": null,
            "grid_column": null,
            "overflow_y": null,
            "overflow_x": null,
            "grid_auto_flow": null,
            "grid_area": null,
            "grid_template_columns": null,
            "flex": null,
            "_model_name": "LayoutModel",
            "justify_items": null,
            "grid_row": null,
            "max_height": null,
            "align_content": null,
            "visibility": null,
            "align_self": null,
            "height": null,
            "min_height": null,
            "padding": null,
            "grid_auto_rows": null,
            "grid_gap": null,
            "max_width": null,
            "order": null,
            "_view_module_version": "1.2.0",
            "grid_template_areas": null,
            "object_position": null,
            "object_fit": null,
            "grid_auto_columns": null,
            "margin": null,
            "display": null,
            "left": null
          }
        },
        "3e9626da8e404acaacd2729bed26c061": {
          "model_module": "@jupyter-widgets/controls",
          "model_name": "FloatProgressModel",
          "state": {
            "_view_name": "ProgressView",
            "style": "IPY_MODEL_bbdb5950b15e4d1dac5952ed45676c70",
            "_dom_classes": [],
            "description": "Downloading: 100%",
            "_model_name": "FloatProgressModel",
            "bar_style": "success",
            "max": 456318,
            "_view_module": "@jupyter-widgets/controls",
            "_model_module_version": "1.5.0",
            "value": 456318,
            "_view_count": null,
            "_view_module_version": "1.5.0",
            "orientation": "horizontal",
            "min": 0,
            "description_tooltip": null,
            "_model_module": "@jupyter-widgets/controls",
            "layout": "IPY_MODEL_72a52f7c8b5f4c5cad2eee702377e543"
          }
        },
        "c2b1b4058cbe4c08b10bf70b64b92cac": {
          "model_module": "@jupyter-widgets/controls",
          "model_name": "HTMLModel",
          "state": {
            "_view_name": "HTMLView",
            "style": "IPY_MODEL_c068c495832045d4932235e5564675d1",
            "_dom_classes": [],
            "description": "",
            "_model_name": "HTMLModel",
            "placeholder": "​",
            "_view_module": "@jupyter-widgets/controls",
            "_model_module_version": "1.5.0",
            "value": " 456k/456k [00:00&lt;00:00, 761kB/s]",
            "_view_count": null,
            "_view_module_version": "1.5.0",
            "description_tooltip": null,
            "_model_module": "@jupyter-widgets/controls",
            "layout": "IPY_MODEL_25106e8cb4054c62b3d886b8e5931eb8"
          }
        },
        "bbdb5950b15e4d1dac5952ed45676c70": {
          "model_module": "@jupyter-widgets/controls",
          "model_name": "ProgressStyleModel",
          "state": {
            "_view_name": "StyleView",
            "_model_name": "ProgressStyleModel",
            "description_width": "initial",
            "_view_module": "@jupyter-widgets/base",
            "_model_module_version": "1.5.0",
            "_view_count": null,
            "_view_module_version": "1.2.0",
            "bar_color": null,
            "_model_module": "@jupyter-widgets/controls"
          }
        },
        "72a52f7c8b5f4c5cad2eee702377e543": {
          "model_module": "@jupyter-widgets/base",
          "model_name": "LayoutModel",
          "state": {
            "_view_name": "LayoutView",
            "grid_template_rows": null,
            "right": null,
            "justify_content": null,
            "_view_module": "@jupyter-widgets/base",
            "overflow": null,
            "_model_module_version": "1.2.0",
            "_view_count": null,
            "flex_flow": null,
            "width": null,
            "min_width": null,
            "border": null,
            "align_items": null,
            "bottom": null,
            "_model_module": "@jupyter-widgets/base",
            "top": null,
            "grid_column": null,
            "overflow_y": null,
            "overflow_x": null,
            "grid_auto_flow": null,
            "grid_area": null,
            "grid_template_columns": null,
            "flex": null,
            "_model_name": "LayoutModel",
            "justify_items": null,
            "grid_row": null,
            "max_height": null,
            "align_content": null,
            "visibility": null,
            "align_self": null,
            "height": null,
            "min_height": null,
            "padding": null,
            "grid_auto_rows": null,
            "grid_gap": null,
            "max_width": null,
            "order": null,
            "_view_module_version": "1.2.0",
            "grid_template_areas": null,
            "object_position": null,
            "object_fit": null,
            "grid_auto_columns": null,
            "margin": null,
            "display": null,
            "left": null
          }
        },
        "c068c495832045d4932235e5564675d1": {
          "model_module": "@jupyter-widgets/controls",
          "model_name": "DescriptionStyleModel",
          "state": {
            "_view_name": "StyleView",
            "_model_name": "DescriptionStyleModel",
            "description_width": "",
            "_view_module": "@jupyter-widgets/base",
            "_model_module_version": "1.5.0",
            "_view_count": null,
            "_view_module_version": "1.2.0",
            "_model_module": "@jupyter-widgets/controls"
          }
        },
        "25106e8cb4054c62b3d886b8e5931eb8": {
          "model_module": "@jupyter-widgets/base",
          "model_name": "LayoutModel",
          "state": {
            "_view_name": "LayoutView",
            "grid_template_rows": null,
            "right": null,
            "justify_content": null,
            "_view_module": "@jupyter-widgets/base",
            "overflow": null,
            "_model_module_version": "1.2.0",
            "_view_count": null,
            "flex_flow": null,
            "width": null,
            "min_width": null,
            "border": null,
            "align_items": null,
            "bottom": null,
            "_model_module": "@jupyter-widgets/base",
            "top": null,
            "grid_column": null,
            "overflow_y": null,
            "overflow_x": null,
            "grid_auto_flow": null,
            "grid_area": null,
            "grid_template_columns": null,
            "flex": null,
            "_model_name": "LayoutModel",
            "justify_items": null,
            "grid_row": null,
            "max_height": null,
            "align_content": null,
            "visibility": null,
            "align_self": null,
            "height": null,
            "min_height": null,
            "padding": null,
            "grid_auto_rows": null,
            "grid_gap": null,
            "max_width": null,
            "order": null,
            "_view_module_version": "1.2.0",
            "grid_template_areas": null,
            "object_position": null,
            "object_fit": null,
            "grid_auto_columns": null,
            "margin": null,
            "display": null,
            "left": null
          }
        },
        "dd0c6836d38b492c932da2eb6aa41a68": {
          "model_module": "@jupyter-widgets/controls",
          "model_name": "HBoxModel",
          "state": {
            "_view_name": "HBoxView",
            "_dom_classes": [],
            "_model_name": "HBoxModel",
            "_view_module": "@jupyter-widgets/controls",
            "_model_module_version": "1.5.0",
            "_view_count": null,
            "_view_module_version": "1.5.0",
            "box_style": "",
            "layout": "IPY_MODEL_8cf97fc840c4450e8042926115e66145",
            "_model_module": "@jupyter-widgets/controls",
            "children": [
              "IPY_MODEL_3ab0ed482884438184387c58dc270017",
              "IPY_MODEL_336462b4cbad4224a3a675a70a81b708"
            ]
          }
        },
        "8cf97fc840c4450e8042926115e66145": {
          "model_module": "@jupyter-widgets/base",
          "model_name": "LayoutModel",
          "state": {
            "_view_name": "LayoutView",
            "grid_template_rows": null,
            "right": null,
            "justify_content": null,
            "_view_module": "@jupyter-widgets/base",
            "overflow": null,
            "_model_module_version": "1.2.0",
            "_view_count": null,
            "flex_flow": null,
            "width": null,
            "min_width": null,
            "border": null,
            "align_items": null,
            "bottom": null,
            "_model_module": "@jupyter-widgets/base",
            "top": null,
            "grid_column": null,
            "overflow_y": null,
            "overflow_x": null,
            "grid_auto_flow": null,
            "grid_area": null,
            "grid_template_columns": null,
            "flex": null,
            "_model_name": "LayoutModel",
            "justify_items": null,
            "grid_row": null,
            "max_height": null,
            "align_content": null,
            "visibility": null,
            "align_self": null,
            "height": null,
            "min_height": null,
            "padding": null,
            "grid_auto_rows": null,
            "grid_gap": null,
            "max_width": null,
            "order": null,
            "_view_module_version": "1.2.0",
            "grid_template_areas": null,
            "object_position": null,
            "object_fit": null,
            "grid_auto_columns": null,
            "margin": null,
            "display": null,
            "left": null
          }
        },
        "3ab0ed482884438184387c58dc270017": {
          "model_module": "@jupyter-widgets/controls",
          "model_name": "FloatProgressModel",
          "state": {
            "_view_name": "ProgressView",
            "style": "IPY_MODEL_395d241238314a3f8c24a7333044ad60",
            "_dom_classes": [],
            "description": "Downloading: 100%",
            "_model_name": "FloatProgressModel",
            "bar_style": "success",
            "max": 1355863,
            "_view_module": "@jupyter-widgets/controls",
            "_model_module_version": "1.5.0",
            "value": 1355863,
            "_view_count": null,
            "_view_module_version": "1.5.0",
            "orientation": "horizontal",
            "min": 0,
            "description_tooltip": null,
            "_model_module": "@jupyter-widgets/controls",
            "layout": "IPY_MODEL_f50345571f5b4821a0da18b73bd668a8"
          }
        },
        "336462b4cbad4224a3a675a70a81b708": {
          "model_module": "@jupyter-widgets/controls",
          "model_name": "HTMLModel",
          "state": {
            "_view_name": "HTMLView",
            "style": "IPY_MODEL_86162ec3b4e04e7badd5c85989dd9783",
            "_dom_classes": [],
            "description": "",
            "_model_name": "HTMLModel",
            "placeholder": "​",
            "_view_module": "@jupyter-widgets/controls",
            "_model_module_version": "1.5.0",
            "value": " 1.36M/1.36M [00:00&lt;00:00, 6.52MB/s]",
            "_view_count": null,
            "_view_module_version": "1.5.0",
            "description_tooltip": null,
            "_model_module": "@jupyter-widgets/controls",
            "layout": "IPY_MODEL_6c13d2871d434a3c8468926817730b39"
          }
        },
        "395d241238314a3f8c24a7333044ad60": {
          "model_module": "@jupyter-widgets/controls",
          "model_name": "ProgressStyleModel",
          "state": {
            "_view_name": "StyleView",
            "_model_name": "ProgressStyleModel",
            "description_width": "initial",
            "_view_module": "@jupyter-widgets/base",
            "_model_module_version": "1.5.0",
            "_view_count": null,
            "_view_module_version": "1.2.0",
            "bar_color": null,
            "_model_module": "@jupyter-widgets/controls"
          }
        },
        "f50345571f5b4821a0da18b73bd668a8": {
          "model_module": "@jupyter-widgets/base",
          "model_name": "LayoutModel",
          "state": {
            "_view_name": "LayoutView",
            "grid_template_rows": null,
            "right": null,
            "justify_content": null,
            "_view_module": "@jupyter-widgets/base",
            "overflow": null,
            "_model_module_version": "1.2.0",
            "_view_count": null,
            "flex_flow": null,
            "width": null,
            "min_width": null,
            "border": null,
            "align_items": null,
            "bottom": null,
            "_model_module": "@jupyter-widgets/base",
            "top": null,
            "grid_column": null,
            "overflow_y": null,
            "overflow_x": null,
            "grid_auto_flow": null,
            "grid_area": null,
            "grid_template_columns": null,
            "flex": null,
            "_model_name": "LayoutModel",
            "justify_items": null,
            "grid_row": null,
            "max_height": null,
            "align_content": null,
            "visibility": null,
            "align_self": null,
            "height": null,
            "min_height": null,
            "padding": null,
            "grid_auto_rows": null,
            "grid_gap": null,
            "max_width": null,
            "order": null,
            "_view_module_version": "1.2.0",
            "grid_template_areas": null,
            "object_position": null,
            "object_fit": null,
            "grid_auto_columns": null,
            "margin": null,
            "display": null,
            "left": null
          }
        },
        "86162ec3b4e04e7badd5c85989dd9783": {
          "model_module": "@jupyter-widgets/controls",
          "model_name": "DescriptionStyleModel",
          "state": {
            "_view_name": "StyleView",
            "_model_name": "DescriptionStyleModel",
            "description_width": "",
            "_view_module": "@jupyter-widgets/base",
            "_model_module_version": "1.5.0",
            "_view_count": null,
            "_view_module_version": "1.2.0",
            "_model_module": "@jupyter-widgets/controls"
          }
        },
        "6c13d2871d434a3c8468926817730b39": {
          "model_module": "@jupyter-widgets/base",
          "model_name": "LayoutModel",
          "state": {
            "_view_name": "LayoutView",
            "grid_template_rows": null,
            "right": null,
            "justify_content": null,
            "_view_module": "@jupyter-widgets/base",
            "overflow": null,
            "_model_module_version": "1.2.0",
            "_view_count": null,
            "flex_flow": null,
            "width": null,
            "min_width": null,
            "border": null,
            "align_items": null,
            "bottom": null,
            "_model_module": "@jupyter-widgets/base",
            "top": null,
            "grid_column": null,
            "overflow_y": null,
            "overflow_x": null,
            "grid_auto_flow": null,
            "grid_area": null,
            "grid_template_columns": null,
            "flex": null,
            "_model_name": "LayoutModel",
            "justify_items": null,
            "grid_row": null,
            "max_height": null,
            "align_content": null,
            "visibility": null,
            "align_self": null,
            "height": null,
            "min_height": null,
            "padding": null,
            "grid_auto_rows": null,
            "grid_gap": null,
            "max_width": null,
            "order": null,
            "_view_module_version": "1.2.0",
            "grid_template_areas": null,
            "object_position": null,
            "object_fit": null,
            "grid_auto_columns": null,
            "margin": null,
            "display": null,
            "left": null
          }
        },
        "1541eaf8666b499ebbfbc61560ae9567": {
          "model_module": "@jupyter-widgets/controls",
          "model_name": "HBoxModel",
          "state": {
            "_view_name": "HBoxView",
            "_dom_classes": [],
            "_model_name": "HBoxModel",
            "_view_module": "@jupyter-widgets/controls",
            "_model_module_version": "1.5.0",
            "_view_count": null,
            "_view_module_version": "1.5.0",
            "box_style": "",
            "layout": "IPY_MODEL_172f83ef7539431ebbfbc38a387eaf1b",
            "_model_module": "@jupyter-widgets/controls",
            "children": [
              "IPY_MODEL_bf15b69c963c4be1a8f7afe6cd56a269",
              "IPY_MODEL_1bf68edcbab34935a70a998ceb285182"
            ]
          }
        },
        "172f83ef7539431ebbfbc38a387eaf1b": {
          "model_module": "@jupyter-widgets/base",
          "model_name": "LayoutModel",
          "state": {
            "_view_name": "LayoutView",
            "grid_template_rows": null,
            "right": null,
            "justify_content": null,
            "_view_module": "@jupyter-widgets/base",
            "overflow": null,
            "_model_module_version": "1.2.0",
            "_view_count": null,
            "flex_flow": null,
            "width": null,
            "min_width": null,
            "border": null,
            "align_items": null,
            "bottom": null,
            "_model_module": "@jupyter-widgets/base",
            "top": null,
            "grid_column": null,
            "overflow_y": null,
            "overflow_x": null,
            "grid_auto_flow": null,
            "grid_area": null,
            "grid_template_columns": null,
            "flex": null,
            "_model_name": "LayoutModel",
            "justify_items": null,
            "grid_row": null,
            "max_height": null,
            "align_content": null,
            "visibility": null,
            "align_self": null,
            "height": null,
            "min_height": null,
            "padding": null,
            "grid_auto_rows": null,
            "grid_gap": null,
            "max_width": null,
            "order": null,
            "_view_module_version": "1.2.0",
            "grid_template_areas": null,
            "object_position": null,
            "object_fit": null,
            "grid_auto_columns": null,
            "margin": null,
            "display": null,
            "left": null
          }
        },
        "bf15b69c963c4be1a8f7afe6cd56a269": {
          "model_module": "@jupyter-widgets/controls",
          "model_name": "FloatProgressModel",
          "state": {
            "_view_name": "ProgressView",
            "style": "IPY_MODEL_5fa47d16389548d78e8eedb7fe0be5b1",
            "_dom_classes": [],
            "description": "Downloading: 100%",
            "_model_name": "FloatProgressModel",
            "bar_style": "success",
            "max": 1553,
            "_view_module": "@jupyter-widgets/controls",
            "_model_module_version": "1.5.0",
            "value": 1553,
            "_view_count": null,
            "_view_module_version": "1.5.0",
            "orientation": "horizontal",
            "min": 0,
            "description_tooltip": null,
            "_model_module": "@jupyter-widgets/controls",
            "layout": "IPY_MODEL_d4a843ca2177469fa18d07eaf684213c"
          }
        },
        "1bf68edcbab34935a70a998ceb285182": {
          "model_module": "@jupyter-widgets/controls",
          "model_name": "HTMLModel",
          "state": {
            "_view_name": "HTMLView",
            "style": "IPY_MODEL_58b1375c73f64d7c90c31f3e63b649c5",
            "_dom_classes": [],
            "description": "",
            "_model_name": "HTMLModel",
            "placeholder": "​",
            "_view_module": "@jupyter-widgets/controls",
            "_model_module_version": "1.5.0",
            "value": " 1.55k/1.55k [2:02:43&lt;00:00, 4.74s/B]",
            "_view_count": null,
            "_view_module_version": "1.5.0",
            "description_tooltip": null,
            "_model_module": "@jupyter-widgets/controls",
            "layout": "IPY_MODEL_ce9e97ba8a1b42588003f35026e15026"
          }
        },
        "5fa47d16389548d78e8eedb7fe0be5b1": {
          "model_module": "@jupyter-widgets/controls",
          "model_name": "ProgressStyleModel",
          "state": {
            "_view_name": "StyleView",
            "_model_name": "ProgressStyleModel",
            "description_width": "initial",
            "_view_module": "@jupyter-widgets/base",
            "_model_module_version": "1.5.0",
            "_view_count": null,
            "_view_module_version": "1.2.0",
            "bar_color": null,
            "_model_module": "@jupyter-widgets/controls"
          }
        },
        "d4a843ca2177469fa18d07eaf684213c": {
          "model_module": "@jupyter-widgets/base",
          "model_name": "LayoutModel",
          "state": {
            "_view_name": "LayoutView",
            "grid_template_rows": null,
            "right": null,
            "justify_content": null,
            "_view_module": "@jupyter-widgets/base",
            "overflow": null,
            "_model_module_version": "1.2.0",
            "_view_count": null,
            "flex_flow": null,
            "width": null,
            "min_width": null,
            "border": null,
            "align_items": null,
            "bottom": null,
            "_model_module": "@jupyter-widgets/base",
            "top": null,
            "grid_column": null,
            "overflow_y": null,
            "overflow_x": null,
            "grid_auto_flow": null,
            "grid_area": null,
            "grid_template_columns": null,
            "flex": null,
            "_model_name": "LayoutModel",
            "justify_items": null,
            "grid_row": null,
            "max_height": null,
            "align_content": null,
            "visibility": null,
            "align_self": null,
            "height": null,
            "min_height": null,
            "padding": null,
            "grid_auto_rows": null,
            "grid_gap": null,
            "max_width": null,
            "order": null,
            "_view_module_version": "1.2.0",
            "grid_template_areas": null,
            "object_position": null,
            "object_fit": null,
            "grid_auto_columns": null,
            "margin": null,
            "display": null,
            "left": null
          }
        },
        "58b1375c73f64d7c90c31f3e63b649c5": {
          "model_module": "@jupyter-widgets/controls",
          "model_name": "DescriptionStyleModel",
          "state": {
            "_view_name": "StyleView",
            "_model_name": "DescriptionStyleModel",
            "description_width": "",
            "_view_module": "@jupyter-widgets/base",
            "_model_module_version": "1.5.0",
            "_view_count": null,
            "_view_module_version": "1.2.0",
            "_model_module": "@jupyter-widgets/controls"
          }
        },
        "ce9e97ba8a1b42588003f35026e15026": {
          "model_module": "@jupyter-widgets/base",
          "model_name": "LayoutModel",
          "state": {
            "_view_name": "LayoutView",
            "grid_template_rows": null,
            "right": null,
            "justify_content": null,
            "_view_module": "@jupyter-widgets/base",
            "overflow": null,
            "_model_module_version": "1.2.0",
            "_view_count": null,
            "flex_flow": null,
            "width": null,
            "min_width": null,
            "border": null,
            "align_items": null,
            "bottom": null,
            "_model_module": "@jupyter-widgets/base",
            "top": null,
            "grid_column": null,
            "overflow_y": null,
            "overflow_x": null,
            "grid_auto_flow": null,
            "grid_area": null,
            "grid_template_columns": null,
            "flex": null,
            "_model_name": "LayoutModel",
            "justify_items": null,
            "grid_row": null,
            "max_height": null,
            "align_content": null,
            "visibility": null,
            "align_self": null,
            "height": null,
            "min_height": null,
            "padding": null,
            "grid_auto_rows": null,
            "grid_gap": null,
            "max_width": null,
            "order": null,
            "_view_module_version": "1.2.0",
            "grid_template_areas": null,
            "object_position": null,
            "object_fit": null,
            "grid_auto_columns": null,
            "margin": null,
            "display": null,
            "left": null
          }
        },
        "caef7bdbc3ad461bbf68047afa211e52": {
          "model_module": "@jupyter-widgets/controls",
          "model_name": "HBoxModel",
          "state": {
            "_view_name": "HBoxView",
            "_dom_classes": [],
            "_model_name": "HBoxModel",
            "_view_module": "@jupyter-widgets/controls",
            "_model_module_version": "1.5.0",
            "_view_count": null,
            "_view_module_version": "1.5.0",
            "box_style": "",
            "layout": "IPY_MODEL_5f58e0647053431097189125139354c6",
            "_model_module": "@jupyter-widgets/controls",
            "children": [
              "IPY_MODEL_c8cd1b3c3ec94bbebcfa9c3d7f97d644",
              "IPY_MODEL_cd5374f803dd4d489ce935ab89e1dd53"
            ]
          }
        },
        "5f58e0647053431097189125139354c6": {
          "model_module": "@jupyter-widgets/base",
          "model_name": "LayoutModel",
          "state": {
            "_view_name": "LayoutView",
            "grid_template_rows": null,
            "right": null,
            "justify_content": null,
            "_view_module": "@jupyter-widgets/base",
            "overflow": null,
            "_model_module_version": "1.2.0",
            "_view_count": null,
            "flex_flow": null,
            "width": null,
            "min_width": null,
            "border": null,
            "align_items": null,
            "bottom": null,
            "_model_module": "@jupyter-widgets/base",
            "top": null,
            "grid_column": null,
            "overflow_y": null,
            "overflow_x": null,
            "grid_auto_flow": null,
            "grid_area": null,
            "grid_template_columns": null,
            "flex": null,
            "_model_name": "LayoutModel",
            "justify_items": null,
            "grid_row": null,
            "max_height": null,
            "align_content": null,
            "visibility": null,
            "align_self": null,
            "height": null,
            "min_height": null,
            "padding": null,
            "grid_auto_rows": null,
            "grid_gap": null,
            "max_width": null,
            "order": null,
            "_view_module_version": "1.2.0",
            "grid_template_areas": null,
            "object_position": null,
            "object_fit": null,
            "grid_auto_columns": null,
            "margin": null,
            "display": null,
            "left": null
          }
        },
        "c8cd1b3c3ec94bbebcfa9c3d7f97d644": {
          "model_module": "@jupyter-widgets/controls",
          "model_name": "FloatProgressModel",
          "state": {
            "_view_name": "ProgressView",
            "style": "IPY_MODEL_e62fd357ffb841739953decc13b53413",
            "_dom_classes": [],
            "description": "Downloading: 100%",
            "_model_name": "FloatProgressModel",
            "bar_style": "success",
            "max": 557941479,
            "_view_module": "@jupyter-widgets/controls",
            "_model_module_version": "1.5.0",
            "value": 557941479,
            "_view_count": null,
            "_view_module_version": "1.5.0",
            "orientation": "horizontal",
            "min": 0,
            "description_tooltip": null,
            "_model_module": "@jupyter-widgets/controls",
            "layout": "IPY_MODEL_5aa9605070b14163ae202803545f16f7"
          }
        },
        "cd5374f803dd4d489ce935ab89e1dd53": {
          "model_module": "@jupyter-widgets/controls",
          "model_name": "HTMLModel",
          "state": {
            "_view_name": "HTMLView",
            "style": "IPY_MODEL_78d9165f21d04117a458866e9af43749",
            "_dom_classes": [],
            "description": "",
            "_model_name": "HTMLModel",
            "placeholder": "​",
            "_view_module": "@jupyter-widgets/controls",
            "_model_module_version": "1.5.0",
            "value": " 558M/558M [00:15&lt;00:00, 35.5MB/s]",
            "_view_count": null,
            "_view_module_version": "1.5.0",
            "description_tooltip": null,
            "_model_module": "@jupyter-widgets/controls",
            "layout": "IPY_MODEL_9fc3ea67d9c84eca8a9649c7767a92a1"
          }
        },
        "e62fd357ffb841739953decc13b53413": {
          "model_module": "@jupyter-widgets/controls",
          "model_name": "ProgressStyleModel",
          "state": {
            "_view_name": "StyleView",
            "_model_name": "ProgressStyleModel",
            "description_width": "initial",
            "_view_module": "@jupyter-widgets/base",
            "_model_module_version": "1.5.0",
            "_view_count": null,
            "_view_module_version": "1.2.0",
            "bar_color": null,
            "_model_module": "@jupyter-widgets/controls"
          }
        },
        "5aa9605070b14163ae202803545f16f7": {
          "model_module": "@jupyter-widgets/base",
          "model_name": "LayoutModel",
          "state": {
            "_view_name": "LayoutView",
            "grid_template_rows": null,
            "right": null,
            "justify_content": null,
            "_view_module": "@jupyter-widgets/base",
            "overflow": null,
            "_model_module_version": "1.2.0",
            "_view_count": null,
            "flex_flow": null,
            "width": null,
            "min_width": null,
            "border": null,
            "align_items": null,
            "bottom": null,
            "_model_module": "@jupyter-widgets/base",
            "top": null,
            "grid_column": null,
            "overflow_y": null,
            "overflow_x": null,
            "grid_auto_flow": null,
            "grid_area": null,
            "grid_template_columns": null,
            "flex": null,
            "_model_name": "LayoutModel",
            "justify_items": null,
            "grid_row": null,
            "max_height": null,
            "align_content": null,
            "visibility": null,
            "align_self": null,
            "height": null,
            "min_height": null,
            "padding": null,
            "grid_auto_rows": null,
            "grid_gap": null,
            "max_width": null,
            "order": null,
            "_view_module_version": "1.2.0",
            "grid_template_areas": null,
            "object_position": null,
            "object_fit": null,
            "grid_auto_columns": null,
            "margin": null,
            "display": null,
            "left": null
          }
        },
        "78d9165f21d04117a458866e9af43749": {
          "model_module": "@jupyter-widgets/controls",
          "model_name": "DescriptionStyleModel",
          "state": {
            "_view_name": "StyleView",
            "_model_name": "DescriptionStyleModel",
            "description_width": "",
            "_view_module": "@jupyter-widgets/base",
            "_model_module_version": "1.5.0",
            "_view_count": null,
            "_view_module_version": "1.2.0",
            "_model_module": "@jupyter-widgets/controls"
          }
        },
        "9fc3ea67d9c84eca8a9649c7767a92a1": {
          "model_module": "@jupyter-widgets/base",
          "model_name": "LayoutModel",
          "state": {
            "_view_name": "LayoutView",
            "grid_template_rows": null,
            "right": null,
            "justify_content": null,
            "_view_module": "@jupyter-widgets/base",
            "overflow": null,
            "_model_module_version": "1.2.0",
            "_view_count": null,
            "flex_flow": null,
            "width": null,
            "min_width": null,
            "border": null,
            "align_items": null,
            "bottom": null,
            "_model_module": "@jupyter-widgets/base",
            "top": null,
            "grid_column": null,
            "overflow_y": null,
            "overflow_x": null,
            "grid_auto_flow": null,
            "grid_area": null,
            "grid_template_columns": null,
            "flex": null,
            "_model_name": "LayoutModel",
            "justify_items": null,
            "grid_row": null,
            "max_height": null,
            "align_content": null,
            "visibility": null,
            "align_self": null,
            "height": null,
            "min_height": null,
            "padding": null,
            "grid_auto_rows": null,
            "grid_gap": null,
            "max_width": null,
            "order": null,
            "_view_module_version": "1.2.0",
            "grid_template_areas": null,
            "object_position": null,
            "object_fit": null,
            "grid_auto_columns": null,
            "margin": null,
            "display": null,
            "left": null
          }
        }
      }
    }
  },
  "cells": [
    {
      "cell_type": "code",
      "metadata": {
        "id": "dX60u8dY-bIi",
        "colab": {
          "base_uri": "https://localhost:8080/"
        },
        "outputId": "1b4d6a46-2cb6-46e5-c2be-117dbb3f0027"
      },
      "source": [
        "# Divine beast bless no bug here! \n",
        "#         ┌─┐    ┌─┐\n",
        "#      ┌─┘ ┴───┘ ┴──┐\n",
        "#      │                   │\n",
        "#      │       ───       │\n",
        "#      │  ─┬┘     └┬─  │\n",
        "#      │                   │\n",
        "#      │       ─┴─       │\n",
        "#      │                   │\n",
        "#      └─┐         ┌───┘\n",
        "#          │         │\n",
        "#          │         │\n",
        "#          │         │\n",
        "#          │         └──────────────┐\n",
        "#          │                                  │\n",
        "#          │                                  ├─┐\n",
        "#          │                                  ┌─┘\n",
        "#          │                                  │\n",
        "#          └─┐  ┐  ┌──────┬──┐  ┌──┘\n",
        "#            │  ─┤ ─┤         │  ─┤ ─┤\n",
        "#            └──┴──┘         └──┴──┘\n",
        "\n",
        "!pip install transformers\n",
        "!pip install boto3\n",
        "!git clone https://github.com/NVIDIA/apex\n",
        "%cd apex\n",
        "!pip install -v --no-cache-dir ./\n",
        "%cd ..  \n"
      ],
      "execution_count": null,
      "outputs": [
        {
          "output_type": "stream",
          "text": [
            "Collecting transformers\n",
            "\u001b[?25l  Downloading https://files.pythonhosted.org/packages/d5/43/cfe4ee779bbd6a678ac6a97c5a5cdeb03c35f9eaebbb9720b036680f9a2d/transformers-4.6.1-py3-none-any.whl (2.2MB)\n",
            "\u001b[K     |████████████████████████████████| 2.3MB 3.9MB/s \n",
            "\u001b[?25hRequirement already satisfied: requests in /usr/local/lib/python3.7/dist-packages (from transformers) (2.23.0)\n",
            "Requirement already satisfied: regex!=2019.12.17 in /usr/local/lib/python3.7/dist-packages (from transformers) (2019.12.20)\n",
            "Requirement already satisfied: importlib-metadata; python_version < \"3.8\" in /usr/local/lib/python3.7/dist-packages (from transformers) (4.0.1)\n",
            "Collecting huggingface-hub==0.0.8\n",
            "  Downloading https://files.pythonhosted.org/packages/a1/88/7b1e45720ecf59c6c6737ff332f41c955963090a18e72acbcbeac6b25e86/huggingface_hub-0.0.8-py3-none-any.whl\n",
            "Requirement already satisfied: tqdm>=4.27 in /usr/local/lib/python3.7/dist-packages (from transformers) (4.41.1)\n",
            "Requirement already satisfied: filelock in /usr/local/lib/python3.7/dist-packages (from transformers) (3.0.12)\n",
            "Requirement already satisfied: numpy>=1.17 in /usr/local/lib/python3.7/dist-packages (from transformers) (1.19.5)\n",
            "Collecting sacremoses\n",
            "\u001b[?25l  Downloading https://files.pythonhosted.org/packages/75/ee/67241dc87f266093c533a2d4d3d69438e57d7a90abb216fa076e7d475d4a/sacremoses-0.0.45-py3-none-any.whl (895kB)\n",
            "\u001b[K     |████████████████████████████████| 901kB 27.5MB/s \n",
            "\u001b[?25hRequirement already satisfied: packaging in /usr/local/lib/python3.7/dist-packages (from transformers) (20.9)\n",
            "Collecting tokenizers<0.11,>=0.10.1\n",
            "\u001b[?25l  Downloading https://files.pythonhosted.org/packages/ae/04/5b870f26a858552025a62f1649c20d29d2672c02ff3c3fb4c688ca46467a/tokenizers-0.10.2-cp37-cp37m-manylinux2010_x86_64.whl (3.3MB)\n",
            "\u001b[K     |████████████████████████████████| 3.3MB 33.9MB/s \n",
            "\u001b[?25hRequirement already satisfied: chardet<4,>=3.0.2 in /usr/local/lib/python3.7/dist-packages (from requests->transformers) (3.0.4)\n",
            "Requirement already satisfied: idna<3,>=2.5 in /usr/local/lib/python3.7/dist-packages (from requests->transformers) (2.10)\n",
            "Requirement already satisfied: certifi>=2017.4.17 in /usr/local/lib/python3.7/dist-packages (from requests->transformers) (2020.12.5)\n",
            "Requirement already satisfied: urllib3!=1.25.0,!=1.25.1,<1.26,>=1.21.1 in /usr/local/lib/python3.7/dist-packages (from requests->transformers) (1.24.3)\n",
            "Requirement already satisfied: typing-extensions>=3.6.4; python_version < \"3.8\" in /usr/local/lib/python3.7/dist-packages (from importlib-metadata; python_version < \"3.8\"->transformers) (3.7.4.3)\n",
            "Requirement already satisfied: zipp>=0.5 in /usr/local/lib/python3.7/dist-packages (from importlib-metadata; python_version < \"3.8\"->transformers) (3.4.1)\n",
            "Requirement already satisfied: click in /usr/local/lib/python3.7/dist-packages (from sacremoses->transformers) (8.0.0)\n",
            "Requirement already satisfied: six in /usr/local/lib/python3.7/dist-packages (from sacremoses->transformers) (1.15.0)\n",
            "Requirement already satisfied: joblib in /usr/local/lib/python3.7/dist-packages (from sacremoses->transformers) (1.0.1)\n",
            "Requirement already satisfied: pyparsing>=2.0.2 in /usr/local/lib/python3.7/dist-packages (from packaging->transformers) (2.4.7)\n",
            "Installing collected packages: huggingface-hub, sacremoses, tokenizers, transformers\n",
            "Successfully installed huggingface-hub-0.0.8 sacremoses-0.0.45 tokenizers-0.10.2 transformers-4.6.1\n",
            "Collecting boto3\n",
            "\u001b[?25l  Downloading https://files.pythonhosted.org/packages/f8/13/b0ef494d53c6deba06d968286d79c084bbd186b3fe30ab48072d4b0923d0/boto3-1.17.77-py2.py3-none-any.whl (131kB)\n",
            "\u001b[K     |████████████████████████████████| 133kB 4.0MB/s \n",
            "\u001b[?25hCollecting botocore<1.21.0,>=1.20.77\n",
            "\u001b[?25l  Downloading https://files.pythonhosted.org/packages/b6/ab/c4d8b0fa9a0e3b0bf6a17c778280a04486acd159b081f9f6a71c0cf74135/botocore-1.20.77-py2.py3-none-any.whl (7.5MB)\n",
            "\u001b[K     |████████████████████████████████| 7.5MB 16.6MB/s \n",
            "\u001b[?25hCollecting s3transfer<0.5.0,>=0.4.0\n",
            "\u001b[?25l  Downloading https://files.pythonhosted.org/packages/63/d0/693477c688348654ddc21dcdce0817653a294aa43f41771084c25e7ff9c7/s3transfer-0.4.2-py2.py3-none-any.whl (79kB)\n",
            "\u001b[K     |████████████████████████████████| 81kB 8.6MB/s \n",
            "\u001b[?25hCollecting jmespath<1.0.0,>=0.7.1\n",
            "  Downloading https://files.pythonhosted.org/packages/07/cb/5f001272b6faeb23c1c9e0acc04d48eaaf5c862c17709d20e3469c6e0139/jmespath-0.10.0-py2.py3-none-any.whl\n",
            "Collecting urllib3<1.27,>=1.25.4\n",
            "\u001b[?25l  Downloading https://files.pythonhosted.org/packages/09/c6/d3e3abe5b4f4f16cf0dfc9240ab7ce10c2baa0e268989a4e3ec19e90c84e/urllib3-1.26.4-py2.py3-none-any.whl (153kB)\n",
            "\u001b[K     |████████████████████████████████| 153kB 43.4MB/s \n",
            "\u001b[?25hRequirement already satisfied: python-dateutil<3.0.0,>=2.1 in /usr/local/lib/python3.7/dist-packages (from botocore<1.21.0,>=1.20.77->boto3) (2.8.1)\n",
            "Requirement already satisfied: six>=1.5 in /usr/local/lib/python3.7/dist-packages (from python-dateutil<3.0.0,>=2.1->botocore<1.21.0,>=1.20.77->boto3) (1.15.0)\n",
            "\u001b[31mERROR: requests 2.23.0 has requirement urllib3!=1.25.0,!=1.25.1,<1.26,>=1.21.1, but you'll have urllib3 1.26.4 which is incompatible.\u001b[0m\n",
            "\u001b[31mERROR: datascience 0.10.6 has requirement folium==0.2.1, but you'll have folium 0.8.3 which is incompatible.\u001b[0m\n",
            "Installing collected packages: urllib3, jmespath, botocore, s3transfer, boto3\n",
            "  Found existing installation: urllib3 1.24.3\n",
            "    Uninstalling urllib3-1.24.3:\n",
            "      Successfully uninstalled urllib3-1.24.3\n",
            "Successfully installed boto3-1.17.77 botocore-1.20.77 jmespath-0.10.0 s3transfer-0.4.2 urllib3-1.26.4\n",
            "Cloning into 'apex'...\n",
            "remote: Enumerating objects: 8042, done.\u001b[K\n",
            "remote: Counting objects: 100% (129/129), done.\u001b[K\n",
            "remote: Compressing objects: 100% (94/94), done.\u001b[K\n",
            "remote: Total 8042 (delta 61), reused 69 (delta 30), pack-reused 7913\u001b[K\n",
            "Receiving objects: 100% (8042/8042), 14.11 MiB | 21.12 MiB/s, done.\n",
            "Resolving deltas: 100% (5460/5460), done.\n",
            "/content/apex\n",
            "Created temporary directory: /tmp/pip-ephem-wheel-cache-ohe4hp_u\n",
            "Created temporary directory: /tmp/pip-req-tracker-14z9t1ez\n",
            "Created requirements tracker '/tmp/pip-req-tracker-14z9t1ez'\n",
            "Created temporary directory: /tmp/pip-install-u53tlk2e\n",
            "Processing /content/apex\n",
            "  Created temporary directory: /tmp/pip-req-build-u73o_gjc\n",
            "  Added file:///content/apex to build tracker '/tmp/pip-req-tracker-14z9t1ez'\n",
            "    Running setup.py (path:/tmp/pip-req-build-u73o_gjc/setup.py) egg_info for package from file:///content/apex\n",
            "    Running command python setup.py egg_info\n",
            "\n",
            "\n",
            "    torch.__version__  = 1.8.1+cu101\n",
            "\n",
            "\n",
            "    running egg_info\n",
            "    creating /tmp/pip-req-build-u73o_gjc/pip-egg-info/apex.egg-info\n",
            "    writing /tmp/pip-req-build-u73o_gjc/pip-egg-info/apex.egg-info/PKG-INFO\n",
            "    writing dependency_links to /tmp/pip-req-build-u73o_gjc/pip-egg-info/apex.egg-info/dependency_links.txt\n",
            "    writing top-level names to /tmp/pip-req-build-u73o_gjc/pip-egg-info/apex.egg-info/top_level.txt\n",
            "    writing manifest file '/tmp/pip-req-build-u73o_gjc/pip-egg-info/apex.egg-info/SOURCES.txt'\n",
            "    adding license file 'LICENSE' (matched pattern 'LICEN[CS]E*')\n",
            "    writing manifest file '/tmp/pip-req-build-u73o_gjc/pip-egg-info/apex.egg-info/SOURCES.txt'\n",
            "    /tmp/pip-req-build-u73o_gjc/setup.py:67: UserWarning: Option --pyprof not specified. Not installing PyProf dependencies!\n",
            "      warnings.warn(\"Option --pyprof not specified. Not installing PyProf dependencies!\")\n",
            "  Source in /tmp/pip-req-build-u73o_gjc has version 0.1, which satisfies requirement apex==0.1 from file:///content/apex\n",
            "  Removed apex==0.1 from file:///content/apex from build tracker '/tmp/pip-req-tracker-14z9t1ez'\n",
            "Building wheels for collected packages: apex\n",
            "  Created temporary directory: /tmp/pip-wheel-kfr64pc4\n",
            "  Building wheel for apex (setup.py) ... \u001b[?25l  Destination directory: /tmp/pip-wheel-kfr64pc4\n",
            "  Running command /usr/bin/python3 -u -c 'import sys, setuptools, tokenize; sys.argv[0] = '\"'\"'/tmp/pip-req-build-u73o_gjc/setup.py'\"'\"'; __file__='\"'\"'/tmp/pip-req-build-u73o_gjc/setup.py'\"'\"';f=getattr(tokenize, '\"'\"'open'\"'\"', open)(__file__);code=f.read().replace('\"'\"'\\r\\n'\"'\"', '\"'\"'\\n'\"'\"');f.close();exec(compile(code, __file__, '\"'\"'exec'\"'\"'))' bdist_wheel -d /tmp/pip-wheel-kfr64pc4 --python-tag cp37\n",
            "\n",
            "\n",
            "  torch.__version__  = 1.8.1+cu101\n",
            "\n",
            "\n",
            "  /tmp/pip-req-build-u73o_gjc/setup.py:67: UserWarning: Option --pyprof not specified. Not installing PyProf dependencies!\n",
            "    warnings.warn(\"Option --pyprof not specified. Not installing PyProf dependencies!\")\n",
            "  running bdist_wheel\n",
            "  running build\n",
            "  running build_py\n",
            "  creating build\n",
            "  creating build/lib\n",
            "  creating build/lib/apex\n",
            "  copying apex/__init__.py -> build/lib/apex\n",
            "  creating build/lib/apex/mlp\n",
            "  copying apex/mlp/__init__.py -> build/lib/apex/mlp\n",
            "  copying apex/mlp/mlp.py -> build/lib/apex/mlp\n",
            "  creating build/lib/apex/RNN\n",
            "  copying apex/RNN/models.py -> build/lib/apex/RNN\n",
            "  copying apex/RNN/RNNBackend.py -> build/lib/apex/RNN\n",
            "  copying apex/RNN/cells.py -> build/lib/apex/RNN\n",
            "  copying apex/RNN/__init__.py -> build/lib/apex/RNN\n",
            "  creating build/lib/apex/contrib\n",
            "  copying apex/contrib/__init__.py -> build/lib/apex/contrib\n",
            "  creating build/lib/apex/parallel\n",
            "  copying apex/parallel/sync_batchnorm_kernel.py -> build/lib/apex/parallel\n",
            "  copying apex/parallel/__init__.py -> build/lib/apex/parallel\n",
            "  copying apex/parallel/optimized_sync_batchnorm.py -> build/lib/apex/parallel\n",
            "  copying apex/parallel/multiproc.py -> build/lib/apex/parallel\n",
            "  copying apex/parallel/LARC.py -> build/lib/apex/parallel\n",
            "  copying apex/parallel/distributed.py -> build/lib/apex/parallel\n",
            "  copying apex/parallel/sync_batchnorm.py -> build/lib/apex/parallel\n",
            "  copying apex/parallel/optimized_sync_batchnorm_kernel.py -> build/lib/apex/parallel\n",
            "  creating build/lib/apex/optimizers\n",
            "  copying apex/optimizers/fused_adam.py -> build/lib/apex/optimizers\n",
            "  copying apex/optimizers/fused_lamb.py -> build/lib/apex/optimizers\n",
            "  copying apex/optimizers/__init__.py -> build/lib/apex/optimizers\n",
            "  copying apex/optimizers/fused_novograd.py -> build/lib/apex/optimizers\n",
            "  copying apex/optimizers/fused_sgd.py -> build/lib/apex/optimizers\n",
            "  copying apex/optimizers/fused_adagrad.py -> build/lib/apex/optimizers\n",
            "  creating build/lib/apex/reparameterization\n",
            "  copying apex/reparameterization/__init__.py -> build/lib/apex/reparameterization\n",
            "  copying apex/reparameterization/reparameterization.py -> build/lib/apex/reparameterization\n",
            "  copying apex/reparameterization/weight_norm.py -> build/lib/apex/reparameterization\n",
            "  creating build/lib/apex/multi_tensor_apply\n",
            "  copying apex/multi_tensor_apply/multi_tensor_apply.py -> build/lib/apex/multi_tensor_apply\n",
            "  copying apex/multi_tensor_apply/__init__.py -> build/lib/apex/multi_tensor_apply\n",
            "  creating build/lib/apex/fp16_utils\n",
            "  copying apex/fp16_utils/fp16util.py -> build/lib/apex/fp16_utils\n",
            "  copying apex/fp16_utils/__init__.py -> build/lib/apex/fp16_utils\n",
            "  copying apex/fp16_utils/loss_scaler.py -> build/lib/apex/fp16_utils\n",
            "  copying apex/fp16_utils/fp16_optimizer.py -> build/lib/apex/fp16_utils\n",
            "  creating build/lib/apex/amp\n",
            "  copying apex/amp/scaler.py -> build/lib/apex/amp\n",
            "  copying apex/amp/__version__.py -> build/lib/apex/amp\n",
            "  copying apex/amp/handle.py -> build/lib/apex/amp\n",
            "  copying apex/amp/_amp_state.py -> build/lib/apex/amp\n",
            "  copying apex/amp/frontend.py -> build/lib/apex/amp\n",
            "  copying apex/amp/opt.py -> build/lib/apex/amp\n",
            "  copying apex/amp/_initialize.py -> build/lib/apex/amp\n",
            "  copying apex/amp/__init__.py -> build/lib/apex/amp\n",
            "  copying apex/amp/wrap.py -> build/lib/apex/amp\n",
            "  copying apex/amp/utils.py -> build/lib/apex/amp\n",
            "  copying apex/amp/rnn_compat.py -> build/lib/apex/amp\n",
            "  copying apex/amp/_process_optimizer.py -> build/lib/apex/amp\n",
            "  copying apex/amp/compat.py -> build/lib/apex/amp\n",
            "  copying apex/amp/amp.py -> build/lib/apex/amp\n",
            "  creating build/lib/apex/pyprof\n",
            "  copying apex/pyprof/__init__.py -> build/lib/apex/pyprof\n",
            "  creating build/lib/apex/normalization\n",
            "  copying apex/normalization/__init__.py -> build/lib/apex/normalization\n",
            "  copying apex/normalization/fused_layer_norm.py -> build/lib/apex/normalization\n",
            "  creating build/lib/apex/contrib/layer_norm\n",
            "  copying apex/contrib/layer_norm/layer_norm.py -> build/lib/apex/contrib/layer_norm\n",
            "  copying apex/contrib/layer_norm/__init__.py -> build/lib/apex/contrib/layer_norm\n",
            "  creating build/lib/apex/contrib/fmha\n",
            "  copying apex/contrib/fmha/fmha.py -> build/lib/apex/contrib/fmha\n",
            "  copying apex/contrib/fmha/__init__.py -> build/lib/apex/contrib/fmha\n",
            "  creating build/lib/apex/contrib/optimizers\n",
            "  copying apex/contrib/optimizers/fused_adam.py -> build/lib/apex/contrib/optimizers\n",
            "  copying apex/contrib/optimizers/fused_lamb.py -> build/lib/apex/contrib/optimizers\n",
            "  copying apex/contrib/optimizers/distributed_fused_adam_v3.py -> build/lib/apex/contrib/optimizers\n",
            "  copying apex/contrib/optimizers/__init__.py -> build/lib/apex/contrib/optimizers\n",
            "  copying apex/contrib/optimizers/distributed_fused_adam_v2.py -> build/lib/apex/contrib/optimizers\n",
            "  copying apex/contrib/optimizers/distributed_fused_lamb.py -> build/lib/apex/contrib/optimizers\n",
            "  copying apex/contrib/optimizers/fused_sgd.py -> build/lib/apex/contrib/optimizers\n",
            "  copying apex/contrib/optimizers/distributed_fused_adam.py -> build/lib/apex/contrib/optimizers\n",
            "  copying apex/contrib/optimizers/fp16_optimizer.py -> build/lib/apex/contrib/optimizers\n",
            "  creating build/lib/apex/contrib/bottleneck\n",
            "  copying apex/contrib/bottleneck/__init__.py -> build/lib/apex/contrib/bottleneck\n",
            "  copying apex/contrib/bottleneck/test.py -> build/lib/apex/contrib/bottleneck\n",
            "  copying apex/contrib/bottleneck/bottleneck.py -> build/lib/apex/contrib/bottleneck\n",
            "  creating build/lib/apex/contrib/transducer\n",
            "  copying apex/contrib/transducer/transducer.py -> build/lib/apex/contrib/transducer\n",
            "  copying apex/contrib/transducer/__init__.py -> build/lib/apex/contrib/transducer\n",
            "  creating build/lib/apex/contrib/xentropy\n",
            "  copying apex/contrib/xentropy/softmax_xentropy.py -> build/lib/apex/contrib/xentropy\n",
            "  copying apex/contrib/xentropy/__init__.py -> build/lib/apex/contrib/xentropy\n",
            "  creating build/lib/apex/contrib/multihead_attn\n",
            "  copying apex/contrib/multihead_attn/fast_encdec_multihead_attn_func.py -> build/lib/apex/contrib/multihead_attn\n",
            "  copying apex/contrib/multihead_attn/self_multihead_attn.py -> build/lib/apex/contrib/multihead_attn\n",
            "  copying apex/contrib/multihead_attn/__init__.py -> build/lib/apex/contrib/multihead_attn\n",
            "  copying apex/contrib/multihead_attn/encdec_multihead_attn.py -> build/lib/apex/contrib/multihead_attn\n",
            "  copying apex/contrib/multihead_attn/self_multihead_attn_func.py -> build/lib/apex/contrib/multihead_attn\n",
            "  copying apex/contrib/multihead_attn/encdec_multihead_attn_func.py -> build/lib/apex/contrib/multihead_attn\n",
            "  copying apex/contrib/multihead_attn/mask_softmax_dropout_func.py -> build/lib/apex/contrib/multihead_attn\n",
            "  copying apex/contrib/multihead_attn/fast_encdec_multihead_attn_norm_add_func.py -> build/lib/apex/contrib/multihead_attn\n",
            "  copying apex/contrib/multihead_attn/fast_self_multihead_attn_norm_add_func.py -> build/lib/apex/contrib/multihead_attn\n",
            "  copying apex/contrib/multihead_attn/fast_self_multihead_attn_func.py -> build/lib/apex/contrib/multihead_attn\n",
            "  creating build/lib/apex/contrib/groupbn\n",
            "  copying apex/contrib/groupbn/batch_norm.py -> build/lib/apex/contrib/groupbn\n",
            "  copying apex/contrib/groupbn/__init__.py -> build/lib/apex/contrib/groupbn\n",
            "  creating build/lib/apex/contrib/sparsity\n",
            "  copying apex/contrib/sparsity/asp.py -> build/lib/apex/contrib/sparsity\n",
            "  copying apex/contrib/sparsity/__init__.py -> build/lib/apex/contrib/sparsity\n",
            "  copying apex/contrib/sparsity/sparse_masklib.py -> build/lib/apex/contrib/sparsity\n",
            "  creating build/lib/apex/amp/lists\n",
            "  copying apex/amp/lists/tensor_overrides.py -> build/lib/apex/amp/lists\n",
            "  copying apex/amp/lists/functional_overrides.py -> build/lib/apex/amp/lists\n",
            "  copying apex/amp/lists/__init__.py -> build/lib/apex/amp/lists\n",
            "  copying apex/amp/lists/torch_overrides.py -> build/lib/apex/amp/lists\n",
            "  creating build/lib/apex/pyprof/prof\n",
            "  copying apex/pyprof/prof/prof.py -> build/lib/apex/pyprof/prof\n",
            "  copying apex/pyprof/prof/misc.py -> build/lib/apex/pyprof/prof\n",
            "  copying apex/pyprof/prof/reduction.py -> build/lib/apex/pyprof/prof\n",
            "  copying apex/pyprof/prof/recurrentCell.py -> build/lib/apex/pyprof/prof\n",
            "  copying apex/pyprof/prof/pooling.py -> build/lib/apex/pyprof/prof\n",
            "  copying apex/pyprof/prof/optim.py -> build/lib/apex/pyprof/prof\n",
            "  copying apex/pyprof/prof/convert.py -> build/lib/apex/pyprof/prof\n",
            "  copying apex/pyprof/prof/__init__.py -> build/lib/apex/pyprof/prof\n",
            "  copying apex/pyprof/prof/randomSample.py -> build/lib/apex/pyprof/prof\n",
            "  copying apex/pyprof/prof/linear.py -> build/lib/apex/pyprof/prof\n",
            "  copying apex/pyprof/prof/blas.py -> build/lib/apex/pyprof/prof\n",
            "  copying apex/pyprof/prof/index_slice_join_mutate.py -> build/lib/apex/pyprof/prof\n",
            "  copying apex/pyprof/prof/embedding.py -> build/lib/apex/pyprof/prof\n",
            "  copying apex/pyprof/prof/data.py -> build/lib/apex/pyprof/prof\n",
            "  copying apex/pyprof/prof/utility.py -> build/lib/apex/pyprof/prof\n",
            "  copying apex/pyprof/prof/base.py -> build/lib/apex/pyprof/prof\n",
            "  copying apex/pyprof/prof/conv.py -> build/lib/apex/pyprof/prof\n",
            "  copying apex/pyprof/prof/softmax.py -> build/lib/apex/pyprof/prof\n",
            "  copying apex/pyprof/prof/pointwise.py -> build/lib/apex/pyprof/prof\n",
            "  copying apex/pyprof/prof/output.py -> build/lib/apex/pyprof/prof\n",
            "  copying apex/pyprof/prof/__main__.py -> build/lib/apex/pyprof/prof\n",
            "  copying apex/pyprof/prof/dropout.py -> build/lib/apex/pyprof/prof\n",
            "  copying apex/pyprof/prof/loss.py -> build/lib/apex/pyprof/prof\n",
            "  copying apex/pyprof/prof/usage.py -> build/lib/apex/pyprof/prof\n",
            "  copying apex/pyprof/prof/normalization.py -> build/lib/apex/pyprof/prof\n",
            "  copying apex/pyprof/prof/activation.py -> build/lib/apex/pyprof/prof\n",
            "  creating build/lib/apex/pyprof/nvtx\n",
            "  copying apex/pyprof/nvtx/__init__.py -> build/lib/apex/pyprof/nvtx\n",
            "  copying apex/pyprof/nvtx/nvmarker.py -> build/lib/apex/pyprof/nvtx\n",
            "  creating build/lib/apex/pyprof/parse\n",
            "  copying apex/pyprof/parse/db.py -> build/lib/apex/pyprof/parse\n",
            "  copying apex/pyprof/parse/parse.py -> build/lib/apex/pyprof/parse\n",
            "  copying apex/pyprof/parse/__init__.py -> build/lib/apex/pyprof/parse\n",
            "  copying apex/pyprof/parse/__main__.py -> build/lib/apex/pyprof/parse\n",
            "  copying apex/pyprof/parse/nvvp.py -> build/lib/apex/pyprof/parse\n",
            "  copying apex/pyprof/parse/kernel.py -> build/lib/apex/pyprof/parse\n",
            "  installing to build/bdist.linux-x86_64/wheel\n",
            "  running install\n",
            "  running install_lib\n",
            "  creating build/bdist.linux-x86_64\n",
            "  creating build/bdist.linux-x86_64/wheel\n",
            "  creating build/bdist.linux-x86_64/wheel/apex\n",
            "  creating build/bdist.linux-x86_64/wheel/apex/mlp\n",
            "  copying build/lib/apex/mlp/__init__.py -> build/bdist.linux-x86_64/wheel/apex/mlp\n",
            "  copying build/lib/apex/mlp/mlp.py -> build/bdist.linux-x86_64/wheel/apex/mlp\n",
            "  creating build/bdist.linux-x86_64/wheel/apex/RNN\n",
            "  copying build/lib/apex/RNN/models.py -> build/bdist.linux-x86_64/wheel/apex/RNN\n",
            "  copying build/lib/apex/RNN/RNNBackend.py -> build/bdist.linux-x86_64/wheel/apex/RNN\n",
            "  copying build/lib/apex/RNN/cells.py -> build/bdist.linux-x86_64/wheel/apex/RNN\n",
            "  copying build/lib/apex/RNN/__init__.py -> build/bdist.linux-x86_64/wheel/apex/RNN\n",
            "  creating build/bdist.linux-x86_64/wheel/apex/contrib\n",
            "  creating build/bdist.linux-x86_64/wheel/apex/contrib/layer_norm\n",
            "  copying build/lib/apex/contrib/layer_norm/layer_norm.py -> build/bdist.linux-x86_64/wheel/apex/contrib/layer_norm\n",
            "  copying build/lib/apex/contrib/layer_norm/__init__.py -> build/bdist.linux-x86_64/wheel/apex/contrib/layer_norm\n",
            "  creating build/bdist.linux-x86_64/wheel/apex/contrib/fmha\n",
            "  copying build/lib/apex/contrib/fmha/fmha.py -> build/bdist.linux-x86_64/wheel/apex/contrib/fmha\n",
            "  copying build/lib/apex/contrib/fmha/__init__.py -> build/bdist.linux-x86_64/wheel/apex/contrib/fmha\n",
            "  creating build/bdist.linux-x86_64/wheel/apex/contrib/optimizers\n",
            "  copying build/lib/apex/contrib/optimizers/fused_adam.py -> build/bdist.linux-x86_64/wheel/apex/contrib/optimizers\n",
            "  copying build/lib/apex/contrib/optimizers/fused_lamb.py -> build/bdist.linux-x86_64/wheel/apex/contrib/optimizers\n",
            "  copying build/lib/apex/contrib/optimizers/distributed_fused_adam_v3.py -> build/bdist.linux-x86_64/wheel/apex/contrib/optimizers\n",
            "  copying build/lib/apex/contrib/optimizers/__init__.py -> build/bdist.linux-x86_64/wheel/apex/contrib/optimizers\n",
            "  copying build/lib/apex/contrib/optimizers/distributed_fused_adam_v2.py -> build/bdist.linux-x86_64/wheel/apex/contrib/optimizers\n",
            "  copying build/lib/apex/contrib/optimizers/distributed_fused_lamb.py -> build/bdist.linux-x86_64/wheel/apex/contrib/optimizers\n",
            "  copying build/lib/apex/contrib/optimizers/fused_sgd.py -> build/bdist.linux-x86_64/wheel/apex/contrib/optimizers\n",
            "  copying build/lib/apex/contrib/optimizers/distributed_fused_adam.py -> build/bdist.linux-x86_64/wheel/apex/contrib/optimizers\n",
            "  copying build/lib/apex/contrib/optimizers/fp16_optimizer.py -> build/bdist.linux-x86_64/wheel/apex/contrib/optimizers\n",
            "  copying build/lib/apex/contrib/__init__.py -> build/bdist.linux-x86_64/wheel/apex/contrib\n",
            "  creating build/bdist.linux-x86_64/wheel/apex/contrib/bottleneck\n",
            "  copying build/lib/apex/contrib/bottleneck/__init__.py -> build/bdist.linux-x86_64/wheel/apex/contrib/bottleneck\n",
            "  copying build/lib/apex/contrib/bottleneck/test.py -> build/bdist.linux-x86_64/wheel/apex/contrib/bottleneck\n",
            "  copying build/lib/apex/contrib/bottleneck/bottleneck.py -> build/bdist.linux-x86_64/wheel/apex/contrib/bottleneck\n",
            "  creating build/bdist.linux-x86_64/wheel/apex/contrib/transducer\n",
            "  copying build/lib/apex/contrib/transducer/transducer.py -> build/bdist.linux-x86_64/wheel/apex/contrib/transducer\n",
            "  copying build/lib/apex/contrib/transducer/__init__.py -> build/bdist.linux-x86_64/wheel/apex/contrib/transducer\n",
            "  creating build/bdist.linux-x86_64/wheel/apex/contrib/xentropy\n",
            "  copying build/lib/apex/contrib/xentropy/softmax_xentropy.py -> build/bdist.linux-x86_64/wheel/apex/contrib/xentropy\n",
            "  copying build/lib/apex/contrib/xentropy/__init__.py -> build/bdist.linux-x86_64/wheel/apex/contrib/xentropy\n",
            "  creating build/bdist.linux-x86_64/wheel/apex/contrib/multihead_attn\n",
            "  copying build/lib/apex/contrib/multihead_attn/fast_encdec_multihead_attn_func.py -> build/bdist.linux-x86_64/wheel/apex/contrib/multihead_attn\n",
            "  copying build/lib/apex/contrib/multihead_attn/self_multihead_attn.py -> build/bdist.linux-x86_64/wheel/apex/contrib/multihead_attn\n",
            "  copying build/lib/apex/contrib/multihead_attn/__init__.py -> build/bdist.linux-x86_64/wheel/apex/contrib/multihead_attn\n",
            "  copying build/lib/apex/contrib/multihead_attn/encdec_multihead_attn.py -> build/bdist.linux-x86_64/wheel/apex/contrib/multihead_attn\n",
            "  copying build/lib/apex/contrib/multihead_attn/self_multihead_attn_func.py -> build/bdist.linux-x86_64/wheel/apex/contrib/multihead_attn\n",
            "  copying build/lib/apex/contrib/multihead_attn/encdec_multihead_attn_func.py -> build/bdist.linux-x86_64/wheel/apex/contrib/multihead_attn\n",
            "  copying build/lib/apex/contrib/multihead_attn/mask_softmax_dropout_func.py -> build/bdist.linux-x86_64/wheel/apex/contrib/multihead_attn\n",
            "  copying build/lib/apex/contrib/multihead_attn/fast_encdec_multihead_attn_norm_add_func.py -> build/bdist.linux-x86_64/wheel/apex/contrib/multihead_attn\n",
            "  copying build/lib/apex/contrib/multihead_attn/fast_self_multihead_attn_norm_add_func.py -> build/bdist.linux-x86_64/wheel/apex/contrib/multihead_attn\n",
            "  copying build/lib/apex/contrib/multihead_attn/fast_self_multihead_attn_func.py -> build/bdist.linux-x86_64/wheel/apex/contrib/multihead_attn\n",
            "  creating build/bdist.linux-x86_64/wheel/apex/contrib/groupbn\n",
            "  copying build/lib/apex/contrib/groupbn/batch_norm.py -> build/bdist.linux-x86_64/wheel/apex/contrib/groupbn\n",
            "  copying build/lib/apex/contrib/groupbn/__init__.py -> build/bdist.linux-x86_64/wheel/apex/contrib/groupbn\n",
            "  creating build/bdist.linux-x86_64/wheel/apex/contrib/sparsity\n",
            "  copying build/lib/apex/contrib/sparsity/asp.py -> build/bdist.linux-x86_64/wheel/apex/contrib/sparsity\n",
            "  copying build/lib/apex/contrib/sparsity/__init__.py -> build/bdist.linux-x86_64/wheel/apex/contrib/sparsity\n",
            "  copying build/lib/apex/contrib/sparsity/sparse_masklib.py -> build/bdist.linux-x86_64/wheel/apex/contrib/sparsity\n",
            "  creating build/bdist.linux-x86_64/wheel/apex/parallel\n",
            "  copying build/lib/apex/parallel/sync_batchnorm_kernel.py -> build/bdist.linux-x86_64/wheel/apex/parallel\n",
            "  copying build/lib/apex/parallel/__init__.py -> build/bdist.linux-x86_64/wheel/apex/parallel\n",
            "  copying build/lib/apex/parallel/optimized_sync_batchnorm.py -> build/bdist.linux-x86_64/wheel/apex/parallel\n",
            "  copying build/lib/apex/parallel/multiproc.py -> build/bdist.linux-x86_64/wheel/apex/parallel\n",
            "  copying build/lib/apex/parallel/LARC.py -> build/bdist.linux-x86_64/wheel/apex/parallel\n",
            "  copying build/lib/apex/parallel/distributed.py -> build/bdist.linux-x86_64/wheel/apex/parallel\n",
            "  copying build/lib/apex/parallel/sync_batchnorm.py -> build/bdist.linux-x86_64/wheel/apex/parallel\n",
            "  copying build/lib/apex/parallel/optimized_sync_batchnorm_kernel.py -> build/bdist.linux-x86_64/wheel/apex/parallel\n",
            "  creating build/bdist.linux-x86_64/wheel/apex/optimizers\n",
            "  copying build/lib/apex/optimizers/fused_adam.py -> build/bdist.linux-x86_64/wheel/apex/optimizers\n",
            "  copying build/lib/apex/optimizers/fused_lamb.py -> build/bdist.linux-x86_64/wheel/apex/optimizers\n",
            "  copying build/lib/apex/optimizers/__init__.py -> build/bdist.linux-x86_64/wheel/apex/optimizers\n",
            "  copying build/lib/apex/optimizers/fused_novograd.py -> build/bdist.linux-x86_64/wheel/apex/optimizers\n",
            "  copying build/lib/apex/optimizers/fused_sgd.py -> build/bdist.linux-x86_64/wheel/apex/optimizers\n",
            "  copying build/lib/apex/optimizers/fused_adagrad.py -> build/bdist.linux-x86_64/wheel/apex/optimizers\n",
            "  creating build/bdist.linux-x86_64/wheel/apex/reparameterization\n",
            "  copying build/lib/apex/reparameterization/__init__.py -> build/bdist.linux-x86_64/wheel/apex/reparameterization\n",
            "  copying build/lib/apex/reparameterization/reparameterization.py -> build/bdist.linux-x86_64/wheel/apex/reparameterization\n",
            "  copying build/lib/apex/reparameterization/weight_norm.py -> build/bdist.linux-x86_64/wheel/apex/reparameterization\n",
            "  creating build/bdist.linux-x86_64/wheel/apex/multi_tensor_apply\n",
            "  copying build/lib/apex/multi_tensor_apply/multi_tensor_apply.py -> build/bdist.linux-x86_64/wheel/apex/multi_tensor_apply\n",
            "  copying build/lib/apex/multi_tensor_apply/__init__.py -> build/bdist.linux-x86_64/wheel/apex/multi_tensor_apply\n",
            "  copying build/lib/apex/__init__.py -> build/bdist.linux-x86_64/wheel/apex\n",
            "  creating build/bdist.linux-x86_64/wheel/apex/fp16_utils\n",
            "  copying build/lib/apex/fp16_utils/fp16util.py -> build/bdist.linux-x86_64/wheel/apex/fp16_utils\n",
            "  copying build/lib/apex/fp16_utils/__init__.py -> build/bdist.linux-x86_64/wheel/apex/fp16_utils\n",
            "  copying build/lib/apex/fp16_utils/loss_scaler.py -> build/bdist.linux-x86_64/wheel/apex/fp16_utils\n",
            "  copying build/lib/apex/fp16_utils/fp16_optimizer.py -> build/bdist.linux-x86_64/wheel/apex/fp16_utils\n",
            "  creating build/bdist.linux-x86_64/wheel/apex/amp\n",
            "  copying build/lib/apex/amp/scaler.py -> build/bdist.linux-x86_64/wheel/apex/amp\n",
            "  copying build/lib/apex/amp/__version__.py -> build/bdist.linux-x86_64/wheel/apex/amp\n",
            "  copying build/lib/apex/amp/handle.py -> build/bdist.linux-x86_64/wheel/apex/amp\n",
            "  copying build/lib/apex/amp/_amp_state.py -> build/bdist.linux-x86_64/wheel/apex/amp\n",
            "  copying build/lib/apex/amp/frontend.py -> build/bdist.linux-x86_64/wheel/apex/amp\n",
            "  copying build/lib/apex/amp/opt.py -> build/bdist.linux-x86_64/wheel/apex/amp\n",
            "  copying build/lib/apex/amp/_initialize.py -> build/bdist.linux-x86_64/wheel/apex/amp\n",
            "  copying build/lib/apex/amp/__init__.py -> build/bdist.linux-x86_64/wheel/apex/amp\n",
            "  copying build/lib/apex/amp/wrap.py -> build/bdist.linux-x86_64/wheel/apex/amp\n",
            "  copying build/lib/apex/amp/utils.py -> build/bdist.linux-x86_64/wheel/apex/amp\n",
            "  copying build/lib/apex/amp/rnn_compat.py -> build/bdist.linux-x86_64/wheel/apex/amp\n",
            "  copying build/lib/apex/amp/_process_optimizer.py -> build/bdist.linux-x86_64/wheel/apex/amp\n",
            "  copying build/lib/apex/amp/compat.py -> build/bdist.linux-x86_64/wheel/apex/amp\n",
            "  copying build/lib/apex/amp/amp.py -> build/bdist.linux-x86_64/wheel/apex/amp\n",
            "  creating build/bdist.linux-x86_64/wheel/apex/amp/lists\n",
            "  copying build/lib/apex/amp/lists/tensor_overrides.py -> build/bdist.linux-x86_64/wheel/apex/amp/lists\n",
            "  copying build/lib/apex/amp/lists/functional_overrides.py -> build/bdist.linux-x86_64/wheel/apex/amp/lists\n",
            "  copying build/lib/apex/amp/lists/__init__.py -> build/bdist.linux-x86_64/wheel/apex/amp/lists\n",
            "  copying build/lib/apex/amp/lists/torch_overrides.py -> build/bdist.linux-x86_64/wheel/apex/amp/lists\n",
            "  creating build/bdist.linux-x86_64/wheel/apex/pyprof\n",
            "  copying build/lib/apex/pyprof/__init__.py -> build/bdist.linux-x86_64/wheel/apex/pyprof\n",
            "  creating build/bdist.linux-x86_64/wheel/apex/pyprof/prof\n",
            "  copying build/lib/apex/pyprof/prof/prof.py -> build/bdist.linux-x86_64/wheel/apex/pyprof/prof\n",
            "  copying build/lib/apex/pyprof/prof/misc.py -> build/bdist.linux-x86_64/wheel/apex/pyprof/prof\n",
            "  copying build/lib/apex/pyprof/prof/reduction.py -> build/bdist.linux-x86_64/wheel/apex/pyprof/prof\n",
            "  copying build/lib/apex/pyprof/prof/recurrentCell.py -> build/bdist.linux-x86_64/wheel/apex/pyprof/prof\n",
            "  copying build/lib/apex/pyprof/prof/pooling.py -> build/bdist.linux-x86_64/wheel/apex/pyprof/prof\n",
            "  copying build/lib/apex/pyprof/prof/optim.py -> build/bdist.linux-x86_64/wheel/apex/pyprof/prof\n",
            "  copying build/lib/apex/pyprof/prof/convert.py -> build/bdist.linux-x86_64/wheel/apex/pyprof/prof\n",
            "  copying build/lib/apex/pyprof/prof/__init__.py -> build/bdist.linux-x86_64/wheel/apex/pyprof/prof\n",
            "  copying build/lib/apex/pyprof/prof/randomSample.py -> build/bdist.linux-x86_64/wheel/apex/pyprof/prof\n",
            "  copying build/lib/apex/pyprof/prof/linear.py -> build/bdist.linux-x86_64/wheel/apex/pyprof/prof\n",
            "  copying build/lib/apex/pyprof/prof/blas.py -> build/bdist.linux-x86_64/wheel/apex/pyprof/prof\n",
            "  copying build/lib/apex/pyprof/prof/index_slice_join_mutate.py -> build/bdist.linux-x86_64/wheel/apex/pyprof/prof\n",
            "  copying build/lib/apex/pyprof/prof/embedding.py -> build/bdist.linux-x86_64/wheel/apex/pyprof/prof\n",
            "  copying build/lib/apex/pyprof/prof/data.py -> build/bdist.linux-x86_64/wheel/apex/pyprof/prof\n",
            "  copying build/lib/apex/pyprof/prof/utility.py -> build/bdist.linux-x86_64/wheel/apex/pyprof/prof\n",
            "  copying build/lib/apex/pyprof/prof/base.py -> build/bdist.linux-x86_64/wheel/apex/pyprof/prof\n",
            "  copying build/lib/apex/pyprof/prof/conv.py -> build/bdist.linux-x86_64/wheel/apex/pyprof/prof\n",
            "  copying build/lib/apex/pyprof/prof/softmax.py -> build/bdist.linux-x86_64/wheel/apex/pyprof/prof\n",
            "  copying build/lib/apex/pyprof/prof/pointwise.py -> build/bdist.linux-x86_64/wheel/apex/pyprof/prof\n",
            "  copying build/lib/apex/pyprof/prof/output.py -> build/bdist.linux-x86_64/wheel/apex/pyprof/prof\n",
            "  copying build/lib/apex/pyprof/prof/__main__.py -> build/bdist.linux-x86_64/wheel/apex/pyprof/prof\n",
            "  copying build/lib/apex/pyprof/prof/dropout.py -> build/bdist.linux-x86_64/wheel/apex/pyprof/prof\n",
            "  copying build/lib/apex/pyprof/prof/loss.py -> build/bdist.linux-x86_64/wheel/apex/pyprof/prof\n",
            "  copying build/lib/apex/pyprof/prof/usage.py -> build/bdist.linux-x86_64/wheel/apex/pyprof/prof\n",
            "  copying build/lib/apex/pyprof/prof/normalization.py -> build/bdist.linux-x86_64/wheel/apex/pyprof/prof\n",
            "  copying build/lib/apex/pyprof/prof/activation.py -> build/bdist.linux-x86_64/wheel/apex/pyprof/prof\n",
            "  creating build/bdist.linux-x86_64/wheel/apex/pyprof/nvtx\n",
            "  copying build/lib/apex/pyprof/nvtx/__init__.py -> build/bdist.linux-x86_64/wheel/apex/pyprof/nvtx\n",
            "  copying build/lib/apex/pyprof/nvtx/nvmarker.py -> build/bdist.linux-x86_64/wheel/apex/pyprof/nvtx\n",
            "  creating build/bdist.linux-x86_64/wheel/apex/pyprof/parse\n",
            "  copying build/lib/apex/pyprof/parse/db.py -> build/bdist.linux-x86_64/wheel/apex/pyprof/parse\n",
            "  copying build/lib/apex/pyprof/parse/parse.py -> build/bdist.linux-x86_64/wheel/apex/pyprof/parse\n",
            "  copying build/lib/apex/pyprof/parse/__init__.py -> build/bdist.linux-x86_64/wheel/apex/pyprof/parse\n",
            "  copying build/lib/apex/pyprof/parse/__main__.py -> build/bdist.linux-x86_64/wheel/apex/pyprof/parse\n",
            "  copying build/lib/apex/pyprof/parse/nvvp.py -> build/bdist.linux-x86_64/wheel/apex/pyprof/parse\n",
            "  copying build/lib/apex/pyprof/parse/kernel.py -> build/bdist.linux-x86_64/wheel/apex/pyprof/parse\n",
            "  creating build/bdist.linux-x86_64/wheel/apex/normalization\n",
            "  copying build/lib/apex/normalization/__init__.py -> build/bdist.linux-x86_64/wheel/apex/normalization\n",
            "  copying build/lib/apex/normalization/fused_layer_norm.py -> build/bdist.linux-x86_64/wheel/apex/normalization\n",
            "  running install_egg_info\n",
            "  running egg_info\n",
            "  creating apex.egg-info\n",
            "  writing apex.egg-info/PKG-INFO\n",
            "  writing dependency_links to apex.egg-info/dependency_links.txt\n",
            "  writing top-level names to apex.egg-info/top_level.txt\n",
            "  writing manifest file 'apex.egg-info/SOURCES.txt'\n",
            "  adding license file 'LICENSE' (matched pattern 'LICEN[CS]E*')\n",
            "  writing manifest file 'apex.egg-info/SOURCES.txt'\n",
            "  Copying apex.egg-info to build/bdist.linux-x86_64/wheel/apex-0.1-py3.7.egg-info\n",
            "  running install_scripts\n",
            "  adding license file \"LICENSE\" (matched pattern \"LICEN[CS]E*\")\n",
            "  creating build/bdist.linux-x86_64/wheel/apex-0.1.dist-info/WHEEL\n",
            "  creating '/tmp/pip-wheel-kfr64pc4/apex-0.1-cp37-none-any.whl' and adding 'build/bdist.linux-x86_64/wheel' to it\n",
            "  adding 'apex/__init__.py'\n",
            "  adding 'apex/RNN/RNNBackend.py'\n",
            "  adding 'apex/RNN/__init__.py'\n",
            "  adding 'apex/RNN/cells.py'\n",
            "  adding 'apex/RNN/models.py'\n",
            "  adding 'apex/amp/__init__.py'\n",
            "  adding 'apex/amp/__version__.py'\n",
            "  adding 'apex/amp/_amp_state.py'\n",
            "  adding 'apex/amp/_initialize.py'\n",
            "  adding 'apex/amp/_process_optimizer.py'\n",
            "  adding 'apex/amp/amp.py'\n",
            "  adding 'apex/amp/compat.py'\n",
            "  adding 'apex/amp/frontend.py'\n",
            "  adding 'apex/amp/handle.py'\n",
            "  adding 'apex/amp/opt.py'\n",
            "  adding 'apex/amp/rnn_compat.py'\n",
            "  adding 'apex/amp/scaler.py'\n",
            "  adding 'apex/amp/utils.py'\n",
            "  adding 'apex/amp/wrap.py'\n",
            "  adding 'apex/amp/lists/__init__.py'\n",
            "  adding 'apex/amp/lists/functional_overrides.py'\n",
            "  adding 'apex/amp/lists/tensor_overrides.py'\n",
            "  adding 'apex/amp/lists/torch_overrides.py'\n",
            "  adding 'apex/contrib/__init__.py'\n",
            "  adding 'apex/contrib/bottleneck/__init__.py'\n",
            "  adding 'apex/contrib/bottleneck/bottleneck.py'\n",
            "  adding 'apex/contrib/bottleneck/test.py'\n",
            "  adding 'apex/contrib/fmha/__init__.py'\n",
            "  adding 'apex/contrib/fmha/fmha.py'\n",
            "  adding 'apex/contrib/groupbn/__init__.py'\n",
            "  adding 'apex/contrib/groupbn/batch_norm.py'\n",
            "  adding 'apex/contrib/layer_norm/__init__.py'\n",
            "  adding 'apex/contrib/layer_norm/layer_norm.py'\n",
            "  adding 'apex/contrib/multihead_attn/__init__.py'\n",
            "  adding 'apex/contrib/multihead_attn/encdec_multihead_attn.py'\n",
            "  adding 'apex/contrib/multihead_attn/encdec_multihead_attn_func.py'\n",
            "  adding 'apex/contrib/multihead_attn/fast_encdec_multihead_attn_func.py'\n",
            "  adding 'apex/contrib/multihead_attn/fast_encdec_multihead_attn_norm_add_func.py'\n",
            "  adding 'apex/contrib/multihead_attn/fast_self_multihead_attn_func.py'\n",
            "  adding 'apex/contrib/multihead_attn/fast_self_multihead_attn_norm_add_func.py'\n",
            "  adding 'apex/contrib/multihead_attn/mask_softmax_dropout_func.py'\n",
            "  adding 'apex/contrib/multihead_attn/self_multihead_attn.py'\n",
            "  adding 'apex/contrib/multihead_attn/self_multihead_attn_func.py'\n",
            "  adding 'apex/contrib/optimizers/__init__.py'\n",
            "  adding 'apex/contrib/optimizers/distributed_fused_adam.py'\n",
            "  adding 'apex/contrib/optimizers/distributed_fused_adam_v2.py'\n",
            "  adding 'apex/contrib/optimizers/distributed_fused_adam_v3.py'\n",
            "  adding 'apex/contrib/optimizers/distributed_fused_lamb.py'\n",
            "  adding 'apex/contrib/optimizers/fp16_optimizer.py'\n",
            "  adding 'apex/contrib/optimizers/fused_adam.py'\n",
            "  adding 'apex/contrib/optimizers/fused_lamb.py'\n",
            "  adding 'apex/contrib/optimizers/fused_sgd.py'\n",
            "  adding 'apex/contrib/sparsity/__init__.py'\n",
            "  adding 'apex/contrib/sparsity/asp.py'\n",
            "  adding 'apex/contrib/sparsity/sparse_masklib.py'\n",
            "  adding 'apex/contrib/transducer/__init__.py'\n",
            "  adding 'apex/contrib/transducer/transducer.py'\n",
            "  adding 'apex/contrib/xentropy/__init__.py'\n",
            "  adding 'apex/contrib/xentropy/softmax_xentropy.py'\n",
            "  adding 'apex/fp16_utils/__init__.py'\n",
            "  adding 'apex/fp16_utils/fp16_optimizer.py'\n",
            "  adding 'apex/fp16_utils/fp16util.py'\n",
            "  adding 'apex/fp16_utils/loss_scaler.py'\n",
            "  adding 'apex/mlp/__init__.py'\n",
            "  adding 'apex/mlp/mlp.py'\n",
            "  adding 'apex/multi_tensor_apply/__init__.py'\n",
            "  adding 'apex/multi_tensor_apply/multi_tensor_apply.py'\n",
            "  adding 'apex/normalization/__init__.py'\n",
            "  adding 'apex/normalization/fused_layer_norm.py'\n",
            "  adding 'apex/optimizers/__init__.py'\n",
            "  adding 'apex/optimizers/fused_adagrad.py'\n",
            "  adding 'apex/optimizers/fused_adam.py'\n",
            "  adding 'apex/optimizers/fused_lamb.py'\n",
            "  adding 'apex/optimizers/fused_novograd.py'\n",
            "  adding 'apex/optimizers/fused_sgd.py'\n",
            "  adding 'apex/parallel/LARC.py'\n",
            "  adding 'apex/parallel/__init__.py'\n",
            "  adding 'apex/parallel/distributed.py'\n",
            "  adding 'apex/parallel/multiproc.py'\n",
            "  adding 'apex/parallel/optimized_sync_batchnorm.py'\n",
            "  adding 'apex/parallel/optimized_sync_batchnorm_kernel.py'\n",
            "  adding 'apex/parallel/sync_batchnorm.py'\n",
            "  adding 'apex/parallel/sync_batchnorm_kernel.py'\n",
            "  adding 'apex/pyprof/__init__.py'\n",
            "  adding 'apex/pyprof/nvtx/__init__.py'\n",
            "  adding 'apex/pyprof/nvtx/nvmarker.py'\n",
            "  adding 'apex/pyprof/parse/__init__.py'\n",
            "  adding 'apex/pyprof/parse/__main__.py'\n",
            "  adding 'apex/pyprof/parse/db.py'\n",
            "  adding 'apex/pyprof/parse/kernel.py'\n",
            "  adding 'apex/pyprof/parse/nvvp.py'\n",
            "  adding 'apex/pyprof/parse/parse.py'\n",
            "  adding 'apex/pyprof/prof/__init__.py'\n",
            "  adding 'apex/pyprof/prof/__main__.py'\n",
            "  adding 'apex/pyprof/prof/activation.py'\n",
            "  adding 'apex/pyprof/prof/base.py'\n",
            "  adding 'apex/pyprof/prof/blas.py'\n",
            "  adding 'apex/pyprof/prof/conv.py'\n",
            "  adding 'apex/pyprof/prof/convert.py'\n",
            "  adding 'apex/pyprof/prof/data.py'\n",
            "  adding 'apex/pyprof/prof/dropout.py'\n",
            "  adding 'apex/pyprof/prof/embedding.py'\n",
            "  adding 'apex/pyprof/prof/index_slice_join_mutate.py'\n",
            "  adding 'apex/pyprof/prof/linear.py'\n",
            "  adding 'apex/pyprof/prof/loss.py'\n",
            "  adding 'apex/pyprof/prof/misc.py'\n",
            "  adding 'apex/pyprof/prof/normalization.py'\n",
            "  adding 'apex/pyprof/prof/optim.py'\n",
            "  adding 'apex/pyprof/prof/output.py'\n",
            "  adding 'apex/pyprof/prof/pointwise.py'\n",
            "  adding 'apex/pyprof/prof/pooling.py'\n",
            "  adding 'apex/pyprof/prof/prof.py'\n",
            "  adding 'apex/pyprof/prof/randomSample.py'\n",
            "  adding 'apex/pyprof/prof/recurrentCell.py'\n",
            "  adding 'apex/pyprof/prof/reduction.py'\n",
            "  adding 'apex/pyprof/prof/softmax.py'\n",
            "  adding 'apex/pyprof/prof/usage.py'\n",
            "  adding 'apex/pyprof/prof/utility.py'\n",
            "  adding 'apex/reparameterization/__init__.py'\n",
            "  adding 'apex/reparameterization/reparameterization.py'\n",
            "  adding 'apex/reparameterization/weight_norm.py'\n",
            "  adding 'apex-0.1.dist-info/LICENSE'\n",
            "  adding 'apex-0.1.dist-info/METADATA'\n",
            "  adding 'apex-0.1.dist-info/WHEEL'\n",
            "  adding 'apex-0.1.dist-info/top_level.txt'\n",
            "  adding 'apex-0.1.dist-info/RECORD'\n",
            "  removing build/bdist.linux-x86_64/wheel\n",
            "\u001b[?25hdone\n",
            "  Created wheel for apex: filename=apex-0.1-cp37-none-any.whl size=204330 sha256=cc103506775c89c4f61d5103c10648f9b21ace2606457893dcb0ac0b4f964e8c\n",
            "  Stored in directory: /tmp/pip-ephem-wheel-cache-ohe4hp_u/wheels/b1/3a/aa/d84906eaab780ae580c7a5686a33bf2820d8590ac3b60d5967\n",
            "  Removing source in /tmp/pip-req-build-u73o_gjc\n",
            "Successfully built apex\n",
            "Installing collected packages: apex\n",
            "\n",
            "Successfully installed apex-0.1\n",
            "Cleaning up...\n",
            "Removed build tracker '/tmp/pip-req-tracker-14z9t1ez'\n",
            "/content\n"
          ],
          "name": "stdout"
        }
      ]
    },
    {
      "cell_type": "code",
      "metadata": {
        "colab": {
          "base_uri": "https://localhost:8080/"
        },
        "id": "dsmxZM0-x7fF",
        "outputId": "2a40091f-6c10-4499-9062-0d9af02d9298"
      },
      "source": [
        "from google.colab import drive\n",
        "drive.mount('/content/gdrive/')"
      ],
      "execution_count": null,
      "outputs": [
        {
          "output_type": "stream",
          "text": [
            "Mounted at /content/gdrive/\n"
          ],
          "name": "stdout"
        }
      ]
    },
    {
      "cell_type": "code",
      "metadata": {
        "id": "vGx7BB_dqPbS"
      },
      "source": [
        "# %%writefile setup.sh\n",
        "# export CUDA_HOME=/usr/local/cuda-10.1\n",
        "# git clone https://github.com/NVIDIA/apex\n",
        "# pip install -v --no-cache-dir --global-option=\"--cpp_ext\" --global-option=\"--cuda_ext\" ./apex"
      ],
      "execution_count": null,
      "outputs": []
    },
    {
      "cell_type": "code",
      "metadata": {
        "id": "vcaz1gMYbmt1"
      },
      "source": [
        "# !sh setup.sh"
      ],
      "execution_count": null,
      "outputs": []
    },
    {
      "cell_type": "code",
      "metadata": {
        "id": "j3gLMKblgV2b",
        "colab": {
          "base_uri": "https://localhost:8080/"
        },
        "outputId": "9b3d0cf0-fc43-4a9e-f5a8-84f910d0ccaf"
      },
      "source": [
        "# data preprocessing\n",
        "from sklearn.model_selection import train_test_split\n",
        "import pandas as pd\n",
        "import re\n",
        "import numpy as np\n",
        "import json\n",
        "import h5py\n",
        "\n",
        "# control\n",
        "import argparse\n",
        "import logging\n",
        "from tqdm import trange\n",
        "\n",
        "# pytorch\n",
        "import torch\n",
        "print(torch.__version__)\n",
        "import torch.nn.functional as F\n",
        "\n",
        "# transformers\n",
        "from transformers import GPT2Config\n",
        "from transformers import AutoTokenizer, AutoModelWithLMHead\n",
        "from transformers import GPT2LMHeadModel, GPT2Tokenizer\n",
        "from transformers import BartForCausalLM, BartTokenizer,BartConfig"
      ],
      "execution_count": null,
      "outputs": [
        {
          "output_type": "stream",
          "text": [
            "1.8.1+cu101\n"
          ],
          "name": "stdout"
        },
        {
          "output_type": "stream",
          "text": [
            "/usr/local/lib/python3.7/dist-packages/requests/__init__.py:91: RequestsDependencyWarning: urllib3 (1.26.4) or chardet (3.0.4) doesn't match a supported version!\n",
            "  RequestsDependencyWarning)\n"
          ],
          "name": "stderr"
        }
      ]
    },
    {
      "cell_type": "code",
      "metadata": {
        "id": "dr3GLmeRgslI"
      },
      "source": [
        "# the original dataframe\n",
        "df_ori = pd.read_csv(\"./gdrive/MyDrive/COMP0087/full_dataset.csv\")"
      ],
      "execution_count": null,
      "outputs": []
    },
    {
      "cell_type": "code",
      "metadata": {
        "id": "wajqYvcFedhK"
      },
      "source": [
        "np.random.seed(10)\n",
        "train_len = 500000\n",
        "test_len = 200\n",
        "subset_idx = np.random.choice(range(len(df_ori)),train_len+test_len,replace=False)\n",
        "train_idx = subset_idx[0:train_len]\n",
        "test_idx = subset_idx[train_len:]\n",
        "df = df_ori.loc[subset_idx ,:]\n",
        "# df_test = df_ori.loc[subset_idx[-100:],:]"
      ],
      "execution_count": null,
      "outputs": []
    },
    {
      "cell_type": "code",
      "metadata": {
        "id": "BxIQiIoQobMb"
      },
      "source": [
        "# data preprocessing\n",
        "remove1 = df.loc[df.title.map(lambda x: len(x)<4 )]\n",
        "remove2 = df.loc[df.ingredients.map(lambda x: len(x)<2)]\n",
        "remove3 = df.loc[df.directions.map(lambda x: len(x) < 2 or len(''.join(x)) < 30)]\n",
        "remove4 = df.loc[df.directions.map(lambda x: re.search('(step|mix all)', ''.join(str(x)), re.IGNORECASE)!=None)]\n",
        "len(remove3)+len(remove2)+len(remove1)+len(remove4)\n",
        "df.drop(df[df.title.map(lambda x: len(x)<4)].index, inplace=True)\n",
        "df.drop(df[df.ingredients.map(lambda x: len(x)<2)].index, inplace=True)\n",
        "df.drop(df[df.directions.map(lambda x: len(x) < 2 or len(''.join(x)) < 30)].index, inplace=True)\n",
        "df.drop(df[df.directions.map(lambda x: re.search('(step|mix all)', ''.join(str(x)), re.IGNORECASE)!=None)].index, inplace=True)"
      ],
      "execution_count": null,
      "outputs": []
    },
    {
      "cell_type": "code",
      "metadata": {
        "id": "vogi-NsDgd1z"
      },
      "source": [
        "df.drop(df[df.title.map(lambda x: len(x)<4)].index, inplace=True)\n",
        "df.drop(df[df.ingredients.map(lambda x: len(x)<2)].index, inplace=True)\n",
        "df.drop(df[df.directions.map(lambda x: len(x) < 2 or len(''.join(x)) < 30)].index, inplace=True)\n",
        "df.drop(df[df.directions.map(lambda x: re.search('(step|mix all)', ''.join(str(x)), re.IGNORECASE)!=None)].index, inplace=True)"
      ],
      "execution_count": null,
      "outputs": []
    },
    {
      "cell_type": "code",
      "metadata": {
        "id": "2h0MbRQken9a",
        "colab": {
          "base_uri": "https://localhost:8080/"
        },
        "outputId": "21e88f2b-0e20-46c4-9142-53d04d899643"
      },
      "source": [
        "len(df)"
      ],
      "execution_count": null,
      "outputs": [
        {
          "output_type": "execute_result",
          "data": {
            "text/plain": [
              "470922"
            ]
          },
          "metadata": {
            "tags": []
          },
          "execution_count": 10
        }
      ]
    },
    {
      "cell_type": "code",
      "metadata": {
        "id": "tyIpD-Apgh7s"
      },
      "source": [
        "df.reset_index(inplace=True)\n",
        "train, test = train_test_split(df, test_size=0.05) #use 5% for test set\n",
        "# we only want first 10000 and 100 for train/test\n",
        "# this has an error: train[75400:75600]\n",
        "train = train[50000:400000]\n",
        "test = test[0:100]"
      ],
      "execution_count": null,
      "outputs": []
    },
    {
      "cell_type": "code",
      "metadata": {
        "id": "vuytage9gjzH"
      },
      "source": [
        "def df_to_plaintext_file(input_df, output_file):\n",
        "    print(\"Writing to\", output_file)\n",
        "    with open(output_file, 'w') as f:\n",
        "        for index, row in input_df.iterrows():\n",
        "            if index%100000==0:\n",
        "                print(index)\n",
        "            if type(row.NER)!=str:\n",
        "                continue\n",
        "            title = row.title\n",
        "            directions = json.loads(row.directions)\n",
        "            ingredients = json.loads(row.ingredients)\n",
        "            ner = json.loads(row.NER)\n",
        "            res = \"<RECIPE_START> <INPUT_START> \" + \" <NEXT_INPUT> \".join(ner) + \" <INPUT_END> <INGR_START> \" + \\\n",
        "              \" <NEXT_INGR> \".join(ingredients) + \" <INGR_END> <INSTR_START> \" + \\\n",
        "              \" <NEXT_INSTR> \".join(directions) + \" <INSTR_END> <TITLE_START> \" + title + \" <TITLE_END> <RECIPE_END>\"\n",
        "            f.write(\"{}\\n\".format(res))"
      ],
      "execution_count": null,
      "outputs": []
    },
    {
      "cell_type": "code",
      "metadata": {
        "colab": {
          "base_uri": "https://localhost:8080/"
        },
        "id": "1mpW4paENyVv",
        "outputId": "8330e26b-dabe-4e8e-ec0e-f50389be8ab7"
      },
      "source": [
        "df_to_plaintext_file(train, 'unsupervised_train.txt')\n",
        "df_to_plaintext_file(test, 'unsupervised_test.txt')"
      ],
      "execution_count": null,
      "outputs": [
        {
          "output_type": "stream",
          "text": [
            "Writing to unsupervised_train.txt\n",
            "300000\n",
            "0\n",
            "100000\n",
            "400000\n",
            "200000\n",
            "Writing to unsupervised_test.txt\n"
          ],
          "name": "stdout"
        }
      ]
    },
    {
      "cell_type": "code",
      "metadata": {
        "id": "zzINFGF4JnrG"
      },
      "source": [
        "#from transformers import GPT2Tokenizer"
      ],
      "execution_count": null,
      "outputs": []
    },
    {
      "cell_type": "code",
      "metadata": {
        "colab": {
          "base_uri": "https://localhost:8080/",
          "height": 830,
          "referenced_widgets": [
            "b215dbb5805440c99258da0539635d57",
            "22a42929a7fa47a290a834442fd032c4",
            "4dd299c1910d4bfa80c2914a86b21e38",
            "2eae657a54b04e0d9e5f108c1709ac40",
            "253591dd4eab49f6bb060031d38e442e",
            "85e4a994fb3d4c9d94eb2bc8857fc92b",
            "196f611c0eca47e9856df9aff3c008c2",
            "1edf0fd9793646828cfe2d7861aa79ec",
            "fd45c7d71ba0459898ac8c1e26858bda",
            "56623aa5beb644f586da69f2004d77ae",
            "3e9626da8e404acaacd2729bed26c061",
            "c2b1b4058cbe4c08b10bf70b64b92cac",
            "bbdb5950b15e4d1dac5952ed45676c70",
            "72a52f7c8b5f4c5cad2eee702377e543",
            "c068c495832045d4932235e5564675d1",
            "25106e8cb4054c62b3d886b8e5931eb8",
            "dd0c6836d38b492c932da2eb6aa41a68",
            "8cf97fc840c4450e8042926115e66145",
            "3ab0ed482884438184387c58dc270017",
            "336462b4cbad4224a3a675a70a81b708",
            "395d241238314a3f8c24a7333044ad60",
            "f50345571f5b4821a0da18b73bd668a8",
            "86162ec3b4e04e7badd5c85989dd9783",
            "6c13d2871d434a3c8468926817730b39"
          ]
        },
        "id": "4wqzp-seoHsw",
        "outputId": "9e42081b-bbca-4058-a578-2b0a034119be"
      },
      "source": [
        "tokenizer = BartTokenizer.from_pretrained(\"facebook/bart-base\")\n",
        "# tokenizer = GPT2Tokenizer.from_pretrained(\"gpt2\")\n",
        "special_tokens = {\n",
        "    \"additional_special_tokens\": [\n",
        "        \"<TITLE_START>\",\n",
        "        \"<TITLE_END>\",\n",
        "        \"<INSTR_START>\",\n",
        "        \"<NEXT_INSTR>\",\n",
        "        \"<INSTR_END>\",\n",
        "        \"<INGR_START>\",\n",
        "        \"<NEXT_INGR>\",\n",
        "        \"<INGR_END>\",\n",
        "        \"<RECIPE_START>\",\n",
        "        \"<RECIPE_END>\",\n",
        "        \"<INPUT_START>\",\n",
        "        \"<INPUT_END>\",\n",
        "        \"<NEXT_INPUT>\"\n",
        "    ]\n",
        "}\n",
        "\n",
        "tokenizer.add_special_tokens(special_tokens)\n",
        "\n",
        "end_token_id = tokenizer.convert_tokens_to_ids([\"<RECIPE_END>\"])[0]\n",
        "\n",
        "hf = h5py.File(\"unsupervised.h5\", \"w\")\n",
        "for filename in [\"test\", \"train\"]:\n",
        "    out_np = []\n",
        "    data = open(\"unsupervised_\"+filename+\".txt\", \"r\")\n",
        "    num = 0\n",
        "    rows = 0\n",
        "    last=[]\n",
        "    for line in data:\n",
        "        num+=1\n",
        "        if num%10000 == 0:\n",
        "            print(\"Read \"+str(num)+\" Written: \"+str(rows))\n",
        "        # print(line)\n",
        "        text_tokens = tokenizer(line)['input_ids']\n",
        "        # print(text_tokens[0:5])\n",
        "        if len(text_tokens) > 1024: #Recipe won't fit the model\n",
        "            continue\n",
        "\n",
        "        # text_tokens_ids = tokenizer.convert_tokens_to_ids(text_tokens)\n",
        "        text_tokens_ids = text_tokens\n",
        "        # print(text_tokens_ids[0:5])\n",
        "\n",
        "        if (len(last) + len(text_tokens_ids)) <= 1024:\n",
        "            last+=text_tokens_ids\n",
        "        else:\n",
        "            while len(last) < 1024:\n",
        "                last.append(end_token_id)\n",
        "            out_np.append(last)\n",
        "            last=text_tokens_ids\n",
        "            rows+=1\n",
        "    out_mat = np.matrix(out_np)\n",
        "    print(out_mat.shape)\n",
        "    # print(out_mat)\n",
        "    hf.create_dataset(filename, data=out_mat)\n",
        "hf.close()\n"
      ],
      "execution_count": null,
      "outputs": [
        {
          "output_type": "display_data",
          "data": {
            "application/vnd.jupyter.widget-view+json": {
              "model_id": "b215dbb5805440c99258da0539635d57",
              "version_minor": 0,
              "version_major": 2
            },
            "text/plain": [
              "HBox(children=(FloatProgress(value=0.0, description='Downloading', max=898823.0, style=ProgressStyle(descripti…"
            ]
          },
          "metadata": {
            "tags": []
          }
        },
        {
          "output_type": "stream",
          "text": [
            "\n"
          ],
          "name": "stdout"
        },
        {
          "output_type": "display_data",
          "data": {
            "application/vnd.jupyter.widget-view+json": {
              "model_id": "fd45c7d71ba0459898ac8c1e26858bda",
              "version_minor": 0,
              "version_major": 2
            },
            "text/plain": [
              "HBox(children=(FloatProgress(value=0.0, description='Downloading', max=456318.0, style=ProgressStyle(descripti…"
            ]
          },
          "metadata": {
            "tags": []
          }
        },
        {
          "output_type": "stream",
          "text": [
            "\n"
          ],
          "name": "stdout"
        },
        {
          "output_type": "display_data",
          "data": {
            "application/vnd.jupyter.widget-view+json": {
              "model_id": "dd0c6836d38b492c932da2eb6aa41a68",
              "version_minor": 0,
              "version_major": 2
            },
            "text/plain": [
              "HBox(children=(FloatProgress(value=0.0, description='Downloading', max=1355863.0, style=ProgressStyle(descript…"
            ]
          },
          "metadata": {
            "tags": []
          }
        },
        {
          "output_type": "stream",
          "text": [
            "\n",
            "(27, 1024)\n"
          ],
          "name": "stdout"
        },
        {
          "output_type": "stream",
          "text": [
            "Token indices sequence length is longer than the specified maximum sequence length for this model (1127 > 1024). Running this sequence through the model will result in indexing errors\n"
          ],
          "name": "stderr"
        },
        {
          "output_type": "stream",
          "text": [
            "Read 10000 Written: 2649\n",
            "Read 20000 Written: 5321\n",
            "Read 30000 Written: 7959\n",
            "Read 40000 Written: 10610\n",
            "Read 50000 Written: 13248\n",
            "Read 60000 Written: 15901\n",
            "Read 70000 Written: 18562\n",
            "Read 80000 Written: 21200\n",
            "Read 90000 Written: 23839\n",
            "Read 100000 Written: 26514\n",
            "Read 110000 Written: 29148\n",
            "Read 120000 Written: 31803\n",
            "Read 130000 Written: 34482\n",
            "Read 140000 Written: 37158\n",
            "Read 150000 Written: 39790\n",
            "Read 160000 Written: 42460\n",
            "Read 170000 Written: 45131\n",
            "Read 180000 Written: 47826\n",
            "Read 190000 Written: 50448\n",
            "Read 200000 Written: 53104\n",
            "Read 210000 Written: 55770\n",
            "Read 220000 Written: 58419\n",
            "Read 230000 Written: 61078\n",
            "Read 240000 Written: 63719\n",
            "Read 250000 Written: 66361\n",
            "Read 260000 Written: 68977\n",
            "Read 270000 Written: 71636\n",
            "Read 280000 Written: 74302\n",
            "Read 290000 Written: 76923\n",
            "Read 300000 Written: 79554\n",
            "Read 310000 Written: 82232\n",
            "Read 320000 Written: 84913\n",
            "Read 330000 Written: 87582\n",
            "Read 340000 Written: 90260\n",
            "Read 350000 Written: 92917\n",
            "(94095, 1024)\n"
          ],
          "name": "stdout"
        }
      ]
    },
    {
      "cell_type": "code",
      "metadata": {
        "colab": {
          "base_uri": "https://localhost:8080/"
        },
        "id": "HdAk4Kh1McgZ",
        "outputId": "fff90bdc-5e05-4e29-8a89-1700769cc49b"
      },
      "source": [
        "tokenizer"
      ],
      "execution_count": null,
      "outputs": [
        {
          "output_type": "execute_result",
          "data": {
            "text/plain": [
              "PreTrainedTokenizer(name_or_path='facebook/bart-base', vocab_size=50265, model_max_len=1024, is_fast=False, padding_side='right', special_tokens={'bos_token': AddedToken(\"<s>\", rstrip=False, lstrip=False, single_word=False, normalized=True), 'eos_token': AddedToken(\"</s>\", rstrip=False, lstrip=False, single_word=False, normalized=True), 'unk_token': AddedToken(\"<unk>\", rstrip=False, lstrip=False, single_word=False, normalized=True), 'sep_token': AddedToken(\"</s>\", rstrip=False, lstrip=False, single_word=False, normalized=True), 'pad_token': AddedToken(\"<pad>\", rstrip=False, lstrip=False, single_word=False, normalized=True), 'cls_token': AddedToken(\"<s>\", rstrip=False, lstrip=False, single_word=False, normalized=True), 'mask_token': AddedToken(\"<mask>\", rstrip=False, lstrip=True, single_word=False, normalized=True), 'additional_special_tokens': ['<TITLE_START>', '<TITLE_END>', '<INSTR_START>', '<NEXT_INSTR>', '<INSTR_END>', '<INGR_START>', '<NEXT_INGR>', '<INGR_END>', '<RECIPE_START>', '<RECIPE_END>', '<INPUT_START>', '<INPUT_END>', '<NEXT_INPUT>']})"
            ]
          },
          "metadata": {
            "tags": []
          },
          "execution_count": 16
        }
      ]
    },
    {
      "cell_type": "code",
      "metadata": {
        "colab": {
          "base_uri": "https://localhost:8080/"
        },
        "id": "L9ZBTWh6hKqa",
        "outputId": "53cd9917-13c4-4b43-8df7-3c91b7792b2f"
      },
      "source": [
        "toke_result = tokenizer(\"<RECIPE_START> <INPUT_START> water <NEXT_INPUT> butter\")\n",
        "toke_result"
      ],
      "execution_count": null,
      "outputs": [
        {
          "output_type": "execute_result",
          "data": {
            "text/plain": [
              "{'input_ids': [0, 50273, 50275, 5412, 50277, 4297, 1334, 2], 'attention_mask': [1, 1, 1, 1, 1, 1, 1, 1]}"
            ]
          },
          "metadata": {
            "tags": []
          },
          "execution_count": 17
        }
      ]
    },
    {
      "cell_type": "code",
      "metadata": {
        "colab": {
          "base_uri": "https://localhost:8080/",
          "height": 35
        },
        "id": "3nNMjzxKhx8R",
        "outputId": "7aa662ba-af4c-4014-c615-ceb81ac3a49b"
      },
      "source": [
        "tokenizer.decode([50274])"
      ],
      "execution_count": null,
      "outputs": [
        {
          "output_type": "execute_result",
          "data": {
            "application/vnd.google.colaboratory.intrinsic+json": {
              "type": "string"
            },
            "text/plain": [
              "'<RECIPE_END>'"
            ]
          },
          "metadata": {
            "tags": []
          },
          "execution_count": 18
        }
      ]
    },
    {
      "cell_type": "code",
      "metadata": {
        "id": "IMvXzbLcIIC-"
      },
      "source": [
        "#raw_text = 'tomato,egg'\n",
        "#prepared_input = ' <RECIPE_START> <INPUT_START> ' + raw_text.replace(',', ' <NEXT_INPUT> ').replace(';', ' <INPUT_END>')\n",
        "# tokenizer.encode(prepared_input)"
      ],
      "execution_count": null,
      "outputs": []
    },
    {
      "cell_type": "markdown",
      "metadata": {
        "id": "lnVQ59V4FdiF"
      },
      "source": [
        "# fine-tune with BART"
      ]
    },
    {
      "cell_type": "code",
      "metadata": {
        "id": "Kz7e2PoybaiE"
      },
      "source": [
        "# fine-tuning model with bart\n",
        "# logging info\n",
        "import logging\n",
        "logger = logging.getLogger(__name__)\n",
        "\n",
        "import glob\n",
        "import logging\n",
        "import random\n",
        "import gc\n",
        "import boto3\n",
        "import shutil"
      ],
      "execution_count": null,
      "outputs": []
    },
    {
      "cell_type": "code",
      "metadata": {
        "id": "D5MKxGg8bhj4"
      },
      "source": [
        "import torch\n",
        "from torch.utils.data import DataLoader, Dataset, SequentialSampler, RandomSampler\n",
        "from torch.utils.data.distributed import DistributedSampler\n",
        "from torch.utils.tensorboard import SummaryWriter\n",
        "from tqdm import tqdm, trange\n",
        "import logging\n",
        "import math\n",
        "import os\n",
        "from dataclasses import dataclass, field\n",
        "from typing import Optional\n",
        "from torch.utils.data import Dataset\n",
        "import h5py\n",
        "import torch\n",
        "\n",
        "from transformers import WEIGHTS_NAME, AdamW, get_linear_schedule_with_warmup\n",
        "from transformers import BartForCausalLM, BartTokenizer,BartConfig,BartForConditionalGeneration"
      ],
      "execution_count": null,
      "outputs": []
    },
    {
      "cell_type": "code",
      "metadata": {
        "id": "Dm4SBl8hbqj3"
      },
      "source": [
        "# data loading\n",
        "class TextDataset(Dataset):\n",
        "    def __init__(self, tokenizer, file_path='train', block_size=512):\n",
        "        cached_features_file = \"unsupervised.h5\"\n",
        "\n",
        "        logger.info(\"Loading features from cached file %s\", cached_features_file)\n",
        "        with h5py.File(cached_features_file, 'r') as f:\n",
        "            if file_path=='test':\n",
        "                self.examples = f[file_path][:] #this is a dev set, 10% of a test set\n",
        "            else:\n",
        "                self.examples = f[file_path][:]\n",
        "\n",
        "    def __len__(self):\n",
        "        return len(self.examples)\n",
        "\n",
        "    def __getitem__(self, item):\n",
        "        return torch.tensor(self.examples[item])\n",
        "\n",
        "def load_and_cache_examples(args, tokenizer, evaluate=False):\n",
        "    dataset = TextDataset(tokenizer, file_path=\"test\" if evaluate else \"train\", block_size=args.block_size)\n",
        "    print(dataset[0:5])\n",
        "    return dataset"
      ],
      "execution_count": null,
      "outputs": []
    },
    {
      "cell_type": "code",
      "metadata": {
        "id": "6grSGLbPb4Cm"
      },
      "source": [
        "parser = argparse.ArgumentParser()\n",
        "## Required parameters\n",
        "parser.add_argument(\"--train_data_file\", default=\"unsupervised.h5\", type=str, required=False,\n",
        "                        help=\"The input training data file (a text file).\")\n",
        "parser.add_argument(\"--output_dir\", default=\"./gdrive/MyDrive/COMP0087/model_checkpoint\", type=str, required=False,\n",
        "                        help=\"The output directory where the model predictions and checkpoints will be written.\")\n",
        "\n",
        "## Other parameters\n",
        "parser.add_argument(\"--model_type\", default=\"facebook/bart-base\" ,type=str,   #\"facebook/bart-base\"\n",
        "                        help=\"The model architecture to be fine-tuned.\")\n",
        "parser.add_argument(\"--model_name_or_path\", default=\"facebook/bart-base\", type=str,\n",
        "                        help=\"The model checkpoint for weights initialization.\")\n",
        "\n",
        "parser.add_argument(\"--eval_data_file\", default=None, type=str,\n",
        "                        help=\"An optional input evaluation data file to evaluate the perplexity on (a text file).\")\n",
        "\n",
        "parser.add_argument(\"--config_name\", default=\"\", type=str,\n",
        "                        help=\"Optional pretrained config name or path if not the same as model_name_or_path\")\n",
        "parser.add_argument(\"--tokenizer_name\", default=\"\", type=str,\n",
        "                        help=\"Optional pretrained tokenizer name or path if not the same as model_name_or_path\")\n",
        "parser.add_argument(\"--cache_dir\", default=\"\", type=str,\n",
        "                        help=\"Optional directory to store the pre-trained models downloaded from s3 (instread of the default one)\")\n",
        "parser.add_argument(\"--block_size\", default=-1, type=int,\n",
        "                        help=\"Optional input sequence length after tokenization.\"\n",
        "                             \"The training dataset will be truncated in block of this size for training.\"\n",
        "                             \"Default to the model max input length for single sentence inputs (take into account special tokens).\")\n",
        "parser.add_argument(\"--do_train\", action='store_true',\n",
        "                        help=\"Whether to run training.\")\n",
        "parser.add_argument(\"--do_eval\", action='store_true',\n",
        "                        help=\"Whether to run eval on the dev set.\")\n",
        "parser.add_argument(\"--evaluate_during_training\", action='store_true',\n",
        "                        help=\"Run evaluation during training at each logging step.\")\n",
        "parser.add_argument(\"--do_lower_case\", action='store_true',\n",
        "                        help=\"Set this flag if you are using an uncased model.\")\n",
        "\n",
        "parser.add_argument(\"--per_gpu_train_batch_size\", default=3, type=int,\n",
        "                        help=\"Batch size per GPU/CPU for training.\")\n",
        "parser.add_argument(\"--per_gpu_eval_batch_size\", default=4, type=int,\n",
        "                        help=\"Batch size per GPU/CPU for evaluation.\")\n",
        "parser.add_argument('--gradient_accumulation_steps', type=int, default=1,\n",
        "                        help=\"Number of updates steps to accumulate before performing a backward/update pass.\")\n",
        "parser.add_argument(\"--learning_rate\", default=5e-5, type=float,\n",
        "                        help=\"The initial learning rate for Adam.\")\n",
        "parser.add_argument(\"--weight_decay\", default=0.0, type=float,\n",
        "                        help=\"Weight deay if we apply some.\")\n",
        "parser.add_argument(\"--adam_epsilon\", default=1e-8, type=float,\n",
        "                        help=\"Epsilon for Adam optimizer.\")\n",
        "parser.add_argument(\"--max_grad_norm\", default=1.0, type=float,\n",
        "                        help=\"Max gradient norm.\")\n",
        "parser.add_argument(\"--num_train_epochs\", default=2, type=float,\n",
        "                        help=\"Total number of training epochs to perform.\")\n",
        "parser.add_argument(\"--max_steps\", default=-1, type=int,\n",
        "                        help=\"If > 0: set total number of training steps to perform. Override num_train_epochs.\")\n",
        "parser.add_argument(\"--warmup_steps\", default=0, type=int,\n",
        "                        help=\"Linear warmup over warmup_steps.\")\n",
        "\n",
        "parser.add_argument('--logging_steps', type=int, default=50,\n",
        "                        help=\"Log every X updates steps.\")\n",
        "parser.add_argument('--save_steps', type=int, default=50,\n",
        "                        help=\"Save checkpoint every X updates steps.\")\n",
        "parser.add_argument(\"--eval_all_checkpoints\", action='store_true',\n",
        "                        help=\"Evaluate all checkpoints starting with the same prefix as model_name_or_path ending and ending with step number\")\n",
        "parser.add_argument(\"--no_cuda\", action='store_true',\n",
        "                        help=\"Avoid using CUDA when available\")\n",
        "parser.add_argument('--overwrite_output_dir', action='store_true',\n",
        "                        help=\"Overwrite the content of the output directory\")\n",
        "parser.add_argument('--overwrite_cache', action='store_true',\n",
        "                        help=\"Overwrite the cached training and evaluation sets\")\n",
        "parser.add_argument(\"--aws_bucket\", default=\"\", type=str,\n",
        "                        help=\"Whether to upload to specified bucket.\")\n",
        "args, unknown = parser.parse_known_args()\n",
        "\n",
        "def setup_args_for_model(args):\n",
        "  args.model_type =\"facebook/bart-base\" # \"facebook/bart-base\"\n",
        "  args.model_type = \"\"\n",
        "  \n",
        "  "
      ],
      "execution_count": null,
      "outputs": []
    },
    {
      "cell_type": "code",
      "metadata": {
        "id": "x8yhJigCwuTM"
      },
      "source": [
        "import random\n",
        "\n",
        "def shuufle_instruction(this_batch):\n",
        "  ins_element_id = tokenizer.convert_tokens_to_ids([\"<NEXT_INSTR>\"])[0]\n",
        "  recipe_end_id = tokenizer.convert_tokens_to_ids([\"<RECIPE_END>\"])[0]\n",
        "  end_index = (this_batch == recipe_end_id).nonzero()[0]\n",
        "  # ins_element_id = tokenizer.convert_tokens_to_ids([\"<NEXT_INSTR>\"])[0]\n",
        "  ing_index = (this_batch == ins_element_id).nonzero()\n",
        "  ing_index = ing_index[ing_index<end_index]\n",
        "  if len(ing_index) > 2:\n",
        "    split_result = torch.tensor_split(this_batch, ing_index.squeeze())\n",
        "    split_list = list(split_result[1:-1])\n",
        "    random.shuffle(split_list)\n",
        "    shuffle_batch = torch.cat((split_result[0],torch.cat(split_list),split_result[-1]))\n",
        "    return shuffle_batch\n",
        "  else: \n",
        "    return this_batch"
      ],
      "execution_count": null,
      "outputs": []
    },
    {
      "cell_type": "code",
      "metadata": {
        "id": "UhM1mHTCgaqf"
      },
      "source": [
        "import torch\n",
        "import torch.nn as nn\n",
        "# from transformer import AlbertTokenizer, AlbertForMultipleChoice\n",
        "from transformers import BartModel, BartTokenizer, BartConfig, BartForCausalLM\n",
        "from torch.nn import CrossEntropyLoss, MSELoss\n",
        "\n",
        "\n",
        "class bartForBinaryClassifier(nn.Module):\n",
        "    def __init__(self, tokenizer, token_size=1024):\n",
        "        super(bartForBinaryClassifier, self).__init__()\n",
        "\n",
        "        # device = torch.device(\"cuda\" if torch.cuda.is_available() and not args.no_cuda else \"cpu\")\n",
        "        self.bart = BartForCausalLM.from_pretrained(\"facebook/bart-base\")\n",
        "        self.bart.resize_token_embeddings(len(tokenizer))\n",
        "        # self.lm_head = nn.Linear(self.bart.config.d_model, self.bart.config.vocab_size, bias=False)\n",
        "\n",
        "        # add an module for consistency checking\n",
        "        self.consist_head = nn.Linear(self.bart.config.d_model, 1, bias=False)\n",
        "        self.consist_logit = nn.Linear(token_size-1, 1)\n",
        "        self.consist_activation = nn.Sigmoid()\n",
        "        # add an module for checking the reasonability of ingredients unit\n",
        "        # self.units_logit = nn.Linear(token_size-1, 1)\n",
        "        # self.units_activation = nn.Sigmoid()\n",
        "        self.cuda()\n",
        "\n",
        "    def forward(self, batch, ins_start_id, ing_start_id = None, labels=None):\n",
        "        # print(batch.shape)\n",
        "        outputs = self.bart(batch,output_hidden_states=True)\n",
        "        last_hidden = outputs[\"hidden_states\"][-1]\n",
        "        # print(last_hidden.shape)\n",
        "        consist_head = self.consist_head(last_hidden)\n",
        "        consist_head = consist_head.squeeze(dim=2)\n",
        "        ins_subvector = torch.empty(0, consist_head.size(1)).to(args.device)\n",
        "        # ing_subvector = torch.empty(0, consist_head.size(1)).to(args.device)\n",
        "        # print(\"consist_head:\",consist_head.shape)\n",
        "        for i in range(len(consist_head)):\n",
        "            sample = consist_head[i]\n",
        "\n",
        "            # the start index of ingredients\n",
        "            # ing_index = (batch[i] == ing_start_id).nonzero()[0]\n",
        "            # the start index of instruction\n",
        "            \n",
        "            # move the non-zero elements of ingredients vector to left\n",
        "            # ing_z = torch.zeros(consist_head.size(1)).to(args.device)\n",
        "            # ing_z[0:(ins_index-ing_index)] = sample[ing_index:ins_index]\n",
        "            # ing_subvector = torch.cat((ing_subvector, ing_z.unsqueeze(0)))\n",
        "            ins_index = (batch[i] == ins_start_id).nonzero()[0]\n",
        "            sample[0:ins_index] = 0\n",
        "            nz = sample.nonzero().squeeze()\n",
        "            # move the non-zero elements of instructions vector to left\n",
        "            ins_z = torch.zeros(sample.numel() - nz.numel()).to(args.device)\n",
        "            ins_z = torch.cat((sample[nz], ins_z)).unsqueeze(0)\n",
        "            ins_subvector = torch.cat((ins_subvector, ins_z))\n",
        "            # print(ins_subvector.shape)\n",
        "\n",
        "        # print(ins_subvector.shape)\n",
        "        consist_output = self.consist_logit(ins_subvector.half().to(args.device))\n",
        "        consist_output = self.consist_activation(consist_output)\n",
        "        # print(consist_output.shape)\n",
        "\n",
        "        # units_output = self.units_logit(ing_subvector.half().to(args.device))\n",
        "        # units_output = self.units_activation(units_output)\n",
        "        # print(units_output.shape)\n",
        "\n",
        "        # the usual prediction output\n",
        "        logits = outputs[\"logits\"]\n",
        "        # output_token = logits.argmax(dim=2)\n",
        "\n",
        "\n",
        "\n",
        "        # output = self.out(output_token.float())\n",
        "\n",
        "        # we apply dropout to the sequence output, tensor has shape (batch_size, sequence_length, 768)\n",
        "        # sequence_output = self.dropout(sequence_output)\n",
        "\n",
        "        # next, we apply the linear layer. The linear layer (which applies a linear transformation)\n",
        "        # takes as input the hidden states of all tokens (so seq_len times a vector of size 768, each corresponding to\n",
        "        # a single token in the input sequence) and outputs 2 numbers (scores, or logits) for every token\n",
        "        # so the logits are of shape (batch_size, sequence_length, 2)\n",
        "        # logits = self.dropout(sequence_output)\n",
        "\n",
        "        return logits, consist_output"
      ],
      "execution_count": null,
      "outputs": []
    },
    {
      "cell_type": "code",
      "metadata": {
        "id": "Dg5IblFRBET8"
      },
      "source": [
        "def save_model(args,model,tokenizer,model_class,tokenizer_class):\n",
        "  # Create output directory if neede\n",
        "  if not os.path.exists(args.output_dir):\n",
        "    os.makedirs(args.output_dir)\n",
        "\n",
        "  logger.info(\"Saving model checkpoint to %s\", args.output_dir)\n",
        "  # Save a trained model, configuration and tokenizer using `save_pretrained()`.\n",
        "  # They can then be reloaded using `from_pretrained()`\n",
        "  model_to_save = model.module if hasattr(model, 'module') else model  # Take care of distributed/parallel training\n",
        "  model_to_save.save_pretrained(args.output_dir)\n",
        "  tokenizer.save_pretrained(args.output_dir)\n",
        "\n",
        "  # Good practice: save your training arguments together with the trained model\n",
        "  torch.save(args, os.path.join(args.output_dir, 'training_args.bin'))\n",
        "\n",
        "  # Load a trained model and vocabulary that you have fine-tuned\n",
        "  model = model_class.from_pretrained(args.output_dir)\n",
        "  tokenizer = tokenizer_class.from_pretrained(args.output_dir, do_lower_case=args.do_lower_case)\n",
        "  model.to(args.device)\n"
      ],
      "execution_count": null,
      "outputs": []
    },
    {
      "cell_type": "code",
      "metadata": {
        "id": "gcMyNMy_3gUO"
      },
      "source": [
        "from torch.nn import CrossEntropyLoss, MSELoss\n",
        "\n",
        "\n",
        "def train_seq(args, train_dataset, model, tokenizer):\n",
        "    \"\"\" Train the model \"\"\"\n",
        "\n",
        "    args.train_batch_size = args.per_gpu_train_batch_size * max(1, args.n_gpu)\n",
        "    train_sampler = RandomSampler(train_dataset)\n",
        "    train_dataloader = DataLoader(train_dataset, sampler=train_sampler, batch_size=args.train_batch_size)\n",
        "\n",
        "    if args.max_steps > 0:\n",
        "        t_total = args.max_steps\n",
        "        args.num_train_epochs = args.max_steps // (len(train_dataloader) // args.gradient_accumulation_steps) + 1\n",
        "    else:\n",
        "        t_total = len(train_dataloader) // args.gradient_accumulation_steps * args.num_train_epochs\n",
        "\n",
        "    # Prepare optimizer and schedule (linear warmup and decay)\n",
        "    no_decay = ['bias', 'LayerNorm.weight']\n",
        "    optimizer_grouped_parameters = [\n",
        "        {'params': [p for n, p in model.named_parameters() if not any(nd in n for nd in no_decay)],\n",
        "         'weight_decay': args.weight_decay},\n",
        "        {'params': [p for n, p in model.named_parameters() if any(nd in n for nd in no_decay)], 'weight_decay': 0.0}\n",
        "    ]\n",
        "    optimizer = AdamW(optimizer_grouped_parameters, lr=args.learning_rate, eps=args.adam_epsilon)\n",
        "    scheduler = get_linear_schedule_with_warmup(optimizer, num_warmup_steps=args.warmup_steps,\n",
        "                                                num_training_steps=t_total)\n",
        "\n",
        "    try:\n",
        "        from apex import amp\n",
        "    except ImportError:\n",
        "        raise ImportError(\"Please install apex from https://www.github.com/nvidia/apex to use fp16 training.\")\n",
        "\n",
        "    model, optimizer = amp.initialize(model, optimizer, opt_level=\"O2\")\n",
        "\n",
        "    # Train!\n",
        "    global_step = 0\n",
        "    epoch = 0\n",
        "    tr_loss, logging_loss = 0.0, 0.0\n",
        "    model.zero_grad()\n",
        "\n",
        "    train_iterator = trange(int(args.num_train_epochs), desc=\"Epoch\", disable=True)\n",
        "    for _ in train_iterator:\n",
        "        epoch_iterator = tqdm(train_dataloader, desc=\"Iteration\", disable=True)\n",
        "        \n",
        "\n",
        "        if epoch == 1:\n",
        "          # print(\"start discriminative part\")\n",
        "          # second step: fix the discriminative part \n",
        "          fix_layers = [mybart.consist_head, mybart.consist_logit, mybart.consist_activation]\n",
        "                # mybart.units_logit, mybart.units_activation]\n",
        "          for layer in fix_layers:\n",
        "            for parameter in layer.parameters():\n",
        "              parameter.requires_grad = False\n",
        "\n",
        "\n",
        "        epoch +=1\n",
        "        for step, batch in enumerate(epoch_iterator):\n",
        "\n",
        "            batch_drop = 0\n",
        "            ins_start_id = tokenizer.convert_tokens_to_ids([\"<INSTR_START>\"])[0]\n",
        "            ing_start_id = tokenizer.convert_tokens_to_ids([\"<INGR_START>\"])[0]\n",
        "\n",
        "            random_shuffle = torch.randint(2, (batch.size()[0], 1),device = args.device)\n",
        "            # print(random_shuffle)\n",
        "            for batch_no in range(len(batch)):\n",
        "              # print((batch[batch_no] == ins_start_id).nonzero())\n",
        "              if (batch[batch_no] == ins_start_id).nonzero().size()[0] == 0:\n",
        "                print(\"An error happens, break\")\n",
        "                batch_drop = 1\n",
        "                break\n",
        "\n",
        "              if random_shuffle[batch_no] == 1:\n",
        "                # print(batch[batch_no])\n",
        "                batch[batch_no] = shuufle_instruction(batch[batch_no])\n",
        "              \n",
        "            if batch_drop == 1:\n",
        "              print(\"An error in this batch, break\")\n",
        "              torch.cuda.empty_cache()\n",
        "              continue\n",
        "\n",
        "            # print(batch.shape)\n",
        "            inputs, labels = (batch[:, 0:-1], batch[:, 1:])\n",
        "            inputs = inputs.to(args.device)\n",
        "            labels = labels.to(args.device)\n",
        "            # label_seq = torch.zeros(batch.size()[0],1).to(args.device)\n",
        "\n",
        "            model.train()\n",
        "\n",
        "            loss_CE = CrossEntropyLoss()\n",
        "            loss_MSE = MSELoss()\n",
        "\n",
        "            # output,consist_output = mybart(batch[:,0:-1], ins_start_id)\n",
        "            \n",
        "            \n",
        "            logits, consist_output = model(inputs, ins_start_id, ing_start_id,)\n",
        "            # outputs = model(inputs, labels=labels)\n",
        "            # logits = outputs['logits']\n",
        "\n",
        "            # loss adjustment\n",
        "            bart_vocab_size = 50278\n",
        "            loss1 = loss_CE(logits.reshape(-1, bart_vocab_size), labels.reshape(-1))\n",
        "            loss2 = loss_MSE(consist_output, random_shuffle.float())\n",
        "            loss = loss1 + loss2\n",
        "            # print(\"loss comp: \", loss, outputs['loss'])\n",
        "            if global_step % 50 == 0:\n",
        "              logger.info(step)\n",
        "              print(\"step\", global_step)\n",
        "              print(\"loss:\",loss.item())\n",
        "\n",
        "            if global_step % 10000 == 0 and global_step !=0:\n",
        "              model_checkpoint = mybart.bart\n",
        "              model_class = BartForCausalLM\n",
        "              tokenizer_class = BartTokenizer\n",
        "              save_model(args,model_checkpoint,tokenizer,model_class,tokenizer_class)\n",
        "\n",
        "            if args.gradient_accumulation_steps > 1:\n",
        "                loss = loss / args.gradient_accumulation_steps\n",
        "\n",
        "            with amp.scale_loss(loss, optimizer) as scaled_loss:\n",
        "                # print(scaled_loss)\n",
        "                scaled_loss.backward()\n",
        "\n",
        "            tr_loss += loss.item()\n",
        "            if (step) % args.gradient_accumulation_steps == 0:\n",
        "                torch.nn.utils.clip_grad_norm_(amp.master_params(optimizer), args.max_grad_norm)\n",
        "                optimizer.step()\n",
        "                scheduler.step()  # Update learning rate schedule\n",
        "                model.zero_grad()\n",
        "                global_step += 1\n",
        "\n",
        "                # if args.logging_steps > 0 and global_step % args.logging_steps == 0:\n",
        "                    # Log metrics\n",
        "                    # tb_writer.add_scalar('lr', scheduler.get_lr()[0], global_step)\n",
        "                    # tb_writer.add_scalar('loss', (tr_loss - logging_loss) / args.logging_steps, global_step)\n",
        "                    # logging_loss = tr_loss\n",
        "\n",
        "            if args.max_steps > 0 and global_step > 2:\n",
        "                epoch_iterator.close()\n",
        "                break\n",
        "            del inputs, labels,logits,consist_output , loss1,loss2, loss\n",
        "            torch.cuda.empty_cache()\n",
        "            # break\n",
        "\n",
        "    return global_step, tr_loss / global_step, batch"
      ],
      "execution_count": null,
      "outputs": []
    },
    {
      "cell_type": "code",
      "metadata": {
        "id": "bRCAG6cGh-oc"
      },
      "source": [
        "def model_init(args,logger, model_class, tokenizer):\n",
        "  if args.eval_data_file is None and args.do_eval:\n",
        "    raise ValueError(\"Cannot do evaluation without an evaluation data file. Either supply a file to --eval_data_file \"\n",
        "                         \"or remove the --do_eval argument.\")\n",
        "  if os.path.exists(args.output_dir) and os.listdir(args.output_dir) and args.do_train and not args.overwrite_output_dir:\n",
        "    raise ValueError(\"Output directory ({}) already exists and is not empty. Use --overwrite_output_dir to overcome.\".format(args.output_dir))\n",
        "  device = torch.device(\"cuda\" if torch.cuda.is_available() and not args.no_cuda else \"cpu\")\n",
        "  args.n_gpu = torch.cuda.device_count()\n",
        "  args.device = device\n",
        "\n",
        "  # Setup logging\n",
        "  logging.basicConfig(format = '%(asctime)s - %(levelname)s - %(name)s -   %(message)s',\n",
        "                        datefmt = '%m/%d/%Y %H:%M:%S',\n",
        "                        level = logging.INFO)\n",
        "\n",
        "  model = bartForBinaryClassifier(tokenizer)\n",
        "\n",
        "  if args.block_size <= 0:\n",
        "    args.block_size = tokenizer.max_len_single_sentence  # Our input block size will be the max possible for the model\n",
        "  args.block_size = min(args.block_size, tokenizer.max_len_single_sentence)\n",
        "  model.to(args.device)\n",
        "\n",
        "  logger.info(\"Training/evaluation parameters %s\", args)\n",
        "  return model, logger"
      ],
      "execution_count": null,
      "outputs": []
    },
    {
      "cell_type": "code",
      "metadata": {
        "colab": {
          "base_uri": "https://localhost:8080/",
          "height": 1000,
          "referenced_widgets": [
            "1541eaf8666b499ebbfbc61560ae9567",
            "172f83ef7539431ebbfbc38a387eaf1b",
            "bf15b69c963c4be1a8f7afe6cd56a269",
            "1bf68edcbab34935a70a998ceb285182",
            "5fa47d16389548d78e8eedb7fe0be5b1",
            "d4a843ca2177469fa18d07eaf684213c",
            "58b1375c73f64d7c90c31f3e63b649c5",
            "ce9e97ba8a1b42588003f35026e15026",
            "caef7bdbc3ad461bbf68047afa211e52",
            "5f58e0647053431097189125139354c6",
            "c8cd1b3c3ec94bbebcfa9c3d7f97d644",
            "cd5374f803dd4d489ce935ab89e1dd53",
            "e62fd357ffb841739953decc13b53413",
            "5aa9605070b14163ae202803545f16f7",
            "78d9165f21d04117a458866e9af43749",
            "9fc3ea67d9c84eca8a9649c7767a92a1"
          ]
        },
        "id": "OOAth1Vp5ucw",
        "outputId": "a098c07c-ede2-48eb-f5cb-4edaa25948a9"
      },
      "source": [
        "torch.manual_seed(0)\n",
        "train_dataset = load_and_cache_examples(args, tokenizer, evaluate=False)\n",
        "mybart, logger = model_init(args,logger,BartForCausalLM,tokenizer)\n",
        "global_step, tr_loss, batch = train_seq(args, train_dataset, mybart, tokenizer)"
      ],
      "execution_count": null,
      "outputs": [
        {
          "output_type": "stream",
          "text": [
            "tensor([[    0, 50273, 50275,  ..., 50274, 50274, 50274],\n",
            "        [    0, 50273, 50275,  ..., 50274, 50274, 50274],\n",
            "        [    0, 50273, 50275,  ..., 50274, 50274, 50274],\n",
            "        [    0, 50273, 50275,  ..., 50274, 50274, 50274],\n",
            "        [    0, 50273, 50275,  ..., 50274, 50274, 50274]])\n"
          ],
          "name": "stdout"
        },
        {
          "output_type": "stream",
          "text": [
            "05/21/2021 09:42:05 - INFO - filelock -   Lock 140383132559824 acquired on /root/.cache/huggingface/transformers/f5310d276a6d1648d00c32fadc8bf7b4607e0fbd5b404fc4a0045960aa2bdfdb.3c4e938c08a46506ff9a4be12e0f858cd714b9a5c76090d571e7a4aa95cae853.lock\n"
          ],
          "name": "stderr"
        },
        {
          "output_type": "display_data",
          "data": {
            "application/vnd.jupyter.widget-view+json": {
              "model_id": "1541eaf8666b499ebbfbc61560ae9567",
              "version_minor": 0,
              "version_major": 2
            },
            "text/plain": [
              "HBox(children=(FloatProgress(value=0.0, description='Downloading', max=1553.0, style=ProgressStyle(description…"
            ]
          },
          "metadata": {
            "tags": []
          }
        },
        {
          "output_type": "stream",
          "text": [
            "05/21/2021 09:42:05 - INFO - filelock -   Lock 140383132559824 released on /root/.cache/huggingface/transformers/f5310d276a6d1648d00c32fadc8bf7b4607e0fbd5b404fc4a0045960aa2bdfdb.3c4e938c08a46506ff9a4be12e0f858cd714b9a5c76090d571e7a4aa95cae853.lock\n",
            "05/21/2021 09:42:05 - INFO - filelock -   Lock 140383131961168 acquired on /root/.cache/huggingface/transformers/486355ec722ef05fd480e999d4c763be56549ae930f6a3742ee721a5d2a05647.9faea28a6782a9589c09b1942c039943df02232d83d2ac288a69ddfa928eae22.lock\n"
          ],
          "name": "stderr"
        },
        {
          "output_type": "stream",
          "text": [
            "\n"
          ],
          "name": "stdout"
        },
        {
          "output_type": "display_data",
          "data": {
            "application/vnd.jupyter.widget-view+json": {
              "model_id": "caef7bdbc3ad461bbf68047afa211e52",
              "version_minor": 0,
              "version_major": 2
            },
            "text/plain": [
              "HBox(children=(FloatProgress(value=0.0, description='Downloading', max=557941479.0, style=ProgressStyle(descri…"
            ]
          },
          "metadata": {
            "tags": []
          }
        },
        {
          "output_type": "stream",
          "text": [
            "05/21/2021 09:42:20 - INFO - filelock -   Lock 140383131961168 released on /root/.cache/huggingface/transformers/486355ec722ef05fd480e999d4c763be56549ae930f6a3742ee721a5d2a05647.9faea28a6782a9589c09b1942c039943df02232d83d2ac288a69ddfa928eae22.lock\n"
          ],
          "name": "stderr"
        },
        {
          "output_type": "stream",
          "text": [
            "\n"
          ],
          "name": "stdout"
        },
        {
          "output_type": "stream",
          "text": [
            "Some weights of the model checkpoint at facebook/bart-base were not used when initializing BartForCausalLM: ['model.encoder.layers.2.self_attn.k_proj.bias', 'model.encoder.layers.4.fc1.weight', 'model.encoder.layers.0.self_attn.v_proj.bias', 'model.encoder.layers.4.self_attn.out_proj.weight', 'model.encoder.layers.1.self_attn.v_proj.bias', 'model.encoder.layers.5.self_attn.k_proj.bias', 'model.encoder.layers.1.self_attn.v_proj.weight', 'model.encoder.layers.1.self_attn.k_proj.weight', 'model.encoder.layers.5.self_attn.out_proj.bias', 'model.encoder.layers.2.self_attn_layer_norm.bias', 'model.encoder.layers.3.self_attn.q_proj.weight', 'model.encoder.layers.2.self_attn_layer_norm.weight', 'model.encoder.layers.0.self_attn.q_proj.weight', 'model.encoder.layers.2.final_layer_norm.weight', 'model.encoder.layers.0.self_attn_layer_norm.bias', 'model.encoder.layers.5.self_attn.q_proj.weight', 'model.encoder.layers.1.fc2.weight', 'model.encoder.layers.3.self_attn_layer_norm.weight', 'model.encoder.layers.3.fc1.bias', 'model.encoder.layers.2.self_attn.v_proj.weight', 'model.encoder.layers.1.self_attn_layer_norm.weight', 'model.encoder.layers.1.self_attn.q_proj.weight', 'model.encoder.layers.1.fc2.bias', 'model.encoder.layers.0.final_layer_norm.bias', 'model.encoder.layers.1.fc1.weight', 'model.encoder.layers.4.self_attn_layer_norm.bias', 'model.encoder.layers.4.final_layer_norm.weight', 'model.encoder.layers.3.self_attn.out_proj.weight', 'model.encoder.layers.2.self_attn.k_proj.weight', 'model.encoder.layers.0.self_attn.out_proj.weight', 'model.encoder.layers.5.self_attn.out_proj.weight', 'model.encoder.layers.3.self_attn.q_proj.bias', 'model.encoder.layers.3.self_attn.v_proj.weight', 'model.encoder.layers.5.final_layer_norm.weight', 'model.encoder.layers.0.fc2.weight', 'model.encoder.layers.3.fc2.bias', 'model.encoder.layers.5.fc1.weight', 'model.encoder.layers.5.fc1.bias', 'model.encoder.layers.5.self_attn_layer_norm.weight', 'model.encoder.layers.1.self_attn.out_proj.weight', 'model.encoder.layers.4.self_attn.v_proj.bias', 'model.encoder.layers.2.self_attn.out_proj.bias', 'model.encoder.layers.4.self_attn.q_proj.weight', 'model.encoder.layers.0.self_attn.v_proj.weight', 'model.encoder.layernorm_embedding.bias', 'model.encoder.layers.1.self_attn_layer_norm.bias', 'model.encoder.layers.4.final_layer_norm.bias', 'model.encoder.layers.0.self_attn.q_proj.bias', 'model.encoder.layers.5.self_attn.q_proj.bias', 'model.encoder.embed_positions.weight', 'model.encoder.layers.4.fc1.bias', 'model.encoder.layers.0.self_attn.out_proj.bias', 'model.encoder.layers.1.fc1.bias', 'model.encoder.layers.2.self_attn.v_proj.bias', 'model.encoder.layers.3.fc1.weight', 'model.encoder.embed_tokens.weight', 'model.encoder.layers.2.fc2.bias', 'model.encoder.layers.3.self_attn.out_proj.bias', 'model.encoder.layers.3.final_layer_norm.weight', 'model.encoder.layers.3.self_attn.v_proj.bias', 'model.encoder.layers.5.self_attn.v_proj.bias', 'model.encoder.layers.5.fc2.weight', 'model.encoder.layers.0.self_attn.k_proj.bias', 'model.encoder.layers.4.fc2.bias', 'final_logits_bias', 'model.encoder.layers.5.self_attn_layer_norm.bias', 'model.encoder.layers.0.fc1.weight', 'model.encoder.layers.4.self_attn.out_proj.bias', 'model.encoder.layers.0.self_attn_layer_norm.weight', 'model.encoder.layers.1.self_attn.q_proj.bias', 'model.encoder.layers.5.self_attn.k_proj.weight', 'model.encoder.layers.1.self_attn.out_proj.bias', 'model.encoder.layers.5.final_layer_norm.bias', 'model.encoder.layers.4.self_attn.q_proj.bias', 'model.encoder.layers.4.fc2.weight', 'model.encoder.layers.2.self_attn.q_proj.bias', 'model.encoder.layers.5.fc2.bias', 'model.encoder.layers.0.final_layer_norm.weight', 'model.encoder.layers.5.self_attn.v_proj.weight', 'model.shared.weight', 'model.encoder.layers.4.self_attn_layer_norm.weight', 'model.encoder.layers.4.self_attn.k_proj.weight', 'model.encoder.layers.1.final_layer_norm.bias', 'model.encoder.layers.1.self_attn.k_proj.bias', 'model.encoder.layers.1.final_layer_norm.weight', 'model.encoder.layers.0.fc2.bias', 'model.encoder.layers.0.self_attn.k_proj.weight', 'model.encoder.layers.2.self_attn.q_proj.weight', 'model.encoder.layers.3.self_attn.k_proj.weight', 'model.encoder.layers.3.fc2.weight', 'model.encoder.layers.0.fc1.bias', 'model.encoder.layers.3.final_layer_norm.bias', 'model.encoder.layers.4.self_attn.v_proj.weight', 'model.encoder.layers.2.final_layer_norm.bias', 'model.encoder.layers.2.fc2.weight', 'model.encoder.layers.2.fc1.weight', 'model.encoder.layernorm_embedding.weight', 'model.encoder.layers.3.self_attn_layer_norm.bias', 'model.encoder.layers.2.fc1.bias', 'model.encoder.layers.3.self_attn.k_proj.bias', 'model.encoder.layers.4.self_attn.k_proj.bias', 'model.encoder.layers.2.self_attn.out_proj.weight']\n",
            "- This IS expected if you are initializing BartForCausalLM from the checkpoint of a model trained on another task or with another architecture (e.g. initializing a BertForSequenceClassification model from a BertForPreTraining model).\n",
            "- This IS NOT expected if you are initializing BartForCausalLM from the checkpoint of a model that you expect to be exactly identical (initializing a BertForSequenceClassification model from a BertForSequenceClassification model).\n",
            "Some weights of BartForCausalLM were not initialized from the model checkpoint at facebook/bart-base and are newly initialized: ['lm_head.weight']\n",
            "You should probably TRAIN this model on a down-stream task to be able to use it for predictions and inference.\n",
            "05/21/2021 09:42:29 - INFO - __main__ -   Training/evaluation parameters Namespace(adam_epsilon=1e-08, aws_bucket='', block_size=1022, cache_dir='', config_name='', device=device(type='cuda'), do_eval=False, do_lower_case=False, do_train=False, eval_all_checkpoints=False, eval_data_file=None, evaluate_during_training=False, gradient_accumulation_steps=1, learning_rate=5e-05, logging_steps=50, max_grad_norm=1.0, max_steps=-1, model_name_or_path='facebook/bart-base', model_type='facebook/bart-base', n_gpu=1, no_cuda=False, num_train_epochs=2, output_dir='./gdrive/MyDrive/COMP0087/model_checkpoint', overwrite_cache=False, overwrite_output_dir=False, per_gpu_eval_batch_size=4, per_gpu_train_batch_size=3, save_steps=50, tokenizer_name='', train_data_file='unsupervised.h5', warmup_steps=0, weight_decay=0.0)\n"
          ],
          "name": "stderr"
        },
        {
          "output_type": "stream",
          "text": [
            "Selected optimization level O2:  FP16 training with FP32 batchnorm and FP32 master weights.\n",
            "\n",
            "Defaults for this optimization level are:\n",
            "enabled                : True\n",
            "opt_level              : O2\n",
            "cast_model_type        : torch.float16\n",
            "patch_torch_functions  : False\n",
            "keep_batchnorm_fp32    : True\n",
            "master_weights         : True\n",
            "loss_scale             : dynamic\n",
            "Processing user overrides (additional kwargs that are not None)...\n",
            "After processing overrides, optimization options are:\n",
            "enabled                : True\n",
            "opt_level              : O2\n",
            "cast_model_type        : torch.float16\n",
            "patch_torch_functions  : False\n",
            "keep_batchnorm_fp32    : True\n",
            "master_weights         : True\n",
            "loss_scale             : dynamic\n",
            "Warning:  multi_tensor_applier fused unscale kernel is unavailable, possibly because apex was installed without --cuda_ext --cpp_ext. Using Python fallback.  Original ImportError was: ModuleNotFoundError(\"No module named 'amp_C'\")\n"
          ],
          "name": "stdout"
        },
        {
          "output_type": "stream",
          "text": [
            "05/21/2021 09:42:29 - INFO - __main__ -   0\n"
          ],
          "name": "stderr"
        },
        {
          "output_type": "stream",
          "text": [
            "step 0\n",
            "loss: 15.934526443481445\n",
            "Gradient overflow.  Skipping step, loss scaler 0 reducing loss scale to 32768.0\n"
          ],
          "name": "stdout"
        },
        {
          "output_type": "stream",
          "text": [
            "/usr/local/lib/python3.7/dist-packages/torch/optim/lr_scheduler.py:125: UserWarning: Seems like `optimizer.step()` has been overridden after learning rate scheduler initialization. Please, make sure to call `optimizer.step()` before `lr_scheduler.step()`. See more details at https://pytorch.org/docs/stable/optim.html#how-to-adjust-learning-rate\n",
            "  \"https://pytorch.org/docs/stable/optim.html#how-to-adjust-learning-rate\", UserWarning)\n"
          ],
          "name": "stderr"
        },
        {
          "output_type": "stream",
          "text": [
            "Gradient overflow.  Skipping step, loss scaler 0 reducing loss scale to 16384.0\n"
          ],
          "name": "stdout"
        },
        {
          "output_type": "stream",
          "text": [
            "05/21/2021 09:42:48 - INFO - __main__ -   50\n"
          ],
          "name": "stderr"
        },
        {
          "output_type": "stream",
          "text": [
            "step 50\n",
            "loss: 4.6418561935424805\n",
            "An error happens, break\n",
            "An error in this batch, break\n"
          ],
          "name": "stdout"
        },
        {
          "output_type": "stream",
          "text": [
            "05/21/2021 09:43:06 - INFO - __main__ -   101\n"
          ],
          "name": "stderr"
        },
        {
          "output_type": "stream",
          "text": [
            "step 100\n",
            "loss: 4.3817572593688965\n"
          ],
          "name": "stdout"
        },
        {
          "output_type": "stream",
          "text": [
            "05/21/2021 09:43:24 - INFO - __main__ -   151\n"
          ],
          "name": "stderr"
        },
        {
          "output_type": "stream",
          "text": [
            "step 150\n",
            "loss: 3.628772258758545\n"
          ],
          "name": "stdout"
        },
        {
          "output_type": "stream",
          "text": [
            "05/21/2021 09:43:42 - INFO - __main__ -   201\n"
          ],
          "name": "stderr"
        },
        {
          "output_type": "stream",
          "text": [
            "step 200\n",
            "loss: 3.92409086227417\n"
          ],
          "name": "stdout"
        },
        {
          "output_type": "stream",
          "text": [
            "05/21/2021 09:44:01 - INFO - __main__ -   251\n"
          ],
          "name": "stderr"
        },
        {
          "output_type": "stream",
          "text": [
            "step 250\n",
            "loss: 3.893610715866089\n"
          ],
          "name": "stdout"
        },
        {
          "output_type": "stream",
          "text": [
            "05/21/2021 09:44:19 - INFO - __main__ -   301\n"
          ],
          "name": "stderr"
        },
        {
          "output_type": "stream",
          "text": [
            "step 300\n",
            "loss: 3.1335840225219727\n",
            "Gradient overflow.  Skipping step, loss scaler 0 reducing loss scale to 8192.0\n"
          ],
          "name": "stdout"
        },
        {
          "output_type": "stream",
          "text": [
            "05/21/2021 09:44:37 - INFO - __main__ -   351\n"
          ],
          "name": "stderr"
        },
        {
          "output_type": "stream",
          "text": [
            "step 350\n",
            "loss: 3.5930886268615723\n"
          ],
          "name": "stdout"
        },
        {
          "output_type": "stream",
          "text": [
            "05/21/2021 09:44:56 - INFO - __main__ -   401\n"
          ],
          "name": "stderr"
        },
        {
          "output_type": "stream",
          "text": [
            "step 400\n",
            "loss: 2.9491281509399414\n"
          ],
          "name": "stdout"
        },
        {
          "output_type": "stream",
          "text": [
            "05/21/2021 09:45:14 - INFO - __main__ -   451\n"
          ],
          "name": "stderr"
        },
        {
          "output_type": "stream",
          "text": [
            "step 450\n",
            "loss: 2.857611894607544\n"
          ],
          "name": "stdout"
        },
        {
          "output_type": "stream",
          "text": [
            "05/21/2021 09:45:32 - INFO - __main__ -   501\n"
          ],
          "name": "stderr"
        },
        {
          "output_type": "stream",
          "text": [
            "step 500\n",
            "loss: 2.701935052871704\n"
          ],
          "name": "stdout"
        },
        {
          "output_type": "stream",
          "text": [
            "05/21/2021 09:45:50 - INFO - __main__ -   551\n"
          ],
          "name": "stderr"
        },
        {
          "output_type": "stream",
          "text": [
            "step 550\n",
            "loss: 2.8236770629882812\n"
          ],
          "name": "stdout"
        },
        {
          "output_type": "stream",
          "text": [
            "05/21/2021 09:46:09 - INFO - __main__ -   601\n"
          ],
          "name": "stderr"
        },
        {
          "output_type": "stream",
          "text": [
            "step 600\n",
            "loss: 3.0580713748931885\n"
          ],
          "name": "stdout"
        },
        {
          "output_type": "stream",
          "text": [
            "05/21/2021 09:46:27 - INFO - __main__ -   651\n"
          ],
          "name": "stderr"
        },
        {
          "output_type": "stream",
          "text": [
            "step 650\n",
            "loss: 2.4830238819122314\n"
          ],
          "name": "stdout"
        },
        {
          "output_type": "stream",
          "text": [
            "05/21/2021 09:46:45 - INFO - __main__ -   701\n"
          ],
          "name": "stderr"
        },
        {
          "output_type": "stream",
          "text": [
            "step 700\n",
            "loss: 2.928363084793091\n"
          ],
          "name": "stdout"
        },
        {
          "output_type": "stream",
          "text": [
            "05/21/2021 09:47:04 - INFO - __main__ -   751\n"
          ],
          "name": "stderr"
        },
        {
          "output_type": "stream",
          "text": [
            "step 750\n",
            "loss: 2.7416343688964844\n"
          ],
          "name": "stdout"
        },
        {
          "output_type": "stream",
          "text": [
            "05/21/2021 09:47:22 - INFO - __main__ -   801\n"
          ],
          "name": "stderr"
        },
        {
          "output_type": "stream",
          "text": [
            "step 800\n",
            "loss: 2.923387289047241\n"
          ],
          "name": "stdout"
        },
        {
          "output_type": "stream",
          "text": [
            "05/21/2021 09:47:40 - INFO - __main__ -   851\n"
          ],
          "name": "stderr"
        },
        {
          "output_type": "stream",
          "text": [
            "step 850\n",
            "loss: 2.661961555480957\n"
          ],
          "name": "stdout"
        },
        {
          "output_type": "stream",
          "text": [
            "05/21/2021 09:47:59 - INFO - __main__ -   901\n"
          ],
          "name": "stderr"
        },
        {
          "output_type": "stream",
          "text": [
            "step 900\n",
            "loss: 2.690403461456299\n"
          ],
          "name": "stdout"
        },
        {
          "output_type": "stream",
          "text": [
            "05/21/2021 09:48:17 - INFO - __main__ -   951\n"
          ],
          "name": "stderr"
        },
        {
          "output_type": "stream",
          "text": [
            "step 950\n",
            "loss: 2.619527816772461\n"
          ],
          "name": "stdout"
        },
        {
          "output_type": "stream",
          "text": [
            "05/21/2021 09:48:35 - INFO - __main__ -   1001\n"
          ],
          "name": "stderr"
        },
        {
          "output_type": "stream",
          "text": [
            "step 1000\n",
            "loss: 2.5127992630004883\n"
          ],
          "name": "stdout"
        },
        {
          "output_type": "stream",
          "text": [
            "05/21/2021 09:48:54 - INFO - __main__ -   1051\n"
          ],
          "name": "stderr"
        },
        {
          "output_type": "stream",
          "text": [
            "step 1050\n",
            "loss: 2.931116819381714\n"
          ],
          "name": "stdout"
        },
        {
          "output_type": "stream",
          "text": [
            "05/21/2021 09:49:12 - INFO - __main__ -   1101\n"
          ],
          "name": "stderr"
        },
        {
          "output_type": "stream",
          "text": [
            "step 1100\n",
            "loss: 2.3654165267944336\n"
          ],
          "name": "stdout"
        },
        {
          "output_type": "stream",
          "text": [
            "05/21/2021 09:49:30 - INFO - __main__ -   1151\n"
          ],
          "name": "stderr"
        },
        {
          "output_type": "stream",
          "text": [
            "step 1150\n",
            "loss: 2.9810478687286377\n"
          ],
          "name": "stdout"
        },
        {
          "output_type": "stream",
          "text": [
            "05/21/2021 09:49:48 - INFO - __main__ -   1201\n"
          ],
          "name": "stderr"
        },
        {
          "output_type": "stream",
          "text": [
            "step 1200\n",
            "loss: 2.442375421524048\n"
          ],
          "name": "stdout"
        },
        {
          "output_type": "stream",
          "text": [
            "05/21/2021 09:50:07 - INFO - __main__ -   1251\n"
          ],
          "name": "stderr"
        },
        {
          "output_type": "stream",
          "text": [
            "step 1250\n",
            "loss: 2.493849039077759\n"
          ],
          "name": "stdout"
        },
        {
          "output_type": "stream",
          "text": [
            "05/21/2021 09:50:25 - INFO - __main__ -   1301\n"
          ],
          "name": "stderr"
        },
        {
          "output_type": "stream",
          "text": [
            "step 1300\n",
            "loss: 2.2936625480651855\n"
          ],
          "name": "stdout"
        },
        {
          "output_type": "stream",
          "text": [
            "05/21/2021 09:50:43 - INFO - __main__ -   1351\n"
          ],
          "name": "stderr"
        },
        {
          "output_type": "stream",
          "text": [
            "step 1350\n",
            "loss: 2.6054742336273193\n"
          ],
          "name": "stdout"
        },
        {
          "output_type": "stream",
          "text": [
            "05/21/2021 09:51:02 - INFO - __main__ -   1401\n"
          ],
          "name": "stderr"
        },
        {
          "output_type": "stream",
          "text": [
            "step 1400\n",
            "loss: 2.6968088150024414\n"
          ],
          "name": "stdout"
        },
        {
          "output_type": "stream",
          "text": [
            "05/21/2021 09:51:20 - INFO - __main__ -   1451\n"
          ],
          "name": "stderr"
        },
        {
          "output_type": "stream",
          "text": [
            "step 1450\n",
            "loss: 2.5332605838775635\n"
          ],
          "name": "stdout"
        },
        {
          "output_type": "stream",
          "text": [
            "05/21/2021 09:51:38 - INFO - __main__ -   1501\n"
          ],
          "name": "stderr"
        },
        {
          "output_type": "stream",
          "text": [
            "step 1500\n",
            "loss: 2.2357277870178223\n"
          ],
          "name": "stdout"
        },
        {
          "output_type": "stream",
          "text": [
            "05/21/2021 09:51:57 - INFO - __main__ -   1551\n"
          ],
          "name": "stderr"
        },
        {
          "output_type": "stream",
          "text": [
            "step 1550\n",
            "loss: 2.405158042907715\n"
          ],
          "name": "stdout"
        },
        {
          "output_type": "stream",
          "text": [
            "05/21/2021 09:52:15 - INFO - __main__ -   1601\n"
          ],
          "name": "stderr"
        },
        {
          "output_type": "stream",
          "text": [
            "step 1600\n",
            "loss: 2.9365949630737305\n"
          ],
          "name": "stdout"
        },
        {
          "output_type": "stream",
          "text": [
            "05/21/2021 09:52:33 - INFO - __main__ -   1651\n"
          ],
          "name": "stderr"
        },
        {
          "output_type": "stream",
          "text": [
            "step 1650\n",
            "loss: 2.3442234992980957\n"
          ],
          "name": "stdout"
        },
        {
          "output_type": "stream",
          "text": [
            "05/21/2021 09:52:51 - INFO - __main__ -   1701\n"
          ],
          "name": "stderr"
        },
        {
          "output_type": "stream",
          "text": [
            "step 1700\n",
            "loss: 2.391692876815796\n"
          ],
          "name": "stdout"
        },
        {
          "output_type": "stream",
          "text": [
            "05/21/2021 09:53:10 - INFO - __main__ -   1751\n"
          ],
          "name": "stderr"
        },
        {
          "output_type": "stream",
          "text": [
            "step 1750\n",
            "loss: 2.5237953662872314\n"
          ],
          "name": "stdout"
        },
        {
          "output_type": "stream",
          "text": [
            "05/21/2021 09:53:28 - INFO - __main__ -   1801\n"
          ],
          "name": "stderr"
        },
        {
          "output_type": "stream",
          "text": [
            "step 1800\n",
            "loss: 2.2791240215301514\n"
          ],
          "name": "stdout"
        },
        {
          "output_type": "stream",
          "text": [
            "05/21/2021 09:53:46 - INFO - __main__ -   1851\n"
          ],
          "name": "stderr"
        },
        {
          "output_type": "stream",
          "text": [
            "step 1850\n",
            "loss: 2.525275230407715\n"
          ],
          "name": "stdout"
        },
        {
          "output_type": "stream",
          "text": [
            "05/21/2021 09:54:05 - INFO - __main__ -   1901\n"
          ],
          "name": "stderr"
        },
        {
          "output_type": "stream",
          "text": [
            "step 1900\n",
            "loss: 2.1988348960876465\n"
          ],
          "name": "stdout"
        },
        {
          "output_type": "stream",
          "text": [
            "05/21/2021 09:54:23 - INFO - __main__ -   1951\n"
          ],
          "name": "stderr"
        },
        {
          "output_type": "stream",
          "text": [
            "step 1950\n",
            "loss: 2.440735101699829\n"
          ],
          "name": "stdout"
        },
        {
          "output_type": "stream",
          "text": [
            "05/21/2021 09:54:42 - INFO - __main__ -   2001\n"
          ],
          "name": "stderr"
        },
        {
          "output_type": "stream",
          "text": [
            "step 2000\n",
            "loss: 2.12638258934021\n"
          ],
          "name": "stdout"
        },
        {
          "output_type": "stream",
          "text": [
            "05/21/2021 09:55:00 - INFO - __main__ -   2051\n"
          ],
          "name": "stderr"
        },
        {
          "output_type": "stream",
          "text": [
            "step 2050\n",
            "loss: 2.0158896446228027\n"
          ],
          "name": "stdout"
        },
        {
          "output_type": "stream",
          "text": [
            "05/21/2021 09:55:18 - INFO - __main__ -   2101\n"
          ],
          "name": "stderr"
        },
        {
          "output_type": "stream",
          "text": [
            "step 2100\n",
            "loss: 2.6029369831085205\n"
          ],
          "name": "stdout"
        },
        {
          "output_type": "stream",
          "text": [
            "05/21/2021 09:55:36 - INFO - __main__ -   2151\n"
          ],
          "name": "stderr"
        },
        {
          "output_type": "stream",
          "text": [
            "step 2150\n",
            "loss: 2.3004801273345947\n"
          ],
          "name": "stdout"
        },
        {
          "output_type": "stream",
          "text": [
            "05/21/2021 09:55:55 - INFO - __main__ -   2201\n"
          ],
          "name": "stderr"
        },
        {
          "output_type": "stream",
          "text": [
            "step 2200\n",
            "loss: 2.23905086517334\n"
          ],
          "name": "stdout"
        },
        {
          "output_type": "stream",
          "text": [
            "05/21/2021 09:56:13 - INFO - __main__ -   2251\n"
          ],
          "name": "stderr"
        },
        {
          "output_type": "stream",
          "text": [
            "step 2250\n",
            "loss: 2.6561758518218994\n"
          ],
          "name": "stdout"
        },
        {
          "output_type": "stream",
          "text": [
            "05/21/2021 09:56:31 - INFO - __main__ -   2301\n"
          ],
          "name": "stderr"
        },
        {
          "output_type": "stream",
          "text": [
            "step 2300\n",
            "loss: 2.0899200439453125\n"
          ],
          "name": "stdout"
        },
        {
          "output_type": "stream",
          "text": [
            "05/21/2021 09:56:49 - INFO - __main__ -   2351\n"
          ],
          "name": "stderr"
        },
        {
          "output_type": "stream",
          "text": [
            "step 2350\n",
            "loss: 2.590339183807373\n"
          ],
          "name": "stdout"
        },
        {
          "output_type": "stream",
          "text": [
            "05/21/2021 09:57:08 - INFO - __main__ -   2401\n"
          ],
          "name": "stderr"
        },
        {
          "output_type": "stream",
          "text": [
            "step 2400\n",
            "loss: 2.440153121948242\n"
          ],
          "name": "stdout"
        },
        {
          "output_type": "stream",
          "text": [
            "05/21/2021 09:57:26 - INFO - __main__ -   2451\n"
          ],
          "name": "stderr"
        },
        {
          "output_type": "stream",
          "text": [
            "step 2450\n",
            "loss: 2.654569625854492\n"
          ],
          "name": "stdout"
        },
        {
          "output_type": "stream",
          "text": [
            "05/21/2021 09:57:44 - INFO - __main__ -   2501\n"
          ],
          "name": "stderr"
        },
        {
          "output_type": "stream",
          "text": [
            "step 2500\n",
            "loss: 2.2312734127044678\n"
          ],
          "name": "stdout"
        },
        {
          "output_type": "stream",
          "text": [
            "05/21/2021 09:58:03 - INFO - __main__ -   2551\n"
          ],
          "name": "stderr"
        },
        {
          "output_type": "stream",
          "text": [
            "step 2550\n",
            "loss: 1.9381096363067627\n"
          ],
          "name": "stdout"
        },
        {
          "output_type": "stream",
          "text": [
            "05/21/2021 09:58:21 - INFO - __main__ -   2601\n"
          ],
          "name": "stderr"
        },
        {
          "output_type": "stream",
          "text": [
            "step 2600\n",
            "loss: 2.414597511291504\n"
          ],
          "name": "stdout"
        },
        {
          "output_type": "stream",
          "text": [
            "05/21/2021 09:58:39 - INFO - __main__ -   2651\n"
          ],
          "name": "stderr"
        },
        {
          "output_type": "stream",
          "text": [
            "step 2650\n",
            "loss: 2.177912950515747\n"
          ],
          "name": "stdout"
        },
        {
          "output_type": "stream",
          "text": [
            "05/21/2021 09:58:57 - INFO - __main__ -   2701\n"
          ],
          "name": "stderr"
        },
        {
          "output_type": "stream",
          "text": [
            "step 2700\n",
            "loss: 2.4939537048339844\n"
          ],
          "name": "stdout"
        },
        {
          "output_type": "stream",
          "text": [
            "05/21/2021 09:59:16 - INFO - __main__ -   2751\n"
          ],
          "name": "stderr"
        },
        {
          "output_type": "stream",
          "text": [
            "step 2750\n",
            "loss: 2.157064914703369\n"
          ],
          "name": "stdout"
        },
        {
          "output_type": "stream",
          "text": [
            "05/21/2021 09:59:34 - INFO - __main__ -   2801\n"
          ],
          "name": "stderr"
        },
        {
          "output_type": "stream",
          "text": [
            "step 2800\n",
            "loss: 2.358553171157837\n"
          ],
          "name": "stdout"
        },
        {
          "output_type": "stream",
          "text": [
            "05/21/2021 09:59:52 - INFO - __main__ -   2851\n"
          ],
          "name": "stderr"
        },
        {
          "output_type": "stream",
          "text": [
            "step 2850\n",
            "loss: 2.4718475341796875\n"
          ],
          "name": "stdout"
        },
        {
          "output_type": "stream",
          "text": [
            "05/21/2021 10:00:10 - INFO - __main__ -   2901\n"
          ],
          "name": "stderr"
        },
        {
          "output_type": "stream",
          "text": [
            "step 2900\n",
            "loss: 2.336332321166992\n"
          ],
          "name": "stdout"
        },
        {
          "output_type": "stream",
          "text": [
            "05/21/2021 10:00:29 - INFO - __main__ -   2951\n"
          ],
          "name": "stderr"
        },
        {
          "output_type": "stream",
          "text": [
            "step 2950\n",
            "loss: 1.85099196434021\n"
          ],
          "name": "stdout"
        },
        {
          "output_type": "stream",
          "text": [
            "05/21/2021 10:00:47 - INFO - __main__ -   3001\n"
          ],
          "name": "stderr"
        },
        {
          "output_type": "stream",
          "text": [
            "step 3000\n",
            "loss: 2.0572361946105957\n"
          ],
          "name": "stdout"
        },
        {
          "output_type": "stream",
          "text": [
            "05/21/2021 10:01:05 - INFO - __main__ -   3051\n"
          ],
          "name": "stderr"
        },
        {
          "output_type": "stream",
          "text": [
            "step 3050\n",
            "loss: 2.3420352935791016\n"
          ],
          "name": "stdout"
        },
        {
          "output_type": "stream",
          "text": [
            "05/21/2021 10:01:24 - INFO - __main__ -   3101\n"
          ],
          "name": "stderr"
        },
        {
          "output_type": "stream",
          "text": [
            "step 3100\n",
            "loss: 2.624669313430786\n"
          ],
          "name": "stdout"
        },
        {
          "output_type": "stream",
          "text": [
            "05/21/2021 10:01:42 - INFO - __main__ -   3151\n"
          ],
          "name": "stderr"
        },
        {
          "output_type": "stream",
          "text": [
            "step 3150\n",
            "loss: 2.408749580383301\n"
          ],
          "name": "stdout"
        },
        {
          "output_type": "stream",
          "text": [
            "05/21/2021 10:02:00 - INFO - __main__ -   3201\n"
          ],
          "name": "stderr"
        },
        {
          "output_type": "stream",
          "text": [
            "step 3200\n",
            "loss: 2.2143311500549316\n"
          ],
          "name": "stdout"
        },
        {
          "output_type": "stream",
          "text": [
            "05/21/2021 10:02:19 - INFO - __main__ -   3251\n"
          ],
          "name": "stderr"
        },
        {
          "output_type": "stream",
          "text": [
            "step 3250\n",
            "loss: 2.1680054664611816\n"
          ],
          "name": "stdout"
        },
        {
          "output_type": "stream",
          "text": [
            "05/21/2021 10:02:37 - INFO - __main__ -   3301\n"
          ],
          "name": "stderr"
        },
        {
          "output_type": "stream",
          "text": [
            "step 3300\n",
            "loss: 2.2072672843933105\n"
          ],
          "name": "stdout"
        },
        {
          "output_type": "stream",
          "text": [
            "05/21/2021 10:02:56 - INFO - __main__ -   3351\n"
          ],
          "name": "stderr"
        },
        {
          "output_type": "stream",
          "text": [
            "step 3350\n",
            "loss: 1.6444393396377563\n"
          ],
          "name": "stdout"
        },
        {
          "output_type": "stream",
          "text": [
            "05/21/2021 10:03:14 - INFO - __main__ -   3401\n"
          ],
          "name": "stderr"
        },
        {
          "output_type": "stream",
          "text": [
            "step 3400\n",
            "loss: 2.4301130771636963\n"
          ],
          "name": "stdout"
        },
        {
          "output_type": "stream",
          "text": [
            "05/21/2021 10:03:32 - INFO - __main__ -   3451\n"
          ],
          "name": "stderr"
        },
        {
          "output_type": "stream",
          "text": [
            "step 3450\n",
            "loss: 1.6359689235687256\n"
          ],
          "name": "stdout"
        },
        {
          "output_type": "stream",
          "text": [
            "05/21/2021 10:03:51 - INFO - __main__ -   3501\n"
          ],
          "name": "stderr"
        },
        {
          "output_type": "stream",
          "text": [
            "step 3500\n",
            "loss: 2.349088668823242\n"
          ],
          "name": "stdout"
        },
        {
          "output_type": "stream",
          "text": [
            "05/21/2021 10:04:09 - INFO - __main__ -   3551\n"
          ],
          "name": "stderr"
        },
        {
          "output_type": "stream",
          "text": [
            "step 3550\n",
            "loss: 2.3207077980041504\n"
          ],
          "name": "stdout"
        },
        {
          "output_type": "stream",
          "text": [
            "05/21/2021 10:04:27 - INFO - __main__ -   3601\n"
          ],
          "name": "stderr"
        },
        {
          "output_type": "stream",
          "text": [
            "step 3600\n",
            "loss: 2.5126287937164307\n"
          ],
          "name": "stdout"
        },
        {
          "output_type": "stream",
          "text": [
            "05/21/2021 10:04:46 - INFO - __main__ -   3651\n"
          ],
          "name": "stderr"
        },
        {
          "output_type": "stream",
          "text": [
            "step 3650\n",
            "loss: 1.7413556575775146\n"
          ],
          "name": "stdout"
        },
        {
          "output_type": "stream",
          "text": [
            "05/21/2021 10:05:04 - INFO - __main__ -   3701\n"
          ],
          "name": "stderr"
        },
        {
          "output_type": "stream",
          "text": [
            "step 3700\n",
            "loss: 1.6558105945587158\n"
          ],
          "name": "stdout"
        },
        {
          "output_type": "stream",
          "text": [
            "05/21/2021 10:05:22 - INFO - __main__ -   3751\n"
          ],
          "name": "stderr"
        },
        {
          "output_type": "stream",
          "text": [
            "step 3750\n",
            "loss: 1.9863494634628296\n"
          ],
          "name": "stdout"
        },
        {
          "output_type": "stream",
          "text": [
            "05/21/2021 10:05:41 - INFO - __main__ -   3801\n"
          ],
          "name": "stderr"
        },
        {
          "output_type": "stream",
          "text": [
            "step 3800\n",
            "loss: 2.639479160308838\n"
          ],
          "name": "stdout"
        },
        {
          "output_type": "stream",
          "text": [
            "05/21/2021 10:05:59 - INFO - __main__ -   3851\n"
          ],
          "name": "stderr"
        },
        {
          "output_type": "stream",
          "text": [
            "step 3850\n",
            "loss: 1.9834153652191162\n"
          ],
          "name": "stdout"
        },
        {
          "output_type": "stream",
          "text": [
            "05/21/2021 10:06:17 - INFO - __main__ -   3901\n"
          ],
          "name": "stderr"
        },
        {
          "output_type": "stream",
          "text": [
            "step 3900\n",
            "loss: 2.2164580821990967\n"
          ],
          "name": "stdout"
        },
        {
          "output_type": "stream",
          "text": [
            "05/21/2021 10:06:36 - INFO - __main__ -   3951\n"
          ],
          "name": "stderr"
        },
        {
          "output_type": "stream",
          "text": [
            "step 3950\n",
            "loss: 1.6816821098327637\n"
          ],
          "name": "stdout"
        },
        {
          "output_type": "stream",
          "text": [
            "05/21/2021 10:06:54 - INFO - __main__ -   4001\n"
          ],
          "name": "stderr"
        },
        {
          "output_type": "stream",
          "text": [
            "step 4000\n",
            "loss: 1.767207145690918\n"
          ],
          "name": "stdout"
        },
        {
          "output_type": "stream",
          "text": [
            "05/21/2021 10:07:13 - INFO - __main__ -   4051\n"
          ],
          "name": "stderr"
        },
        {
          "output_type": "stream",
          "text": [
            "step 4050\n",
            "loss: 1.9462890625\n"
          ],
          "name": "stdout"
        },
        {
          "output_type": "stream",
          "text": [
            "05/21/2021 10:07:31 - INFO - __main__ -   4101\n"
          ],
          "name": "stderr"
        },
        {
          "output_type": "stream",
          "text": [
            "step 4100\n",
            "loss: 2.324911594390869\n"
          ],
          "name": "stdout"
        },
        {
          "output_type": "stream",
          "text": [
            "05/21/2021 10:07:49 - INFO - __main__ -   4151\n"
          ],
          "name": "stderr"
        },
        {
          "output_type": "stream",
          "text": [
            "step 4150\n",
            "loss: 2.275848388671875\n"
          ],
          "name": "stdout"
        },
        {
          "output_type": "stream",
          "text": [
            "05/21/2021 10:08:08 - INFO - __main__ -   4201\n"
          ],
          "name": "stderr"
        },
        {
          "output_type": "stream",
          "text": [
            "step 4200\n",
            "loss: 2.505021810531616\n"
          ],
          "name": "stdout"
        },
        {
          "output_type": "stream",
          "text": [
            "05/21/2021 10:08:26 - INFO - __main__ -   4251\n"
          ],
          "name": "stderr"
        },
        {
          "output_type": "stream",
          "text": [
            "step 4250\n",
            "loss: 2.2479372024536133\n"
          ],
          "name": "stdout"
        },
        {
          "output_type": "stream",
          "text": [
            "05/21/2021 10:08:44 - INFO - __main__ -   4301\n"
          ],
          "name": "stderr"
        },
        {
          "output_type": "stream",
          "text": [
            "step 4300\n",
            "loss: 1.9422757625579834\n"
          ],
          "name": "stdout"
        },
        {
          "output_type": "stream",
          "text": [
            "05/21/2021 10:09:03 - INFO - __main__ -   4351\n"
          ],
          "name": "stderr"
        },
        {
          "output_type": "stream",
          "text": [
            "step 4350\n",
            "loss: 1.8950614929199219\n"
          ],
          "name": "stdout"
        },
        {
          "output_type": "stream",
          "text": [
            "05/21/2021 10:09:21 - INFO - __main__ -   4401\n"
          ],
          "name": "stderr"
        },
        {
          "output_type": "stream",
          "text": [
            "step 4400\n",
            "loss: 1.933454990386963\n"
          ],
          "name": "stdout"
        },
        {
          "output_type": "stream",
          "text": [
            "05/21/2021 10:09:40 - INFO - __main__ -   4451\n"
          ],
          "name": "stderr"
        },
        {
          "output_type": "stream",
          "text": [
            "step 4450\n",
            "loss: 2.213390350341797\n"
          ],
          "name": "stdout"
        },
        {
          "output_type": "stream",
          "text": [
            "05/21/2021 10:09:58 - INFO - __main__ -   4501\n"
          ],
          "name": "stderr"
        },
        {
          "output_type": "stream",
          "text": [
            "step 4500\n",
            "loss: 2.0264039039611816\n"
          ],
          "name": "stdout"
        },
        {
          "output_type": "stream",
          "text": [
            "05/21/2021 10:10:16 - INFO - __main__ -   4551\n"
          ],
          "name": "stderr"
        },
        {
          "output_type": "stream",
          "text": [
            "step 4550\n",
            "loss: 2.030980348587036\n"
          ],
          "name": "stdout"
        },
        {
          "output_type": "stream",
          "text": [
            "05/21/2021 10:10:35 - INFO - __main__ -   4601\n"
          ],
          "name": "stderr"
        },
        {
          "output_type": "stream",
          "text": [
            "step 4600\n",
            "loss: 2.601616144180298\n"
          ],
          "name": "stdout"
        },
        {
          "output_type": "stream",
          "text": [
            "05/21/2021 10:10:53 - INFO - __main__ -   4651\n"
          ],
          "name": "stderr"
        },
        {
          "output_type": "stream",
          "text": [
            "step 4650\n",
            "loss: 2.199382781982422\n"
          ],
          "name": "stdout"
        },
        {
          "output_type": "stream",
          "text": [
            "05/21/2021 10:11:12 - INFO - __main__ -   4701\n"
          ],
          "name": "stderr"
        },
        {
          "output_type": "stream",
          "text": [
            "step 4700\n",
            "loss: 1.7236754894256592\n"
          ],
          "name": "stdout"
        },
        {
          "output_type": "stream",
          "text": [
            "05/21/2021 10:11:30 - INFO - __main__ -   4751\n"
          ],
          "name": "stderr"
        },
        {
          "output_type": "stream",
          "text": [
            "step 4750\n",
            "loss: 2.2238221168518066\n"
          ],
          "name": "stdout"
        },
        {
          "output_type": "stream",
          "text": [
            "05/21/2021 10:11:48 - INFO - __main__ -   4801\n"
          ],
          "name": "stderr"
        },
        {
          "output_type": "stream",
          "text": [
            "step 4800\n",
            "loss: 2.2669825553894043\n"
          ],
          "name": "stdout"
        },
        {
          "output_type": "stream",
          "text": [
            "05/21/2021 10:12:07 - INFO - __main__ -   4851\n"
          ],
          "name": "stderr"
        },
        {
          "output_type": "stream",
          "text": [
            "step 4850\n",
            "loss: 2.2460875511169434\n"
          ],
          "name": "stdout"
        },
        {
          "output_type": "stream",
          "text": [
            "05/21/2021 10:12:25 - INFO - __main__ -   4901\n"
          ],
          "name": "stderr"
        },
        {
          "output_type": "stream",
          "text": [
            "step 4900\n",
            "loss: 2.556407928466797\n"
          ],
          "name": "stdout"
        },
        {
          "output_type": "stream",
          "text": [
            "05/21/2021 10:12:43 - INFO - __main__ -   4951\n"
          ],
          "name": "stderr"
        },
        {
          "output_type": "stream",
          "text": [
            "step 4950\n",
            "loss: 2.0387344360351562\n"
          ],
          "name": "stdout"
        },
        {
          "output_type": "stream",
          "text": [
            "05/21/2021 10:13:02 - INFO - __main__ -   5001\n"
          ],
          "name": "stderr"
        },
        {
          "output_type": "stream",
          "text": [
            "step 5000\n",
            "loss: 2.1221418380737305\n"
          ],
          "name": "stdout"
        },
        {
          "output_type": "stream",
          "text": [
            "05/21/2021 10:13:20 - INFO - __main__ -   5051\n"
          ],
          "name": "stderr"
        },
        {
          "output_type": "stream",
          "text": [
            "step 5050\n",
            "loss: 1.5075690746307373\n"
          ],
          "name": "stdout"
        },
        {
          "output_type": "stream",
          "text": [
            "05/21/2021 10:13:39 - INFO - __main__ -   5101\n"
          ],
          "name": "stderr"
        },
        {
          "output_type": "stream",
          "text": [
            "step 5100\n",
            "loss: 2.1368536949157715\n"
          ],
          "name": "stdout"
        },
        {
          "output_type": "stream",
          "text": [
            "05/21/2021 10:13:57 - INFO - __main__ -   5151\n"
          ],
          "name": "stderr"
        },
        {
          "output_type": "stream",
          "text": [
            "step 5150\n",
            "loss: 1.9299616813659668\n"
          ],
          "name": "stdout"
        },
        {
          "output_type": "stream",
          "text": [
            "05/21/2021 10:14:15 - INFO - __main__ -   5201\n"
          ],
          "name": "stderr"
        },
        {
          "output_type": "stream",
          "text": [
            "step 5200\n",
            "loss: 2.0489723682403564\n"
          ],
          "name": "stdout"
        },
        {
          "output_type": "stream",
          "text": [
            "05/21/2021 10:14:34 - INFO - __main__ -   5251\n"
          ],
          "name": "stderr"
        },
        {
          "output_type": "stream",
          "text": [
            "step 5250\n",
            "loss: 2.1595921516418457\n"
          ],
          "name": "stdout"
        },
        {
          "output_type": "stream",
          "text": [
            "05/21/2021 10:14:52 - INFO - __main__ -   5301\n"
          ],
          "name": "stderr"
        },
        {
          "output_type": "stream",
          "text": [
            "step 5300\n",
            "loss: 1.8316309452056885\n"
          ],
          "name": "stdout"
        },
        {
          "output_type": "stream",
          "text": [
            "05/21/2021 10:15:10 - INFO - __main__ -   5351\n"
          ],
          "name": "stderr"
        },
        {
          "output_type": "stream",
          "text": [
            "step 5350\n",
            "loss: 2.038658857345581\n"
          ],
          "name": "stdout"
        },
        {
          "output_type": "stream",
          "text": [
            "05/21/2021 10:15:29 - INFO - __main__ -   5401\n"
          ],
          "name": "stderr"
        },
        {
          "output_type": "stream",
          "text": [
            "step 5400\n",
            "loss: 2.004122018814087\n"
          ],
          "name": "stdout"
        },
        {
          "output_type": "stream",
          "text": [
            "05/21/2021 10:15:47 - INFO - __main__ -   5451\n"
          ],
          "name": "stderr"
        },
        {
          "output_type": "stream",
          "text": [
            "step 5450\n",
            "loss: 2.3538737297058105\n"
          ],
          "name": "stdout"
        },
        {
          "output_type": "stream",
          "text": [
            "05/21/2021 10:16:05 - INFO - __main__ -   5501\n"
          ],
          "name": "stderr"
        },
        {
          "output_type": "stream",
          "text": [
            "step 5500\n",
            "loss: 2.313448429107666\n"
          ],
          "name": "stdout"
        },
        {
          "output_type": "stream",
          "text": [
            "05/21/2021 10:16:24 - INFO - __main__ -   5551\n"
          ],
          "name": "stderr"
        },
        {
          "output_type": "stream",
          "text": [
            "step 5550\n",
            "loss: 2.1339240074157715\n"
          ],
          "name": "stdout"
        },
        {
          "output_type": "stream",
          "text": [
            "05/21/2021 10:16:42 - INFO - __main__ -   5601\n"
          ],
          "name": "stderr"
        },
        {
          "output_type": "stream",
          "text": [
            "step 5600\n",
            "loss: 1.8661893606185913\n"
          ],
          "name": "stdout"
        },
        {
          "output_type": "stream",
          "text": [
            "05/21/2021 10:17:01 - INFO - __main__ -   5651\n"
          ],
          "name": "stderr"
        },
        {
          "output_type": "stream",
          "text": [
            "step 5650\n",
            "loss: 2.0198018550872803\n"
          ],
          "name": "stdout"
        },
        {
          "output_type": "stream",
          "text": [
            "05/21/2021 10:17:19 - INFO - __main__ -   5701\n"
          ],
          "name": "stderr"
        },
        {
          "output_type": "stream",
          "text": [
            "step 5700\n",
            "loss: 2.0390758514404297\n"
          ],
          "name": "stdout"
        },
        {
          "output_type": "stream",
          "text": [
            "05/21/2021 10:17:37 - INFO - __main__ -   5751\n"
          ],
          "name": "stderr"
        },
        {
          "output_type": "stream",
          "text": [
            "step 5750\n",
            "loss: 1.9986975193023682\n"
          ],
          "name": "stdout"
        },
        {
          "output_type": "stream",
          "text": [
            "05/21/2021 10:17:56 - INFO - __main__ -   5801\n"
          ],
          "name": "stderr"
        },
        {
          "output_type": "stream",
          "text": [
            "step 5800\n",
            "loss: 1.523651123046875\n"
          ],
          "name": "stdout"
        },
        {
          "output_type": "stream",
          "text": [
            "05/21/2021 10:18:14 - INFO - __main__ -   5851\n"
          ],
          "name": "stderr"
        },
        {
          "output_type": "stream",
          "text": [
            "step 5850\n",
            "loss: 2.1432976722717285\n"
          ],
          "name": "stdout"
        },
        {
          "output_type": "stream",
          "text": [
            "05/21/2021 10:18:32 - INFO - __main__ -   5901\n"
          ],
          "name": "stderr"
        },
        {
          "output_type": "stream",
          "text": [
            "step 5900\n",
            "loss: 1.908769130706787\n"
          ],
          "name": "stdout"
        },
        {
          "output_type": "stream",
          "text": [
            "05/21/2021 10:18:51 - INFO - __main__ -   5951\n"
          ],
          "name": "stderr"
        },
        {
          "output_type": "stream",
          "text": [
            "step 5950\n",
            "loss: 2.136491298675537\n"
          ],
          "name": "stdout"
        },
        {
          "output_type": "stream",
          "text": [
            "05/21/2021 10:19:09 - INFO - __main__ -   6001\n"
          ],
          "name": "stderr"
        },
        {
          "output_type": "stream",
          "text": [
            "step 6000\n",
            "loss: 2.2355759143829346\n"
          ],
          "name": "stdout"
        },
        {
          "output_type": "stream",
          "text": [
            "05/21/2021 10:19:28 - INFO - __main__ -   6051\n"
          ],
          "name": "stderr"
        },
        {
          "output_type": "stream",
          "text": [
            "step 6050\n",
            "loss: 2.436629056930542\n"
          ],
          "name": "stdout"
        },
        {
          "output_type": "stream",
          "text": [
            "05/21/2021 10:19:46 - INFO - __main__ -   6101\n"
          ],
          "name": "stderr"
        },
        {
          "output_type": "stream",
          "text": [
            "step 6100\n",
            "loss: 2.076220989227295\n"
          ],
          "name": "stdout"
        },
        {
          "output_type": "stream",
          "text": [
            "05/21/2021 10:20:04 - INFO - __main__ -   6151\n"
          ],
          "name": "stderr"
        },
        {
          "output_type": "stream",
          "text": [
            "step 6150\n",
            "loss: 2.0437052249908447\n"
          ],
          "name": "stdout"
        },
        {
          "output_type": "stream",
          "text": [
            "05/21/2021 10:20:23 - INFO - __main__ -   6201\n"
          ],
          "name": "stderr"
        },
        {
          "output_type": "stream",
          "text": [
            "step 6200\n",
            "loss: 2.184828042984009\n"
          ],
          "name": "stdout"
        },
        {
          "output_type": "stream",
          "text": [
            "05/21/2021 10:20:41 - INFO - __main__ -   6251\n"
          ],
          "name": "stderr"
        },
        {
          "output_type": "stream",
          "text": [
            "step 6250\n",
            "loss: 2.5661401748657227\n"
          ],
          "name": "stdout"
        },
        {
          "output_type": "stream",
          "text": [
            "05/21/2021 10:20:59 - INFO - __main__ -   6301\n"
          ],
          "name": "stderr"
        },
        {
          "output_type": "stream",
          "text": [
            "step 6300\n",
            "loss: 2.2638635635375977\n"
          ],
          "name": "stdout"
        },
        {
          "output_type": "stream",
          "text": [
            "05/21/2021 10:21:18 - INFO - __main__ -   6351\n"
          ],
          "name": "stderr"
        },
        {
          "output_type": "stream",
          "text": [
            "step 6350\n",
            "loss: 1.9393656253814697\n",
            "Gradient overflow.  Skipping step, loss scaler 0 reducing loss scale to 32768.0\n"
          ],
          "name": "stdout"
        },
        {
          "output_type": "stream",
          "text": [
            "05/21/2021 10:21:36 - INFO - __main__ -   6401\n"
          ],
          "name": "stderr"
        },
        {
          "output_type": "stream",
          "text": [
            "step 6400\n",
            "loss: 2.113213300704956\n"
          ],
          "name": "stdout"
        },
        {
          "output_type": "stream",
          "text": [
            "05/21/2021 10:21:54 - INFO - __main__ -   6451\n"
          ],
          "name": "stderr"
        },
        {
          "output_type": "stream",
          "text": [
            "step 6450\n",
            "loss: 2.0541529655456543\n"
          ],
          "name": "stdout"
        },
        {
          "output_type": "stream",
          "text": [
            "05/21/2021 10:22:13 - INFO - __main__ -   6501\n"
          ],
          "name": "stderr"
        },
        {
          "output_type": "stream",
          "text": [
            "step 6500\n",
            "loss: 2.443108081817627\n"
          ],
          "name": "stdout"
        },
        {
          "output_type": "stream",
          "text": [
            "05/21/2021 10:22:31 - INFO - __main__ -   6551\n"
          ],
          "name": "stderr"
        },
        {
          "output_type": "stream",
          "text": [
            "step 6550\n",
            "loss: 2.4714152812957764\n"
          ],
          "name": "stdout"
        },
        {
          "output_type": "stream",
          "text": [
            "05/21/2021 10:22:50 - INFO - __main__ -   6601\n"
          ],
          "name": "stderr"
        },
        {
          "output_type": "stream",
          "text": [
            "step 6600\n",
            "loss: 2.2286078929901123\n"
          ],
          "name": "stdout"
        },
        {
          "output_type": "stream",
          "text": [
            "05/21/2021 10:23:08 - INFO - __main__ -   6651\n"
          ],
          "name": "stderr"
        },
        {
          "output_type": "stream",
          "text": [
            "step 6650\n",
            "loss: 2.064293622970581\n"
          ],
          "name": "stdout"
        },
        {
          "output_type": "stream",
          "text": [
            "05/21/2021 10:23:26 - INFO - __main__ -   6701\n"
          ],
          "name": "stderr"
        },
        {
          "output_type": "stream",
          "text": [
            "step 6700\n",
            "loss: 2.3234541416168213\n"
          ],
          "name": "stdout"
        },
        {
          "output_type": "stream",
          "text": [
            "05/21/2021 10:23:45 - INFO - __main__ -   6751\n"
          ],
          "name": "stderr"
        },
        {
          "output_type": "stream",
          "text": [
            "step 6750\n",
            "loss: 2.077941656112671\n"
          ],
          "name": "stdout"
        },
        {
          "output_type": "stream",
          "text": [
            "05/21/2021 10:24:03 - INFO - __main__ -   6801\n"
          ],
          "name": "stderr"
        },
        {
          "output_type": "stream",
          "text": [
            "step 6800\n",
            "loss: 2.2232794761657715\n"
          ],
          "name": "stdout"
        },
        {
          "output_type": "stream",
          "text": [
            "05/21/2021 10:24:22 - INFO - __main__ -   6851\n"
          ],
          "name": "stderr"
        },
        {
          "output_type": "stream",
          "text": [
            "step 6850\n",
            "loss: 1.669774055480957\n"
          ],
          "name": "stdout"
        },
        {
          "output_type": "stream",
          "text": [
            "05/21/2021 10:24:40 - INFO - __main__ -   6901\n"
          ],
          "name": "stderr"
        },
        {
          "output_type": "stream",
          "text": [
            "step 6900\n",
            "loss: 1.722996473312378\n"
          ],
          "name": "stdout"
        },
        {
          "output_type": "stream",
          "text": [
            "05/21/2021 10:24:58 - INFO - __main__ -   6951\n"
          ],
          "name": "stderr"
        },
        {
          "output_type": "stream",
          "text": [
            "step 6950\n",
            "loss: 2.135483503341675\n"
          ],
          "name": "stdout"
        },
        {
          "output_type": "stream",
          "text": [
            "05/21/2021 10:25:17 - INFO - __main__ -   7001\n"
          ],
          "name": "stderr"
        },
        {
          "output_type": "stream",
          "text": [
            "step 7000\n",
            "loss: 1.8028613328933716\n"
          ],
          "name": "stdout"
        },
        {
          "output_type": "stream",
          "text": [
            "05/21/2021 10:25:35 - INFO - __main__ -   7051\n"
          ],
          "name": "stderr"
        },
        {
          "output_type": "stream",
          "text": [
            "step 7050\n",
            "loss: 1.671872854232788\n"
          ],
          "name": "stdout"
        },
        {
          "output_type": "stream",
          "text": [
            "05/21/2021 10:25:54 - INFO - __main__ -   7101\n"
          ],
          "name": "stderr"
        },
        {
          "output_type": "stream",
          "text": [
            "step 7100\n",
            "loss: 2.545919895172119\n"
          ],
          "name": "stdout"
        },
        {
          "output_type": "stream",
          "text": [
            "05/21/2021 10:26:12 - INFO - __main__ -   7151\n"
          ],
          "name": "stderr"
        },
        {
          "output_type": "stream",
          "text": [
            "step 7150\n",
            "loss: 1.9808168411254883\n"
          ],
          "name": "stdout"
        },
        {
          "output_type": "stream",
          "text": [
            "05/21/2021 10:26:30 - INFO - __main__ -   7201\n"
          ],
          "name": "stderr"
        },
        {
          "output_type": "stream",
          "text": [
            "step 7200\n",
            "loss: 2.120919942855835\n"
          ],
          "name": "stdout"
        },
        {
          "output_type": "stream",
          "text": [
            "05/21/2021 10:26:48 - INFO - __main__ -   7251\n"
          ],
          "name": "stderr"
        },
        {
          "output_type": "stream",
          "text": [
            "step 7250\n",
            "loss: 2.2589364051818848\n"
          ],
          "name": "stdout"
        },
        {
          "output_type": "stream",
          "text": [
            "05/21/2021 10:27:07 - INFO - __main__ -   7301\n"
          ],
          "name": "stderr"
        },
        {
          "output_type": "stream",
          "text": [
            "step 7300\n",
            "loss: 1.759311318397522\n"
          ],
          "name": "stdout"
        },
        {
          "output_type": "stream",
          "text": [
            "05/21/2021 10:27:25 - INFO - __main__ -   7351\n"
          ],
          "name": "stderr"
        },
        {
          "output_type": "stream",
          "text": [
            "step 7350\n",
            "loss: 2.0260188579559326\n"
          ],
          "name": "stdout"
        },
        {
          "output_type": "stream",
          "text": [
            "05/21/2021 10:27:44 - INFO - __main__ -   7401\n"
          ],
          "name": "stderr"
        },
        {
          "output_type": "stream",
          "text": [
            "step 7400\n",
            "loss: 2.0013914108276367\n"
          ],
          "name": "stdout"
        },
        {
          "output_type": "stream",
          "text": [
            "05/21/2021 10:28:02 - INFO - __main__ -   7451\n"
          ],
          "name": "stderr"
        },
        {
          "output_type": "stream",
          "text": [
            "step 7450\n",
            "loss: 2.104926824569702\n"
          ],
          "name": "stdout"
        },
        {
          "output_type": "stream",
          "text": [
            "05/21/2021 10:28:20 - INFO - __main__ -   7501\n"
          ],
          "name": "stderr"
        },
        {
          "output_type": "stream",
          "text": [
            "step 7500\n",
            "loss: 2.3281426429748535\n",
            "Gradient overflow.  Skipping step, loss scaler 0 reducing loss scale to 16384.0\n"
          ],
          "name": "stdout"
        },
        {
          "output_type": "stream",
          "text": [
            "05/21/2021 10:28:39 - INFO - __main__ -   7551\n"
          ],
          "name": "stderr"
        },
        {
          "output_type": "stream",
          "text": [
            "step 7550\n",
            "loss: 2.2945356369018555\n"
          ],
          "name": "stdout"
        },
        {
          "output_type": "stream",
          "text": [
            "05/21/2021 10:28:57 - INFO - __main__ -   7601\n"
          ],
          "name": "stderr"
        },
        {
          "output_type": "stream",
          "text": [
            "step 7600\n",
            "loss: 2.0788979530334473\n"
          ],
          "name": "stdout"
        },
        {
          "output_type": "stream",
          "text": [
            "05/21/2021 10:29:15 - INFO - __main__ -   7651\n"
          ],
          "name": "stderr"
        },
        {
          "output_type": "stream",
          "text": [
            "step 7650\n",
            "loss: 2.0085813999176025\n"
          ],
          "name": "stdout"
        },
        {
          "output_type": "stream",
          "text": [
            "05/21/2021 10:29:34 - INFO - __main__ -   7701\n"
          ],
          "name": "stderr"
        },
        {
          "output_type": "stream",
          "text": [
            "step 7700\n",
            "loss: 1.9101529121398926\n"
          ],
          "name": "stdout"
        },
        {
          "output_type": "stream",
          "text": [
            "05/21/2021 10:29:52 - INFO - __main__ -   7751\n"
          ],
          "name": "stderr"
        },
        {
          "output_type": "stream",
          "text": [
            "step 7750\n",
            "loss: 2.0519368648529053\n"
          ],
          "name": "stdout"
        },
        {
          "output_type": "stream",
          "text": [
            "05/21/2021 10:30:11 - INFO - __main__ -   7801\n"
          ],
          "name": "stderr"
        },
        {
          "output_type": "stream",
          "text": [
            "step 7800\n",
            "loss: 2.0455808639526367\n"
          ],
          "name": "stdout"
        },
        {
          "output_type": "stream",
          "text": [
            "05/21/2021 10:30:29 - INFO - __main__ -   7851\n"
          ],
          "name": "stderr"
        },
        {
          "output_type": "stream",
          "text": [
            "step 7850\n",
            "loss: 2.1703686714172363\n"
          ],
          "name": "stdout"
        },
        {
          "output_type": "stream",
          "text": [
            "05/21/2021 10:30:47 - INFO - __main__ -   7901\n"
          ],
          "name": "stderr"
        },
        {
          "output_type": "stream",
          "text": [
            "step 7900\n",
            "loss: 2.1560516357421875\n"
          ],
          "name": "stdout"
        },
        {
          "output_type": "stream",
          "text": [
            "05/21/2021 10:31:06 - INFO - __main__ -   7951\n"
          ],
          "name": "stderr"
        },
        {
          "output_type": "stream",
          "text": [
            "step 7950\n",
            "loss: 1.8424241542816162\n"
          ],
          "name": "stdout"
        },
        {
          "output_type": "stream",
          "text": [
            "05/21/2021 10:31:24 - INFO - __main__ -   8001\n"
          ],
          "name": "stderr"
        },
        {
          "output_type": "stream",
          "text": [
            "step 8000\n",
            "loss: 2.205381393432617\n"
          ],
          "name": "stdout"
        },
        {
          "output_type": "stream",
          "text": [
            "05/21/2021 10:31:43 - INFO - __main__ -   8051\n"
          ],
          "name": "stderr"
        },
        {
          "output_type": "stream",
          "text": [
            "step 8050\n",
            "loss: 2.028428316116333\n"
          ],
          "name": "stdout"
        },
        {
          "output_type": "stream",
          "text": [
            "05/21/2021 10:32:01 - INFO - __main__ -   8101\n"
          ],
          "name": "stderr"
        },
        {
          "output_type": "stream",
          "text": [
            "step 8100\n",
            "loss: 2.093507766723633\n"
          ],
          "name": "stdout"
        },
        {
          "output_type": "stream",
          "text": [
            "05/21/2021 10:32:19 - INFO - __main__ -   8151\n"
          ],
          "name": "stderr"
        },
        {
          "output_type": "stream",
          "text": [
            "step 8150\n",
            "loss: 2.1403799057006836\n"
          ],
          "name": "stdout"
        },
        {
          "output_type": "stream",
          "text": [
            "05/21/2021 10:32:38 - INFO - __main__ -   8201\n"
          ],
          "name": "stderr"
        },
        {
          "output_type": "stream",
          "text": [
            "step 8200\n",
            "loss: 1.984238624572754\n"
          ],
          "name": "stdout"
        },
        {
          "output_type": "stream",
          "text": [
            "05/21/2021 10:32:56 - INFO - __main__ -   8251\n"
          ],
          "name": "stderr"
        },
        {
          "output_type": "stream",
          "text": [
            "step 8250\n",
            "loss: 1.7753061056137085\n"
          ],
          "name": "stdout"
        },
        {
          "output_type": "stream",
          "text": [
            "05/21/2021 10:33:14 - INFO - __main__ -   8301\n"
          ],
          "name": "stderr"
        },
        {
          "output_type": "stream",
          "text": [
            "step 8300\n",
            "loss: 2.185093402862549\n"
          ],
          "name": "stdout"
        },
        {
          "output_type": "stream",
          "text": [
            "05/21/2021 10:33:33 - INFO - __main__ -   8351\n"
          ],
          "name": "stderr"
        },
        {
          "output_type": "stream",
          "text": [
            "step 8350\n",
            "loss: 2.329991579055786\n"
          ],
          "name": "stdout"
        },
        {
          "output_type": "stream",
          "text": [
            "05/21/2021 10:33:51 - INFO - __main__ -   8401\n"
          ],
          "name": "stderr"
        },
        {
          "output_type": "stream",
          "text": [
            "step 8400\n",
            "loss: 2.090881586074829\n"
          ],
          "name": "stdout"
        },
        {
          "output_type": "stream",
          "text": [
            "05/21/2021 10:34:09 - INFO - __main__ -   8451\n"
          ],
          "name": "stderr"
        },
        {
          "output_type": "stream",
          "text": [
            "step 8450\n",
            "loss: 1.8764616250991821\n"
          ],
          "name": "stdout"
        },
        {
          "output_type": "stream",
          "text": [
            "05/21/2021 10:34:28 - INFO - __main__ -   8501\n"
          ],
          "name": "stderr"
        },
        {
          "output_type": "stream",
          "text": [
            "step 8500\n",
            "loss: 2.0687906742095947\n"
          ],
          "name": "stdout"
        },
        {
          "output_type": "stream",
          "text": [
            "05/21/2021 10:34:46 - INFO - __main__ -   8551\n"
          ],
          "name": "stderr"
        },
        {
          "output_type": "stream",
          "text": [
            "step 8550\n",
            "loss: 2.1475000381469727\n"
          ],
          "name": "stdout"
        },
        {
          "output_type": "stream",
          "text": [
            "05/21/2021 10:35:04 - INFO - __main__ -   8601\n"
          ],
          "name": "stderr"
        },
        {
          "output_type": "stream",
          "text": [
            "step 8600\n",
            "loss: 2.1305131912231445\n"
          ],
          "name": "stdout"
        },
        {
          "output_type": "stream",
          "text": [
            "05/21/2021 10:35:23 - INFO - __main__ -   8651\n"
          ],
          "name": "stderr"
        },
        {
          "output_type": "stream",
          "text": [
            "step 8650\n",
            "loss: 2.180293560028076\n"
          ],
          "name": "stdout"
        },
        {
          "output_type": "stream",
          "text": [
            "05/21/2021 10:35:41 - INFO - __main__ -   8701\n"
          ],
          "name": "stderr"
        },
        {
          "output_type": "stream",
          "text": [
            "step 8700\n",
            "loss: 2.2248833179473877\n"
          ],
          "name": "stdout"
        },
        {
          "output_type": "stream",
          "text": [
            "05/21/2021 10:36:00 - INFO - __main__ -   8751\n"
          ],
          "name": "stderr"
        },
        {
          "output_type": "stream",
          "text": [
            "step 8750\n",
            "loss: 2.2482428550720215\n",
            "An error happens, break\n",
            "An error in this batch, break\n"
          ],
          "name": "stdout"
        },
        {
          "output_type": "stream",
          "text": [
            "05/21/2021 10:36:18 - INFO - __main__ -   8802\n"
          ],
          "name": "stderr"
        },
        {
          "output_type": "stream",
          "text": [
            "step 8800\n",
            "loss: 1.9385896921157837\n"
          ],
          "name": "stdout"
        },
        {
          "output_type": "stream",
          "text": [
            "05/21/2021 10:36:36 - INFO - __main__ -   8852\n"
          ],
          "name": "stderr"
        },
        {
          "output_type": "stream",
          "text": [
            "step 8850\n",
            "loss: 2.072110414505005\n"
          ],
          "name": "stdout"
        },
        {
          "output_type": "stream",
          "text": [
            "05/21/2021 10:36:55 - INFO - __main__ -   8902\n"
          ],
          "name": "stderr"
        },
        {
          "output_type": "stream",
          "text": [
            "step 8900\n",
            "loss: 2.0929646492004395\n"
          ],
          "name": "stdout"
        },
        {
          "output_type": "stream",
          "text": [
            "05/21/2021 10:37:13 - INFO - __main__ -   8952\n"
          ],
          "name": "stderr"
        },
        {
          "output_type": "stream",
          "text": [
            "step 8950\n",
            "loss: 2.286327838897705\n"
          ],
          "name": "stdout"
        },
        {
          "output_type": "stream",
          "text": [
            "05/21/2021 10:37:31 - INFO - __main__ -   9002\n"
          ],
          "name": "stderr"
        },
        {
          "output_type": "stream",
          "text": [
            "step 9000\n",
            "loss: 1.8174811601638794\n"
          ],
          "name": "stdout"
        },
        {
          "output_type": "stream",
          "text": [
            "05/21/2021 10:37:50 - INFO - __main__ -   9052\n"
          ],
          "name": "stderr"
        },
        {
          "output_type": "stream",
          "text": [
            "step 9050\n",
            "loss: 2.1247379779815674\n"
          ],
          "name": "stdout"
        },
        {
          "output_type": "stream",
          "text": [
            "05/21/2021 10:38:08 - INFO - __main__ -   9102\n"
          ],
          "name": "stderr"
        },
        {
          "output_type": "stream",
          "text": [
            "step 9100\n",
            "loss: 2.167222261428833\n"
          ],
          "name": "stdout"
        },
        {
          "output_type": "stream",
          "text": [
            "05/21/2021 10:38:26 - INFO - __main__ -   9152\n"
          ],
          "name": "stderr"
        },
        {
          "output_type": "stream",
          "text": [
            "step 9150\n",
            "loss: 2.1732211112976074\n"
          ],
          "name": "stdout"
        },
        {
          "output_type": "stream",
          "text": [
            "05/21/2021 10:38:44 - INFO - __main__ -   9202\n"
          ],
          "name": "stderr"
        },
        {
          "output_type": "stream",
          "text": [
            "step 9200\n",
            "loss: 2.6603798866271973\n"
          ],
          "name": "stdout"
        },
        {
          "output_type": "stream",
          "text": [
            "05/21/2021 10:39:03 - INFO - __main__ -   9252\n"
          ],
          "name": "stderr"
        },
        {
          "output_type": "stream",
          "text": [
            "step 9250\n",
            "loss: 1.9942654371261597\n"
          ],
          "name": "stdout"
        },
        {
          "output_type": "stream",
          "text": [
            "05/21/2021 10:39:21 - INFO - __main__ -   9302\n"
          ],
          "name": "stderr"
        },
        {
          "output_type": "stream",
          "text": [
            "step 9300\n",
            "loss: 2.147139072418213\n"
          ],
          "name": "stdout"
        },
        {
          "output_type": "stream",
          "text": [
            "05/21/2021 10:39:39 - INFO - __main__ -   9352\n"
          ],
          "name": "stderr"
        },
        {
          "output_type": "stream",
          "text": [
            "step 9350\n",
            "loss: 1.9410085678100586\n"
          ],
          "name": "stdout"
        },
        {
          "output_type": "stream",
          "text": [
            "05/21/2021 10:39:57 - INFO - __main__ -   9402\n"
          ],
          "name": "stderr"
        },
        {
          "output_type": "stream",
          "text": [
            "step 9400\n",
            "loss: 1.9023246765136719\n"
          ],
          "name": "stdout"
        },
        {
          "output_type": "stream",
          "text": [
            "05/21/2021 10:40:16 - INFO - __main__ -   9452\n"
          ],
          "name": "stderr"
        },
        {
          "output_type": "stream",
          "text": [
            "step 9450\n",
            "loss: 1.7703402042388916\n"
          ],
          "name": "stdout"
        },
        {
          "output_type": "stream",
          "text": [
            "05/21/2021 10:40:34 - INFO - __main__ -   9502\n"
          ],
          "name": "stderr"
        },
        {
          "output_type": "stream",
          "text": [
            "step 9500\n",
            "loss: 1.9927685260772705\n"
          ],
          "name": "stdout"
        },
        {
          "output_type": "stream",
          "text": [
            "05/21/2021 10:40:52 - INFO - __main__ -   9552\n"
          ],
          "name": "stderr"
        },
        {
          "output_type": "stream",
          "text": [
            "step 9550\n",
            "loss: 1.9888763427734375\n"
          ],
          "name": "stdout"
        },
        {
          "output_type": "stream",
          "text": [
            "05/21/2021 10:41:11 - INFO - __main__ -   9602\n"
          ],
          "name": "stderr"
        },
        {
          "output_type": "stream",
          "text": [
            "step 9600\n",
            "loss: 1.3694828748703003\n"
          ],
          "name": "stdout"
        },
        {
          "output_type": "stream",
          "text": [
            "05/21/2021 10:41:29 - INFO - __main__ -   9652\n"
          ],
          "name": "stderr"
        },
        {
          "output_type": "stream",
          "text": [
            "step 9650\n",
            "loss: 2.2274796962738037\n",
            "Gradient overflow.  Skipping step, loss scaler 0 reducing loss scale to 16384.0\n"
          ],
          "name": "stdout"
        },
        {
          "output_type": "stream",
          "text": [
            "05/21/2021 10:41:47 - INFO - __main__ -   9702\n"
          ],
          "name": "stderr"
        },
        {
          "output_type": "stream",
          "text": [
            "step 9700\n",
            "loss: 2.0212104320526123\n"
          ],
          "name": "stdout"
        },
        {
          "output_type": "stream",
          "text": [
            "05/21/2021 10:42:05 - INFO - __main__ -   9752\n"
          ],
          "name": "stderr"
        },
        {
          "output_type": "stream",
          "text": [
            "step 9750\n",
            "loss: 2.16800856590271\n"
          ],
          "name": "stdout"
        },
        {
          "output_type": "stream",
          "text": [
            "05/21/2021 10:42:24 - INFO - __main__ -   9802\n"
          ],
          "name": "stderr"
        },
        {
          "output_type": "stream",
          "text": [
            "step 9800\n",
            "loss: 2.051292896270752\n"
          ],
          "name": "stdout"
        },
        {
          "output_type": "stream",
          "text": [
            "05/21/2021 10:42:42 - INFO - __main__ -   9852\n"
          ],
          "name": "stderr"
        },
        {
          "output_type": "stream",
          "text": [
            "step 9850\n",
            "loss: 1.8421475887298584\n"
          ],
          "name": "stdout"
        },
        {
          "output_type": "stream",
          "text": [
            "05/21/2021 10:43:00 - INFO - __main__ -   9902\n"
          ],
          "name": "stderr"
        },
        {
          "output_type": "stream",
          "text": [
            "step 9900\n",
            "loss: 1.4454066753387451\n"
          ],
          "name": "stdout"
        },
        {
          "output_type": "stream",
          "text": [
            "05/21/2021 10:43:19 - INFO - __main__ -   9952\n"
          ],
          "name": "stderr"
        },
        {
          "output_type": "stream",
          "text": [
            "step 9950\n",
            "loss: 2.2335150241851807\n"
          ],
          "name": "stdout"
        },
        {
          "output_type": "stream",
          "text": [
            "05/21/2021 10:43:37 - INFO - __main__ -   10002\n",
            "05/21/2021 10:43:37 - INFO - __main__ -   Saving model checkpoint to ./gdrive/MyDrive/COMP0087/model_checkpoint\n"
          ],
          "name": "stderr"
        },
        {
          "output_type": "stream",
          "text": [
            "step 10000\n",
            "loss: 2.2193779945373535\n"
          ],
          "name": "stdout"
        },
        {
          "output_type": "stream",
          "text": [
            "05/21/2021 10:44:08 - INFO - __main__ -   10052\n"
          ],
          "name": "stderr"
        },
        {
          "output_type": "stream",
          "text": [
            "step 10050\n",
            "loss: 2.0190389156341553\n"
          ],
          "name": "stdout"
        },
        {
          "output_type": "stream",
          "text": [
            "05/21/2021 10:44:26 - INFO - __main__ -   10102\n"
          ],
          "name": "stderr"
        },
        {
          "output_type": "stream",
          "text": [
            "step 10100\n",
            "loss: 2.3222362995147705\n"
          ],
          "name": "stdout"
        },
        {
          "output_type": "stream",
          "text": [
            "05/21/2021 10:44:44 - INFO - __main__ -   10152\n"
          ],
          "name": "stderr"
        },
        {
          "output_type": "stream",
          "text": [
            "step 10150\n",
            "loss: 1.752456545829773\n"
          ],
          "name": "stdout"
        },
        {
          "output_type": "stream",
          "text": [
            "05/21/2021 10:45:03 - INFO - __main__ -   10202\n"
          ],
          "name": "stderr"
        },
        {
          "output_type": "stream",
          "text": [
            "step 10200\n",
            "loss: 1.977148175239563\n"
          ],
          "name": "stdout"
        },
        {
          "output_type": "stream",
          "text": [
            "05/21/2021 10:45:21 - INFO - __main__ -   10252\n"
          ],
          "name": "stderr"
        },
        {
          "output_type": "stream",
          "text": [
            "step 10250\n",
            "loss: 1.322893500328064\n"
          ],
          "name": "stdout"
        },
        {
          "output_type": "stream",
          "text": [
            "05/21/2021 10:45:39 - INFO - __main__ -   10302\n"
          ],
          "name": "stderr"
        },
        {
          "output_type": "stream",
          "text": [
            "step 10300\n",
            "loss: 2.2087466716766357\n"
          ],
          "name": "stdout"
        },
        {
          "output_type": "stream",
          "text": [
            "05/21/2021 10:45:57 - INFO - __main__ -   10352\n"
          ],
          "name": "stderr"
        },
        {
          "output_type": "stream",
          "text": [
            "step 10350\n",
            "loss: 2.1187872886657715\n"
          ],
          "name": "stdout"
        },
        {
          "output_type": "stream",
          "text": [
            "05/21/2021 10:46:16 - INFO - __main__ -   10402\n"
          ],
          "name": "stderr"
        },
        {
          "output_type": "stream",
          "text": [
            "step 10400\n",
            "loss: 2.1056711673736572\n"
          ],
          "name": "stdout"
        },
        {
          "output_type": "stream",
          "text": [
            "05/21/2021 10:46:34 - INFO - __main__ -   10452\n"
          ],
          "name": "stderr"
        },
        {
          "output_type": "stream",
          "text": [
            "step 10450\n",
            "loss: 2.447005271911621\n"
          ],
          "name": "stdout"
        },
        {
          "output_type": "stream",
          "text": [
            "05/21/2021 10:46:52 - INFO - __main__ -   10502\n"
          ],
          "name": "stderr"
        },
        {
          "output_type": "stream",
          "text": [
            "step 10500\n",
            "loss: 2.161372184753418\n"
          ],
          "name": "stdout"
        },
        {
          "output_type": "stream",
          "text": [
            "05/21/2021 10:47:11 - INFO - __main__ -   10552\n"
          ],
          "name": "stderr"
        },
        {
          "output_type": "stream",
          "text": [
            "step 10550\n",
            "loss: 1.981458306312561\n"
          ],
          "name": "stdout"
        },
        {
          "output_type": "stream",
          "text": [
            "05/21/2021 10:47:29 - INFO - __main__ -   10602\n"
          ],
          "name": "stderr"
        },
        {
          "output_type": "stream",
          "text": [
            "step 10600\n",
            "loss: 1.7036535739898682\n"
          ],
          "name": "stdout"
        },
        {
          "output_type": "stream",
          "text": [
            "05/21/2021 10:47:47 - INFO - __main__ -   10652\n"
          ],
          "name": "stderr"
        },
        {
          "output_type": "stream",
          "text": [
            "step 10650\n",
            "loss: 1.5574578046798706\n"
          ],
          "name": "stdout"
        },
        {
          "output_type": "stream",
          "text": [
            "05/21/2021 10:48:05 - INFO - __main__ -   10702\n"
          ],
          "name": "stderr"
        },
        {
          "output_type": "stream",
          "text": [
            "step 10700\n",
            "loss: 1.4922595024108887\n"
          ],
          "name": "stdout"
        },
        {
          "output_type": "stream",
          "text": [
            "05/21/2021 10:48:24 - INFO - __main__ -   10752\n"
          ],
          "name": "stderr"
        },
        {
          "output_type": "stream",
          "text": [
            "step 10750\n",
            "loss: 1.9906983375549316\n"
          ],
          "name": "stdout"
        },
        {
          "output_type": "stream",
          "text": [
            "05/21/2021 10:48:42 - INFO - __main__ -   10802\n"
          ],
          "name": "stderr"
        },
        {
          "output_type": "stream",
          "text": [
            "step 10800\n",
            "loss: 2.0398495197296143\n"
          ],
          "name": "stdout"
        },
        {
          "output_type": "stream",
          "text": [
            "05/21/2021 10:49:01 - INFO - __main__ -   10852\n"
          ],
          "name": "stderr"
        },
        {
          "output_type": "stream",
          "text": [
            "step 10850\n",
            "loss: 1.9302387237548828\n"
          ],
          "name": "stdout"
        },
        {
          "output_type": "stream",
          "text": [
            "05/21/2021 10:49:19 - INFO - __main__ -   10902\n"
          ],
          "name": "stderr"
        },
        {
          "output_type": "stream",
          "text": [
            "step 10900\n",
            "loss: 2.024676561355591\n"
          ],
          "name": "stdout"
        },
        {
          "output_type": "stream",
          "text": [
            "05/21/2021 10:49:37 - INFO - __main__ -   10952\n"
          ],
          "name": "stderr"
        },
        {
          "output_type": "stream",
          "text": [
            "step 10950\n",
            "loss: 2.010430335998535\n"
          ],
          "name": "stdout"
        },
        {
          "output_type": "stream",
          "text": [
            "05/21/2021 10:49:56 - INFO - __main__ -   11002\n"
          ],
          "name": "stderr"
        },
        {
          "output_type": "stream",
          "text": [
            "step 11000\n",
            "loss: 2.2736194133758545\n"
          ],
          "name": "stdout"
        },
        {
          "output_type": "stream",
          "text": [
            "05/21/2021 10:50:14 - INFO - __main__ -   11052\n"
          ],
          "name": "stderr"
        },
        {
          "output_type": "stream",
          "text": [
            "step 11050\n",
            "loss: 1.5647634267807007\n"
          ],
          "name": "stdout"
        },
        {
          "output_type": "stream",
          "text": [
            "05/21/2021 10:50:32 - INFO - __main__ -   11102\n"
          ],
          "name": "stderr"
        },
        {
          "output_type": "stream",
          "text": [
            "step 11100\n",
            "loss: 1.9819037914276123\n"
          ],
          "name": "stdout"
        },
        {
          "output_type": "stream",
          "text": [
            "05/21/2021 10:50:51 - INFO - __main__ -   11152\n"
          ],
          "name": "stderr"
        },
        {
          "output_type": "stream",
          "text": [
            "step 11150\n",
            "loss: 2.007772207260132\n"
          ],
          "name": "stdout"
        },
        {
          "output_type": "stream",
          "text": [
            "05/21/2021 10:51:09 - INFO - __main__ -   11202\n"
          ],
          "name": "stderr"
        },
        {
          "output_type": "stream",
          "text": [
            "step 11200\n",
            "loss: 1.7632956504821777\n"
          ],
          "name": "stdout"
        },
        {
          "output_type": "stream",
          "text": [
            "05/21/2021 10:51:27 - INFO - __main__ -   11252\n"
          ],
          "name": "stderr"
        },
        {
          "output_type": "stream",
          "text": [
            "step 11250\n",
            "loss: 2.2010550498962402\n"
          ],
          "name": "stdout"
        },
        {
          "output_type": "stream",
          "text": [
            "05/21/2021 10:51:45 - INFO - __main__ -   11302\n"
          ],
          "name": "stderr"
        },
        {
          "output_type": "stream",
          "text": [
            "step 11300\n",
            "loss: 1.8809661865234375\n"
          ],
          "name": "stdout"
        },
        {
          "output_type": "stream",
          "text": [
            "05/21/2021 10:52:03 - INFO - __main__ -   11352\n"
          ],
          "name": "stderr"
        },
        {
          "output_type": "stream",
          "text": [
            "step 11350\n",
            "loss: 1.9662466049194336\n"
          ],
          "name": "stdout"
        },
        {
          "output_type": "stream",
          "text": [
            "05/21/2021 10:52:22 - INFO - __main__ -   11402\n"
          ],
          "name": "stderr"
        },
        {
          "output_type": "stream",
          "text": [
            "step 11400\n",
            "loss: 1.9403023719787598\n"
          ],
          "name": "stdout"
        },
        {
          "output_type": "stream",
          "text": [
            "05/21/2021 10:52:40 - INFO - __main__ -   11452\n"
          ],
          "name": "stderr"
        },
        {
          "output_type": "stream",
          "text": [
            "step 11450\n",
            "loss: 2.226670026779175\n"
          ],
          "name": "stdout"
        },
        {
          "output_type": "stream",
          "text": [
            "05/21/2021 10:52:58 - INFO - __main__ -   11502\n"
          ],
          "name": "stderr"
        },
        {
          "output_type": "stream",
          "text": [
            "step 11500\n",
            "loss: 2.262449264526367\n"
          ],
          "name": "stdout"
        },
        {
          "output_type": "stream",
          "text": [
            "05/21/2021 10:53:17 - INFO - __main__ -   11552\n"
          ],
          "name": "stderr"
        },
        {
          "output_type": "stream",
          "text": [
            "step 11550\n",
            "loss: 1.7112236022949219\n"
          ],
          "name": "stdout"
        },
        {
          "output_type": "stream",
          "text": [
            "05/21/2021 10:53:35 - INFO - __main__ -   11602\n"
          ],
          "name": "stderr"
        },
        {
          "output_type": "stream",
          "text": [
            "step 11600\n",
            "loss: 2.2073001861572266\n"
          ],
          "name": "stdout"
        },
        {
          "output_type": "stream",
          "text": [
            "05/21/2021 10:53:53 - INFO - __main__ -   11652\n"
          ],
          "name": "stderr"
        },
        {
          "output_type": "stream",
          "text": [
            "step 11650\n",
            "loss: 2.372040033340454\n"
          ],
          "name": "stdout"
        },
        {
          "output_type": "stream",
          "text": [
            "05/21/2021 10:54:11 - INFO - __main__ -   11702\n"
          ],
          "name": "stderr"
        },
        {
          "output_type": "stream",
          "text": [
            "step 11700\n",
            "loss: 1.9759716987609863\n",
            "Gradient overflow.  Skipping step, loss scaler 0 reducing loss scale to 16384.0\n"
          ],
          "name": "stdout"
        },
        {
          "output_type": "stream",
          "text": [
            "05/21/2021 10:54:29 - INFO - __main__ -   11752\n"
          ],
          "name": "stderr"
        },
        {
          "output_type": "stream",
          "text": [
            "step 11750\n",
            "loss: 1.876491665840149\n"
          ],
          "name": "stdout"
        },
        {
          "output_type": "stream",
          "text": [
            "05/21/2021 10:54:48 - INFO - __main__ -   11802\n"
          ],
          "name": "stderr"
        },
        {
          "output_type": "stream",
          "text": [
            "step 11800\n",
            "loss: 1.8364431858062744\n"
          ],
          "name": "stdout"
        },
        {
          "output_type": "stream",
          "text": [
            "05/21/2021 10:55:06 - INFO - __main__ -   11852\n"
          ],
          "name": "stderr"
        },
        {
          "output_type": "stream",
          "text": [
            "step 11850\n",
            "loss: 1.8042232990264893\n"
          ],
          "name": "stdout"
        },
        {
          "output_type": "stream",
          "text": [
            "05/21/2021 10:55:24 - INFO - __main__ -   11902\n"
          ],
          "name": "stderr"
        },
        {
          "output_type": "stream",
          "text": [
            "step 11900\n",
            "loss: 1.7510530948638916\n"
          ],
          "name": "stdout"
        },
        {
          "output_type": "stream",
          "text": [
            "05/21/2021 10:55:42 - INFO - __main__ -   11952\n"
          ],
          "name": "stderr"
        },
        {
          "output_type": "stream",
          "text": [
            "step 11950\n",
            "loss: 1.6530125141143799\n"
          ],
          "name": "stdout"
        },
        {
          "output_type": "stream",
          "text": [
            "05/21/2021 10:56:01 - INFO - __main__ -   12002\n"
          ],
          "name": "stderr"
        },
        {
          "output_type": "stream",
          "text": [
            "step 12000\n",
            "loss: 2.018620491027832\n"
          ],
          "name": "stdout"
        },
        {
          "output_type": "stream",
          "text": [
            "05/21/2021 10:56:19 - INFO - __main__ -   12052\n"
          ],
          "name": "stderr"
        },
        {
          "output_type": "stream",
          "text": [
            "step 12050\n",
            "loss: 2.4644525051116943\n"
          ],
          "name": "stdout"
        },
        {
          "output_type": "stream",
          "text": [
            "05/21/2021 10:56:37 - INFO - __main__ -   12102\n"
          ],
          "name": "stderr"
        },
        {
          "output_type": "stream",
          "text": [
            "step 12100\n",
            "loss: 1.836050271987915\n"
          ],
          "name": "stdout"
        },
        {
          "output_type": "stream",
          "text": [
            "05/21/2021 10:56:55 - INFO - __main__ -   12152\n"
          ],
          "name": "stderr"
        },
        {
          "output_type": "stream",
          "text": [
            "step 12150\n",
            "loss: 1.704056978225708\n"
          ],
          "name": "stdout"
        },
        {
          "output_type": "stream",
          "text": [
            "05/21/2021 10:57:14 - INFO - __main__ -   12202\n"
          ],
          "name": "stderr"
        },
        {
          "output_type": "stream",
          "text": [
            "step 12200\n",
            "loss: 2.135967969894409\n"
          ],
          "name": "stdout"
        },
        {
          "output_type": "stream",
          "text": [
            "05/21/2021 10:57:32 - INFO - __main__ -   12252\n"
          ],
          "name": "stderr"
        },
        {
          "output_type": "stream",
          "text": [
            "step 12250\n",
            "loss: 1.9239447116851807\n"
          ],
          "name": "stdout"
        },
        {
          "output_type": "stream",
          "text": [
            "05/21/2021 10:57:50 - INFO - __main__ -   12302\n"
          ],
          "name": "stderr"
        },
        {
          "output_type": "stream",
          "text": [
            "step 12300\n",
            "loss: 2.114847183227539\n"
          ],
          "name": "stdout"
        },
        {
          "output_type": "stream",
          "text": [
            "05/21/2021 10:58:09 - INFO - __main__ -   12352\n"
          ],
          "name": "stderr"
        },
        {
          "output_type": "stream",
          "text": [
            "step 12350\n",
            "loss: 2.5138769149780273\n"
          ],
          "name": "stdout"
        },
        {
          "output_type": "stream",
          "text": [
            "05/21/2021 10:58:27 - INFO - __main__ -   12402\n"
          ],
          "name": "stderr"
        },
        {
          "output_type": "stream",
          "text": [
            "step 12400\n",
            "loss: 1.8755085468292236\n"
          ],
          "name": "stdout"
        },
        {
          "output_type": "stream",
          "text": [
            "05/21/2021 10:58:45 - INFO - __main__ -   12452\n"
          ],
          "name": "stderr"
        },
        {
          "output_type": "stream",
          "text": [
            "step 12450\n",
            "loss: 1.9160456657409668\n"
          ],
          "name": "stdout"
        },
        {
          "output_type": "stream",
          "text": [
            "05/21/2021 10:59:04 - INFO - __main__ -   12502\n"
          ],
          "name": "stderr"
        },
        {
          "output_type": "stream",
          "text": [
            "step 12500\n",
            "loss: 1.9752683639526367\n"
          ],
          "name": "stdout"
        },
        {
          "output_type": "stream",
          "text": [
            "05/21/2021 10:59:22 - INFO - __main__ -   12552\n"
          ],
          "name": "stderr"
        },
        {
          "output_type": "stream",
          "text": [
            "step 12550\n",
            "loss: 1.9273662567138672\n"
          ],
          "name": "stdout"
        },
        {
          "output_type": "stream",
          "text": [
            "05/21/2021 10:59:40 - INFO - __main__ -   12602\n"
          ],
          "name": "stderr"
        },
        {
          "output_type": "stream",
          "text": [
            "step 12600\n",
            "loss: 1.8085219860076904\n"
          ],
          "name": "stdout"
        },
        {
          "output_type": "stream",
          "text": [
            "05/21/2021 10:59:59 - INFO - __main__ -   12652\n"
          ],
          "name": "stderr"
        },
        {
          "output_type": "stream",
          "text": [
            "step 12650\n",
            "loss: 1.9720219373703003\n"
          ],
          "name": "stdout"
        },
        {
          "output_type": "stream",
          "text": [
            "05/21/2021 11:00:17 - INFO - __main__ -   12702\n"
          ],
          "name": "stderr"
        },
        {
          "output_type": "stream",
          "text": [
            "step 12700\n",
            "loss: 2.105781316757202\n"
          ],
          "name": "stdout"
        },
        {
          "output_type": "stream",
          "text": [
            "05/21/2021 11:00:35 - INFO - __main__ -   12752\n"
          ],
          "name": "stderr"
        },
        {
          "output_type": "stream",
          "text": [
            "step 12750\n",
            "loss: 1.6916536092758179\n"
          ],
          "name": "stdout"
        },
        {
          "output_type": "stream",
          "text": [
            "05/21/2021 11:00:53 - INFO - __main__ -   12802\n"
          ],
          "name": "stderr"
        },
        {
          "output_type": "stream",
          "text": [
            "step 12800\n",
            "loss: 1.6007812023162842\n"
          ],
          "name": "stdout"
        },
        {
          "output_type": "stream",
          "text": [
            "05/21/2021 11:01:12 - INFO - __main__ -   12852\n"
          ],
          "name": "stderr"
        },
        {
          "output_type": "stream",
          "text": [
            "step 12850\n",
            "loss: 1.8310261964797974\n"
          ],
          "name": "stdout"
        },
        {
          "output_type": "stream",
          "text": [
            "05/21/2021 11:01:30 - INFO - __main__ -   12902\n"
          ],
          "name": "stderr"
        },
        {
          "output_type": "stream",
          "text": [
            "step 12900\n",
            "loss: 2.2032010555267334\n"
          ],
          "name": "stdout"
        },
        {
          "output_type": "stream",
          "text": [
            "05/21/2021 11:01:48 - INFO - __main__ -   12952\n"
          ],
          "name": "stderr"
        },
        {
          "output_type": "stream",
          "text": [
            "step 12950\n",
            "loss: 1.6793586015701294\n"
          ],
          "name": "stdout"
        },
        {
          "output_type": "stream",
          "text": [
            "05/21/2021 11:02:07 - INFO - __main__ -   13002\n"
          ],
          "name": "stderr"
        },
        {
          "output_type": "stream",
          "text": [
            "step 13000\n",
            "loss: 1.8104782104492188\n"
          ],
          "name": "stdout"
        },
        {
          "output_type": "stream",
          "text": [
            "05/21/2021 11:02:25 - INFO - __main__ -   13052\n"
          ],
          "name": "stderr"
        },
        {
          "output_type": "stream",
          "text": [
            "step 13050\n",
            "loss: 2.2324395179748535\n"
          ],
          "name": "stdout"
        },
        {
          "output_type": "stream",
          "text": [
            "05/21/2021 11:02:43 - INFO - __main__ -   13102\n"
          ],
          "name": "stderr"
        },
        {
          "output_type": "stream",
          "text": [
            "step 13100\n",
            "loss: 2.0041913986206055\n"
          ],
          "name": "stdout"
        },
        {
          "output_type": "stream",
          "text": [
            "05/21/2021 11:03:02 - INFO - __main__ -   13152\n"
          ],
          "name": "stderr"
        },
        {
          "output_type": "stream",
          "text": [
            "step 13150\n",
            "loss: 1.9192612171173096\n"
          ],
          "name": "stdout"
        },
        {
          "output_type": "stream",
          "text": [
            "05/21/2021 11:03:20 - INFO - __main__ -   13202\n"
          ],
          "name": "stderr"
        },
        {
          "output_type": "stream",
          "text": [
            "step 13200\n",
            "loss: 2.09464693069458\n"
          ],
          "name": "stdout"
        },
        {
          "output_type": "stream",
          "text": [
            "05/21/2021 11:03:38 - INFO - __main__ -   13252\n"
          ],
          "name": "stderr"
        },
        {
          "output_type": "stream",
          "text": [
            "step 13250\n",
            "loss: 1.7981499433517456\n"
          ],
          "name": "stdout"
        },
        {
          "output_type": "stream",
          "text": [
            "05/21/2021 11:03:57 - INFO - __main__ -   13302\n"
          ],
          "name": "stderr"
        },
        {
          "output_type": "stream",
          "text": [
            "step 13300\n",
            "loss: 1.9933953285217285\n"
          ],
          "name": "stdout"
        },
        {
          "output_type": "stream",
          "text": [
            "05/21/2021 11:04:15 - INFO - __main__ -   13352\n"
          ],
          "name": "stderr"
        },
        {
          "output_type": "stream",
          "text": [
            "step 13350\n",
            "loss: 1.6481587886810303\n"
          ],
          "name": "stdout"
        },
        {
          "output_type": "stream",
          "text": [
            "05/21/2021 11:04:34 - INFO - __main__ -   13402\n"
          ],
          "name": "stderr"
        },
        {
          "output_type": "stream",
          "text": [
            "step 13400\n",
            "loss: 1.6026968955993652\n"
          ],
          "name": "stdout"
        },
        {
          "output_type": "stream",
          "text": [
            "05/21/2021 11:04:52 - INFO - __main__ -   13452\n"
          ],
          "name": "stderr"
        },
        {
          "output_type": "stream",
          "text": [
            "step 13450\n",
            "loss: 1.685530424118042\n"
          ],
          "name": "stdout"
        },
        {
          "output_type": "stream",
          "text": [
            "05/21/2021 11:05:10 - INFO - __main__ -   13502\n"
          ],
          "name": "stderr"
        },
        {
          "output_type": "stream",
          "text": [
            "step 13500\n",
            "loss: 1.8011492490768433\n"
          ],
          "name": "stdout"
        },
        {
          "output_type": "stream",
          "text": [
            "05/21/2021 11:05:29 - INFO - __main__ -   13552\n"
          ],
          "name": "stderr"
        },
        {
          "output_type": "stream",
          "text": [
            "step 13550\n",
            "loss: 1.9804176092147827\n"
          ],
          "name": "stdout"
        },
        {
          "output_type": "stream",
          "text": [
            "05/21/2021 11:05:47 - INFO - __main__ -   13602\n"
          ],
          "name": "stderr"
        },
        {
          "output_type": "stream",
          "text": [
            "step 13600\n",
            "loss: 1.7506383657455444\n"
          ],
          "name": "stdout"
        },
        {
          "output_type": "stream",
          "text": [
            "05/21/2021 11:06:05 - INFO - __main__ -   13652\n"
          ],
          "name": "stderr"
        },
        {
          "output_type": "stream",
          "text": [
            "step 13650\n",
            "loss: 2.065500020980835\n"
          ],
          "name": "stdout"
        },
        {
          "output_type": "stream",
          "text": [
            "05/21/2021 11:06:24 - INFO - __main__ -   13702\n"
          ],
          "name": "stderr"
        },
        {
          "output_type": "stream",
          "text": [
            "step 13700\n",
            "loss: 1.6287680864334106\n"
          ],
          "name": "stdout"
        },
        {
          "output_type": "stream",
          "text": [
            "05/21/2021 11:06:42 - INFO - __main__ -   13752\n"
          ],
          "name": "stderr"
        },
        {
          "output_type": "stream",
          "text": [
            "step 13750\n",
            "loss: 1.7744712829589844\n"
          ],
          "name": "stdout"
        },
        {
          "output_type": "stream",
          "text": [
            "05/21/2021 11:07:01 - INFO - __main__ -   13802\n"
          ],
          "name": "stderr"
        },
        {
          "output_type": "stream",
          "text": [
            "step 13800\n",
            "loss: 1.6864718198776245\n"
          ],
          "name": "stdout"
        },
        {
          "output_type": "stream",
          "text": [
            "05/21/2021 11:07:19 - INFO - __main__ -   13852\n"
          ],
          "name": "stderr"
        },
        {
          "output_type": "stream",
          "text": [
            "step 13850\n",
            "loss: 2.1662092208862305\n"
          ],
          "name": "stdout"
        },
        {
          "output_type": "stream",
          "text": [
            "05/21/2021 11:07:37 - INFO - __main__ -   13902\n"
          ],
          "name": "stderr"
        },
        {
          "output_type": "stream",
          "text": [
            "step 13900\n",
            "loss: 1.934547781944275\n"
          ],
          "name": "stdout"
        },
        {
          "output_type": "stream",
          "text": [
            "05/21/2021 11:07:55 - INFO - __main__ -   13952\n"
          ],
          "name": "stderr"
        },
        {
          "output_type": "stream",
          "text": [
            "step 13950\n",
            "loss: 1.3840309381484985\n"
          ],
          "name": "stdout"
        },
        {
          "output_type": "stream",
          "text": [
            "05/21/2021 11:08:14 - INFO - __main__ -   14002\n"
          ],
          "name": "stderr"
        },
        {
          "output_type": "stream",
          "text": [
            "step 14000\n",
            "loss: 1.9037858247756958\n"
          ],
          "name": "stdout"
        },
        {
          "output_type": "stream",
          "text": [
            "05/21/2021 11:08:32 - INFO - __main__ -   14052\n"
          ],
          "name": "stderr"
        },
        {
          "output_type": "stream",
          "text": [
            "step 14050\n",
            "loss: 1.759746789932251\n",
            "Gradient overflow.  Skipping step, loss scaler 0 reducing loss scale to 16384.0\n"
          ],
          "name": "stdout"
        },
        {
          "output_type": "stream",
          "text": [
            "05/21/2021 11:08:50 - INFO - __main__ -   14102\n"
          ],
          "name": "stderr"
        },
        {
          "output_type": "stream",
          "text": [
            "step 14100\n",
            "loss: 2.114647626876831\n"
          ],
          "name": "stdout"
        },
        {
          "output_type": "stream",
          "text": [
            "05/21/2021 11:09:09 - INFO - __main__ -   14152\n"
          ],
          "name": "stderr"
        },
        {
          "output_type": "stream",
          "text": [
            "step 14150\n",
            "loss: 1.9138721227645874\n"
          ],
          "name": "stdout"
        },
        {
          "output_type": "stream",
          "text": [
            "05/21/2021 11:09:27 - INFO - __main__ -   14202\n"
          ],
          "name": "stderr"
        },
        {
          "output_type": "stream",
          "text": [
            "step 14200\n",
            "loss: 1.4588618278503418\n"
          ],
          "name": "stdout"
        },
        {
          "output_type": "stream",
          "text": [
            "05/21/2021 11:09:45 - INFO - __main__ -   14252\n"
          ],
          "name": "stderr"
        },
        {
          "output_type": "stream",
          "text": [
            "step 14250\n",
            "loss: 1.5539255142211914\n"
          ],
          "name": "stdout"
        },
        {
          "output_type": "stream",
          "text": [
            "05/21/2021 11:10:03 - INFO - __main__ -   14302\n"
          ],
          "name": "stderr"
        },
        {
          "output_type": "stream",
          "text": [
            "step 14300\n",
            "loss: 1.738592505455017\n"
          ],
          "name": "stdout"
        },
        {
          "output_type": "stream",
          "text": [
            "05/21/2021 11:10:22 - INFO - __main__ -   14352\n"
          ],
          "name": "stderr"
        },
        {
          "output_type": "stream",
          "text": [
            "step 14350\n",
            "loss: 2.435695171356201\n"
          ],
          "name": "stdout"
        },
        {
          "output_type": "stream",
          "text": [
            "05/21/2021 11:10:40 - INFO - __main__ -   14402\n"
          ],
          "name": "stderr"
        },
        {
          "output_type": "stream",
          "text": [
            "step 14400\n",
            "loss: 1.8833167552947998\n"
          ],
          "name": "stdout"
        },
        {
          "output_type": "stream",
          "text": [
            "05/21/2021 11:10:58 - INFO - __main__ -   14452\n"
          ],
          "name": "stderr"
        },
        {
          "output_type": "stream",
          "text": [
            "step 14450\n",
            "loss: 2.0004303455352783\n"
          ],
          "name": "stdout"
        },
        {
          "output_type": "stream",
          "text": [
            "05/21/2021 11:11:16 - INFO - __main__ -   14502\n"
          ],
          "name": "stderr"
        },
        {
          "output_type": "stream",
          "text": [
            "step 14500\n",
            "loss: 1.9051947593688965\n"
          ],
          "name": "stdout"
        },
        {
          "output_type": "stream",
          "text": [
            "05/21/2021 11:11:35 - INFO - __main__ -   14552\n"
          ],
          "name": "stderr"
        },
        {
          "output_type": "stream",
          "text": [
            "step 14550\n",
            "loss: 2.0806891918182373\n"
          ],
          "name": "stdout"
        },
        {
          "output_type": "stream",
          "text": [
            "05/21/2021 11:11:53 - INFO - __main__ -   14602\n"
          ],
          "name": "stderr"
        },
        {
          "output_type": "stream",
          "text": [
            "step 14600\n",
            "loss: 2.3103373050689697\n"
          ],
          "name": "stdout"
        },
        {
          "output_type": "stream",
          "text": [
            "05/21/2021 11:12:12 - INFO - __main__ -   14652\n"
          ],
          "name": "stderr"
        },
        {
          "output_type": "stream",
          "text": [
            "step 14650\n",
            "loss: 2.140594959259033\n"
          ],
          "name": "stdout"
        },
        {
          "output_type": "stream",
          "text": [
            "05/21/2021 11:12:30 - INFO - __main__ -   14702\n"
          ],
          "name": "stderr"
        },
        {
          "output_type": "stream",
          "text": [
            "step 14700\n",
            "loss: 1.726431131362915\n"
          ],
          "name": "stdout"
        },
        {
          "output_type": "stream",
          "text": [
            "05/21/2021 11:12:48 - INFO - __main__ -   14752\n"
          ],
          "name": "stderr"
        },
        {
          "output_type": "stream",
          "text": [
            "step 14750\n",
            "loss: 1.8880648612976074\n"
          ],
          "name": "stdout"
        },
        {
          "output_type": "stream",
          "text": [
            "05/21/2021 11:13:07 - INFO - __main__ -   14802\n"
          ],
          "name": "stderr"
        },
        {
          "output_type": "stream",
          "text": [
            "step 14800\n",
            "loss: 2.079598903656006\n"
          ],
          "name": "stdout"
        },
        {
          "output_type": "stream",
          "text": [
            "05/21/2021 11:13:25 - INFO - __main__ -   14852\n"
          ],
          "name": "stderr"
        },
        {
          "output_type": "stream",
          "text": [
            "step 14850\n",
            "loss: 1.6543114185333252\n"
          ],
          "name": "stdout"
        },
        {
          "output_type": "stream",
          "text": [
            "05/21/2021 11:13:43 - INFO - __main__ -   14902\n"
          ],
          "name": "stderr"
        },
        {
          "output_type": "stream",
          "text": [
            "step 14900\n",
            "loss: 1.7405985593795776\n"
          ],
          "name": "stdout"
        },
        {
          "output_type": "stream",
          "text": [
            "05/21/2021 11:14:01 - INFO - __main__ -   14952\n"
          ],
          "name": "stderr"
        },
        {
          "output_type": "stream",
          "text": [
            "step 14950\n",
            "loss: 1.800684928894043\n"
          ],
          "name": "stdout"
        },
        {
          "output_type": "stream",
          "text": [
            "05/21/2021 11:14:20 - INFO - __main__ -   15002\n"
          ],
          "name": "stderr"
        },
        {
          "output_type": "stream",
          "text": [
            "step 15000\n",
            "loss: 1.6351765394210815\n"
          ],
          "name": "stdout"
        },
        {
          "output_type": "stream",
          "text": [
            "05/21/2021 11:14:38 - INFO - __main__ -   15052\n"
          ],
          "name": "stderr"
        },
        {
          "output_type": "stream",
          "text": [
            "step 15050\n",
            "loss: 2.000368118286133\n"
          ],
          "name": "stdout"
        },
        {
          "output_type": "stream",
          "text": [
            "05/21/2021 11:14:57 - INFO - __main__ -   15102\n"
          ],
          "name": "stderr"
        },
        {
          "output_type": "stream",
          "text": [
            "step 15100\n",
            "loss: 1.919854998588562\n"
          ],
          "name": "stdout"
        },
        {
          "output_type": "stream",
          "text": [
            "05/21/2021 11:15:15 - INFO - __main__ -   15152\n"
          ],
          "name": "stderr"
        },
        {
          "output_type": "stream",
          "text": [
            "step 15150\n",
            "loss: 1.7794408798217773\n"
          ],
          "name": "stdout"
        },
        {
          "output_type": "stream",
          "text": [
            "05/21/2021 11:15:33 - INFO - __main__ -   15202\n"
          ],
          "name": "stderr"
        },
        {
          "output_type": "stream",
          "text": [
            "step 15200\n",
            "loss: 1.7079946994781494\n"
          ],
          "name": "stdout"
        },
        {
          "output_type": "stream",
          "text": [
            "05/21/2021 11:15:52 - INFO - __main__ -   15252\n"
          ],
          "name": "stderr"
        },
        {
          "output_type": "stream",
          "text": [
            "step 15250\n",
            "loss: 1.8073651790618896\n"
          ],
          "name": "stdout"
        },
        {
          "output_type": "stream",
          "text": [
            "05/21/2021 11:16:10 - INFO - __main__ -   15302\n"
          ],
          "name": "stderr"
        },
        {
          "output_type": "stream",
          "text": [
            "step 15300\n",
            "loss: 1.7452558279037476\n"
          ],
          "name": "stdout"
        },
        {
          "output_type": "stream",
          "text": [
            "05/21/2021 11:16:28 - INFO - __main__ -   15352\n"
          ],
          "name": "stderr"
        },
        {
          "output_type": "stream",
          "text": [
            "step 15350\n",
            "loss: 2.139234781265259\n"
          ],
          "name": "stdout"
        },
        {
          "output_type": "stream",
          "text": [
            "05/21/2021 11:16:47 - INFO - __main__ -   15402\n"
          ],
          "name": "stderr"
        },
        {
          "output_type": "stream",
          "text": [
            "step 15400\n",
            "loss: 1.728210210800171\n"
          ],
          "name": "stdout"
        },
        {
          "output_type": "stream",
          "text": [
            "05/21/2021 11:17:05 - INFO - __main__ -   15452\n"
          ],
          "name": "stderr"
        },
        {
          "output_type": "stream",
          "text": [
            "step 15450\n",
            "loss: 1.8536453247070312\n"
          ],
          "name": "stdout"
        },
        {
          "output_type": "stream",
          "text": [
            "05/21/2021 11:17:23 - INFO - __main__ -   15502\n"
          ],
          "name": "stderr"
        },
        {
          "output_type": "stream",
          "text": [
            "step 15500\n",
            "loss: 1.8313982486724854\n"
          ],
          "name": "stdout"
        },
        {
          "output_type": "stream",
          "text": [
            "05/21/2021 11:17:42 - INFO - __main__ -   15552\n"
          ],
          "name": "stderr"
        },
        {
          "output_type": "stream",
          "text": [
            "step 15550\n",
            "loss: 1.7279406785964966\n"
          ],
          "name": "stdout"
        },
        {
          "output_type": "stream",
          "text": [
            "05/21/2021 11:18:00 - INFO - __main__ -   15602\n"
          ],
          "name": "stderr"
        },
        {
          "output_type": "stream",
          "text": [
            "step 15600\n",
            "loss: 2.1803529262542725\n"
          ],
          "name": "stdout"
        },
        {
          "output_type": "stream",
          "text": [
            "05/21/2021 11:18:18 - INFO - __main__ -   15652\n"
          ],
          "name": "stderr"
        },
        {
          "output_type": "stream",
          "text": [
            "step 15650\n",
            "loss: 2.2551047801971436\n"
          ],
          "name": "stdout"
        },
        {
          "output_type": "stream",
          "text": [
            "05/21/2021 11:18:36 - INFO - __main__ -   15702\n"
          ],
          "name": "stderr"
        },
        {
          "output_type": "stream",
          "text": [
            "step 15700\n",
            "loss: 1.8064994812011719\n"
          ],
          "name": "stdout"
        },
        {
          "output_type": "stream",
          "text": [
            "05/21/2021 11:18:55 - INFO - __main__ -   15752\n"
          ],
          "name": "stderr"
        },
        {
          "output_type": "stream",
          "text": [
            "step 15750\n",
            "loss: 1.776628851890564\n"
          ],
          "name": "stdout"
        },
        {
          "output_type": "stream",
          "text": [
            "05/21/2021 11:19:13 - INFO - __main__ -   15802\n"
          ],
          "name": "stderr"
        },
        {
          "output_type": "stream",
          "text": [
            "step 15800\n",
            "loss: 1.8110737800598145\n"
          ],
          "name": "stdout"
        },
        {
          "output_type": "stream",
          "text": [
            "05/21/2021 11:19:31 - INFO - __main__ -   15852\n"
          ],
          "name": "stderr"
        },
        {
          "output_type": "stream",
          "text": [
            "step 15850\n",
            "loss: 2.2779974937438965\n"
          ],
          "name": "stdout"
        },
        {
          "output_type": "stream",
          "text": [
            "05/21/2021 11:19:49 - INFO - __main__ -   15902\n"
          ],
          "name": "stderr"
        },
        {
          "output_type": "stream",
          "text": [
            "step 15900\n",
            "loss: 1.5458872318267822\n"
          ],
          "name": "stdout"
        },
        {
          "output_type": "stream",
          "text": [
            "05/21/2021 11:20:08 - INFO - __main__ -   15952\n"
          ],
          "name": "stderr"
        },
        {
          "output_type": "stream",
          "text": [
            "step 15950\n",
            "loss: 1.487811803817749\n"
          ],
          "name": "stdout"
        },
        {
          "output_type": "stream",
          "text": [
            "05/21/2021 11:20:26 - INFO - __main__ -   16002\n"
          ],
          "name": "stderr"
        },
        {
          "output_type": "stream",
          "text": [
            "step 16000\n",
            "loss: 2.1451213359832764\n"
          ],
          "name": "stdout"
        },
        {
          "output_type": "stream",
          "text": [
            "05/21/2021 11:20:44 - INFO - __main__ -   16052\n"
          ],
          "name": "stderr"
        },
        {
          "output_type": "stream",
          "text": [
            "step 16050\n",
            "loss: 2.6418721675872803\n"
          ],
          "name": "stdout"
        },
        {
          "output_type": "stream",
          "text": [
            "05/21/2021 11:21:02 - INFO - __main__ -   16102\n"
          ],
          "name": "stderr"
        },
        {
          "output_type": "stream",
          "text": [
            "step 16100\n",
            "loss: 2.0000805854797363\n",
            "Gradient overflow.  Skipping step, loss scaler 0 reducing loss scale to 16384.0\n"
          ],
          "name": "stdout"
        },
        {
          "output_type": "stream",
          "text": [
            "05/21/2021 11:21:21 - INFO - __main__ -   16152\n"
          ],
          "name": "stderr"
        },
        {
          "output_type": "stream",
          "text": [
            "step 16150\n",
            "loss: 1.6595348119735718\n"
          ],
          "name": "stdout"
        },
        {
          "output_type": "stream",
          "text": [
            "05/21/2021 11:21:39 - INFO - __main__ -   16202\n"
          ],
          "name": "stderr"
        },
        {
          "output_type": "stream",
          "text": [
            "step 16200\n",
            "loss: 1.4626002311706543\n"
          ],
          "name": "stdout"
        },
        {
          "output_type": "stream",
          "text": [
            "05/21/2021 11:21:57 - INFO - __main__ -   16252\n"
          ],
          "name": "stderr"
        },
        {
          "output_type": "stream",
          "text": [
            "step 16250\n",
            "loss: 1.8019970655441284\n"
          ],
          "name": "stdout"
        },
        {
          "output_type": "stream",
          "text": [
            "05/21/2021 11:22:15 - INFO - __main__ -   16302\n"
          ],
          "name": "stderr"
        },
        {
          "output_type": "stream",
          "text": [
            "step 16300\n",
            "loss: 1.7587672472000122\n"
          ],
          "name": "stdout"
        },
        {
          "output_type": "stream",
          "text": [
            "05/21/2021 11:22:33 - INFO - __main__ -   16352\n"
          ],
          "name": "stderr"
        },
        {
          "output_type": "stream",
          "text": [
            "step 16350\n",
            "loss: 1.7822628021240234\n"
          ],
          "name": "stdout"
        },
        {
          "output_type": "stream",
          "text": [
            "05/21/2021 11:22:52 - INFO - __main__ -   16402\n"
          ],
          "name": "stderr"
        },
        {
          "output_type": "stream",
          "text": [
            "step 16400\n",
            "loss: 1.9292601346969604\n"
          ],
          "name": "stdout"
        },
        {
          "output_type": "stream",
          "text": [
            "05/21/2021 11:23:10 - INFO - __main__ -   16452\n"
          ],
          "name": "stderr"
        },
        {
          "output_type": "stream",
          "text": [
            "step 16450\n",
            "loss: 2.3680012226104736\n"
          ],
          "name": "stdout"
        },
        {
          "output_type": "stream",
          "text": [
            "05/21/2021 11:23:28 - INFO - __main__ -   16502\n"
          ],
          "name": "stderr"
        },
        {
          "output_type": "stream",
          "text": [
            "step 16500\n",
            "loss: 1.620072841644287\n"
          ],
          "name": "stdout"
        },
        {
          "output_type": "stream",
          "text": [
            "05/21/2021 11:23:47 - INFO - __main__ -   16552\n"
          ],
          "name": "stderr"
        },
        {
          "output_type": "stream",
          "text": [
            "step 16550\n",
            "loss: 1.9215354919433594\n"
          ],
          "name": "stdout"
        },
        {
          "output_type": "stream",
          "text": [
            "05/21/2021 11:24:05 - INFO - __main__ -   16602\n"
          ],
          "name": "stderr"
        },
        {
          "output_type": "stream",
          "text": [
            "step 16600\n",
            "loss: 1.7958214282989502\n"
          ],
          "name": "stdout"
        },
        {
          "output_type": "stream",
          "text": [
            "05/21/2021 11:24:23 - INFO - __main__ -   16652\n"
          ],
          "name": "stderr"
        },
        {
          "output_type": "stream",
          "text": [
            "step 16650\n",
            "loss: 2.0017619132995605\n"
          ],
          "name": "stdout"
        },
        {
          "output_type": "stream",
          "text": [
            "05/21/2021 11:24:41 - INFO - __main__ -   16702\n"
          ],
          "name": "stderr"
        },
        {
          "output_type": "stream",
          "text": [
            "step 16700\n",
            "loss: 1.8510727882385254\n"
          ],
          "name": "stdout"
        },
        {
          "output_type": "stream",
          "text": [
            "05/21/2021 11:24:59 - INFO - __main__ -   16752\n"
          ],
          "name": "stderr"
        },
        {
          "output_type": "stream",
          "text": [
            "step 16750\n",
            "loss: 1.4579466581344604\n"
          ],
          "name": "stdout"
        },
        {
          "output_type": "stream",
          "text": [
            "05/21/2021 11:25:18 - INFO - __main__ -   16802\n"
          ],
          "name": "stderr"
        },
        {
          "output_type": "stream",
          "text": [
            "step 16800\n",
            "loss: 1.8702473640441895\n"
          ],
          "name": "stdout"
        },
        {
          "output_type": "stream",
          "text": [
            "05/21/2021 11:25:36 - INFO - __main__ -   16852\n"
          ],
          "name": "stderr"
        },
        {
          "output_type": "stream",
          "text": [
            "step 16850\n",
            "loss: 1.9994587898254395\n"
          ],
          "name": "stdout"
        },
        {
          "output_type": "stream",
          "text": [
            "05/21/2021 11:25:54 - INFO - __main__ -   16902\n"
          ],
          "name": "stderr"
        },
        {
          "output_type": "stream",
          "text": [
            "step 16900\n",
            "loss: 2.0662841796875\n"
          ],
          "name": "stdout"
        },
        {
          "output_type": "stream",
          "text": [
            "05/21/2021 11:26:12 - INFO - __main__ -   16952\n"
          ],
          "name": "stderr"
        },
        {
          "output_type": "stream",
          "text": [
            "step 16950\n",
            "loss: 1.6395543813705444\n"
          ],
          "name": "stdout"
        },
        {
          "output_type": "stream",
          "text": [
            "05/21/2021 11:26:31 - INFO - __main__ -   17002\n"
          ],
          "name": "stderr"
        },
        {
          "output_type": "stream",
          "text": [
            "step 17000\n",
            "loss: 1.9921069145202637\n"
          ],
          "name": "stdout"
        },
        {
          "output_type": "stream",
          "text": [
            "05/21/2021 11:26:49 - INFO - __main__ -   17052\n"
          ],
          "name": "stderr"
        },
        {
          "output_type": "stream",
          "text": [
            "step 17050\n",
            "loss: 1.924977421760559\n"
          ],
          "name": "stdout"
        },
        {
          "output_type": "stream",
          "text": [
            "05/21/2021 11:27:07 - INFO - __main__ -   17102\n"
          ],
          "name": "stderr"
        },
        {
          "output_type": "stream",
          "text": [
            "step 17100\n",
            "loss: 1.6451401710510254\n"
          ],
          "name": "stdout"
        },
        {
          "output_type": "stream",
          "text": [
            "05/21/2021 11:27:26 - INFO - __main__ -   17152\n"
          ],
          "name": "stderr"
        },
        {
          "output_type": "stream",
          "text": [
            "step 17150\n",
            "loss: 1.9194085597991943\n"
          ],
          "name": "stdout"
        },
        {
          "output_type": "stream",
          "text": [
            "05/21/2021 11:27:44 - INFO - __main__ -   17202\n"
          ],
          "name": "stderr"
        },
        {
          "output_type": "stream",
          "text": [
            "step 17200\n",
            "loss: 1.5969958305358887\n"
          ],
          "name": "stdout"
        },
        {
          "output_type": "stream",
          "text": [
            "05/21/2021 11:28:02 - INFO - __main__ -   17252\n"
          ],
          "name": "stderr"
        },
        {
          "output_type": "stream",
          "text": [
            "step 17250\n",
            "loss: 2.0381429195404053\n"
          ],
          "name": "stdout"
        },
        {
          "output_type": "stream",
          "text": [
            "05/21/2021 11:28:21 - INFO - __main__ -   17302\n"
          ],
          "name": "stderr"
        },
        {
          "output_type": "stream",
          "text": [
            "step 17300\n",
            "loss: 1.6036914587020874\n"
          ],
          "name": "stdout"
        },
        {
          "output_type": "stream",
          "text": [
            "05/21/2021 11:28:39 - INFO - __main__ -   17352\n"
          ],
          "name": "stderr"
        },
        {
          "output_type": "stream",
          "text": [
            "step 17350\n",
            "loss: 1.931941270828247\n"
          ],
          "name": "stdout"
        },
        {
          "output_type": "stream",
          "text": [
            "05/21/2021 11:28:57 - INFO - __main__ -   17402\n"
          ],
          "name": "stderr"
        },
        {
          "output_type": "stream",
          "text": [
            "step 17400\n",
            "loss: 1.788729190826416\n"
          ],
          "name": "stdout"
        },
        {
          "output_type": "stream",
          "text": [
            "05/21/2021 11:29:15 - INFO - __main__ -   17452\n"
          ],
          "name": "stderr"
        },
        {
          "output_type": "stream",
          "text": [
            "step 17450\n",
            "loss: 1.9198317527770996\n"
          ],
          "name": "stdout"
        },
        {
          "output_type": "stream",
          "text": [
            "05/21/2021 11:29:34 - INFO - __main__ -   17502\n"
          ],
          "name": "stderr"
        },
        {
          "output_type": "stream",
          "text": [
            "step 17500\n",
            "loss: 2.460249662399292\n"
          ],
          "name": "stdout"
        },
        {
          "output_type": "stream",
          "text": [
            "05/21/2021 11:29:52 - INFO - __main__ -   17552\n"
          ],
          "name": "stderr"
        },
        {
          "output_type": "stream",
          "text": [
            "step 17550\n",
            "loss: 1.459604024887085\n"
          ],
          "name": "stdout"
        },
        {
          "output_type": "stream",
          "text": [
            "05/21/2021 11:30:10 - INFO - __main__ -   17602\n"
          ],
          "name": "stderr"
        },
        {
          "output_type": "stream",
          "text": [
            "step 17600\n",
            "loss: 1.514993667602539\n"
          ],
          "name": "stdout"
        },
        {
          "output_type": "stream",
          "text": [
            "05/21/2021 11:30:28 - INFO - __main__ -   17652\n"
          ],
          "name": "stderr"
        },
        {
          "output_type": "stream",
          "text": [
            "step 17650\n",
            "loss: 2.176361083984375\n"
          ],
          "name": "stdout"
        },
        {
          "output_type": "stream",
          "text": [
            "05/21/2021 11:30:46 - INFO - __main__ -   17702\n"
          ],
          "name": "stderr"
        },
        {
          "output_type": "stream",
          "text": [
            "step 17700\n",
            "loss: 1.2452930212020874\n"
          ],
          "name": "stdout"
        },
        {
          "output_type": "stream",
          "text": [
            "05/21/2021 11:31:05 - INFO - __main__ -   17752\n"
          ],
          "name": "stderr"
        },
        {
          "output_type": "stream",
          "text": [
            "step 17750\n",
            "loss: 2.1988000869750977\n"
          ],
          "name": "stdout"
        },
        {
          "output_type": "stream",
          "text": [
            "05/21/2021 11:31:23 - INFO - __main__ -   17802\n"
          ],
          "name": "stderr"
        },
        {
          "output_type": "stream",
          "text": [
            "step 17800\n",
            "loss: 1.8423845767974854\n"
          ],
          "name": "stdout"
        },
        {
          "output_type": "stream",
          "text": [
            "05/21/2021 11:31:41 - INFO - __main__ -   17852\n"
          ],
          "name": "stderr"
        },
        {
          "output_type": "stream",
          "text": [
            "step 17850\n",
            "loss: 1.8917877674102783\n"
          ],
          "name": "stdout"
        },
        {
          "output_type": "stream",
          "text": [
            "05/21/2021 11:32:00 - INFO - __main__ -   17902\n"
          ],
          "name": "stderr"
        },
        {
          "output_type": "stream",
          "text": [
            "step 17900\n",
            "loss: 1.8799904584884644\n"
          ],
          "name": "stdout"
        },
        {
          "output_type": "stream",
          "text": [
            "05/21/2021 11:32:18 - INFO - __main__ -   17952\n"
          ],
          "name": "stderr"
        },
        {
          "output_type": "stream",
          "text": [
            "step 17950\n",
            "loss: 1.857020616531372\n"
          ],
          "name": "stdout"
        },
        {
          "output_type": "stream",
          "text": [
            "05/21/2021 11:32:36 - INFO - __main__ -   18002\n"
          ],
          "name": "stderr"
        },
        {
          "output_type": "stream",
          "text": [
            "step 18000\n",
            "loss: 2.1771254539489746\n"
          ],
          "name": "stdout"
        },
        {
          "output_type": "stream",
          "text": [
            "05/21/2021 11:32:54 - INFO - __main__ -   18052\n"
          ],
          "name": "stderr"
        },
        {
          "output_type": "stream",
          "text": [
            "step 18050\n",
            "loss: 1.7540229558944702\n"
          ],
          "name": "stdout"
        },
        {
          "output_type": "stream",
          "text": [
            "05/21/2021 11:33:12 - INFO - __main__ -   18102\n"
          ],
          "name": "stderr"
        },
        {
          "output_type": "stream",
          "text": [
            "step 18100\n",
            "loss: 2.215141534805298\n"
          ],
          "name": "stdout"
        },
        {
          "output_type": "stream",
          "text": [
            "05/21/2021 11:33:31 - INFO - __main__ -   18152\n"
          ],
          "name": "stderr"
        },
        {
          "output_type": "stream",
          "text": [
            "step 18150\n",
            "loss: 1.706378698348999\n"
          ],
          "name": "stdout"
        },
        {
          "output_type": "stream",
          "text": [
            "05/21/2021 11:33:49 - INFO - __main__ -   18202\n"
          ],
          "name": "stderr"
        },
        {
          "output_type": "stream",
          "text": [
            "step 18200\n",
            "loss: 1.5996760129928589\n",
            "Gradient overflow.  Skipping step, loss scaler 0 reducing loss scale to 16384.0\n"
          ],
          "name": "stdout"
        },
        {
          "output_type": "stream",
          "text": [
            "05/21/2021 11:34:07 - INFO - __main__ -   18252\n"
          ],
          "name": "stderr"
        },
        {
          "output_type": "stream",
          "text": [
            "step 18250\n",
            "loss: 1.963228702545166\n"
          ],
          "name": "stdout"
        },
        {
          "output_type": "stream",
          "text": [
            "05/21/2021 11:34:25 - INFO - __main__ -   18302\n"
          ],
          "name": "stderr"
        },
        {
          "output_type": "stream",
          "text": [
            "step 18300\n",
            "loss: 1.7810397148132324\n"
          ],
          "name": "stdout"
        },
        {
          "output_type": "stream",
          "text": [
            "05/21/2021 11:34:43 - INFO - __main__ -   18352\n"
          ],
          "name": "stderr"
        },
        {
          "output_type": "stream",
          "text": [
            "step 18350\n",
            "loss: 1.6341480016708374\n"
          ],
          "name": "stdout"
        },
        {
          "output_type": "stream",
          "text": [
            "05/21/2021 11:35:01 - INFO - __main__ -   18402\n"
          ],
          "name": "stderr"
        },
        {
          "output_type": "stream",
          "text": [
            "step 18400\n",
            "loss: 1.9248971939086914\n"
          ],
          "name": "stdout"
        },
        {
          "output_type": "stream",
          "text": [
            "05/21/2021 11:35:19 - INFO - __main__ -   18452\n"
          ],
          "name": "stderr"
        },
        {
          "output_type": "stream",
          "text": [
            "step 18450\n",
            "loss: 1.9308645725250244\n"
          ],
          "name": "stdout"
        },
        {
          "output_type": "stream",
          "text": [
            "05/21/2021 11:35:38 - INFO - __main__ -   18502\n"
          ],
          "name": "stderr"
        },
        {
          "output_type": "stream",
          "text": [
            "step 18500\n",
            "loss: 1.8914896249771118\n"
          ],
          "name": "stdout"
        },
        {
          "output_type": "stream",
          "text": [
            "05/21/2021 11:35:56 - INFO - __main__ -   18552\n"
          ],
          "name": "stderr"
        },
        {
          "output_type": "stream",
          "text": [
            "step 18550\n",
            "loss: 2.0912954807281494\n"
          ],
          "name": "stdout"
        },
        {
          "output_type": "stream",
          "text": [
            "05/21/2021 11:36:14 - INFO - __main__ -   18602\n"
          ],
          "name": "stderr"
        },
        {
          "output_type": "stream",
          "text": [
            "step 18600\n",
            "loss: 2.000694751739502\n"
          ],
          "name": "stdout"
        },
        {
          "output_type": "stream",
          "text": [
            "05/21/2021 11:36:32 - INFO - __main__ -   18652\n"
          ],
          "name": "stderr"
        },
        {
          "output_type": "stream",
          "text": [
            "step 18650\n",
            "loss: 1.6620852947235107\n"
          ],
          "name": "stdout"
        },
        {
          "output_type": "stream",
          "text": [
            "05/21/2021 11:36:50 - INFO - __main__ -   18702\n"
          ],
          "name": "stderr"
        },
        {
          "output_type": "stream",
          "text": [
            "step 18700\n",
            "loss: 1.876423716545105\n"
          ],
          "name": "stdout"
        },
        {
          "output_type": "stream",
          "text": [
            "05/21/2021 11:37:09 - INFO - __main__ -   18752\n"
          ],
          "name": "stderr"
        },
        {
          "output_type": "stream",
          "text": [
            "step 18750\n",
            "loss: 1.7569825649261475\n"
          ],
          "name": "stdout"
        },
        {
          "output_type": "stream",
          "text": [
            "05/21/2021 11:37:27 - INFO - __main__ -   18802\n"
          ],
          "name": "stderr"
        },
        {
          "output_type": "stream",
          "text": [
            "step 18800\n",
            "loss: 1.5855600833892822\n",
            "An error happens, break\n",
            "An error in this batch, break\n"
          ],
          "name": "stdout"
        },
        {
          "output_type": "stream",
          "text": [
            "05/21/2021 11:37:45 - INFO - __main__ -   18853\n"
          ],
          "name": "stderr"
        },
        {
          "output_type": "stream",
          "text": [
            "step 18850\n",
            "loss: 1.652280330657959\n"
          ],
          "name": "stdout"
        },
        {
          "output_type": "stream",
          "text": [
            "05/21/2021 11:38:03 - INFO - __main__ -   18903\n"
          ],
          "name": "stderr"
        },
        {
          "output_type": "stream",
          "text": [
            "step 18900\n",
            "loss: 2.063798189163208\n"
          ],
          "name": "stdout"
        },
        {
          "output_type": "stream",
          "text": [
            "05/21/2021 11:38:21 - INFO - __main__ -   18953\n"
          ],
          "name": "stderr"
        },
        {
          "output_type": "stream",
          "text": [
            "step 18950\n",
            "loss: 1.563073754310608\n"
          ],
          "name": "stdout"
        },
        {
          "output_type": "stream",
          "text": [
            "05/21/2021 11:38:39 - INFO - __main__ -   19003\n"
          ],
          "name": "stderr"
        },
        {
          "output_type": "stream",
          "text": [
            "step 19000\n",
            "loss: 1.8303256034851074\n"
          ],
          "name": "stdout"
        },
        {
          "output_type": "stream",
          "text": [
            "05/21/2021 11:38:58 - INFO - __main__ -   19053\n"
          ],
          "name": "stderr"
        },
        {
          "output_type": "stream",
          "text": [
            "step 19050\n",
            "loss: 1.67808198928833\n"
          ],
          "name": "stdout"
        },
        {
          "output_type": "stream",
          "text": [
            "05/21/2021 11:39:16 - INFO - __main__ -   19103\n"
          ],
          "name": "stderr"
        },
        {
          "output_type": "stream",
          "text": [
            "step 19100\n",
            "loss: 1.6140601634979248\n"
          ],
          "name": "stdout"
        },
        {
          "output_type": "stream",
          "text": [
            "05/21/2021 11:39:34 - INFO - __main__ -   19153\n"
          ],
          "name": "stderr"
        },
        {
          "output_type": "stream",
          "text": [
            "step 19150\n",
            "loss: 1.9220105409622192\n"
          ],
          "name": "stdout"
        },
        {
          "output_type": "stream",
          "text": [
            "05/21/2021 11:39:52 - INFO - __main__ -   19203\n"
          ],
          "name": "stderr"
        },
        {
          "output_type": "stream",
          "text": [
            "step 19200\n",
            "loss: 1.8152354955673218\n"
          ],
          "name": "stdout"
        },
        {
          "output_type": "stream",
          "text": [
            "05/21/2021 11:40:10 - INFO - __main__ -   19253\n"
          ],
          "name": "stderr"
        },
        {
          "output_type": "stream",
          "text": [
            "step 19250\n",
            "loss: 2.0290184020996094\n"
          ],
          "name": "stdout"
        },
        {
          "output_type": "stream",
          "text": [
            "05/21/2021 11:40:29 - INFO - __main__ -   19303\n"
          ],
          "name": "stderr"
        },
        {
          "output_type": "stream",
          "text": [
            "step 19300\n",
            "loss: 2.138564109802246\n"
          ],
          "name": "stdout"
        },
        {
          "output_type": "stream",
          "text": [
            "05/21/2021 11:40:47 - INFO - __main__ -   19353\n"
          ],
          "name": "stderr"
        },
        {
          "output_type": "stream",
          "text": [
            "step 19350\n",
            "loss: 2.0245466232299805\n"
          ],
          "name": "stdout"
        },
        {
          "output_type": "stream",
          "text": [
            "05/21/2021 11:41:05 - INFO - __main__ -   19403\n"
          ],
          "name": "stderr"
        },
        {
          "output_type": "stream",
          "text": [
            "step 19400\n",
            "loss: 1.811564564704895\n"
          ],
          "name": "stdout"
        },
        {
          "output_type": "stream",
          "text": [
            "05/21/2021 11:41:23 - INFO - __main__ -   19453\n"
          ],
          "name": "stderr"
        },
        {
          "output_type": "stream",
          "text": [
            "step 19450\n",
            "loss: 1.712852954864502\n"
          ],
          "name": "stdout"
        },
        {
          "output_type": "stream",
          "text": [
            "05/21/2021 11:41:42 - INFO - __main__ -   19503\n"
          ],
          "name": "stderr"
        },
        {
          "output_type": "stream",
          "text": [
            "step 19500\n",
            "loss: 1.842259407043457\n"
          ],
          "name": "stdout"
        },
        {
          "output_type": "stream",
          "text": [
            "05/21/2021 11:42:00 - INFO - __main__ -   19553\n"
          ],
          "name": "stderr"
        },
        {
          "output_type": "stream",
          "text": [
            "step 19550\n",
            "loss: 1.6333802938461304\n"
          ],
          "name": "stdout"
        },
        {
          "output_type": "stream",
          "text": [
            "05/21/2021 11:42:18 - INFO - __main__ -   19603\n"
          ],
          "name": "stderr"
        },
        {
          "output_type": "stream",
          "text": [
            "step 19600\n",
            "loss: 1.5907232761383057\n"
          ],
          "name": "stdout"
        },
        {
          "output_type": "stream",
          "text": [
            "05/21/2021 11:42:37 - INFO - __main__ -   19653\n"
          ],
          "name": "stderr"
        },
        {
          "output_type": "stream",
          "text": [
            "step 19650\n",
            "loss: 1.5462677478790283\n"
          ],
          "name": "stdout"
        },
        {
          "output_type": "stream",
          "text": [
            "05/21/2021 11:42:55 - INFO - __main__ -   19703\n"
          ],
          "name": "stderr"
        },
        {
          "output_type": "stream",
          "text": [
            "step 19700\n",
            "loss: 1.9925369024276733\n"
          ],
          "name": "stdout"
        },
        {
          "output_type": "stream",
          "text": [
            "05/21/2021 11:43:13 - INFO - __main__ -   19753\n"
          ],
          "name": "stderr"
        },
        {
          "output_type": "stream",
          "text": [
            "step 19750\n",
            "loss: 2.2065396308898926\n"
          ],
          "name": "stdout"
        },
        {
          "output_type": "stream",
          "text": [
            "05/21/2021 11:43:32 - INFO - __main__ -   19803\n"
          ],
          "name": "stderr"
        },
        {
          "output_type": "stream",
          "text": [
            "step 19800\n",
            "loss: 1.814520239830017\n"
          ],
          "name": "stdout"
        },
        {
          "output_type": "stream",
          "text": [
            "05/21/2021 11:43:50 - INFO - __main__ -   19853\n"
          ],
          "name": "stderr"
        },
        {
          "output_type": "stream",
          "text": [
            "step 19850\n",
            "loss: 1.701862096786499\n"
          ],
          "name": "stdout"
        },
        {
          "output_type": "stream",
          "text": [
            "05/21/2021 11:44:08 - INFO - __main__ -   19903\n"
          ],
          "name": "stderr"
        },
        {
          "output_type": "stream",
          "text": [
            "step 19900\n",
            "loss: 1.9308120012283325\n"
          ],
          "name": "stdout"
        },
        {
          "output_type": "stream",
          "text": [
            "05/21/2021 11:44:27 - INFO - __main__ -   19953\n"
          ],
          "name": "stderr"
        },
        {
          "output_type": "stream",
          "text": [
            "step 19950\n",
            "loss: 1.8388601541519165\n"
          ],
          "name": "stdout"
        },
        {
          "output_type": "stream",
          "text": [
            "05/21/2021 11:44:45 - INFO - __main__ -   20003\n",
            "05/21/2021 11:44:45 - INFO - __main__ -   Saving model checkpoint to ./gdrive/MyDrive/COMP0087/model_checkpoint\n"
          ],
          "name": "stderr"
        },
        {
          "output_type": "stream",
          "text": [
            "step 20000\n",
            "loss: 1.6947052478790283\n"
          ],
          "name": "stdout"
        },
        {
          "output_type": "stream",
          "text": [
            "05/21/2021 11:45:09 - INFO - __main__ -   20053\n"
          ],
          "name": "stderr"
        },
        {
          "output_type": "stream",
          "text": [
            "step 20050\n",
            "loss: 1.4140468835830688\n"
          ],
          "name": "stdout"
        },
        {
          "output_type": "stream",
          "text": [
            "05/21/2021 11:45:27 - INFO - __main__ -   20103\n"
          ],
          "name": "stderr"
        },
        {
          "output_type": "stream",
          "text": [
            "step 20100\n",
            "loss: 1.7539138793945312\n"
          ],
          "name": "stdout"
        },
        {
          "output_type": "stream",
          "text": [
            "05/21/2021 11:45:46 - INFO - __main__ -   20153\n"
          ],
          "name": "stderr"
        },
        {
          "output_type": "stream",
          "text": [
            "step 20150\n",
            "loss: 1.7635960578918457\n"
          ],
          "name": "stdout"
        },
        {
          "output_type": "stream",
          "text": [
            "05/21/2021 11:46:04 - INFO - __main__ -   20203\n"
          ],
          "name": "stderr"
        },
        {
          "output_type": "stream",
          "text": [
            "step 20200\n",
            "loss: 1.7317149639129639\n",
            "Gradient overflow.  Skipping step, loss scaler 0 reducing loss scale to 16384.0\n"
          ],
          "name": "stdout"
        },
        {
          "output_type": "stream",
          "text": [
            "05/21/2021 11:46:22 - INFO - __main__ -   20253\n"
          ],
          "name": "stderr"
        },
        {
          "output_type": "stream",
          "text": [
            "step 20250\n",
            "loss: 2.056732654571533\n"
          ],
          "name": "stdout"
        },
        {
          "output_type": "stream",
          "text": [
            "05/21/2021 11:46:41 - INFO - __main__ -   20303\n"
          ],
          "name": "stderr"
        },
        {
          "output_type": "stream",
          "text": [
            "step 20300\n",
            "loss: 1.4294804334640503\n"
          ],
          "name": "stdout"
        },
        {
          "output_type": "stream",
          "text": [
            "05/21/2021 11:46:59 - INFO - __main__ -   20353\n"
          ],
          "name": "stderr"
        },
        {
          "output_type": "stream",
          "text": [
            "step 20350\n",
            "loss: 1.5008773803710938\n"
          ],
          "name": "stdout"
        },
        {
          "output_type": "stream",
          "text": [
            "05/21/2021 11:47:17 - INFO - __main__ -   20403\n"
          ],
          "name": "stderr"
        },
        {
          "output_type": "stream",
          "text": [
            "step 20400\n",
            "loss: 1.9570673704147339\n"
          ],
          "name": "stdout"
        },
        {
          "output_type": "stream",
          "text": [
            "05/21/2021 11:47:35 - INFO - __main__ -   20453\n"
          ],
          "name": "stderr"
        },
        {
          "output_type": "stream",
          "text": [
            "step 20450\n",
            "loss: 1.7461087703704834\n"
          ],
          "name": "stdout"
        },
        {
          "output_type": "stream",
          "text": [
            "05/21/2021 11:47:53 - INFO - __main__ -   20503\n"
          ],
          "name": "stderr"
        },
        {
          "output_type": "stream",
          "text": [
            "step 20500\n",
            "loss: 1.7920714616775513\n"
          ],
          "name": "stdout"
        },
        {
          "output_type": "stream",
          "text": [
            "05/21/2021 11:48:12 - INFO - __main__ -   20553\n"
          ],
          "name": "stderr"
        },
        {
          "output_type": "stream",
          "text": [
            "step 20550\n",
            "loss: 1.7914241552352905\n"
          ],
          "name": "stdout"
        },
        {
          "output_type": "stream",
          "text": [
            "05/21/2021 11:48:30 - INFO - __main__ -   20603\n"
          ],
          "name": "stderr"
        },
        {
          "output_type": "stream",
          "text": [
            "step 20600\n",
            "loss: 1.7922438383102417\n"
          ],
          "name": "stdout"
        },
        {
          "output_type": "stream",
          "text": [
            "05/21/2021 11:48:48 - INFO - __main__ -   20653\n"
          ],
          "name": "stderr"
        },
        {
          "output_type": "stream",
          "text": [
            "step 20650\n",
            "loss: 1.7130107879638672\n"
          ],
          "name": "stdout"
        },
        {
          "output_type": "stream",
          "text": [
            "05/21/2021 11:49:06 - INFO - __main__ -   20703\n"
          ],
          "name": "stderr"
        },
        {
          "output_type": "stream",
          "text": [
            "step 20700\n",
            "loss: 2.032136917114258\n"
          ],
          "name": "stdout"
        },
        {
          "output_type": "stream",
          "text": [
            "05/21/2021 11:49:25 - INFO - __main__ -   20753\n"
          ],
          "name": "stderr"
        },
        {
          "output_type": "stream",
          "text": [
            "step 20750\n",
            "loss: 1.7754809856414795\n"
          ],
          "name": "stdout"
        },
        {
          "output_type": "stream",
          "text": [
            "05/21/2021 11:49:43 - INFO - __main__ -   20803\n"
          ],
          "name": "stderr"
        },
        {
          "output_type": "stream",
          "text": [
            "step 20800\n",
            "loss: 1.5225543975830078\n"
          ],
          "name": "stdout"
        },
        {
          "output_type": "stream",
          "text": [
            "05/21/2021 11:50:01 - INFO - __main__ -   20853\n"
          ],
          "name": "stderr"
        },
        {
          "output_type": "stream",
          "text": [
            "step 20850\n",
            "loss: 1.824387788772583\n",
            "Gradient overflow.  Skipping step, loss scaler 0 reducing loss scale to 8192.0\n"
          ],
          "name": "stdout"
        },
        {
          "output_type": "stream",
          "text": [
            "05/21/2021 11:50:19 - INFO - __main__ -   20903\n"
          ],
          "name": "stderr"
        },
        {
          "output_type": "stream",
          "text": [
            "step 20900\n",
            "loss: 1.87063729763031\n"
          ],
          "name": "stdout"
        },
        {
          "output_type": "stream",
          "text": [
            "05/21/2021 11:50:38 - INFO - __main__ -   20953\n"
          ],
          "name": "stderr"
        },
        {
          "output_type": "stream",
          "text": [
            "step 20950\n",
            "loss: 1.7497872114181519\n"
          ],
          "name": "stdout"
        },
        {
          "output_type": "stream",
          "text": [
            "05/21/2021 11:50:56 - INFO - __main__ -   21003\n"
          ],
          "name": "stderr"
        },
        {
          "output_type": "stream",
          "text": [
            "step 21000\n",
            "loss: 1.7662237882614136\n"
          ],
          "name": "stdout"
        },
        {
          "output_type": "stream",
          "text": [
            "05/21/2021 11:51:14 - INFO - __main__ -   21053\n"
          ],
          "name": "stderr"
        },
        {
          "output_type": "stream",
          "text": [
            "step 21050\n",
            "loss: 1.6083929538726807\n"
          ],
          "name": "stdout"
        },
        {
          "output_type": "stream",
          "text": [
            "05/21/2021 11:51:32 - INFO - __main__ -   21103\n"
          ],
          "name": "stderr"
        },
        {
          "output_type": "stream",
          "text": [
            "step 21100\n",
            "loss: 1.9253019094467163\n"
          ],
          "name": "stdout"
        },
        {
          "output_type": "stream",
          "text": [
            "05/21/2021 11:51:51 - INFO - __main__ -   21153\n"
          ],
          "name": "stderr"
        },
        {
          "output_type": "stream",
          "text": [
            "step 21150\n",
            "loss: 1.8535301685333252\n"
          ],
          "name": "stdout"
        },
        {
          "output_type": "stream",
          "text": [
            "05/21/2021 11:52:09 - INFO - __main__ -   21203\n"
          ],
          "name": "stderr"
        },
        {
          "output_type": "stream",
          "text": [
            "step 21200\n",
            "loss: 1.6942206621170044\n"
          ],
          "name": "stdout"
        },
        {
          "output_type": "stream",
          "text": [
            "05/21/2021 11:52:27 - INFO - __main__ -   21253\n"
          ],
          "name": "stderr"
        },
        {
          "output_type": "stream",
          "text": [
            "step 21250\n",
            "loss: 1.7298117876052856\n"
          ],
          "name": "stdout"
        },
        {
          "output_type": "stream",
          "text": [
            "05/21/2021 11:52:45 - INFO - __main__ -   21303\n"
          ],
          "name": "stderr"
        },
        {
          "output_type": "stream",
          "text": [
            "step 21300\n",
            "loss: 1.9073197841644287\n"
          ],
          "name": "stdout"
        },
        {
          "output_type": "stream",
          "text": [
            "05/21/2021 11:53:04 - INFO - __main__ -   21353\n"
          ],
          "name": "stderr"
        },
        {
          "output_type": "stream",
          "text": [
            "step 21350\n",
            "loss: 1.7165826559066772\n"
          ],
          "name": "stdout"
        },
        {
          "output_type": "stream",
          "text": [
            "05/21/2021 11:53:22 - INFO - __main__ -   21403\n"
          ],
          "name": "stderr"
        },
        {
          "output_type": "stream",
          "text": [
            "step 21400\n",
            "loss: 1.8818646669387817\n"
          ],
          "name": "stdout"
        },
        {
          "output_type": "stream",
          "text": [
            "05/21/2021 11:53:40 - INFO - __main__ -   21453\n"
          ],
          "name": "stderr"
        },
        {
          "output_type": "stream",
          "text": [
            "step 21450\n",
            "loss: 2.3991761207580566\n"
          ],
          "name": "stdout"
        },
        {
          "output_type": "stream",
          "text": [
            "05/21/2021 11:53:58 - INFO - __main__ -   21503\n"
          ],
          "name": "stderr"
        },
        {
          "output_type": "stream",
          "text": [
            "step 21500\n",
            "loss: 1.8978124856948853\n"
          ],
          "name": "stdout"
        },
        {
          "output_type": "stream",
          "text": [
            "05/21/2021 11:54:17 - INFO - __main__ -   21553\n"
          ],
          "name": "stderr"
        },
        {
          "output_type": "stream",
          "text": [
            "step 21550\n",
            "loss: 1.5355031490325928\n"
          ],
          "name": "stdout"
        },
        {
          "output_type": "stream",
          "text": [
            "05/21/2021 11:54:35 - INFO - __main__ -   21603\n"
          ],
          "name": "stderr"
        },
        {
          "output_type": "stream",
          "text": [
            "step 21600\n",
            "loss: 2.2389235496520996\n"
          ],
          "name": "stdout"
        },
        {
          "output_type": "stream",
          "text": [
            "05/21/2021 11:54:53 - INFO - __main__ -   21653\n"
          ],
          "name": "stderr"
        },
        {
          "output_type": "stream",
          "text": [
            "step 21650\n",
            "loss: 1.7874755859375\n"
          ],
          "name": "stdout"
        },
        {
          "output_type": "stream",
          "text": [
            "05/21/2021 11:55:11 - INFO - __main__ -   21703\n"
          ],
          "name": "stderr"
        },
        {
          "output_type": "stream",
          "text": [
            "step 21700\n",
            "loss: 1.7123454809188843\n"
          ],
          "name": "stdout"
        },
        {
          "output_type": "stream",
          "text": [
            "05/21/2021 11:55:30 - INFO - __main__ -   21753\n"
          ],
          "name": "stderr"
        },
        {
          "output_type": "stream",
          "text": [
            "step 21750\n",
            "loss: 1.750044345855713\n"
          ],
          "name": "stdout"
        },
        {
          "output_type": "stream",
          "text": [
            "05/21/2021 11:55:48 - INFO - __main__ -   21803\n"
          ],
          "name": "stderr"
        },
        {
          "output_type": "stream",
          "text": [
            "step 21800\n",
            "loss: 1.8534809350967407\n"
          ],
          "name": "stdout"
        },
        {
          "output_type": "stream",
          "text": [
            "05/21/2021 11:56:06 - INFO - __main__ -   21853\n"
          ],
          "name": "stderr"
        },
        {
          "output_type": "stream",
          "text": [
            "step 21850\n",
            "loss: 1.984445571899414\n"
          ],
          "name": "stdout"
        },
        {
          "output_type": "stream",
          "text": [
            "05/21/2021 11:56:24 - INFO - __main__ -   21903\n"
          ],
          "name": "stderr"
        },
        {
          "output_type": "stream",
          "text": [
            "step 21900\n",
            "loss: 1.9887725114822388\n"
          ],
          "name": "stdout"
        },
        {
          "output_type": "stream",
          "text": [
            "05/21/2021 11:56:43 - INFO - __main__ -   21953\n"
          ],
          "name": "stderr"
        },
        {
          "output_type": "stream",
          "text": [
            "step 21950\n",
            "loss: 1.4797579050064087\n"
          ],
          "name": "stdout"
        },
        {
          "output_type": "stream",
          "text": [
            "05/21/2021 11:57:01 - INFO - __main__ -   22003\n"
          ],
          "name": "stderr"
        },
        {
          "output_type": "stream",
          "text": [
            "step 22000\n",
            "loss: 1.5753909349441528\n"
          ],
          "name": "stdout"
        },
        {
          "output_type": "stream",
          "text": [
            "05/21/2021 11:57:19 - INFO - __main__ -   22053\n"
          ],
          "name": "stderr"
        },
        {
          "output_type": "stream",
          "text": [
            "step 22050\n",
            "loss: 1.5743052959442139\n"
          ],
          "name": "stdout"
        },
        {
          "output_type": "stream",
          "text": [
            "05/21/2021 11:57:37 - INFO - __main__ -   22103\n"
          ],
          "name": "stderr"
        },
        {
          "output_type": "stream",
          "text": [
            "step 22100\n",
            "loss: 1.7182871103286743\n"
          ],
          "name": "stdout"
        },
        {
          "output_type": "stream",
          "text": [
            "05/21/2021 11:57:55 - INFO - __main__ -   22153\n"
          ],
          "name": "stderr"
        },
        {
          "output_type": "stream",
          "text": [
            "step 22150\n",
            "loss: 1.7533624172210693\n"
          ],
          "name": "stdout"
        },
        {
          "output_type": "stream",
          "text": [
            "05/21/2021 11:58:14 - INFO - __main__ -   22203\n"
          ],
          "name": "stderr"
        },
        {
          "output_type": "stream",
          "text": [
            "step 22200\n",
            "loss: 1.7862575054168701\n"
          ],
          "name": "stdout"
        },
        {
          "output_type": "stream",
          "text": [
            "05/21/2021 11:58:32 - INFO - __main__ -   22253\n"
          ],
          "name": "stderr"
        },
        {
          "output_type": "stream",
          "text": [
            "step 22250\n",
            "loss: 2.1341183185577393\n"
          ],
          "name": "stdout"
        },
        {
          "output_type": "stream",
          "text": [
            "05/21/2021 11:58:50 - INFO - __main__ -   22303\n"
          ],
          "name": "stderr"
        },
        {
          "output_type": "stream",
          "text": [
            "step 22300\n",
            "loss: 1.5762872695922852\n"
          ],
          "name": "stdout"
        },
        {
          "output_type": "stream",
          "text": [
            "05/21/2021 11:59:08 - INFO - __main__ -   22353\n"
          ],
          "name": "stderr"
        },
        {
          "output_type": "stream",
          "text": [
            "step 22350\n",
            "loss: 1.7515716552734375\n"
          ],
          "name": "stdout"
        },
        {
          "output_type": "stream",
          "text": [
            "05/21/2021 11:59:27 - INFO - __main__ -   22403\n"
          ],
          "name": "stderr"
        },
        {
          "output_type": "stream",
          "text": [
            "step 22400\n",
            "loss: 2.135362148284912\n"
          ],
          "name": "stdout"
        },
        {
          "output_type": "stream",
          "text": [
            "05/21/2021 11:59:45 - INFO - __main__ -   22453\n"
          ],
          "name": "stderr"
        },
        {
          "output_type": "stream",
          "text": [
            "step 22450\n",
            "loss: 1.8481032848358154\n"
          ],
          "name": "stdout"
        },
        {
          "output_type": "stream",
          "text": [
            "05/21/2021 12:00:03 - INFO - __main__ -   22503\n"
          ],
          "name": "stderr"
        },
        {
          "output_type": "stream",
          "text": [
            "step 22500\n",
            "loss: 1.5657434463500977\n"
          ],
          "name": "stdout"
        },
        {
          "output_type": "stream",
          "text": [
            "05/21/2021 12:00:21 - INFO - __main__ -   22553\n"
          ],
          "name": "stderr"
        },
        {
          "output_type": "stream",
          "text": [
            "step 22550\n",
            "loss: 1.709368109703064\n"
          ],
          "name": "stdout"
        },
        {
          "output_type": "stream",
          "text": [
            "05/21/2021 12:00:40 - INFO - __main__ -   22603\n"
          ],
          "name": "stderr"
        },
        {
          "output_type": "stream",
          "text": [
            "step 22600\n",
            "loss: 1.6854124069213867\n"
          ],
          "name": "stdout"
        },
        {
          "output_type": "stream",
          "text": [
            "05/21/2021 12:00:58 - INFO - __main__ -   22653\n"
          ],
          "name": "stderr"
        },
        {
          "output_type": "stream",
          "text": [
            "step 22650\n",
            "loss: 2.1615216732025146\n"
          ],
          "name": "stdout"
        },
        {
          "output_type": "stream",
          "text": [
            "05/21/2021 12:01:16 - INFO - __main__ -   22703\n"
          ],
          "name": "stderr"
        },
        {
          "output_type": "stream",
          "text": [
            "step 22700\n",
            "loss: 1.7739962339401245\n"
          ],
          "name": "stdout"
        },
        {
          "output_type": "stream",
          "text": [
            "05/21/2021 12:01:35 - INFO - __main__ -   22753\n"
          ],
          "name": "stderr"
        },
        {
          "output_type": "stream",
          "text": [
            "step 22750\n",
            "loss: 2.1227755546569824\n"
          ],
          "name": "stdout"
        },
        {
          "output_type": "stream",
          "text": [
            "05/21/2021 12:01:53 - INFO - __main__ -   22803\n"
          ],
          "name": "stderr"
        },
        {
          "output_type": "stream",
          "text": [
            "step 22800\n",
            "loss: 1.752940058708191\n"
          ],
          "name": "stdout"
        },
        {
          "output_type": "stream",
          "text": [
            "05/21/2021 12:02:11 - INFO - __main__ -   22853\n"
          ],
          "name": "stderr"
        },
        {
          "output_type": "stream",
          "text": [
            "step 22850\n",
            "loss: 1.9068742990493774\n"
          ],
          "name": "stdout"
        },
        {
          "output_type": "stream",
          "text": [
            "05/21/2021 12:02:29 - INFO - __main__ -   22903\n"
          ],
          "name": "stderr"
        },
        {
          "output_type": "stream",
          "text": [
            "step 22900\n",
            "loss: 1.4816861152648926\n"
          ],
          "name": "stdout"
        },
        {
          "output_type": "stream",
          "text": [
            "05/21/2021 12:02:48 - INFO - __main__ -   22953\n"
          ],
          "name": "stderr"
        },
        {
          "output_type": "stream",
          "text": [
            "step 22950\n",
            "loss: 1.572627067565918\n"
          ],
          "name": "stdout"
        },
        {
          "output_type": "stream",
          "text": [
            "05/21/2021 12:03:06 - INFO - __main__ -   23003\n"
          ],
          "name": "stderr"
        },
        {
          "output_type": "stream",
          "text": [
            "step 23000\n",
            "loss: 1.9977835416793823\n"
          ],
          "name": "stdout"
        },
        {
          "output_type": "stream",
          "text": [
            "05/21/2021 12:03:24 - INFO - __main__ -   23053\n"
          ],
          "name": "stderr"
        },
        {
          "output_type": "stream",
          "text": [
            "step 23050\n",
            "loss: 2.1717896461486816\n"
          ],
          "name": "stdout"
        },
        {
          "output_type": "stream",
          "text": [
            "05/21/2021 12:03:42 - INFO - __main__ -   23103\n"
          ],
          "name": "stderr"
        },
        {
          "output_type": "stream",
          "text": [
            "step 23100\n",
            "loss: 1.584335207939148\n"
          ],
          "name": "stdout"
        },
        {
          "output_type": "stream",
          "text": [
            "05/21/2021 12:04:01 - INFO - __main__ -   23153\n"
          ],
          "name": "stderr"
        },
        {
          "output_type": "stream",
          "text": [
            "step 23150\n",
            "loss: 1.6898921728134155\n"
          ],
          "name": "stdout"
        },
        {
          "output_type": "stream",
          "text": [
            "05/21/2021 12:04:19 - INFO - __main__ -   23203\n"
          ],
          "name": "stderr"
        },
        {
          "output_type": "stream",
          "text": [
            "step 23200\n",
            "loss: 1.3601157665252686\n"
          ],
          "name": "stdout"
        },
        {
          "output_type": "stream",
          "text": [
            "05/21/2021 12:04:37 - INFO - __main__ -   23253\n"
          ],
          "name": "stderr"
        },
        {
          "output_type": "stream",
          "text": [
            "step 23250\n",
            "loss: 1.338104248046875\n"
          ],
          "name": "stdout"
        },
        {
          "output_type": "stream",
          "text": [
            "05/21/2021 12:04:55 - INFO - __main__ -   23303\n"
          ],
          "name": "stderr"
        },
        {
          "output_type": "stream",
          "text": [
            "step 23300\n",
            "loss: 1.7828372716903687\n"
          ],
          "name": "stdout"
        },
        {
          "output_type": "stream",
          "text": [
            "05/21/2021 12:05:14 - INFO - __main__ -   23353\n"
          ],
          "name": "stderr"
        },
        {
          "output_type": "stream",
          "text": [
            "step 23350\n",
            "loss: 2.027559518814087\n"
          ],
          "name": "stdout"
        },
        {
          "output_type": "stream",
          "text": [
            "05/21/2021 12:05:32 - INFO - __main__ -   23403\n"
          ],
          "name": "stderr"
        },
        {
          "output_type": "stream",
          "text": [
            "step 23400\n",
            "loss: 1.9035701751708984\n"
          ],
          "name": "stdout"
        },
        {
          "output_type": "stream",
          "text": [
            "05/21/2021 12:05:50 - INFO - __main__ -   23453\n"
          ],
          "name": "stderr"
        },
        {
          "output_type": "stream",
          "text": [
            "step 23450\n",
            "loss: 1.4966013431549072\n"
          ],
          "name": "stdout"
        },
        {
          "output_type": "stream",
          "text": [
            "05/21/2021 12:06:08 - INFO - __main__ -   23503\n"
          ],
          "name": "stderr"
        },
        {
          "output_type": "stream",
          "text": [
            "step 23500\n",
            "loss: 2.271299362182617\n"
          ],
          "name": "stdout"
        },
        {
          "output_type": "stream",
          "text": [
            "05/21/2021 12:06:27 - INFO - __main__ -   23553\n"
          ],
          "name": "stderr"
        },
        {
          "output_type": "stream",
          "text": [
            "step 23550\n",
            "loss: 1.7165018320083618\n"
          ],
          "name": "stdout"
        },
        {
          "output_type": "stream",
          "text": [
            "05/21/2021 12:06:45 - INFO - __main__ -   23603\n"
          ],
          "name": "stderr"
        },
        {
          "output_type": "stream",
          "text": [
            "step 23600\n",
            "loss: 1.9734631776809692\n"
          ],
          "name": "stdout"
        },
        {
          "output_type": "stream",
          "text": [
            "05/21/2021 12:07:03 - INFO - __main__ -   23653\n"
          ],
          "name": "stderr"
        },
        {
          "output_type": "stream",
          "text": [
            "step 23650\n",
            "loss: 1.759783148765564\n"
          ],
          "name": "stdout"
        },
        {
          "output_type": "stream",
          "text": [
            "05/21/2021 12:07:21 - INFO - __main__ -   23703\n"
          ],
          "name": "stderr"
        },
        {
          "output_type": "stream",
          "text": [
            "step 23700\n",
            "loss: 1.8041810989379883\n"
          ],
          "name": "stdout"
        },
        {
          "output_type": "stream",
          "text": [
            "05/21/2021 12:07:40 - INFO - __main__ -   23753\n"
          ],
          "name": "stderr"
        },
        {
          "output_type": "stream",
          "text": [
            "step 23750\n",
            "loss: 1.8871725797653198\n"
          ],
          "name": "stdout"
        },
        {
          "output_type": "stream",
          "text": [
            "05/21/2021 12:07:58 - INFO - __main__ -   23803\n"
          ],
          "name": "stderr"
        },
        {
          "output_type": "stream",
          "text": [
            "step 23800\n",
            "loss: 1.898452877998352\n"
          ],
          "name": "stdout"
        },
        {
          "output_type": "stream",
          "text": [
            "05/21/2021 12:08:16 - INFO - __main__ -   23853\n"
          ],
          "name": "stderr"
        },
        {
          "output_type": "stream",
          "text": [
            "step 23850\n",
            "loss: 1.2556517124176025\n"
          ],
          "name": "stdout"
        },
        {
          "output_type": "stream",
          "text": [
            "05/21/2021 12:08:34 - INFO - __main__ -   23903\n"
          ],
          "name": "stderr"
        },
        {
          "output_type": "stream",
          "text": [
            "step 23900\n",
            "loss: 1.5101749897003174\n"
          ],
          "name": "stdout"
        },
        {
          "output_type": "stream",
          "text": [
            "05/21/2021 12:08:53 - INFO - __main__ -   23953\n"
          ],
          "name": "stderr"
        },
        {
          "output_type": "stream",
          "text": [
            "step 23950\n",
            "loss: 1.5914634466171265\n"
          ],
          "name": "stdout"
        },
        {
          "output_type": "stream",
          "text": [
            "05/21/2021 12:09:11 - INFO - __main__ -   24003\n"
          ],
          "name": "stderr"
        },
        {
          "output_type": "stream",
          "text": [
            "step 24000\n",
            "loss: 2.168915271759033\n"
          ],
          "name": "stdout"
        },
        {
          "output_type": "stream",
          "text": [
            "05/21/2021 12:09:29 - INFO - __main__ -   24053\n"
          ],
          "name": "stderr"
        },
        {
          "output_type": "stream",
          "text": [
            "step 24050\n",
            "loss: 1.4736781120300293\n"
          ],
          "name": "stdout"
        },
        {
          "output_type": "stream",
          "text": [
            "05/21/2021 12:09:48 - INFO - __main__ -   24103\n"
          ],
          "name": "stderr"
        },
        {
          "output_type": "stream",
          "text": [
            "step 24100\n",
            "loss: 1.8646385669708252\n"
          ],
          "name": "stdout"
        },
        {
          "output_type": "stream",
          "text": [
            "05/21/2021 12:10:06 - INFO - __main__ -   24153\n"
          ],
          "name": "stderr"
        },
        {
          "output_type": "stream",
          "text": [
            "step 24150\n",
            "loss: 1.8666001558303833\n"
          ],
          "name": "stdout"
        },
        {
          "output_type": "stream",
          "text": [
            "05/21/2021 12:10:24 - INFO - __main__ -   24203\n"
          ],
          "name": "stderr"
        },
        {
          "output_type": "stream",
          "text": [
            "step 24200\n",
            "loss: 1.7048258781433105\n"
          ],
          "name": "stdout"
        },
        {
          "output_type": "stream",
          "text": [
            "05/21/2021 12:10:43 - INFO - __main__ -   24253\n"
          ],
          "name": "stderr"
        },
        {
          "output_type": "stream",
          "text": [
            "step 24250\n",
            "loss: 1.6158475875854492\n"
          ],
          "name": "stdout"
        },
        {
          "output_type": "stream",
          "text": [
            "05/21/2021 12:11:01 - INFO - __main__ -   24303\n"
          ],
          "name": "stderr"
        },
        {
          "output_type": "stream",
          "text": [
            "step 24300\n",
            "loss: 1.8407418727874756\n"
          ],
          "name": "stdout"
        },
        {
          "output_type": "stream",
          "text": [
            "05/21/2021 12:11:19 - INFO - __main__ -   24353\n"
          ],
          "name": "stderr"
        },
        {
          "output_type": "stream",
          "text": [
            "step 24350\n",
            "loss: 1.447501540184021\n"
          ],
          "name": "stdout"
        },
        {
          "output_type": "stream",
          "text": [
            "05/21/2021 12:11:38 - INFO - __main__ -   24403\n"
          ],
          "name": "stderr"
        },
        {
          "output_type": "stream",
          "text": [
            "step 24400\n",
            "loss: 1.849269151687622\n"
          ],
          "name": "stdout"
        },
        {
          "output_type": "stream",
          "text": [
            "05/21/2021 12:11:56 - INFO - __main__ -   24453\n"
          ],
          "name": "stderr"
        },
        {
          "output_type": "stream",
          "text": [
            "step 24450\n",
            "loss: 1.7351112365722656\n"
          ],
          "name": "stdout"
        },
        {
          "output_type": "stream",
          "text": [
            "05/21/2021 12:12:14 - INFO - __main__ -   24503\n"
          ],
          "name": "stderr"
        },
        {
          "output_type": "stream",
          "text": [
            "step 24500\n",
            "loss: 1.6084628105163574\n"
          ],
          "name": "stdout"
        },
        {
          "output_type": "stream",
          "text": [
            "05/21/2021 12:12:32 - INFO - __main__ -   24553\n"
          ],
          "name": "stderr"
        },
        {
          "output_type": "stream",
          "text": [
            "step 24550\n",
            "loss: 1.925182819366455\n",
            "Gradient overflow.  Skipping step, loss scaler 0 reducing loss scale to 8192.0\n"
          ],
          "name": "stdout"
        },
        {
          "output_type": "stream",
          "text": [
            "05/21/2021 12:12:51 - INFO - __main__ -   24603\n"
          ],
          "name": "stderr"
        },
        {
          "output_type": "stream",
          "text": [
            "step 24600\n",
            "loss: 1.5677218437194824\n"
          ],
          "name": "stdout"
        },
        {
          "output_type": "stream",
          "text": [
            "05/21/2021 12:13:09 - INFO - __main__ -   24653\n"
          ],
          "name": "stderr"
        },
        {
          "output_type": "stream",
          "text": [
            "step 24650\n",
            "loss: 2.1368637084960938\n"
          ],
          "name": "stdout"
        },
        {
          "output_type": "stream",
          "text": [
            "05/21/2021 12:13:27 - INFO - __main__ -   24703\n"
          ],
          "name": "stderr"
        },
        {
          "output_type": "stream",
          "text": [
            "step 24700\n",
            "loss: 2.0246641635894775\n"
          ],
          "name": "stdout"
        },
        {
          "output_type": "stream",
          "text": [
            "05/21/2021 12:13:46 - INFO - __main__ -   24753\n"
          ],
          "name": "stderr"
        },
        {
          "output_type": "stream",
          "text": [
            "step 24750\n",
            "loss: 1.7126816511154175\n"
          ],
          "name": "stdout"
        },
        {
          "output_type": "stream",
          "text": [
            "05/21/2021 12:14:04 - INFO - __main__ -   24803\n"
          ],
          "name": "stderr"
        },
        {
          "output_type": "stream",
          "text": [
            "step 24800\n",
            "loss: 1.6039494276046753\n"
          ],
          "name": "stdout"
        },
        {
          "output_type": "stream",
          "text": [
            "05/21/2021 12:14:22 - INFO - __main__ -   24853\n"
          ],
          "name": "stderr"
        },
        {
          "output_type": "stream",
          "text": [
            "step 24850\n",
            "loss: 1.974439024925232\n"
          ],
          "name": "stdout"
        },
        {
          "output_type": "stream",
          "text": [
            "05/21/2021 12:14:41 - INFO - __main__ -   24903\n"
          ],
          "name": "stderr"
        },
        {
          "output_type": "stream",
          "text": [
            "step 24900\n",
            "loss: 1.5356115102767944\n"
          ],
          "name": "stdout"
        },
        {
          "output_type": "stream",
          "text": [
            "05/21/2021 12:14:59 - INFO - __main__ -   24953\n"
          ],
          "name": "stderr"
        },
        {
          "output_type": "stream",
          "text": [
            "step 24950\n",
            "loss: 1.5848815441131592\n"
          ],
          "name": "stdout"
        },
        {
          "output_type": "stream",
          "text": [
            "05/21/2021 12:15:17 - INFO - __main__ -   25003\n"
          ],
          "name": "stderr"
        },
        {
          "output_type": "stream",
          "text": [
            "step 25000\n",
            "loss: 1.6152338981628418\n"
          ],
          "name": "stdout"
        },
        {
          "output_type": "stream",
          "text": [
            "05/21/2021 12:15:36 - INFO - __main__ -   25053\n"
          ],
          "name": "stderr"
        },
        {
          "output_type": "stream",
          "text": [
            "step 25050\n",
            "loss: 1.7657933235168457\n"
          ],
          "name": "stdout"
        },
        {
          "output_type": "stream",
          "text": [
            "05/21/2021 12:15:54 - INFO - __main__ -   25103\n"
          ],
          "name": "stderr"
        },
        {
          "output_type": "stream",
          "text": [
            "step 25100\n",
            "loss: 1.5181080102920532\n"
          ],
          "name": "stdout"
        },
        {
          "output_type": "stream",
          "text": [
            "05/21/2021 12:16:12 - INFO - __main__ -   25153\n"
          ],
          "name": "stderr"
        },
        {
          "output_type": "stream",
          "text": [
            "step 25150\n",
            "loss: 1.6497159004211426\n"
          ],
          "name": "stdout"
        },
        {
          "output_type": "stream",
          "text": [
            "05/21/2021 12:16:30 - INFO - __main__ -   25203\n"
          ],
          "name": "stderr"
        },
        {
          "output_type": "stream",
          "text": [
            "step 25200\n",
            "loss: 1.606567144393921\n"
          ],
          "name": "stdout"
        },
        {
          "output_type": "stream",
          "text": [
            "05/21/2021 12:16:48 - INFO - __main__ -   25253\n"
          ],
          "name": "stderr"
        },
        {
          "output_type": "stream",
          "text": [
            "step 25250\n",
            "loss: 1.6077730655670166\n"
          ],
          "name": "stdout"
        },
        {
          "output_type": "stream",
          "text": [
            "05/21/2021 12:17:07 - INFO - __main__ -   25303\n"
          ],
          "name": "stderr"
        },
        {
          "output_type": "stream",
          "text": [
            "step 25300\n",
            "loss: 1.9089953899383545\n"
          ],
          "name": "stdout"
        },
        {
          "output_type": "stream",
          "text": [
            "05/21/2021 12:17:25 - INFO - __main__ -   25353\n"
          ],
          "name": "stderr"
        },
        {
          "output_type": "stream",
          "text": [
            "step 25350\n",
            "loss: 1.57206392288208\n"
          ],
          "name": "stdout"
        },
        {
          "output_type": "stream",
          "text": [
            "05/21/2021 12:17:43 - INFO - __main__ -   25403\n"
          ],
          "name": "stderr"
        },
        {
          "output_type": "stream",
          "text": [
            "step 25400\n",
            "loss: 1.4866504669189453\n"
          ],
          "name": "stdout"
        },
        {
          "output_type": "stream",
          "text": [
            "05/21/2021 12:18:02 - INFO - __main__ -   25453\n"
          ],
          "name": "stderr"
        },
        {
          "output_type": "stream",
          "text": [
            "step 25450\n",
            "loss: 2.1590890884399414\n"
          ],
          "name": "stdout"
        },
        {
          "output_type": "stream",
          "text": [
            "05/21/2021 12:18:20 - INFO - __main__ -   25503\n"
          ],
          "name": "stderr"
        },
        {
          "output_type": "stream",
          "text": [
            "step 25500\n",
            "loss: 1.9185724258422852\n"
          ],
          "name": "stdout"
        },
        {
          "output_type": "stream",
          "text": [
            "05/21/2021 12:18:38 - INFO - __main__ -   25553\n"
          ],
          "name": "stderr"
        },
        {
          "output_type": "stream",
          "text": [
            "step 25550\n",
            "loss: 1.4792232513427734\n"
          ],
          "name": "stdout"
        },
        {
          "output_type": "stream",
          "text": [
            "05/21/2021 12:18:57 - INFO - __main__ -   25603\n"
          ],
          "name": "stderr"
        },
        {
          "output_type": "stream",
          "text": [
            "step 25600\n",
            "loss: 1.504952311515808\n"
          ],
          "name": "stdout"
        },
        {
          "output_type": "stream",
          "text": [
            "05/21/2021 12:19:15 - INFO - __main__ -   25653\n"
          ],
          "name": "stderr"
        },
        {
          "output_type": "stream",
          "text": [
            "step 25650\n",
            "loss: 1.4462363719940186\n"
          ],
          "name": "stdout"
        },
        {
          "output_type": "stream",
          "text": [
            "05/21/2021 12:19:33 - INFO - __main__ -   25703\n"
          ],
          "name": "stderr"
        },
        {
          "output_type": "stream",
          "text": [
            "step 25700\n",
            "loss: 1.619753360748291\n"
          ],
          "name": "stdout"
        },
        {
          "output_type": "stream",
          "text": [
            "05/21/2021 12:19:52 - INFO - __main__ -   25753\n"
          ],
          "name": "stderr"
        },
        {
          "output_type": "stream",
          "text": [
            "step 25750\n",
            "loss: 1.332942247390747\n"
          ],
          "name": "stdout"
        },
        {
          "output_type": "stream",
          "text": [
            "05/21/2021 12:20:10 - INFO - __main__ -   25803\n"
          ],
          "name": "stderr"
        },
        {
          "output_type": "stream",
          "text": [
            "step 25800\n",
            "loss: 1.7187349796295166\n"
          ],
          "name": "stdout"
        },
        {
          "output_type": "stream",
          "text": [
            "05/21/2021 12:20:28 - INFO - __main__ -   25853\n"
          ],
          "name": "stderr"
        },
        {
          "output_type": "stream",
          "text": [
            "step 25850\n",
            "loss: 1.6724486351013184\n"
          ],
          "name": "stdout"
        },
        {
          "output_type": "stream",
          "text": [
            "05/21/2021 12:20:47 - INFO - __main__ -   25903\n"
          ],
          "name": "stderr"
        },
        {
          "output_type": "stream",
          "text": [
            "step 25900\n",
            "loss: 1.679213523864746\n"
          ],
          "name": "stdout"
        },
        {
          "output_type": "stream",
          "text": [
            "05/21/2021 12:21:05 - INFO - __main__ -   25953\n"
          ],
          "name": "stderr"
        },
        {
          "output_type": "stream",
          "text": [
            "step 25950\n",
            "loss: 1.7858867645263672\n"
          ],
          "name": "stdout"
        },
        {
          "output_type": "stream",
          "text": [
            "05/21/2021 12:21:23 - INFO - __main__ -   26003\n"
          ],
          "name": "stderr"
        },
        {
          "output_type": "stream",
          "text": [
            "step 26000\n",
            "loss: 1.4501519203186035\n"
          ],
          "name": "stdout"
        },
        {
          "output_type": "stream",
          "text": [
            "05/21/2021 12:21:42 - INFO - __main__ -   26053\n"
          ],
          "name": "stderr"
        },
        {
          "output_type": "stream",
          "text": [
            "step 26050\n",
            "loss: 1.6515824794769287\n"
          ],
          "name": "stdout"
        },
        {
          "output_type": "stream",
          "text": [
            "05/21/2021 12:22:00 - INFO - __main__ -   26103\n"
          ],
          "name": "stderr"
        },
        {
          "output_type": "stream",
          "text": [
            "step 26100\n",
            "loss: 1.5661834478378296\n"
          ],
          "name": "stdout"
        },
        {
          "output_type": "stream",
          "text": [
            "05/21/2021 12:22:18 - INFO - __main__ -   26153\n"
          ],
          "name": "stderr"
        },
        {
          "output_type": "stream",
          "text": [
            "step 26150\n",
            "loss: 1.5511023998260498\n"
          ],
          "name": "stdout"
        },
        {
          "output_type": "stream",
          "text": [
            "05/21/2021 12:22:37 - INFO - __main__ -   26203\n"
          ],
          "name": "stderr"
        },
        {
          "output_type": "stream",
          "text": [
            "step 26200\n",
            "loss: 1.5733892917633057\n"
          ],
          "name": "stdout"
        },
        {
          "output_type": "stream",
          "text": [
            "05/21/2021 12:22:55 - INFO - __main__ -   26253\n"
          ],
          "name": "stderr"
        },
        {
          "output_type": "stream",
          "text": [
            "step 26250\n",
            "loss: 1.3883508443832397\n",
            "An error happens, break\n",
            "An error in this batch, break\n"
          ],
          "name": "stdout"
        },
        {
          "output_type": "stream",
          "text": [
            "05/21/2021 12:23:13 - INFO - __main__ -   26304\n"
          ],
          "name": "stderr"
        },
        {
          "output_type": "stream",
          "text": [
            "step 26300\n",
            "loss: 1.831563115119934\n"
          ],
          "name": "stdout"
        },
        {
          "output_type": "stream",
          "text": [
            "05/21/2021 12:23:32 - INFO - __main__ -   26354\n"
          ],
          "name": "stderr"
        },
        {
          "output_type": "stream",
          "text": [
            "step 26350\n",
            "loss: 1.8120282888412476\n"
          ],
          "name": "stdout"
        },
        {
          "output_type": "stream",
          "text": [
            "05/21/2021 12:23:50 - INFO - __main__ -   26404\n"
          ],
          "name": "stderr"
        },
        {
          "output_type": "stream",
          "text": [
            "step 26400\n",
            "loss: 1.7870378494262695\n"
          ],
          "name": "stdout"
        },
        {
          "output_type": "stream",
          "text": [
            "05/21/2021 12:24:08 - INFO - __main__ -   26454\n"
          ],
          "name": "stderr"
        },
        {
          "output_type": "stream",
          "text": [
            "step 26450\n",
            "loss: 1.6466057300567627\n"
          ],
          "name": "stdout"
        },
        {
          "output_type": "stream",
          "text": [
            "05/21/2021 12:24:27 - INFO - __main__ -   26504\n"
          ],
          "name": "stderr"
        },
        {
          "output_type": "stream",
          "text": [
            "step 26500\n",
            "loss: 1.4096328020095825\n"
          ],
          "name": "stdout"
        },
        {
          "output_type": "stream",
          "text": [
            "05/21/2021 12:24:45 - INFO - __main__ -   26554\n"
          ],
          "name": "stderr"
        },
        {
          "output_type": "stream",
          "text": [
            "step 26550\n",
            "loss: 1.6970990896224976\n"
          ],
          "name": "stdout"
        },
        {
          "output_type": "stream",
          "text": [
            "05/21/2021 12:25:03 - INFO - __main__ -   26604\n"
          ],
          "name": "stderr"
        },
        {
          "output_type": "stream",
          "text": [
            "step 26600\n",
            "loss: 1.9271366596221924\n"
          ],
          "name": "stdout"
        },
        {
          "output_type": "stream",
          "text": [
            "05/21/2021 12:25:22 - INFO - __main__ -   26654\n"
          ],
          "name": "stderr"
        },
        {
          "output_type": "stream",
          "text": [
            "step 26650\n",
            "loss: 1.870517373085022\n"
          ],
          "name": "stdout"
        },
        {
          "output_type": "stream",
          "text": [
            "05/21/2021 12:25:40 - INFO - __main__ -   26704\n"
          ],
          "name": "stderr"
        },
        {
          "output_type": "stream",
          "text": [
            "step 26700\n",
            "loss: 1.8661983013153076\n"
          ],
          "name": "stdout"
        },
        {
          "output_type": "stream",
          "text": [
            "05/21/2021 12:25:58 - INFO - __main__ -   26754\n"
          ],
          "name": "stderr"
        },
        {
          "output_type": "stream",
          "text": [
            "step 26750\n",
            "loss: 1.9982867240905762\n"
          ],
          "name": "stdout"
        },
        {
          "output_type": "stream",
          "text": [
            "05/21/2021 12:26:16 - INFO - __main__ -   26804\n"
          ],
          "name": "stderr"
        },
        {
          "output_type": "stream",
          "text": [
            "step 26800\n",
            "loss: 1.8788586854934692\n"
          ],
          "name": "stdout"
        },
        {
          "output_type": "stream",
          "text": [
            "05/21/2021 12:26:35 - INFO - __main__ -   26854\n"
          ],
          "name": "stderr"
        },
        {
          "output_type": "stream",
          "text": [
            "step 26850\n",
            "loss: 1.9489580392837524\n"
          ],
          "name": "stdout"
        },
        {
          "output_type": "stream",
          "text": [
            "05/21/2021 12:26:53 - INFO - __main__ -   26904\n"
          ],
          "name": "stderr"
        },
        {
          "output_type": "stream",
          "text": [
            "step 26900\n",
            "loss: 1.7764368057250977\n"
          ],
          "name": "stdout"
        },
        {
          "output_type": "stream",
          "text": [
            "05/21/2021 12:27:11 - INFO - __main__ -   26954\n"
          ],
          "name": "stderr"
        },
        {
          "output_type": "stream",
          "text": [
            "step 26950\n",
            "loss: 1.7424432039260864\n"
          ],
          "name": "stdout"
        },
        {
          "output_type": "stream",
          "text": [
            "05/21/2021 12:27:30 - INFO - __main__ -   27004\n"
          ],
          "name": "stderr"
        },
        {
          "output_type": "stream",
          "text": [
            "step 27000\n",
            "loss: 1.9968217611312866\n"
          ],
          "name": "stdout"
        },
        {
          "output_type": "stream",
          "text": [
            "05/21/2021 12:27:48 - INFO - __main__ -   27054\n"
          ],
          "name": "stderr"
        },
        {
          "output_type": "stream",
          "text": [
            "step 27050\n",
            "loss: 1.6939512491226196\n"
          ],
          "name": "stdout"
        },
        {
          "output_type": "stream",
          "text": [
            "05/21/2021 12:28:06 - INFO - __main__ -   27104\n"
          ],
          "name": "stderr"
        },
        {
          "output_type": "stream",
          "text": [
            "step 27100\n",
            "loss: 1.632249355316162\n"
          ],
          "name": "stdout"
        },
        {
          "output_type": "stream",
          "text": [
            "05/21/2021 12:28:25 - INFO - __main__ -   27154\n"
          ],
          "name": "stderr"
        },
        {
          "output_type": "stream",
          "text": [
            "step 27150\n",
            "loss: 1.3489370346069336\n"
          ],
          "name": "stdout"
        },
        {
          "output_type": "stream",
          "text": [
            "05/21/2021 12:28:43 - INFO - __main__ -   27204\n"
          ],
          "name": "stderr"
        },
        {
          "output_type": "stream",
          "text": [
            "step 27200\n",
            "loss: 1.7329124212265015\n"
          ],
          "name": "stdout"
        },
        {
          "output_type": "stream",
          "text": [
            "05/21/2021 12:29:01 - INFO - __main__ -   27254\n"
          ],
          "name": "stderr"
        },
        {
          "output_type": "stream",
          "text": [
            "step 27250\n",
            "loss: 1.4911912679672241\n"
          ],
          "name": "stdout"
        },
        {
          "output_type": "stream",
          "text": [
            "05/21/2021 12:29:20 - INFO - __main__ -   27304\n"
          ],
          "name": "stderr"
        },
        {
          "output_type": "stream",
          "text": [
            "step 27300\n",
            "loss: 1.6778336763381958\n"
          ],
          "name": "stdout"
        },
        {
          "output_type": "stream",
          "text": [
            "05/21/2021 12:29:38 - INFO - __main__ -   27354\n"
          ],
          "name": "stderr"
        },
        {
          "output_type": "stream",
          "text": [
            "step 27350\n",
            "loss: 1.577244758605957\n"
          ],
          "name": "stdout"
        },
        {
          "output_type": "stream",
          "text": [
            "05/21/2021 12:29:56 - INFO - __main__ -   27404\n"
          ],
          "name": "stderr"
        },
        {
          "output_type": "stream",
          "text": [
            "step 27400\n",
            "loss: 1.8423177003860474\n"
          ],
          "name": "stdout"
        },
        {
          "output_type": "stream",
          "text": [
            "05/21/2021 12:30:14 - INFO - __main__ -   27454\n"
          ],
          "name": "stderr"
        },
        {
          "output_type": "stream",
          "text": [
            "step 27450\n",
            "loss: 1.6225459575653076\n"
          ],
          "name": "stdout"
        },
        {
          "output_type": "stream",
          "text": [
            "05/21/2021 12:30:33 - INFO - __main__ -   27504\n"
          ],
          "name": "stderr"
        },
        {
          "output_type": "stream",
          "text": [
            "step 27500\n",
            "loss: 1.4687424898147583\n"
          ],
          "name": "stdout"
        },
        {
          "output_type": "stream",
          "text": [
            "05/21/2021 12:30:51 - INFO - __main__ -   27554\n"
          ],
          "name": "stderr"
        },
        {
          "output_type": "stream",
          "text": [
            "step 27550\n",
            "loss: 1.6722949743270874\n"
          ],
          "name": "stdout"
        },
        {
          "output_type": "stream",
          "text": [
            "05/21/2021 12:31:09 - INFO - __main__ -   27604\n"
          ],
          "name": "stderr"
        },
        {
          "output_type": "stream",
          "text": [
            "step 27600\n",
            "loss: 1.5318620204925537\n"
          ],
          "name": "stdout"
        },
        {
          "output_type": "stream",
          "text": [
            "05/21/2021 12:31:27 - INFO - __main__ -   27654\n"
          ],
          "name": "stderr"
        },
        {
          "output_type": "stream",
          "text": [
            "step 27650\n",
            "loss: 1.5941452980041504\n"
          ],
          "name": "stdout"
        },
        {
          "output_type": "stream",
          "text": [
            "05/21/2021 12:31:46 - INFO - __main__ -   27704\n"
          ],
          "name": "stderr"
        },
        {
          "output_type": "stream",
          "text": [
            "step 27700\n",
            "loss: 1.6216574907302856\n"
          ],
          "name": "stdout"
        },
        {
          "output_type": "stream",
          "text": [
            "05/21/2021 12:32:04 - INFO - __main__ -   27754\n"
          ],
          "name": "stderr"
        },
        {
          "output_type": "stream",
          "text": [
            "step 27750\n",
            "loss: 2.0736913681030273\n"
          ],
          "name": "stdout"
        },
        {
          "output_type": "stream",
          "text": [
            "05/21/2021 12:32:22 - INFO - __main__ -   27804\n"
          ],
          "name": "stderr"
        },
        {
          "output_type": "stream",
          "text": [
            "step 27800\n",
            "loss: 1.6359221935272217\n"
          ],
          "name": "stdout"
        },
        {
          "output_type": "stream",
          "text": [
            "05/21/2021 12:32:41 - INFO - __main__ -   27854\n"
          ],
          "name": "stderr"
        },
        {
          "output_type": "stream",
          "text": [
            "step 27850\n",
            "loss: 1.4623496532440186\n"
          ],
          "name": "stdout"
        },
        {
          "output_type": "stream",
          "text": [
            "05/21/2021 12:32:59 - INFO - __main__ -   27904\n"
          ],
          "name": "stderr"
        },
        {
          "output_type": "stream",
          "text": [
            "step 27900\n",
            "loss: 1.733006477355957\n"
          ],
          "name": "stdout"
        },
        {
          "output_type": "stream",
          "text": [
            "05/21/2021 12:33:17 - INFO - __main__ -   27954\n"
          ],
          "name": "stderr"
        },
        {
          "output_type": "stream",
          "text": [
            "step 27950\n",
            "loss: 1.3306695222854614\n"
          ],
          "name": "stdout"
        },
        {
          "output_type": "stream",
          "text": [
            "05/21/2021 12:33:35 - INFO - __main__ -   28004\n"
          ],
          "name": "stderr"
        },
        {
          "output_type": "stream",
          "text": [
            "step 28000\n",
            "loss: 1.7346916198730469\n"
          ],
          "name": "stdout"
        },
        {
          "output_type": "stream",
          "text": [
            "05/21/2021 12:33:54 - INFO - __main__ -   28054\n"
          ],
          "name": "stderr"
        },
        {
          "output_type": "stream",
          "text": [
            "step 28050\n",
            "loss: 1.669838547706604\n"
          ],
          "name": "stdout"
        },
        {
          "output_type": "stream",
          "text": [
            "05/21/2021 12:34:12 - INFO - __main__ -   28104\n"
          ],
          "name": "stderr"
        },
        {
          "output_type": "stream",
          "text": [
            "step 28100\n",
            "loss: 1.6387971639633179\n"
          ],
          "name": "stdout"
        },
        {
          "output_type": "stream",
          "text": [
            "05/21/2021 12:34:30 - INFO - __main__ -   28154\n"
          ],
          "name": "stderr"
        },
        {
          "output_type": "stream",
          "text": [
            "step 28150\n",
            "loss: 1.9085297584533691\n"
          ],
          "name": "stdout"
        },
        {
          "output_type": "stream",
          "text": [
            "05/21/2021 12:34:48 - INFO - __main__ -   28204\n"
          ],
          "name": "stderr"
        },
        {
          "output_type": "stream",
          "text": [
            "step 28200\n",
            "loss: 1.8817322254180908\n"
          ],
          "name": "stdout"
        },
        {
          "output_type": "stream",
          "text": [
            "05/21/2021 12:35:07 - INFO - __main__ -   28254\n"
          ],
          "name": "stderr"
        },
        {
          "output_type": "stream",
          "text": [
            "step 28250\n",
            "loss: 1.6337109804153442\n"
          ],
          "name": "stdout"
        },
        {
          "output_type": "stream",
          "text": [
            "05/21/2021 12:35:25 - INFO - __main__ -   28304\n"
          ],
          "name": "stderr"
        },
        {
          "output_type": "stream",
          "text": [
            "step 28300\n",
            "loss: 1.7752505540847778\n"
          ],
          "name": "stdout"
        },
        {
          "output_type": "stream",
          "text": [
            "05/21/2021 12:35:43 - INFO - __main__ -   28354\n"
          ],
          "name": "stderr"
        },
        {
          "output_type": "stream",
          "text": [
            "step 28350\n",
            "loss: 2.115385055541992\n"
          ],
          "name": "stdout"
        },
        {
          "output_type": "stream",
          "text": [
            "05/21/2021 12:36:02 - INFO - __main__ -   28404\n"
          ],
          "name": "stderr"
        },
        {
          "output_type": "stream",
          "text": [
            "step 28400\n",
            "loss: 1.6685160398483276\n"
          ],
          "name": "stdout"
        },
        {
          "output_type": "stream",
          "text": [
            "05/21/2021 12:36:20 - INFO - __main__ -   28454\n"
          ],
          "name": "stderr"
        },
        {
          "output_type": "stream",
          "text": [
            "step 28450\n",
            "loss: 1.832749843597412\n"
          ],
          "name": "stdout"
        },
        {
          "output_type": "stream",
          "text": [
            "05/21/2021 12:36:38 - INFO - __main__ -   28504\n"
          ],
          "name": "stderr"
        },
        {
          "output_type": "stream",
          "text": [
            "step 28500\n",
            "loss: 2.1057240962982178\n"
          ],
          "name": "stdout"
        },
        {
          "output_type": "stream",
          "text": [
            "05/21/2021 12:36:57 - INFO - __main__ -   28554\n"
          ],
          "name": "stderr"
        },
        {
          "output_type": "stream",
          "text": [
            "step 28550\n",
            "loss: 1.9194458723068237\n"
          ],
          "name": "stdout"
        },
        {
          "output_type": "stream",
          "text": [
            "05/21/2021 12:37:15 - INFO - __main__ -   28604\n"
          ],
          "name": "stderr"
        },
        {
          "output_type": "stream",
          "text": [
            "step 28600\n",
            "loss: 1.7117009162902832\n"
          ],
          "name": "stdout"
        },
        {
          "output_type": "stream",
          "text": [
            "05/21/2021 12:37:33 - INFO - __main__ -   28654\n"
          ],
          "name": "stderr"
        },
        {
          "output_type": "stream",
          "text": [
            "step 28650\n",
            "loss: 2.2370030879974365\n"
          ],
          "name": "stdout"
        },
        {
          "output_type": "stream",
          "text": [
            "05/21/2021 12:37:51 - INFO - __main__ -   28704\n"
          ],
          "name": "stderr"
        },
        {
          "output_type": "stream",
          "text": [
            "step 28700\n",
            "loss: 1.743927001953125\n",
            "Gradient overflow.  Skipping step, loss scaler 0 reducing loss scale to 16384.0\n"
          ],
          "name": "stdout"
        },
        {
          "output_type": "stream",
          "text": [
            "05/21/2021 12:38:10 - INFO - __main__ -   28754\n"
          ],
          "name": "stderr"
        },
        {
          "output_type": "stream",
          "text": [
            "step 28750\n",
            "loss: 1.628784418106079\n"
          ],
          "name": "stdout"
        },
        {
          "output_type": "stream",
          "text": [
            "05/21/2021 12:38:28 - INFO - __main__ -   28804\n"
          ],
          "name": "stderr"
        },
        {
          "output_type": "stream",
          "text": [
            "step 28800\n",
            "loss: 1.4639358520507812\n"
          ],
          "name": "stdout"
        },
        {
          "output_type": "stream",
          "text": [
            "05/21/2021 12:38:47 - INFO - __main__ -   28854\n"
          ],
          "name": "stderr"
        },
        {
          "output_type": "stream",
          "text": [
            "step 28850\n",
            "loss: 1.8387796878814697\n"
          ],
          "name": "stdout"
        },
        {
          "output_type": "stream",
          "text": [
            "05/21/2021 12:39:05 - INFO - __main__ -   28904\n"
          ],
          "name": "stderr"
        },
        {
          "output_type": "stream",
          "text": [
            "step 28900\n",
            "loss: 1.8492335081100464\n"
          ],
          "name": "stdout"
        },
        {
          "output_type": "stream",
          "text": [
            "05/21/2021 12:39:23 - INFO - __main__ -   28954\n"
          ],
          "name": "stderr"
        },
        {
          "output_type": "stream",
          "text": [
            "step 28950\n",
            "loss: 1.8104989528656006\n"
          ],
          "name": "stdout"
        },
        {
          "output_type": "stream",
          "text": [
            "05/21/2021 12:39:41 - INFO - __main__ -   29004\n"
          ],
          "name": "stderr"
        },
        {
          "output_type": "stream",
          "text": [
            "step 29000\n",
            "loss: 1.8321946859359741\n"
          ],
          "name": "stdout"
        },
        {
          "output_type": "stream",
          "text": [
            "05/21/2021 12:40:00 - INFO - __main__ -   29054\n"
          ],
          "name": "stderr"
        },
        {
          "output_type": "stream",
          "text": [
            "step 29050\n",
            "loss: 2.2371742725372314\n"
          ],
          "name": "stdout"
        },
        {
          "output_type": "stream",
          "text": [
            "05/21/2021 12:40:18 - INFO - __main__ -   29104\n"
          ],
          "name": "stderr"
        },
        {
          "output_type": "stream",
          "text": [
            "step 29100\n",
            "loss: 1.753928780555725\n"
          ],
          "name": "stdout"
        },
        {
          "output_type": "stream",
          "text": [
            "05/21/2021 12:40:36 - INFO - __main__ -   29154\n"
          ],
          "name": "stderr"
        },
        {
          "output_type": "stream",
          "text": [
            "step 29150\n",
            "loss: 2.322497844696045\n"
          ],
          "name": "stdout"
        },
        {
          "output_type": "stream",
          "text": [
            "05/21/2021 12:40:55 - INFO - __main__ -   29204\n"
          ],
          "name": "stderr"
        },
        {
          "output_type": "stream",
          "text": [
            "step 29200\n",
            "loss: 1.5670158863067627\n"
          ],
          "name": "stdout"
        },
        {
          "output_type": "stream",
          "text": [
            "05/21/2021 12:41:13 - INFO - __main__ -   29254\n"
          ],
          "name": "stderr"
        },
        {
          "output_type": "stream",
          "text": [
            "step 29250\n",
            "loss: 1.944604754447937\n"
          ],
          "name": "stdout"
        },
        {
          "output_type": "stream",
          "text": [
            "05/21/2021 12:41:31 - INFO - __main__ -   29304\n"
          ],
          "name": "stderr"
        },
        {
          "output_type": "stream",
          "text": [
            "step 29300\n",
            "loss: 1.5947712659835815\n"
          ],
          "name": "stdout"
        },
        {
          "output_type": "stream",
          "text": [
            "05/21/2021 12:41:50 - INFO - __main__ -   29354\n"
          ],
          "name": "stderr"
        },
        {
          "output_type": "stream",
          "text": [
            "step 29350\n",
            "loss: 2.126817226409912\n"
          ],
          "name": "stdout"
        },
        {
          "output_type": "stream",
          "text": [
            "05/21/2021 12:42:08 - INFO - __main__ -   29404\n"
          ],
          "name": "stderr"
        },
        {
          "output_type": "stream",
          "text": [
            "step 29400\n",
            "loss: 1.8416590690612793\n"
          ],
          "name": "stdout"
        },
        {
          "output_type": "stream",
          "text": [
            "05/21/2021 12:42:26 - INFO - __main__ -   29454\n"
          ],
          "name": "stderr"
        },
        {
          "output_type": "stream",
          "text": [
            "step 29450\n",
            "loss: 1.5940364599227905\n"
          ],
          "name": "stdout"
        },
        {
          "output_type": "stream",
          "text": [
            "05/21/2021 12:42:45 - INFO - __main__ -   29504\n"
          ],
          "name": "stderr"
        },
        {
          "output_type": "stream",
          "text": [
            "step 29500\n",
            "loss: 1.6464734077453613\n"
          ],
          "name": "stdout"
        },
        {
          "output_type": "stream",
          "text": [
            "05/21/2021 12:43:03 - INFO - __main__ -   29554\n"
          ],
          "name": "stderr"
        },
        {
          "output_type": "stream",
          "text": [
            "step 29550\n",
            "loss: 1.6946907043457031\n"
          ],
          "name": "stdout"
        },
        {
          "output_type": "stream",
          "text": [
            "05/21/2021 12:43:21 - INFO - __main__ -   29604\n"
          ],
          "name": "stderr"
        },
        {
          "output_type": "stream",
          "text": [
            "step 29600\n",
            "loss: 1.5101624727249146\n",
            "An error happens, break\n",
            "An error in this batch, break\n"
          ],
          "name": "stdout"
        },
        {
          "output_type": "stream",
          "text": [
            "05/21/2021 12:43:40 - INFO - __main__ -   29655\n"
          ],
          "name": "stderr"
        },
        {
          "output_type": "stream",
          "text": [
            "step 29650\n",
            "loss: 2.0021109580993652\n"
          ],
          "name": "stdout"
        },
        {
          "output_type": "stream",
          "text": [
            "05/21/2021 12:43:58 - INFO - __main__ -   29705\n"
          ],
          "name": "stderr"
        },
        {
          "output_type": "stream",
          "text": [
            "step 29700\n",
            "loss: 1.321636438369751\n"
          ],
          "name": "stdout"
        },
        {
          "output_type": "stream",
          "text": [
            "05/21/2021 12:44:16 - INFO - __main__ -   29755\n"
          ],
          "name": "stderr"
        },
        {
          "output_type": "stream",
          "text": [
            "step 29750\n",
            "loss: 1.4962701797485352\n",
            "Gradient overflow.  Skipping step, loss scaler 0 reducing loss scale to 8192.0\n"
          ],
          "name": "stdout"
        },
        {
          "output_type": "stream",
          "text": [
            "05/21/2021 12:44:35 - INFO - __main__ -   29805\n"
          ],
          "name": "stderr"
        },
        {
          "output_type": "stream",
          "text": [
            "step 29800\n",
            "loss: 1.5276597738265991\n"
          ],
          "name": "stdout"
        },
        {
          "output_type": "stream",
          "text": [
            "05/21/2021 12:44:53 - INFO - __main__ -   29855\n"
          ],
          "name": "stderr"
        },
        {
          "output_type": "stream",
          "text": [
            "step 29850\n",
            "loss: 1.915283441543579\n"
          ],
          "name": "stdout"
        },
        {
          "output_type": "stream",
          "text": [
            "05/21/2021 12:45:11 - INFO - __main__ -   29905\n"
          ],
          "name": "stderr"
        },
        {
          "output_type": "stream",
          "text": [
            "step 29900\n",
            "loss: 1.1667578220367432\n"
          ],
          "name": "stdout"
        },
        {
          "output_type": "stream",
          "text": [
            "05/21/2021 12:45:30 - INFO - __main__ -   29955\n"
          ],
          "name": "stderr"
        },
        {
          "output_type": "stream",
          "text": [
            "step 29950\n",
            "loss: 1.5261859893798828\n"
          ],
          "name": "stdout"
        },
        {
          "output_type": "stream",
          "text": [
            "05/21/2021 12:45:48 - INFO - __main__ -   30005\n",
            "05/21/2021 12:45:48 - INFO - __main__ -   Saving model checkpoint to ./gdrive/MyDrive/COMP0087/model_checkpoint\n"
          ],
          "name": "stderr"
        },
        {
          "output_type": "stream",
          "text": [
            "step 30000\n",
            "loss: 1.8021613359451294\n"
          ],
          "name": "stdout"
        },
        {
          "output_type": "stream",
          "text": [
            "05/21/2021 12:46:12 - INFO - __main__ -   30055\n"
          ],
          "name": "stderr"
        },
        {
          "output_type": "stream",
          "text": [
            "step 30050\n",
            "loss: 1.6229547262191772\n"
          ],
          "name": "stdout"
        },
        {
          "output_type": "stream",
          "text": [
            "05/21/2021 12:46:30 - INFO - __main__ -   30105\n"
          ],
          "name": "stderr"
        },
        {
          "output_type": "stream",
          "text": [
            "step 30100\n",
            "loss: 1.8948540687561035\n"
          ],
          "name": "stdout"
        },
        {
          "output_type": "stream",
          "text": [
            "05/21/2021 12:46:49 - INFO - __main__ -   30155\n"
          ],
          "name": "stderr"
        },
        {
          "output_type": "stream",
          "text": [
            "step 30150\n",
            "loss: 1.887716293334961\n"
          ],
          "name": "stdout"
        },
        {
          "output_type": "stream",
          "text": [
            "05/21/2021 12:47:07 - INFO - __main__ -   30205\n"
          ],
          "name": "stderr"
        },
        {
          "output_type": "stream",
          "text": [
            "step 30200\n",
            "loss: 1.6881918907165527\n"
          ],
          "name": "stdout"
        },
        {
          "output_type": "stream",
          "text": [
            "05/21/2021 12:47:25 - INFO - __main__ -   30255\n"
          ],
          "name": "stderr"
        },
        {
          "output_type": "stream",
          "text": [
            "step 30250\n",
            "loss: 1.5214389562606812\n"
          ],
          "name": "stdout"
        },
        {
          "output_type": "stream",
          "text": [
            "05/21/2021 12:47:44 - INFO - __main__ -   30305\n"
          ],
          "name": "stderr"
        },
        {
          "output_type": "stream",
          "text": [
            "step 30300\n",
            "loss: 1.9886037111282349\n"
          ],
          "name": "stdout"
        },
        {
          "output_type": "stream",
          "text": [
            "05/21/2021 12:48:02 - INFO - __main__ -   30355\n"
          ],
          "name": "stderr"
        },
        {
          "output_type": "stream",
          "text": [
            "step 30350\n",
            "loss: 1.938339114189148\n"
          ],
          "name": "stdout"
        },
        {
          "output_type": "stream",
          "text": [
            "05/21/2021 12:48:21 - INFO - __main__ -   30405\n"
          ],
          "name": "stderr"
        },
        {
          "output_type": "stream",
          "text": [
            "step 30400\n",
            "loss: 1.720910906791687\n"
          ],
          "name": "stdout"
        },
        {
          "output_type": "stream",
          "text": [
            "05/21/2021 12:48:39 - INFO - __main__ -   30455\n"
          ],
          "name": "stderr"
        },
        {
          "output_type": "stream",
          "text": [
            "step 30450\n",
            "loss: 1.8628249168395996\n"
          ],
          "name": "stdout"
        },
        {
          "output_type": "stream",
          "text": [
            "05/21/2021 12:48:57 - INFO - __main__ -   30505\n"
          ],
          "name": "stderr"
        },
        {
          "output_type": "stream",
          "text": [
            "step 30500\n",
            "loss: 1.8963732719421387\n"
          ],
          "name": "stdout"
        },
        {
          "output_type": "stream",
          "text": [
            "05/21/2021 12:49:16 - INFO - __main__ -   30555\n"
          ],
          "name": "stderr"
        },
        {
          "output_type": "stream",
          "text": [
            "step 30550\n",
            "loss: 1.7302119731903076\n"
          ],
          "name": "stdout"
        },
        {
          "output_type": "stream",
          "text": [
            "05/21/2021 12:49:34 - INFO - __main__ -   30605\n"
          ],
          "name": "stderr"
        },
        {
          "output_type": "stream",
          "text": [
            "step 30600\n",
            "loss: 1.5132038593292236\n"
          ],
          "name": "stdout"
        },
        {
          "output_type": "stream",
          "text": [
            "05/21/2021 12:49:52 - INFO - __main__ -   30655\n"
          ],
          "name": "stderr"
        },
        {
          "output_type": "stream",
          "text": [
            "step 30650\n",
            "loss: 1.8307173252105713\n"
          ],
          "name": "stdout"
        },
        {
          "output_type": "stream",
          "text": [
            "05/21/2021 12:50:10 - INFO - __main__ -   30705\n"
          ],
          "name": "stderr"
        },
        {
          "output_type": "stream",
          "text": [
            "step 30700\n",
            "loss: 2.1334667205810547\n"
          ],
          "name": "stdout"
        },
        {
          "output_type": "stream",
          "text": [
            "05/21/2021 12:50:29 - INFO - __main__ -   30755\n"
          ],
          "name": "stderr"
        },
        {
          "output_type": "stream",
          "text": [
            "step 30750\n",
            "loss: 1.5531104803085327\n"
          ],
          "name": "stdout"
        },
        {
          "output_type": "stream",
          "text": [
            "05/21/2021 12:50:47 - INFO - __main__ -   30805\n"
          ],
          "name": "stderr"
        },
        {
          "output_type": "stream",
          "text": [
            "step 30800\n",
            "loss: 1.7499521970748901\n"
          ],
          "name": "stdout"
        },
        {
          "output_type": "stream",
          "text": [
            "05/21/2021 12:51:06 - INFO - __main__ -   30855\n"
          ],
          "name": "stderr"
        },
        {
          "output_type": "stream",
          "text": [
            "step 30850\n",
            "loss: 1.7696020603179932\n"
          ],
          "name": "stdout"
        },
        {
          "output_type": "stream",
          "text": [
            "05/21/2021 12:51:24 - INFO - __main__ -   30905\n"
          ],
          "name": "stderr"
        },
        {
          "output_type": "stream",
          "text": [
            "step 30900\n",
            "loss: 1.649608850479126\n"
          ],
          "name": "stdout"
        },
        {
          "output_type": "stream",
          "text": [
            "05/21/2021 12:51:43 - INFO - __main__ -   30955\n"
          ],
          "name": "stderr"
        },
        {
          "output_type": "stream",
          "text": [
            "step 30950\n",
            "loss: 1.6169962882995605\n"
          ],
          "name": "stdout"
        },
        {
          "output_type": "stream",
          "text": [
            "05/21/2021 12:52:01 - INFO - __main__ -   31005\n"
          ],
          "name": "stderr"
        },
        {
          "output_type": "stream",
          "text": [
            "step 31000\n",
            "loss: 2.0286049842834473\n"
          ],
          "name": "stdout"
        },
        {
          "output_type": "stream",
          "text": [
            "05/21/2021 12:52:19 - INFO - __main__ -   31055\n"
          ],
          "name": "stderr"
        },
        {
          "output_type": "stream",
          "text": [
            "step 31050\n",
            "loss: 1.4690194129943848\n"
          ],
          "name": "stdout"
        },
        {
          "output_type": "stream",
          "text": [
            "05/21/2021 12:52:38 - INFO - __main__ -   31105\n"
          ],
          "name": "stderr"
        },
        {
          "output_type": "stream",
          "text": [
            "step 31100\n",
            "loss: 1.2112983465194702\n"
          ],
          "name": "stdout"
        },
        {
          "output_type": "stream",
          "text": [
            "05/21/2021 12:52:56 - INFO - __main__ -   31155\n"
          ],
          "name": "stderr"
        },
        {
          "output_type": "stream",
          "text": [
            "step 31150\n",
            "loss: 1.5987548828125\n"
          ],
          "name": "stdout"
        },
        {
          "output_type": "stream",
          "text": [
            "05/21/2021 12:53:14 - INFO - __main__ -   31205\n"
          ],
          "name": "stderr"
        },
        {
          "output_type": "stream",
          "text": [
            "step 31200\n",
            "loss: 1.6653245687484741\n"
          ],
          "name": "stdout"
        },
        {
          "output_type": "stream",
          "text": [
            "05/21/2021 12:53:32 - INFO - __main__ -   31255\n"
          ],
          "name": "stderr"
        },
        {
          "output_type": "stream",
          "text": [
            "step 31250\n",
            "loss: 1.5500359535217285\n"
          ],
          "name": "stdout"
        },
        {
          "output_type": "stream",
          "text": [
            "05/21/2021 12:53:51 - INFO - __main__ -   31305\n"
          ],
          "name": "stderr"
        },
        {
          "output_type": "stream",
          "text": [
            "step 31300\n",
            "loss: 2.3780765533447266\n"
          ],
          "name": "stdout"
        },
        {
          "output_type": "stream",
          "text": [
            "05/21/2021 12:54:09 - INFO - __main__ -   31355\n"
          ],
          "name": "stderr"
        },
        {
          "output_type": "stream",
          "text": [
            "step 31350\n",
            "loss: 1.6599750518798828\n"
          ],
          "name": "stdout"
        },
        {
          "output_type": "stream",
          "text": [
            "05/21/2021 12:54:27 - INFO - __main__ -   40\n"
          ],
          "name": "stderr"
        },
        {
          "output_type": "stream",
          "text": [
            "step 31400\n",
            "loss: 1.4626673460006714\n"
          ],
          "name": "stdout"
        },
        {
          "output_type": "stream",
          "text": [
            "05/21/2021 12:54:46 - INFO - __main__ -   90\n"
          ],
          "name": "stderr"
        },
        {
          "output_type": "stream",
          "text": [
            "step 31450\n",
            "loss: 1.417189598083496\n"
          ],
          "name": "stdout"
        },
        {
          "output_type": "stream",
          "text": [
            "05/21/2021 12:55:04 - INFO - __main__ -   140\n"
          ],
          "name": "stderr"
        },
        {
          "output_type": "stream",
          "text": [
            "step 31500\n",
            "loss: 1.775625228881836\n"
          ],
          "name": "stdout"
        },
        {
          "output_type": "stream",
          "text": [
            "05/21/2021 12:55:22 - INFO - __main__ -   190\n"
          ],
          "name": "stderr"
        },
        {
          "output_type": "stream",
          "text": [
            "step 31550\n",
            "loss: 1.6797854900360107\n"
          ],
          "name": "stdout"
        },
        {
          "output_type": "stream",
          "text": [
            "05/21/2021 12:55:40 - INFO - __main__ -   240\n"
          ],
          "name": "stderr"
        },
        {
          "output_type": "stream",
          "text": [
            "step 31600\n",
            "loss: 1.6805115938186646\n"
          ],
          "name": "stdout"
        },
        {
          "output_type": "stream",
          "text": [
            "05/21/2021 12:55:59 - INFO - __main__ -   290\n"
          ],
          "name": "stderr"
        },
        {
          "output_type": "stream",
          "text": [
            "step 31650\n",
            "loss: 1.5615041255950928\n"
          ],
          "name": "stdout"
        },
        {
          "output_type": "stream",
          "text": [
            "05/21/2021 12:56:17 - INFO - __main__ -   340\n"
          ],
          "name": "stderr"
        },
        {
          "output_type": "stream",
          "text": [
            "step 31700\n",
            "loss: 2.1326942443847656\n"
          ],
          "name": "stdout"
        },
        {
          "output_type": "stream",
          "text": [
            "05/21/2021 12:56:35 - INFO - __main__ -   390\n"
          ],
          "name": "stderr"
        },
        {
          "output_type": "stream",
          "text": [
            "step 31750\n",
            "loss: 1.7195731401443481\n"
          ],
          "name": "stdout"
        },
        {
          "output_type": "stream",
          "text": [
            "05/21/2021 12:56:53 - INFO - __main__ -   440\n"
          ],
          "name": "stderr"
        },
        {
          "output_type": "stream",
          "text": [
            "step 31800\n",
            "loss: 1.8636888265609741\n"
          ],
          "name": "stdout"
        },
        {
          "output_type": "stream",
          "text": [
            "05/21/2021 12:57:12 - INFO - __main__ -   490\n"
          ],
          "name": "stderr"
        },
        {
          "output_type": "stream",
          "text": [
            "step 31850\n",
            "loss: 2.0992166996002197\n"
          ],
          "name": "stdout"
        },
        {
          "output_type": "stream",
          "text": [
            "05/21/2021 12:57:30 - INFO - __main__ -   540\n"
          ],
          "name": "stderr"
        },
        {
          "output_type": "stream",
          "text": [
            "step 31900\n",
            "loss: 1.6709942817687988\n"
          ],
          "name": "stdout"
        },
        {
          "output_type": "stream",
          "text": [
            "05/21/2021 12:57:48 - INFO - __main__ -   590\n"
          ],
          "name": "stderr"
        },
        {
          "output_type": "stream",
          "text": [
            "step 31950\n",
            "loss: 1.2400027513504028\n"
          ],
          "name": "stdout"
        },
        {
          "output_type": "stream",
          "text": [
            "05/21/2021 12:58:06 - INFO - __main__ -   640\n"
          ],
          "name": "stderr"
        },
        {
          "output_type": "stream",
          "text": [
            "step 32000\n",
            "loss: 1.7240533828735352\n"
          ],
          "name": "stdout"
        },
        {
          "output_type": "stream",
          "text": [
            "05/21/2021 12:58:24 - INFO - __main__ -   690\n"
          ],
          "name": "stderr"
        },
        {
          "output_type": "stream",
          "text": [
            "step 32050\n",
            "loss: 1.7994054555892944\n"
          ],
          "name": "stdout"
        },
        {
          "output_type": "stream",
          "text": [
            "05/21/2021 12:58:43 - INFO - __main__ -   740\n"
          ],
          "name": "stderr"
        },
        {
          "output_type": "stream",
          "text": [
            "step 32100\n",
            "loss: 1.7838397026062012\n"
          ],
          "name": "stdout"
        },
        {
          "output_type": "stream",
          "text": [
            "05/21/2021 12:59:01 - INFO - __main__ -   790\n"
          ],
          "name": "stderr"
        },
        {
          "output_type": "stream",
          "text": [
            "step 32150\n",
            "loss: 1.655659794807434\n"
          ],
          "name": "stdout"
        },
        {
          "output_type": "stream",
          "text": [
            "05/21/2021 12:59:20 - INFO - __main__ -   840\n"
          ],
          "name": "stderr"
        },
        {
          "output_type": "stream",
          "text": [
            "step 32200\n",
            "loss: 2.0454561710357666\n"
          ],
          "name": "stdout"
        },
        {
          "output_type": "stream",
          "text": [
            "05/21/2021 12:59:38 - INFO - __main__ -   890\n"
          ],
          "name": "stderr"
        },
        {
          "output_type": "stream",
          "text": [
            "step 32250\n",
            "loss: 1.711869239807129\n"
          ],
          "name": "stdout"
        },
        {
          "output_type": "stream",
          "text": [
            "05/21/2021 12:59:56 - INFO - __main__ -   940\n"
          ],
          "name": "stderr"
        },
        {
          "output_type": "stream",
          "text": [
            "step 32300\n",
            "loss: 1.9929088354110718\n"
          ],
          "name": "stdout"
        },
        {
          "output_type": "stream",
          "text": [
            "05/21/2021 13:00:14 - INFO - __main__ -   990\n"
          ],
          "name": "stderr"
        },
        {
          "output_type": "stream",
          "text": [
            "step 32350\n",
            "loss: 1.4785293340682983\n"
          ],
          "name": "stdout"
        },
        {
          "output_type": "stream",
          "text": [
            "05/21/2021 13:00:32 - INFO - __main__ -   1040\n"
          ],
          "name": "stderr"
        },
        {
          "output_type": "stream",
          "text": [
            "step 32400\n",
            "loss: 1.7794572114944458\n"
          ],
          "name": "stdout"
        },
        {
          "output_type": "stream",
          "text": [
            "05/21/2021 13:00:51 - INFO - __main__ -   1090\n"
          ],
          "name": "stderr"
        },
        {
          "output_type": "stream",
          "text": [
            "step 32450\n",
            "loss: 1.3351892232894897\n"
          ],
          "name": "stdout"
        },
        {
          "output_type": "stream",
          "text": [
            "05/21/2021 13:01:09 - INFO - __main__ -   1140\n"
          ],
          "name": "stderr"
        },
        {
          "output_type": "stream",
          "text": [
            "step 32500\n",
            "loss: 1.5543813705444336\n"
          ],
          "name": "stdout"
        },
        {
          "output_type": "stream",
          "text": [
            "05/21/2021 13:01:27 - INFO - __main__ -   1190\n"
          ],
          "name": "stderr"
        },
        {
          "output_type": "stream",
          "text": [
            "step 32550\n",
            "loss: 2.1749610900878906\n"
          ],
          "name": "stdout"
        },
        {
          "output_type": "stream",
          "text": [
            "05/21/2021 13:01:46 - INFO - __main__ -   1240\n"
          ],
          "name": "stderr"
        },
        {
          "output_type": "stream",
          "text": [
            "step 32600\n",
            "loss: 1.4048595428466797\n"
          ],
          "name": "stdout"
        },
        {
          "output_type": "stream",
          "text": [
            "05/21/2021 13:02:04 - INFO - __main__ -   1290\n"
          ],
          "name": "stderr"
        },
        {
          "output_type": "stream",
          "text": [
            "step 32650\n",
            "loss: 1.7213387489318848\n"
          ],
          "name": "stdout"
        },
        {
          "output_type": "stream",
          "text": [
            "05/21/2021 13:02:22 - INFO - __main__ -   1340\n"
          ],
          "name": "stderr"
        },
        {
          "output_type": "stream",
          "text": [
            "step 32700\n",
            "loss: 1.9717625379562378\n"
          ],
          "name": "stdout"
        },
        {
          "output_type": "stream",
          "text": [
            "05/21/2021 13:02:40 - INFO - __main__ -   1390\n"
          ],
          "name": "stderr"
        },
        {
          "output_type": "stream",
          "text": [
            "step 32750\n",
            "loss: 1.422996997833252\n"
          ],
          "name": "stdout"
        },
        {
          "output_type": "stream",
          "text": [
            "05/21/2021 13:02:58 - INFO - __main__ -   1440\n"
          ],
          "name": "stderr"
        },
        {
          "output_type": "stream",
          "text": [
            "step 32800\n",
            "loss: 2.0256428718566895\n"
          ],
          "name": "stdout"
        },
        {
          "output_type": "stream",
          "text": [
            "05/21/2021 13:03:17 - INFO - __main__ -   1490\n"
          ],
          "name": "stderr"
        },
        {
          "output_type": "stream",
          "text": [
            "step 32850\n",
            "loss: 1.5227099657058716\n"
          ],
          "name": "stdout"
        },
        {
          "output_type": "stream",
          "text": [
            "05/21/2021 13:03:35 - INFO - __main__ -   1540\n"
          ],
          "name": "stderr"
        },
        {
          "output_type": "stream",
          "text": [
            "step 32900\n",
            "loss: 1.5784698724746704\n"
          ],
          "name": "stdout"
        },
        {
          "output_type": "stream",
          "text": [
            "05/21/2021 13:03:53 - INFO - __main__ -   1590\n"
          ],
          "name": "stderr"
        },
        {
          "output_type": "stream",
          "text": [
            "step 32950\n",
            "loss: 1.784210443496704\n"
          ],
          "name": "stdout"
        },
        {
          "output_type": "stream",
          "text": [
            "05/21/2021 13:04:11 - INFO - __main__ -   1640\n"
          ],
          "name": "stderr"
        },
        {
          "output_type": "stream",
          "text": [
            "step 33000\n",
            "loss: 1.6825796365737915\n"
          ],
          "name": "stdout"
        },
        {
          "output_type": "stream",
          "text": [
            "05/21/2021 13:04:30 - INFO - __main__ -   1690\n"
          ],
          "name": "stderr"
        },
        {
          "output_type": "stream",
          "text": [
            "step 33050\n",
            "loss: 1.9995073080062866\n"
          ],
          "name": "stdout"
        },
        {
          "output_type": "stream",
          "text": [
            "05/21/2021 13:04:48 - INFO - __main__ -   1740\n"
          ],
          "name": "stderr"
        },
        {
          "output_type": "stream",
          "text": [
            "step 33100\n",
            "loss: 1.4258846044540405\n"
          ],
          "name": "stdout"
        },
        {
          "output_type": "stream",
          "text": [
            "05/21/2021 13:05:06 - INFO - __main__ -   1790\n"
          ],
          "name": "stderr"
        },
        {
          "output_type": "stream",
          "text": [
            "step 33150\n",
            "loss: 1.4727920293807983\n"
          ],
          "name": "stdout"
        },
        {
          "output_type": "stream",
          "text": [
            "05/21/2021 13:05:25 - INFO - __main__ -   1840\n"
          ],
          "name": "stderr"
        },
        {
          "output_type": "stream",
          "text": [
            "step 33200\n",
            "loss: 1.7703235149383545\n"
          ],
          "name": "stdout"
        },
        {
          "output_type": "stream",
          "text": [
            "05/21/2021 13:05:43 - INFO - __main__ -   1890\n"
          ],
          "name": "stderr"
        },
        {
          "output_type": "stream",
          "text": [
            "step 33250\n",
            "loss: 1.443715214729309\n"
          ],
          "name": "stdout"
        },
        {
          "output_type": "stream",
          "text": [
            "05/21/2021 13:06:01 - INFO - __main__ -   1940\n"
          ],
          "name": "stderr"
        },
        {
          "output_type": "stream",
          "text": [
            "step 33300\n",
            "loss: 1.8016425371170044\n"
          ],
          "name": "stdout"
        },
        {
          "output_type": "stream",
          "text": [
            "05/21/2021 13:06:19 - INFO - __main__ -   1990\n"
          ],
          "name": "stderr"
        },
        {
          "output_type": "stream",
          "text": [
            "step 33350\n",
            "loss: 1.41530179977417\n"
          ],
          "name": "stdout"
        },
        {
          "output_type": "stream",
          "text": [
            "05/21/2021 13:06:38 - INFO - __main__ -   2040\n"
          ],
          "name": "stderr"
        },
        {
          "output_type": "stream",
          "text": [
            "step 33400\n",
            "loss: 1.9093384742736816\n"
          ],
          "name": "stdout"
        },
        {
          "output_type": "stream",
          "text": [
            "05/21/2021 13:06:56 - INFO - __main__ -   2090\n"
          ],
          "name": "stderr"
        },
        {
          "output_type": "stream",
          "text": [
            "step 33450\n",
            "loss: 1.1498786211013794\n"
          ],
          "name": "stdout"
        },
        {
          "output_type": "stream",
          "text": [
            "05/21/2021 13:07:14 - INFO - __main__ -   2140\n"
          ],
          "name": "stderr"
        },
        {
          "output_type": "stream",
          "text": [
            "step 33500\n",
            "loss: 1.5082273483276367\n"
          ],
          "name": "stdout"
        },
        {
          "output_type": "stream",
          "text": [
            "05/21/2021 13:07:32 - INFO - __main__ -   2190\n"
          ],
          "name": "stderr"
        },
        {
          "output_type": "stream",
          "text": [
            "step 33550\n",
            "loss: 1.5743552446365356\n"
          ],
          "name": "stdout"
        },
        {
          "output_type": "stream",
          "text": [
            "05/21/2021 13:07:51 - INFO - __main__ -   2240\n"
          ],
          "name": "stderr"
        },
        {
          "output_type": "stream",
          "text": [
            "step 33600\n",
            "loss: 1.3476316928863525\n"
          ],
          "name": "stdout"
        },
        {
          "output_type": "stream",
          "text": [
            "05/21/2021 13:08:09 - INFO - __main__ -   2290\n"
          ],
          "name": "stderr"
        },
        {
          "output_type": "stream",
          "text": [
            "step 33650\n",
            "loss: 1.678935170173645\n"
          ],
          "name": "stdout"
        },
        {
          "output_type": "stream",
          "text": [
            "05/21/2021 13:08:27 - INFO - __main__ -   2340\n"
          ],
          "name": "stderr"
        },
        {
          "output_type": "stream",
          "text": [
            "step 33700\n",
            "loss: 1.6711715459823608\n"
          ],
          "name": "stdout"
        },
        {
          "output_type": "stream",
          "text": [
            "05/21/2021 13:08:45 - INFO - __main__ -   2390\n"
          ],
          "name": "stderr"
        },
        {
          "output_type": "stream",
          "text": [
            "step 33750\n",
            "loss: 1.733323097229004\n"
          ],
          "name": "stdout"
        },
        {
          "output_type": "stream",
          "text": [
            "05/21/2021 13:09:03 - INFO - __main__ -   2440\n"
          ],
          "name": "stderr"
        },
        {
          "output_type": "stream",
          "text": [
            "step 33800\n",
            "loss: 1.8365246057510376\n"
          ],
          "name": "stdout"
        },
        {
          "output_type": "stream",
          "text": [
            "05/21/2021 13:09:22 - INFO - __main__ -   2490\n"
          ],
          "name": "stderr"
        },
        {
          "output_type": "stream",
          "text": [
            "step 33850\n",
            "loss: 1.7850338220596313\n"
          ],
          "name": "stdout"
        },
        {
          "output_type": "stream",
          "text": [
            "05/21/2021 13:09:40 - INFO - __main__ -   2540\n"
          ],
          "name": "stderr"
        },
        {
          "output_type": "stream",
          "text": [
            "step 33900\n",
            "loss: 1.4089854955673218\n"
          ],
          "name": "stdout"
        },
        {
          "output_type": "stream",
          "text": [
            "05/21/2021 13:09:58 - INFO - __main__ -   2590\n"
          ],
          "name": "stderr"
        },
        {
          "output_type": "stream",
          "text": [
            "step 33950\n",
            "loss: 1.5163830518722534\n"
          ],
          "name": "stdout"
        },
        {
          "output_type": "stream",
          "text": [
            "05/21/2021 13:10:17 - INFO - __main__ -   2640\n"
          ],
          "name": "stderr"
        },
        {
          "output_type": "stream",
          "text": [
            "step 34000\n",
            "loss: 2.265265941619873\n"
          ],
          "name": "stdout"
        },
        {
          "output_type": "stream",
          "text": [
            "05/21/2021 13:10:35 - INFO - __main__ -   2690\n"
          ],
          "name": "stderr"
        },
        {
          "output_type": "stream",
          "text": [
            "step 34050\n",
            "loss: 1.7405978441238403\n",
            "Gradient overflow.  Skipping step, loss scaler 0 reducing loss scale to 16384.0\n"
          ],
          "name": "stdout"
        },
        {
          "output_type": "stream",
          "text": [
            "05/21/2021 13:10:53 - INFO - __main__ -   2740\n"
          ],
          "name": "stderr"
        },
        {
          "output_type": "stream",
          "text": [
            "step 34100\n",
            "loss: 1.7433170080184937\n"
          ],
          "name": "stdout"
        },
        {
          "output_type": "stream",
          "text": [
            "05/21/2021 13:11:12 - INFO - __main__ -   2790\n"
          ],
          "name": "stderr"
        },
        {
          "output_type": "stream",
          "text": [
            "step 34150\n",
            "loss: 1.796887993812561\n"
          ],
          "name": "stdout"
        },
        {
          "output_type": "stream",
          "text": [
            "05/21/2021 13:11:30 - INFO - __main__ -   2840\n"
          ],
          "name": "stderr"
        },
        {
          "output_type": "stream",
          "text": [
            "step 34200\n",
            "loss: 1.3859447240829468\n"
          ],
          "name": "stdout"
        },
        {
          "output_type": "stream",
          "text": [
            "05/21/2021 13:11:48 - INFO - __main__ -   2890\n"
          ],
          "name": "stderr"
        },
        {
          "output_type": "stream",
          "text": [
            "step 34250\n",
            "loss: 1.8795851469039917\n"
          ],
          "name": "stdout"
        },
        {
          "output_type": "stream",
          "text": [
            "05/21/2021 13:12:06 - INFO - __main__ -   2940\n"
          ],
          "name": "stderr"
        },
        {
          "output_type": "stream",
          "text": [
            "step 34300\n",
            "loss: 1.723464012145996\n"
          ],
          "name": "stdout"
        },
        {
          "output_type": "stream",
          "text": [
            "05/21/2021 13:12:24 - INFO - __main__ -   2990\n"
          ],
          "name": "stderr"
        },
        {
          "output_type": "stream",
          "text": [
            "step 34350\n",
            "loss: 1.2778370380401611\n"
          ],
          "name": "stdout"
        },
        {
          "output_type": "stream",
          "text": [
            "05/21/2021 13:12:43 - INFO - __main__ -   3040\n"
          ],
          "name": "stderr"
        },
        {
          "output_type": "stream",
          "text": [
            "step 34400\n",
            "loss: 1.4352374076843262\n"
          ],
          "name": "stdout"
        },
        {
          "output_type": "stream",
          "text": [
            "05/21/2021 13:13:01 - INFO - __main__ -   3090\n"
          ],
          "name": "stderr"
        },
        {
          "output_type": "stream",
          "text": [
            "step 34450\n",
            "loss: 2.0360844135284424\n"
          ],
          "name": "stdout"
        },
        {
          "output_type": "stream",
          "text": [
            "05/21/2021 13:13:19 - INFO - __main__ -   3140\n"
          ],
          "name": "stderr"
        },
        {
          "output_type": "stream",
          "text": [
            "step 34500\n",
            "loss: 1.8432714939117432\n"
          ],
          "name": "stdout"
        },
        {
          "output_type": "stream",
          "text": [
            "05/21/2021 13:13:37 - INFO - __main__ -   3190\n"
          ],
          "name": "stderr"
        },
        {
          "output_type": "stream",
          "text": [
            "step 34550\n",
            "loss: 1.9691498279571533\n"
          ],
          "name": "stdout"
        },
        {
          "output_type": "stream",
          "text": [
            "05/21/2021 13:13:56 - INFO - __main__ -   3240\n"
          ],
          "name": "stderr"
        },
        {
          "output_type": "stream",
          "text": [
            "step 34600\n",
            "loss: 1.5814722776412964\n"
          ],
          "name": "stdout"
        },
        {
          "output_type": "stream",
          "text": [
            "05/21/2021 13:14:14 - INFO - __main__ -   3290\n"
          ],
          "name": "stderr"
        },
        {
          "output_type": "stream",
          "text": [
            "step 34650\n",
            "loss: 1.3534749746322632\n"
          ],
          "name": "stdout"
        },
        {
          "output_type": "stream",
          "text": [
            "05/21/2021 13:14:32 - INFO - __main__ -   3340\n"
          ],
          "name": "stderr"
        },
        {
          "output_type": "stream",
          "text": [
            "step 34700\n",
            "loss: 1.6221590042114258\n"
          ],
          "name": "stdout"
        },
        {
          "output_type": "stream",
          "text": [
            "05/21/2021 13:14:50 - INFO - __main__ -   3390\n"
          ],
          "name": "stderr"
        },
        {
          "output_type": "stream",
          "text": [
            "step 34750\n",
            "loss: 1.5568000078201294\n"
          ],
          "name": "stdout"
        },
        {
          "output_type": "stream",
          "text": [
            "05/21/2021 13:15:08 - INFO - __main__ -   3440\n"
          ],
          "name": "stderr"
        },
        {
          "output_type": "stream",
          "text": [
            "step 34800\n",
            "loss: 1.7770196199417114\n"
          ],
          "name": "stdout"
        },
        {
          "output_type": "stream",
          "text": [
            "05/21/2021 13:15:27 - INFO - __main__ -   3490\n"
          ],
          "name": "stderr"
        },
        {
          "output_type": "stream",
          "text": [
            "step 34850\n",
            "loss: 1.6485660076141357\n"
          ],
          "name": "stdout"
        },
        {
          "output_type": "stream",
          "text": [
            "05/21/2021 13:15:45 - INFO - __main__ -   3540\n"
          ],
          "name": "stderr"
        },
        {
          "output_type": "stream",
          "text": [
            "step 34900\n",
            "loss: 1.3853832483291626\n"
          ],
          "name": "stdout"
        },
        {
          "output_type": "stream",
          "text": [
            "05/21/2021 13:16:03 - INFO - __main__ -   3590\n"
          ],
          "name": "stderr"
        },
        {
          "output_type": "stream",
          "text": [
            "step 34950\n",
            "loss: 1.404232382774353\n"
          ],
          "name": "stdout"
        },
        {
          "output_type": "stream",
          "text": [
            "05/21/2021 13:16:21 - INFO - __main__ -   3640\n"
          ],
          "name": "stderr"
        },
        {
          "output_type": "stream",
          "text": [
            "step 35000\n",
            "loss: 1.6219860315322876\n"
          ],
          "name": "stdout"
        },
        {
          "output_type": "stream",
          "text": [
            "05/21/2021 13:16:40 - INFO - __main__ -   3690\n"
          ],
          "name": "stderr"
        },
        {
          "output_type": "stream",
          "text": [
            "step 35050\n",
            "loss: 1.8939895629882812\n"
          ],
          "name": "stdout"
        },
        {
          "output_type": "stream",
          "text": [
            "05/21/2021 13:16:58 - INFO - __main__ -   3740\n"
          ],
          "name": "stderr"
        },
        {
          "output_type": "stream",
          "text": [
            "step 35100\n",
            "loss: 1.6252213716506958\n"
          ],
          "name": "stdout"
        },
        {
          "output_type": "stream",
          "text": [
            "05/21/2021 13:17:16 - INFO - __main__ -   3790\n"
          ],
          "name": "stderr"
        },
        {
          "output_type": "stream",
          "text": [
            "step 35150\n",
            "loss: 1.6089527606964111\n"
          ],
          "name": "stdout"
        },
        {
          "output_type": "stream",
          "text": [
            "05/21/2021 13:17:34 - INFO - __main__ -   3840\n"
          ],
          "name": "stderr"
        },
        {
          "output_type": "stream",
          "text": [
            "step 35200\n",
            "loss: 1.6052405834197998\n"
          ],
          "name": "stdout"
        },
        {
          "output_type": "stream",
          "text": [
            "05/21/2021 13:17:53 - INFO - __main__ -   3890\n"
          ],
          "name": "stderr"
        },
        {
          "output_type": "stream",
          "text": [
            "step 35250\n",
            "loss: 2.01810622215271\n"
          ],
          "name": "stdout"
        },
        {
          "output_type": "stream",
          "text": [
            "05/21/2021 13:18:11 - INFO - __main__ -   3940\n"
          ],
          "name": "stderr"
        },
        {
          "output_type": "stream",
          "text": [
            "step 35300\n",
            "loss: 1.699463129043579\n"
          ],
          "name": "stdout"
        },
        {
          "output_type": "stream",
          "text": [
            "05/21/2021 13:18:29 - INFO - __main__ -   3990\n"
          ],
          "name": "stderr"
        },
        {
          "output_type": "stream",
          "text": [
            "step 35350\n",
            "loss: 1.5910587310791016\n"
          ],
          "name": "stdout"
        },
        {
          "output_type": "stream",
          "text": [
            "05/21/2021 13:18:47 - INFO - __main__ -   4040\n"
          ],
          "name": "stderr"
        },
        {
          "output_type": "stream",
          "text": [
            "step 35400\n",
            "loss: 1.863879680633545\n"
          ],
          "name": "stdout"
        },
        {
          "output_type": "stream",
          "text": [
            "05/21/2021 13:19:06 - INFO - __main__ -   4090\n"
          ],
          "name": "stderr"
        },
        {
          "output_type": "stream",
          "text": [
            "step 35450\n",
            "loss: 1.4099470376968384\n"
          ],
          "name": "stdout"
        },
        {
          "output_type": "stream",
          "text": [
            "05/21/2021 13:19:24 - INFO - __main__ -   4140\n"
          ],
          "name": "stderr"
        },
        {
          "output_type": "stream",
          "text": [
            "step 35500\n",
            "loss: 1.9986027479171753\n",
            "Gradient overflow.  Skipping step, loss scaler 0 reducing loss scale to 8192.0\n"
          ],
          "name": "stdout"
        },
        {
          "output_type": "stream",
          "text": [
            "05/21/2021 13:19:42 - INFO - __main__ -   4190\n"
          ],
          "name": "stderr"
        },
        {
          "output_type": "stream",
          "text": [
            "step 35550\n",
            "loss: 2.0942914485931396\n"
          ],
          "name": "stdout"
        },
        {
          "output_type": "stream",
          "text": [
            "05/21/2021 13:20:00 - INFO - __main__ -   4240\n"
          ],
          "name": "stderr"
        },
        {
          "output_type": "stream",
          "text": [
            "step 35600\n",
            "loss: 2.0190725326538086\n"
          ],
          "name": "stdout"
        },
        {
          "output_type": "stream",
          "text": [
            "05/21/2021 13:20:18 - INFO - __main__ -   4290\n"
          ],
          "name": "stderr"
        },
        {
          "output_type": "stream",
          "text": [
            "step 35650\n",
            "loss: 1.4612154960632324\n"
          ],
          "name": "stdout"
        },
        {
          "output_type": "stream",
          "text": [
            "05/21/2021 13:20:37 - INFO - __main__ -   4340\n"
          ],
          "name": "stderr"
        },
        {
          "output_type": "stream",
          "text": [
            "step 35700\n",
            "loss: 1.7539438009262085\n"
          ],
          "name": "stdout"
        },
        {
          "output_type": "stream",
          "text": [
            "05/21/2021 13:20:55 - INFO - __main__ -   4390\n"
          ],
          "name": "stderr"
        },
        {
          "output_type": "stream",
          "text": [
            "step 35750\n",
            "loss: 1.6807234287261963\n"
          ],
          "name": "stdout"
        },
        {
          "output_type": "stream",
          "text": [
            "05/21/2021 13:21:13 - INFO - __main__ -   4440\n"
          ],
          "name": "stderr"
        },
        {
          "output_type": "stream",
          "text": [
            "step 35800\n",
            "loss: 2.1961822509765625\n"
          ],
          "name": "stdout"
        },
        {
          "output_type": "stream",
          "text": [
            "05/21/2021 13:21:31 - INFO - __main__ -   4490\n"
          ],
          "name": "stderr"
        },
        {
          "output_type": "stream",
          "text": [
            "step 35850\n",
            "loss: 1.3251895904541016\n"
          ],
          "name": "stdout"
        },
        {
          "output_type": "stream",
          "text": [
            "05/21/2021 13:21:50 - INFO - __main__ -   4540\n"
          ],
          "name": "stderr"
        },
        {
          "output_type": "stream",
          "text": [
            "step 35900\n",
            "loss: 1.6565979719161987\n",
            "Gradient overflow.  Skipping step, loss scaler 0 reducing loss scale to 4096.0\n"
          ],
          "name": "stdout"
        },
        {
          "output_type": "stream",
          "text": [
            "05/21/2021 13:22:08 - INFO - __main__ -   4590\n"
          ],
          "name": "stderr"
        },
        {
          "output_type": "stream",
          "text": [
            "step 35950\n",
            "loss: 1.6792676448822021\n"
          ],
          "name": "stdout"
        },
        {
          "output_type": "stream",
          "text": [
            "05/21/2021 13:22:26 - INFO - __main__ -   4640\n"
          ],
          "name": "stderr"
        },
        {
          "output_type": "stream",
          "text": [
            "step 36000\n",
            "loss: 1.312873125076294\n"
          ],
          "name": "stdout"
        },
        {
          "output_type": "stream",
          "text": [
            "05/21/2021 13:22:44 - INFO - __main__ -   4690\n"
          ],
          "name": "stderr"
        },
        {
          "output_type": "stream",
          "text": [
            "step 36050\n",
            "loss: 1.681673288345337\n"
          ],
          "name": "stdout"
        },
        {
          "output_type": "stream",
          "text": [
            "05/21/2021 13:23:03 - INFO - __main__ -   4740\n"
          ],
          "name": "stderr"
        },
        {
          "output_type": "stream",
          "text": [
            "step 36100\n",
            "loss: 1.9075149297714233\n"
          ],
          "name": "stdout"
        },
        {
          "output_type": "stream",
          "text": [
            "05/21/2021 13:23:21 - INFO - __main__ -   4790\n"
          ],
          "name": "stderr"
        },
        {
          "output_type": "stream",
          "text": [
            "step 36150\n",
            "loss: 1.5703071355819702\n"
          ],
          "name": "stdout"
        },
        {
          "output_type": "stream",
          "text": [
            "05/21/2021 13:23:39 - INFO - __main__ -   4840\n"
          ],
          "name": "stderr"
        },
        {
          "output_type": "stream",
          "text": [
            "step 36200\n",
            "loss: 2.1728103160858154\n"
          ],
          "name": "stdout"
        },
        {
          "output_type": "stream",
          "text": [
            "05/21/2021 13:23:57 - INFO - __main__ -   4890\n"
          ],
          "name": "stderr"
        },
        {
          "output_type": "stream",
          "text": [
            "step 36250\n",
            "loss: 1.5548564195632935\n"
          ],
          "name": "stdout"
        },
        {
          "output_type": "stream",
          "text": [
            "05/21/2021 13:24:16 - INFO - __main__ -   4940\n"
          ],
          "name": "stderr"
        },
        {
          "output_type": "stream",
          "text": [
            "step 36300\n",
            "loss: 1.7599800825119019\n"
          ],
          "name": "stdout"
        },
        {
          "output_type": "stream",
          "text": [
            "05/21/2021 13:24:34 - INFO - __main__ -   4990\n"
          ],
          "name": "stderr"
        },
        {
          "output_type": "stream",
          "text": [
            "step 36350\n",
            "loss: 1.4421881437301636\n"
          ],
          "name": "stdout"
        },
        {
          "output_type": "stream",
          "text": [
            "05/21/2021 13:24:52 - INFO - __main__ -   5040\n"
          ],
          "name": "stderr"
        },
        {
          "output_type": "stream",
          "text": [
            "step 36400\n",
            "loss: 2.065462589263916\n"
          ],
          "name": "stdout"
        },
        {
          "output_type": "stream",
          "text": [
            "05/21/2021 13:25:10 - INFO - __main__ -   5090\n"
          ],
          "name": "stderr"
        },
        {
          "output_type": "stream",
          "text": [
            "step 36450\n",
            "loss: 1.5883092880249023\n"
          ],
          "name": "stdout"
        },
        {
          "output_type": "stream",
          "text": [
            "05/21/2021 13:25:28 - INFO - __main__ -   5140\n"
          ],
          "name": "stderr"
        },
        {
          "output_type": "stream",
          "text": [
            "step 36500\n",
            "loss: 1.5228147506713867\n"
          ],
          "name": "stdout"
        },
        {
          "output_type": "stream",
          "text": [
            "05/21/2021 13:25:46 - INFO - __main__ -   5190\n"
          ],
          "name": "stderr"
        },
        {
          "output_type": "stream",
          "text": [
            "step 36550\n",
            "loss: 1.7229048013687134\n"
          ],
          "name": "stdout"
        },
        {
          "output_type": "stream",
          "text": [
            "05/21/2021 13:26:05 - INFO - __main__ -   5240\n"
          ],
          "name": "stderr"
        },
        {
          "output_type": "stream",
          "text": [
            "step 36600\n",
            "loss: 1.287077784538269\n"
          ],
          "name": "stdout"
        },
        {
          "output_type": "stream",
          "text": [
            "05/21/2021 13:26:23 - INFO - __main__ -   5290\n"
          ],
          "name": "stderr"
        },
        {
          "output_type": "stream",
          "text": [
            "step 36650\n",
            "loss: 2.133723258972168\n"
          ],
          "name": "stdout"
        },
        {
          "output_type": "stream",
          "text": [
            "05/21/2021 13:26:41 - INFO - __main__ -   5340\n"
          ],
          "name": "stderr"
        },
        {
          "output_type": "stream",
          "text": [
            "step 36700\n",
            "loss: 1.9046297073364258\n"
          ],
          "name": "stdout"
        },
        {
          "output_type": "stream",
          "text": [
            "05/21/2021 13:26:59 - INFO - __main__ -   5390\n"
          ],
          "name": "stderr"
        },
        {
          "output_type": "stream",
          "text": [
            "step 36750\n",
            "loss: 1.9340277910232544\n"
          ],
          "name": "stdout"
        },
        {
          "output_type": "stream",
          "text": [
            "05/21/2021 13:27:18 - INFO - __main__ -   5440\n"
          ],
          "name": "stderr"
        },
        {
          "output_type": "stream",
          "text": [
            "step 36800\n",
            "loss: 1.8880527019500732\n"
          ],
          "name": "stdout"
        },
        {
          "output_type": "stream",
          "text": [
            "05/21/2021 13:27:36 - INFO - __main__ -   5490\n"
          ],
          "name": "stderr"
        },
        {
          "output_type": "stream",
          "text": [
            "step 36850\n",
            "loss: 1.6651952266693115\n"
          ],
          "name": "stdout"
        },
        {
          "output_type": "stream",
          "text": [
            "05/21/2021 13:27:54 - INFO - __main__ -   5540\n"
          ],
          "name": "stderr"
        },
        {
          "output_type": "stream",
          "text": [
            "step 36900\n",
            "loss: 1.1931887865066528\n"
          ],
          "name": "stdout"
        },
        {
          "output_type": "stream",
          "text": [
            "05/21/2021 13:28:12 - INFO - __main__ -   5590\n"
          ],
          "name": "stderr"
        },
        {
          "output_type": "stream",
          "text": [
            "step 36950\n",
            "loss: 1.8979092836380005\n"
          ],
          "name": "stdout"
        },
        {
          "output_type": "stream",
          "text": [
            "05/21/2021 13:28:31 - INFO - __main__ -   5640\n"
          ],
          "name": "stderr"
        },
        {
          "output_type": "stream",
          "text": [
            "step 37000\n",
            "loss: 1.8352015018463135\n"
          ],
          "name": "stdout"
        },
        {
          "output_type": "stream",
          "text": [
            "05/21/2021 13:28:49 - INFO - __main__ -   5690\n"
          ],
          "name": "stderr"
        },
        {
          "output_type": "stream",
          "text": [
            "step 37050\n",
            "loss: 2.10105562210083\n"
          ],
          "name": "stdout"
        },
        {
          "output_type": "stream",
          "text": [
            "05/21/2021 13:29:07 - INFO - __main__ -   5740\n"
          ],
          "name": "stderr"
        },
        {
          "output_type": "stream",
          "text": [
            "step 37100\n",
            "loss: 1.6331919431686401\n"
          ],
          "name": "stdout"
        },
        {
          "output_type": "stream",
          "text": [
            "05/21/2021 13:29:26 - INFO - __main__ -   5790\n"
          ],
          "name": "stderr"
        },
        {
          "output_type": "stream",
          "text": [
            "step 37150\n",
            "loss: 1.7192023992538452\n"
          ],
          "name": "stdout"
        },
        {
          "output_type": "stream",
          "text": [
            "05/21/2021 13:29:44 - INFO - __main__ -   5840\n"
          ],
          "name": "stderr"
        },
        {
          "output_type": "stream",
          "text": [
            "step 37200\n",
            "loss: 1.364288330078125\n"
          ],
          "name": "stdout"
        },
        {
          "output_type": "stream",
          "text": [
            "05/21/2021 13:30:02 - INFO - __main__ -   5890\n"
          ],
          "name": "stderr"
        },
        {
          "output_type": "stream",
          "text": [
            "step 37250\n",
            "loss: 1.880486011505127\n"
          ],
          "name": "stdout"
        },
        {
          "output_type": "stream",
          "text": [
            "05/21/2021 13:30:21 - INFO - __main__ -   5940\n"
          ],
          "name": "stderr"
        },
        {
          "output_type": "stream",
          "text": [
            "step 37300\n",
            "loss: 1.8685616254806519\n"
          ],
          "name": "stdout"
        },
        {
          "output_type": "stream",
          "text": [
            "05/21/2021 13:30:39 - INFO - __main__ -   5990\n"
          ],
          "name": "stderr"
        },
        {
          "output_type": "stream",
          "text": [
            "step 37350\n",
            "loss: 1.4489222764968872\n"
          ],
          "name": "stdout"
        },
        {
          "output_type": "stream",
          "text": [
            "05/21/2021 13:30:57 - INFO - __main__ -   6040\n"
          ],
          "name": "stderr"
        },
        {
          "output_type": "stream",
          "text": [
            "step 37400\n",
            "loss: 2.0513381958007812\n"
          ],
          "name": "stdout"
        },
        {
          "output_type": "stream",
          "text": [
            "05/21/2021 13:31:15 - INFO - __main__ -   6090\n"
          ],
          "name": "stderr"
        },
        {
          "output_type": "stream",
          "text": [
            "step 37450\n",
            "loss: 1.529592514038086\n"
          ],
          "name": "stdout"
        },
        {
          "output_type": "stream",
          "text": [
            "05/21/2021 13:31:33 - INFO - __main__ -   6140\n"
          ],
          "name": "stderr"
        },
        {
          "output_type": "stream",
          "text": [
            "step 37500\n",
            "loss: 1.4934715032577515\n"
          ],
          "name": "stdout"
        },
        {
          "output_type": "stream",
          "text": [
            "05/21/2021 13:31:52 - INFO - __main__ -   6190\n"
          ],
          "name": "stderr"
        },
        {
          "output_type": "stream",
          "text": [
            "step 37550\n",
            "loss: 1.789489984512329\n"
          ],
          "name": "stdout"
        },
        {
          "output_type": "stream",
          "text": [
            "05/21/2021 13:32:10 - INFO - __main__ -   6240\n"
          ],
          "name": "stderr"
        },
        {
          "output_type": "stream",
          "text": [
            "step 37600\n",
            "loss: 1.4960215091705322\n"
          ],
          "name": "stdout"
        },
        {
          "output_type": "stream",
          "text": [
            "05/21/2021 13:32:28 - INFO - __main__ -   6290\n"
          ],
          "name": "stderr"
        },
        {
          "output_type": "stream",
          "text": [
            "step 37650\n",
            "loss: 1.4709396362304688\n",
            "Gradient overflow.  Skipping step, loss scaler 0 reducing loss scale to 2048.0\n"
          ],
          "name": "stdout"
        },
        {
          "output_type": "stream",
          "text": [
            "05/21/2021 13:32:47 - INFO - __main__ -   6340\n"
          ],
          "name": "stderr"
        },
        {
          "output_type": "stream",
          "text": [
            "step 37700\n",
            "loss: 1.5503032207489014\n"
          ],
          "name": "stdout"
        },
        {
          "output_type": "stream",
          "text": [
            "05/21/2021 13:33:05 - INFO - __main__ -   6390\n"
          ],
          "name": "stderr"
        },
        {
          "output_type": "stream",
          "text": [
            "step 37750\n",
            "loss: 1.5632164478302002\n"
          ],
          "name": "stdout"
        },
        {
          "output_type": "stream",
          "text": [
            "05/21/2021 13:33:23 - INFO - __main__ -   6440\n"
          ],
          "name": "stderr"
        },
        {
          "output_type": "stream",
          "text": [
            "step 37800\n",
            "loss: 1.7268246412277222\n"
          ],
          "name": "stdout"
        },
        {
          "output_type": "stream",
          "text": [
            "05/21/2021 13:33:41 - INFO - __main__ -   6490\n"
          ],
          "name": "stderr"
        },
        {
          "output_type": "stream",
          "text": [
            "step 37850\n",
            "loss: 2.080720901489258\n"
          ],
          "name": "stdout"
        },
        {
          "output_type": "stream",
          "text": [
            "05/21/2021 13:34:00 - INFO - __main__ -   6540\n"
          ],
          "name": "stderr"
        },
        {
          "output_type": "stream",
          "text": [
            "step 37900\n",
            "loss: 1.6502598524093628\n"
          ],
          "name": "stdout"
        },
        {
          "output_type": "stream",
          "text": [
            "05/21/2021 13:34:18 - INFO - __main__ -   6590\n"
          ],
          "name": "stderr"
        },
        {
          "output_type": "stream",
          "text": [
            "step 37950\n",
            "loss: 1.6593612432479858\n"
          ],
          "name": "stdout"
        },
        {
          "output_type": "stream",
          "text": [
            "05/21/2021 13:34:36 - INFO - __main__ -   6640\n"
          ],
          "name": "stderr"
        },
        {
          "output_type": "stream",
          "text": [
            "step 38000\n",
            "loss: 1.4825814962387085\n"
          ],
          "name": "stdout"
        },
        {
          "output_type": "stream",
          "text": [
            "05/21/2021 13:34:55 - INFO - __main__ -   6690\n"
          ],
          "name": "stderr"
        },
        {
          "output_type": "stream",
          "text": [
            "step 38050\n",
            "loss: 1.4762448072433472\n"
          ],
          "name": "stdout"
        },
        {
          "output_type": "stream",
          "text": [
            "05/21/2021 13:35:13 - INFO - __main__ -   6740\n"
          ],
          "name": "stderr"
        },
        {
          "output_type": "stream",
          "text": [
            "step 38100\n",
            "loss: 1.503711223602295\n"
          ],
          "name": "stdout"
        },
        {
          "output_type": "stream",
          "text": [
            "05/21/2021 13:35:31 - INFO - __main__ -   6790\n"
          ],
          "name": "stderr"
        },
        {
          "output_type": "stream",
          "text": [
            "step 38150\n",
            "loss: 1.4066416025161743\n"
          ],
          "name": "stdout"
        },
        {
          "output_type": "stream",
          "text": [
            "05/21/2021 13:35:49 - INFO - __main__ -   6840\n"
          ],
          "name": "stderr"
        },
        {
          "output_type": "stream",
          "text": [
            "step 38200\n",
            "loss: 1.3364554643630981\n"
          ],
          "name": "stdout"
        },
        {
          "output_type": "stream",
          "text": [
            "05/21/2021 13:36:08 - INFO - __main__ -   6890\n"
          ],
          "name": "stderr"
        },
        {
          "output_type": "stream",
          "text": [
            "step 38250\n",
            "loss: 2.2651026248931885\n"
          ],
          "name": "stdout"
        },
        {
          "output_type": "stream",
          "text": [
            "05/21/2021 13:36:26 - INFO - __main__ -   6940\n"
          ],
          "name": "stderr"
        },
        {
          "output_type": "stream",
          "text": [
            "step 38300\n",
            "loss: 1.7907249927520752\n"
          ],
          "name": "stdout"
        },
        {
          "output_type": "stream",
          "text": [
            "05/21/2021 13:36:44 - INFO - __main__ -   6990\n"
          ],
          "name": "stderr"
        },
        {
          "output_type": "stream",
          "text": [
            "step 38350\n",
            "loss: 2.176923990249634\n"
          ],
          "name": "stdout"
        },
        {
          "output_type": "stream",
          "text": [
            "05/21/2021 13:37:02 - INFO - __main__ -   7040\n"
          ],
          "name": "stderr"
        },
        {
          "output_type": "stream",
          "text": [
            "step 38400\n",
            "loss: 1.5465331077575684\n"
          ],
          "name": "stdout"
        },
        {
          "output_type": "stream",
          "text": [
            "05/21/2021 13:37:20 - INFO - __main__ -   7090\n"
          ],
          "name": "stderr"
        },
        {
          "output_type": "stream",
          "text": [
            "step 38450\n",
            "loss: 1.7048343420028687\n"
          ],
          "name": "stdout"
        },
        {
          "output_type": "stream",
          "text": [
            "05/21/2021 13:37:39 - INFO - __main__ -   7140\n"
          ],
          "name": "stderr"
        },
        {
          "output_type": "stream",
          "text": [
            "step 38500\n",
            "loss: 1.368010401725769\n"
          ],
          "name": "stdout"
        },
        {
          "output_type": "stream",
          "text": [
            "05/21/2021 13:37:57 - INFO - __main__ -   7190\n"
          ],
          "name": "stderr"
        },
        {
          "output_type": "stream",
          "text": [
            "step 38550\n",
            "loss: 1.695205569267273\n"
          ],
          "name": "stdout"
        },
        {
          "output_type": "stream",
          "text": [
            "05/21/2021 13:38:15 - INFO - __main__ -   7240\n"
          ],
          "name": "stderr"
        },
        {
          "output_type": "stream",
          "text": [
            "step 38600\n",
            "loss: 1.7696356773376465\n"
          ],
          "name": "stdout"
        },
        {
          "output_type": "stream",
          "text": [
            "05/21/2021 13:38:33 - INFO - __main__ -   7290\n"
          ],
          "name": "stderr"
        },
        {
          "output_type": "stream",
          "text": [
            "step 38650\n",
            "loss: 1.4972132444381714\n"
          ],
          "name": "stdout"
        },
        {
          "output_type": "stream",
          "text": [
            "05/21/2021 13:38:51 - INFO - __main__ -   7340\n"
          ],
          "name": "stderr"
        },
        {
          "output_type": "stream",
          "text": [
            "step 38700\n",
            "loss: 1.5772476196289062\n"
          ],
          "name": "stdout"
        },
        {
          "output_type": "stream",
          "text": [
            "05/21/2021 13:39:10 - INFO - __main__ -   7390\n"
          ],
          "name": "stderr"
        },
        {
          "output_type": "stream",
          "text": [
            "step 38750\n",
            "loss: 1.3486403226852417\n"
          ],
          "name": "stdout"
        },
        {
          "output_type": "stream",
          "text": [
            "05/21/2021 13:39:28 - INFO - __main__ -   7440\n"
          ],
          "name": "stderr"
        },
        {
          "output_type": "stream",
          "text": [
            "step 38800\n",
            "loss: 1.598802089691162\n"
          ],
          "name": "stdout"
        },
        {
          "output_type": "stream",
          "text": [
            "05/21/2021 13:39:46 - INFO - __main__ -   7490\n"
          ],
          "name": "stderr"
        },
        {
          "output_type": "stream",
          "text": [
            "step 38850\n",
            "loss: 1.8255897760391235\n"
          ],
          "name": "stdout"
        },
        {
          "output_type": "stream",
          "text": [
            "05/21/2021 13:40:04 - INFO - __main__ -   7540\n"
          ],
          "name": "stderr"
        },
        {
          "output_type": "stream",
          "text": [
            "step 38900\n",
            "loss: 1.4586127996444702\n"
          ],
          "name": "stdout"
        },
        {
          "output_type": "stream",
          "text": [
            "05/21/2021 13:40:23 - INFO - __main__ -   7590\n"
          ],
          "name": "stderr"
        },
        {
          "output_type": "stream",
          "text": [
            "step 38950\n",
            "loss: 1.5232117176055908\n"
          ],
          "name": "stdout"
        },
        {
          "output_type": "stream",
          "text": [
            "05/21/2021 13:40:41 - INFO - __main__ -   7640\n"
          ],
          "name": "stderr"
        },
        {
          "output_type": "stream",
          "text": [
            "step 39000\n",
            "loss: 1.6021149158477783\n"
          ],
          "name": "stdout"
        },
        {
          "output_type": "stream",
          "text": [
            "05/21/2021 13:40:59 - INFO - __main__ -   7690\n"
          ],
          "name": "stderr"
        },
        {
          "output_type": "stream",
          "text": [
            "step 39050\n",
            "loss: 1.375150203704834\n"
          ],
          "name": "stdout"
        },
        {
          "output_type": "stream",
          "text": [
            "05/21/2021 13:41:17 - INFO - __main__ -   7740\n"
          ],
          "name": "stderr"
        },
        {
          "output_type": "stream",
          "text": [
            "step 39100\n",
            "loss: 1.2557319402694702\n"
          ],
          "name": "stdout"
        },
        {
          "output_type": "stream",
          "text": [
            "05/21/2021 13:41:36 - INFO - __main__ -   7790\n"
          ],
          "name": "stderr"
        },
        {
          "output_type": "stream",
          "text": [
            "step 39150\n",
            "loss: 1.7570297718048096\n"
          ],
          "name": "stdout"
        },
        {
          "output_type": "stream",
          "text": [
            "05/21/2021 13:41:54 - INFO - __main__ -   7840\n"
          ],
          "name": "stderr"
        },
        {
          "output_type": "stream",
          "text": [
            "step 39200\n",
            "loss: 1.784271001815796\n"
          ],
          "name": "stdout"
        },
        {
          "output_type": "stream",
          "text": [
            "05/21/2021 13:42:12 - INFO - __main__ -   7890\n"
          ],
          "name": "stderr"
        },
        {
          "output_type": "stream",
          "text": [
            "step 39250\n",
            "loss: 1.5487897396087646\n"
          ],
          "name": "stdout"
        },
        {
          "output_type": "stream",
          "text": [
            "05/21/2021 13:42:30 - INFO - __main__ -   7940\n"
          ],
          "name": "stderr"
        },
        {
          "output_type": "stream",
          "text": [
            "step 39300\n",
            "loss: 1.4797754287719727\n"
          ],
          "name": "stdout"
        },
        {
          "output_type": "stream",
          "text": [
            "05/21/2021 13:42:48 - INFO - __main__ -   7990\n"
          ],
          "name": "stderr"
        },
        {
          "output_type": "stream",
          "text": [
            "step 39350\n",
            "loss: 1.8611433506011963\n"
          ],
          "name": "stdout"
        },
        {
          "output_type": "stream",
          "text": [
            "05/21/2021 13:43:07 - INFO - __main__ -   8040\n"
          ],
          "name": "stderr"
        },
        {
          "output_type": "stream",
          "text": [
            "step 39400\n",
            "loss: 1.4978225231170654\n"
          ],
          "name": "stdout"
        },
        {
          "output_type": "stream",
          "text": [
            "05/21/2021 13:43:25 - INFO - __main__ -   8090\n"
          ],
          "name": "stderr"
        },
        {
          "output_type": "stream",
          "text": [
            "step 39450\n",
            "loss: 2.188214063644409\n"
          ],
          "name": "stdout"
        },
        {
          "output_type": "stream",
          "text": [
            "05/21/2021 13:43:43 - INFO - __main__ -   8140\n"
          ],
          "name": "stderr"
        },
        {
          "output_type": "stream",
          "text": [
            "step 39500\n",
            "loss: 1.9637742042541504\n"
          ],
          "name": "stdout"
        },
        {
          "output_type": "stream",
          "text": [
            "05/21/2021 13:44:02 - INFO - __main__ -   8190\n"
          ],
          "name": "stderr"
        },
        {
          "output_type": "stream",
          "text": [
            "step 39550\n",
            "loss: 1.900891661643982\n"
          ],
          "name": "stdout"
        },
        {
          "output_type": "stream",
          "text": [
            "05/21/2021 13:44:20 - INFO - __main__ -   8240\n"
          ],
          "name": "stderr"
        },
        {
          "output_type": "stream",
          "text": [
            "step 39600\n",
            "loss: 1.6343618631362915\n"
          ],
          "name": "stdout"
        },
        {
          "output_type": "stream",
          "text": [
            "05/21/2021 13:44:38 - INFO - __main__ -   8290\n"
          ],
          "name": "stderr"
        },
        {
          "output_type": "stream",
          "text": [
            "step 39650\n",
            "loss: 1.6953939199447632\n"
          ],
          "name": "stdout"
        },
        {
          "output_type": "stream",
          "text": [
            "05/21/2021 13:44:56 - INFO - __main__ -   8340\n"
          ],
          "name": "stderr"
        },
        {
          "output_type": "stream",
          "text": [
            "step 39700\n",
            "loss: 1.6495451927185059\n"
          ],
          "name": "stdout"
        },
        {
          "output_type": "stream",
          "text": [
            "05/21/2021 13:45:14 - INFO - __main__ -   8390\n"
          ],
          "name": "stderr"
        },
        {
          "output_type": "stream",
          "text": [
            "step 39750\n",
            "loss: 1.4923374652862549\n"
          ],
          "name": "stdout"
        },
        {
          "output_type": "stream",
          "text": [
            "05/21/2021 13:45:33 - INFO - __main__ -   8440\n"
          ],
          "name": "stderr"
        },
        {
          "output_type": "stream",
          "text": [
            "step 39800\n",
            "loss: 1.9138741493225098\n"
          ],
          "name": "stdout"
        },
        {
          "output_type": "stream",
          "text": [
            "05/21/2021 13:45:51 - INFO - __main__ -   8490\n"
          ],
          "name": "stderr"
        },
        {
          "output_type": "stream",
          "text": [
            "step 39850\n",
            "loss: 1.3963637351989746\n"
          ],
          "name": "stdout"
        },
        {
          "output_type": "stream",
          "text": [
            "05/21/2021 13:46:09 - INFO - __main__ -   8540\n"
          ],
          "name": "stderr"
        },
        {
          "output_type": "stream",
          "text": [
            "step 39900\n",
            "loss: 1.5875993967056274\n"
          ],
          "name": "stdout"
        },
        {
          "output_type": "stream",
          "text": [
            "05/21/2021 13:46:27 - INFO - __main__ -   8590\n"
          ],
          "name": "stderr"
        },
        {
          "output_type": "stream",
          "text": [
            "step 39950\n",
            "loss: 1.7351739406585693\n"
          ],
          "name": "stdout"
        },
        {
          "output_type": "stream",
          "text": [
            "05/21/2021 13:46:46 - INFO - __main__ -   8640\n",
            "05/21/2021 13:46:46 - INFO - __main__ -   Saving model checkpoint to ./gdrive/MyDrive/COMP0087/model_checkpoint\n"
          ],
          "name": "stderr"
        },
        {
          "output_type": "stream",
          "text": [
            "step 40000\n",
            "loss: 1.582424521446228\n"
          ],
          "name": "stdout"
        },
        {
          "output_type": "stream",
          "text": [
            "05/21/2021 13:47:09 - INFO - __main__ -   8690\n"
          ],
          "name": "stderr"
        },
        {
          "output_type": "stream",
          "text": [
            "step 40050\n",
            "loss: 2.2221059799194336\n"
          ],
          "name": "stdout"
        },
        {
          "output_type": "stream",
          "text": [
            "05/21/2021 13:47:28 - INFO - __main__ -   8740\n"
          ],
          "name": "stderr"
        },
        {
          "output_type": "stream",
          "text": [
            "step 40100\n",
            "loss: 1.775763988494873\n"
          ],
          "name": "stdout"
        },
        {
          "output_type": "stream",
          "text": [
            "05/21/2021 13:47:46 - INFO - __main__ -   8790\n"
          ],
          "name": "stderr"
        },
        {
          "output_type": "stream",
          "text": [
            "step 40150\n",
            "loss: 1.482158899307251\n"
          ],
          "name": "stdout"
        },
        {
          "output_type": "stream",
          "text": [
            "05/21/2021 13:48:04 - INFO - __main__ -   8840\n"
          ],
          "name": "stderr"
        },
        {
          "output_type": "stream",
          "text": [
            "step 40200\n",
            "loss: 1.9870635271072388\n"
          ],
          "name": "stdout"
        },
        {
          "output_type": "stream",
          "text": [
            "05/21/2021 13:48:22 - INFO - __main__ -   8890\n"
          ],
          "name": "stderr"
        },
        {
          "output_type": "stream",
          "text": [
            "step 40250\n",
            "loss: 2.0381393432617188\n"
          ],
          "name": "stdout"
        },
        {
          "output_type": "stream",
          "text": [
            "05/21/2021 13:48:40 - INFO - __main__ -   8940\n"
          ],
          "name": "stderr"
        },
        {
          "output_type": "stream",
          "text": [
            "step 40300\n",
            "loss: 1.4573171138763428\n"
          ],
          "name": "stdout"
        },
        {
          "output_type": "stream",
          "text": [
            "05/21/2021 13:48:59 - INFO - __main__ -   8990\n"
          ],
          "name": "stderr"
        },
        {
          "output_type": "stream",
          "text": [
            "step 40350\n",
            "loss: 1.6078330278396606\n"
          ],
          "name": "stdout"
        },
        {
          "output_type": "stream",
          "text": [
            "05/21/2021 13:49:17 - INFO - __main__ -   9040\n"
          ],
          "name": "stderr"
        },
        {
          "output_type": "stream",
          "text": [
            "step 40400\n",
            "loss: 1.836747646331787\n"
          ],
          "name": "stdout"
        },
        {
          "output_type": "stream",
          "text": [
            "05/21/2021 13:49:35 - INFO - __main__ -   9090\n"
          ],
          "name": "stderr"
        },
        {
          "output_type": "stream",
          "text": [
            "step 40450\n",
            "loss: 1.8835493326187134\n"
          ],
          "name": "stdout"
        },
        {
          "output_type": "stream",
          "text": [
            "05/21/2021 13:49:53 - INFO - __main__ -   9140\n"
          ],
          "name": "stderr"
        },
        {
          "output_type": "stream",
          "text": [
            "step 40500\n",
            "loss: 1.3240931034088135\n"
          ],
          "name": "stdout"
        },
        {
          "output_type": "stream",
          "text": [
            "05/21/2021 13:50:12 - INFO - __main__ -   9190\n"
          ],
          "name": "stderr"
        },
        {
          "output_type": "stream",
          "text": [
            "step 40550\n",
            "loss: 1.7915657758712769\n"
          ],
          "name": "stdout"
        },
        {
          "output_type": "stream",
          "text": [
            "05/21/2021 13:50:30 - INFO - __main__ -   9240\n"
          ],
          "name": "stderr"
        },
        {
          "output_type": "stream",
          "text": [
            "step 40600\n",
            "loss: 1.4891629219055176\n"
          ],
          "name": "stdout"
        },
        {
          "output_type": "stream",
          "text": [
            "05/21/2021 13:50:48 - INFO - __main__ -   9290\n"
          ],
          "name": "stderr"
        },
        {
          "output_type": "stream",
          "text": [
            "step 40650\n",
            "loss: 1.6091564893722534\n"
          ],
          "name": "stdout"
        },
        {
          "output_type": "stream",
          "text": [
            "05/21/2021 13:51:06 - INFO - __main__ -   9340\n"
          ],
          "name": "stderr"
        },
        {
          "output_type": "stream",
          "text": [
            "step 40700\n",
            "loss: 2.107647180557251\n"
          ],
          "name": "stdout"
        },
        {
          "output_type": "stream",
          "text": [
            "05/21/2021 13:51:24 - INFO - __main__ -   9390\n"
          ],
          "name": "stderr"
        },
        {
          "output_type": "stream",
          "text": [
            "step 40750\n",
            "loss: 1.760084867477417\n"
          ],
          "name": "stdout"
        },
        {
          "output_type": "stream",
          "text": [
            "05/21/2021 13:51:42 - INFO - __main__ -   9440\n"
          ],
          "name": "stderr"
        },
        {
          "output_type": "stream",
          "text": [
            "step 40800\n",
            "loss: 1.830695390701294\n"
          ],
          "name": "stdout"
        },
        {
          "output_type": "stream",
          "text": [
            "05/21/2021 13:52:01 - INFO - __main__ -   9490\n"
          ],
          "name": "stderr"
        },
        {
          "output_type": "stream",
          "text": [
            "step 40850\n",
            "loss: 1.8244637250900269\n"
          ],
          "name": "stdout"
        },
        {
          "output_type": "stream",
          "text": [
            "05/21/2021 13:52:19 - INFO - __main__ -   9540\n"
          ],
          "name": "stderr"
        },
        {
          "output_type": "stream",
          "text": [
            "step 40900\n",
            "loss: 1.4441150426864624\n"
          ],
          "name": "stdout"
        },
        {
          "output_type": "stream",
          "text": [
            "05/21/2021 13:52:37 - INFO - __main__ -   9590\n"
          ],
          "name": "stderr"
        },
        {
          "output_type": "stream",
          "text": [
            "step 40950\n",
            "loss: 1.5497866868972778\n"
          ],
          "name": "stdout"
        },
        {
          "output_type": "stream",
          "text": [
            "05/21/2021 13:52:55 - INFO - __main__ -   9640\n"
          ],
          "name": "stderr"
        },
        {
          "output_type": "stream",
          "text": [
            "step 41000\n",
            "loss: 1.6495450735092163\n"
          ],
          "name": "stdout"
        },
        {
          "output_type": "stream",
          "text": [
            "05/21/2021 13:53:13 - INFO - __main__ -   9690\n"
          ],
          "name": "stderr"
        },
        {
          "output_type": "stream",
          "text": [
            "step 41050\n",
            "loss: 1.6891605854034424\n"
          ],
          "name": "stdout"
        },
        {
          "output_type": "stream",
          "text": [
            "05/21/2021 13:53:31 - INFO - __main__ -   9740\n"
          ],
          "name": "stderr"
        },
        {
          "output_type": "stream",
          "text": [
            "step 41100\n",
            "loss: 1.3598017692565918\n"
          ],
          "name": "stdout"
        },
        {
          "output_type": "stream",
          "text": [
            "05/21/2021 13:53:50 - INFO - __main__ -   9790\n"
          ],
          "name": "stderr"
        },
        {
          "output_type": "stream",
          "text": [
            "step 41150\n",
            "loss: 1.9834703207015991\n"
          ],
          "name": "stdout"
        },
        {
          "output_type": "stream",
          "text": [
            "05/21/2021 13:54:08 - INFO - __main__ -   9840\n"
          ],
          "name": "stderr"
        },
        {
          "output_type": "stream",
          "text": [
            "step 41200\n",
            "loss: 1.3937135934829712\n"
          ],
          "name": "stdout"
        },
        {
          "output_type": "stream",
          "text": [
            "05/21/2021 13:54:26 - INFO - __main__ -   9890\n"
          ],
          "name": "stderr"
        },
        {
          "output_type": "stream",
          "text": [
            "step 41250\n",
            "loss: 1.590164303779602\n"
          ],
          "name": "stdout"
        },
        {
          "output_type": "stream",
          "text": [
            "05/21/2021 13:54:44 - INFO - __main__ -   9940\n"
          ],
          "name": "stderr"
        },
        {
          "output_type": "stream",
          "text": [
            "step 41300\n",
            "loss: 1.9576700925827026\n"
          ],
          "name": "stdout"
        },
        {
          "output_type": "stream",
          "text": [
            "05/21/2021 13:55:02 - INFO - __main__ -   9990\n"
          ],
          "name": "stderr"
        },
        {
          "output_type": "stream",
          "text": [
            "step 41350\n",
            "loss: 1.6929340362548828\n"
          ],
          "name": "stdout"
        },
        {
          "output_type": "stream",
          "text": [
            "05/21/2021 13:55:21 - INFO - __main__ -   10040\n"
          ],
          "name": "stderr"
        },
        {
          "output_type": "stream",
          "text": [
            "step 41400\n",
            "loss: 1.6898586750030518\n"
          ],
          "name": "stdout"
        },
        {
          "output_type": "stream",
          "text": [
            "05/21/2021 13:55:39 - INFO - __main__ -   10090\n"
          ],
          "name": "stderr"
        },
        {
          "output_type": "stream",
          "text": [
            "step 41450\n",
            "loss: 1.1822043657302856\n"
          ],
          "name": "stdout"
        },
        {
          "output_type": "stream",
          "text": [
            "05/21/2021 13:55:57 - INFO - __main__ -   10140\n"
          ],
          "name": "stderr"
        },
        {
          "output_type": "stream",
          "text": [
            "step 41500\n",
            "loss: 2.3100075721740723\n"
          ],
          "name": "stdout"
        },
        {
          "output_type": "stream",
          "text": [
            "05/21/2021 13:56:15 - INFO - __main__ -   10190\n"
          ],
          "name": "stderr"
        },
        {
          "output_type": "stream",
          "text": [
            "step 41550\n",
            "loss: 1.6430222988128662\n"
          ],
          "name": "stdout"
        },
        {
          "output_type": "stream",
          "text": [
            "05/21/2021 13:56:34 - INFO - __main__ -   10240\n"
          ],
          "name": "stderr"
        },
        {
          "output_type": "stream",
          "text": [
            "step 41600\n",
            "loss: 1.5120145082473755\n"
          ],
          "name": "stdout"
        },
        {
          "output_type": "stream",
          "text": [
            "05/21/2021 13:56:52 - INFO - __main__ -   10290\n"
          ],
          "name": "stderr"
        },
        {
          "output_type": "stream",
          "text": [
            "step 41650\n",
            "loss: 2.1063361167907715\n"
          ],
          "name": "stdout"
        },
        {
          "output_type": "stream",
          "text": [
            "05/21/2021 13:57:10 - INFO - __main__ -   10340\n"
          ],
          "name": "stderr"
        },
        {
          "output_type": "stream",
          "text": [
            "step 41700\n",
            "loss: 1.6487950086593628\n",
            "An error happens, break\n",
            "An error in this batch, break\n"
          ],
          "name": "stdout"
        },
        {
          "output_type": "stream",
          "text": [
            "05/21/2021 13:57:28 - INFO - __main__ -   10391\n"
          ],
          "name": "stderr"
        },
        {
          "output_type": "stream",
          "text": [
            "step 41750\n",
            "loss: 1.6507799625396729\n"
          ],
          "name": "stdout"
        },
        {
          "output_type": "stream",
          "text": [
            "05/21/2021 13:57:46 - INFO - __main__ -   10441\n"
          ],
          "name": "stderr"
        },
        {
          "output_type": "stream",
          "text": [
            "step 41800\n",
            "loss: 1.5307563543319702\n"
          ],
          "name": "stdout"
        },
        {
          "output_type": "stream",
          "text": [
            "05/21/2021 13:58:05 - INFO - __main__ -   10491\n"
          ],
          "name": "stderr"
        },
        {
          "output_type": "stream",
          "text": [
            "step 41850\n",
            "loss: 1.6802256107330322\n"
          ],
          "name": "stdout"
        },
        {
          "output_type": "stream",
          "text": [
            "05/21/2021 13:58:23 - INFO - __main__ -   10541\n"
          ],
          "name": "stderr"
        },
        {
          "output_type": "stream",
          "text": [
            "step 41900\n",
            "loss: 1.6953853368759155\n"
          ],
          "name": "stdout"
        },
        {
          "output_type": "stream",
          "text": [
            "05/21/2021 13:58:41 - INFO - __main__ -   10591\n"
          ],
          "name": "stderr"
        },
        {
          "output_type": "stream",
          "text": [
            "step 41950\n",
            "loss: 1.4691240787506104\n"
          ],
          "name": "stdout"
        },
        {
          "output_type": "stream",
          "text": [
            "05/21/2021 13:58:59 - INFO - __main__ -   10641\n"
          ],
          "name": "stderr"
        },
        {
          "output_type": "stream",
          "text": [
            "step 42000\n",
            "loss: 1.9373981952667236\n"
          ],
          "name": "stdout"
        },
        {
          "output_type": "stream",
          "text": [
            "05/21/2021 13:59:17 - INFO - __main__ -   10691\n"
          ],
          "name": "stderr"
        },
        {
          "output_type": "stream",
          "text": [
            "step 42050\n",
            "loss: 1.6533958911895752\n"
          ],
          "name": "stdout"
        },
        {
          "output_type": "stream",
          "text": [
            "05/21/2021 13:59:36 - INFO - __main__ -   10741\n"
          ],
          "name": "stderr"
        },
        {
          "output_type": "stream",
          "text": [
            "step 42100\n",
            "loss: 1.4841707944869995\n"
          ],
          "name": "stdout"
        },
        {
          "output_type": "stream",
          "text": [
            "05/21/2021 13:59:54 - INFO - __main__ -   10791\n"
          ],
          "name": "stderr"
        },
        {
          "output_type": "stream",
          "text": [
            "step 42150\n",
            "loss: 1.6963462829589844\n"
          ],
          "name": "stdout"
        },
        {
          "output_type": "stream",
          "text": [
            "05/21/2021 14:00:12 - INFO - __main__ -   10841\n"
          ],
          "name": "stderr"
        },
        {
          "output_type": "stream",
          "text": [
            "step 42200\n",
            "loss: 1.5472300052642822\n"
          ],
          "name": "stdout"
        },
        {
          "output_type": "stream",
          "text": [
            "05/21/2021 14:00:31 - INFO - __main__ -   10891\n"
          ],
          "name": "stderr"
        },
        {
          "output_type": "stream",
          "text": [
            "step 42250\n",
            "loss: 1.6869195699691772\n"
          ],
          "name": "stdout"
        },
        {
          "output_type": "stream",
          "text": [
            "05/21/2021 14:00:49 - INFO - __main__ -   10941\n"
          ],
          "name": "stderr"
        },
        {
          "output_type": "stream",
          "text": [
            "step 42300\n",
            "loss: 1.4209860563278198\n"
          ],
          "name": "stdout"
        },
        {
          "output_type": "stream",
          "text": [
            "05/21/2021 14:01:07 - INFO - __main__ -   10991\n"
          ],
          "name": "stderr"
        },
        {
          "output_type": "stream",
          "text": [
            "step 42350\n",
            "loss: 1.3962109088897705\n"
          ],
          "name": "stdout"
        },
        {
          "output_type": "stream",
          "text": [
            "05/21/2021 14:01:25 - INFO - __main__ -   11041\n"
          ],
          "name": "stderr"
        },
        {
          "output_type": "stream",
          "text": [
            "step 42400\n",
            "loss: 1.8683124780654907\n"
          ],
          "name": "stdout"
        },
        {
          "output_type": "stream",
          "text": [
            "05/21/2021 14:01:43 - INFO - __main__ -   11091\n"
          ],
          "name": "stderr"
        },
        {
          "output_type": "stream",
          "text": [
            "step 42450\n",
            "loss: 1.4444804191589355\n"
          ],
          "name": "stdout"
        },
        {
          "output_type": "stream",
          "text": [
            "05/21/2021 14:02:02 - INFO - __main__ -   11141\n"
          ],
          "name": "stderr"
        },
        {
          "output_type": "stream",
          "text": [
            "step 42500\n",
            "loss: 1.4451168775558472\n"
          ],
          "name": "stdout"
        },
        {
          "output_type": "stream",
          "text": [
            "05/21/2021 14:02:20 - INFO - __main__ -   11191\n"
          ],
          "name": "stderr"
        },
        {
          "output_type": "stream",
          "text": [
            "step 42550\n",
            "loss: 1.608963966369629\n"
          ],
          "name": "stdout"
        },
        {
          "output_type": "stream",
          "text": [
            "05/21/2021 14:02:38 - INFO - __main__ -   11241\n"
          ],
          "name": "stderr"
        },
        {
          "output_type": "stream",
          "text": [
            "step 42600\n",
            "loss: 1.6522016525268555\n"
          ],
          "name": "stdout"
        },
        {
          "output_type": "stream",
          "text": [
            "05/21/2021 14:02:56 - INFO - __main__ -   11291\n"
          ],
          "name": "stderr"
        },
        {
          "output_type": "stream",
          "text": [
            "step 42650\n",
            "loss: 1.551073670387268\n"
          ],
          "name": "stdout"
        },
        {
          "output_type": "stream",
          "text": [
            "05/21/2021 14:03:15 - INFO - __main__ -   11341\n"
          ],
          "name": "stderr"
        },
        {
          "output_type": "stream",
          "text": [
            "step 42700\n",
            "loss: 1.5514178276062012\n"
          ],
          "name": "stdout"
        },
        {
          "output_type": "stream",
          "text": [
            "05/21/2021 14:03:33 - INFO - __main__ -   11391\n"
          ],
          "name": "stderr"
        },
        {
          "output_type": "stream",
          "text": [
            "step 42750\n",
            "loss: 1.4731329679489136\n"
          ],
          "name": "stdout"
        },
        {
          "output_type": "stream",
          "text": [
            "05/21/2021 14:03:51 - INFO - __main__ -   11441\n"
          ],
          "name": "stderr"
        },
        {
          "output_type": "stream",
          "text": [
            "step 42800\n",
            "loss: 1.886271357536316\n"
          ],
          "name": "stdout"
        },
        {
          "output_type": "stream",
          "text": [
            "05/21/2021 14:04:09 - INFO - __main__ -   11491\n"
          ],
          "name": "stderr"
        },
        {
          "output_type": "stream",
          "text": [
            "step 42850\n",
            "loss: 1.6928166151046753\n"
          ],
          "name": "stdout"
        },
        {
          "output_type": "stream",
          "text": [
            "05/21/2021 14:04:28 - INFO - __main__ -   11541\n"
          ],
          "name": "stderr"
        },
        {
          "output_type": "stream",
          "text": [
            "step 42900\n",
            "loss: 1.597016453742981\n"
          ],
          "name": "stdout"
        },
        {
          "output_type": "stream",
          "text": [
            "05/21/2021 14:04:46 - INFO - __main__ -   11591\n"
          ],
          "name": "stderr"
        },
        {
          "output_type": "stream",
          "text": [
            "step 42950\n",
            "loss: 1.550633430480957\n"
          ],
          "name": "stdout"
        },
        {
          "output_type": "stream",
          "text": [
            "05/21/2021 14:05:04 - INFO - __main__ -   11641\n"
          ],
          "name": "stderr"
        },
        {
          "output_type": "stream",
          "text": [
            "step 43000\n",
            "loss: 1.773884892463684\n"
          ],
          "name": "stdout"
        },
        {
          "output_type": "stream",
          "text": [
            "05/21/2021 14:05:22 - INFO - __main__ -   11691\n"
          ],
          "name": "stderr"
        },
        {
          "output_type": "stream",
          "text": [
            "step 43050\n",
            "loss: 1.6263902187347412\n"
          ],
          "name": "stdout"
        },
        {
          "output_type": "stream",
          "text": [
            "05/21/2021 14:05:40 - INFO - __main__ -   11741\n"
          ],
          "name": "stderr"
        },
        {
          "output_type": "stream",
          "text": [
            "step 43100\n",
            "loss: 1.919358253479004\n"
          ],
          "name": "stdout"
        },
        {
          "output_type": "stream",
          "text": [
            "05/21/2021 14:05:58 - INFO - __main__ -   11791\n"
          ],
          "name": "stderr"
        },
        {
          "output_type": "stream",
          "text": [
            "step 43150\n",
            "loss: 1.3829337358474731\n"
          ],
          "name": "stdout"
        },
        {
          "output_type": "stream",
          "text": [
            "05/21/2021 14:06:17 - INFO - __main__ -   11841\n"
          ],
          "name": "stderr"
        },
        {
          "output_type": "stream",
          "text": [
            "step 43200\n",
            "loss: 1.8126214742660522\n"
          ],
          "name": "stdout"
        },
        {
          "output_type": "stream",
          "text": [
            "05/21/2021 14:06:35 - INFO - __main__ -   11891\n"
          ],
          "name": "stderr"
        },
        {
          "output_type": "stream",
          "text": [
            "step 43250\n",
            "loss: 1.7235093116760254\n"
          ],
          "name": "stdout"
        },
        {
          "output_type": "stream",
          "text": [
            "05/21/2021 14:06:53 - INFO - __main__ -   11941\n"
          ],
          "name": "stderr"
        },
        {
          "output_type": "stream",
          "text": [
            "step 43300\n",
            "loss: 2.006009578704834\n"
          ],
          "name": "stdout"
        },
        {
          "output_type": "stream",
          "text": [
            "05/21/2021 14:07:11 - INFO - __main__ -   11991\n"
          ],
          "name": "stderr"
        },
        {
          "output_type": "stream",
          "text": [
            "step 43350\n",
            "loss: 1.945554256439209\n"
          ],
          "name": "stdout"
        },
        {
          "output_type": "stream",
          "text": [
            "05/21/2021 14:07:29 - INFO - __main__ -   12041\n"
          ],
          "name": "stderr"
        },
        {
          "output_type": "stream",
          "text": [
            "step 43400\n",
            "loss: 2.078700065612793\n"
          ],
          "name": "stdout"
        },
        {
          "output_type": "stream",
          "text": [
            "05/21/2021 14:07:47 - INFO - __main__ -   12091\n"
          ],
          "name": "stderr"
        },
        {
          "output_type": "stream",
          "text": [
            "step 43450\n",
            "loss: 1.7155342102050781\n"
          ],
          "name": "stdout"
        },
        {
          "output_type": "stream",
          "text": [
            "05/21/2021 14:08:06 - INFO - __main__ -   12141\n"
          ],
          "name": "stderr"
        },
        {
          "output_type": "stream",
          "text": [
            "step 43500\n",
            "loss: 1.4382573366165161\n"
          ],
          "name": "stdout"
        },
        {
          "output_type": "stream",
          "text": [
            "05/21/2021 14:08:24 - INFO - __main__ -   12191\n"
          ],
          "name": "stderr"
        },
        {
          "output_type": "stream",
          "text": [
            "step 43550\n",
            "loss: 1.403891682624817\n"
          ],
          "name": "stdout"
        },
        {
          "output_type": "stream",
          "text": [
            "05/21/2021 14:08:42 - INFO - __main__ -   12241\n"
          ],
          "name": "stderr"
        },
        {
          "output_type": "stream",
          "text": [
            "step 43600\n",
            "loss: 1.461319088935852\n"
          ],
          "name": "stdout"
        },
        {
          "output_type": "stream",
          "text": [
            "05/21/2021 14:09:00 - INFO - __main__ -   12291\n"
          ],
          "name": "stderr"
        },
        {
          "output_type": "stream",
          "text": [
            "step 43650\n",
            "loss: 1.5279709100723267\n"
          ],
          "name": "stdout"
        },
        {
          "output_type": "stream",
          "text": [
            "05/21/2021 14:09:19 - INFO - __main__ -   12341\n"
          ],
          "name": "stderr"
        },
        {
          "output_type": "stream",
          "text": [
            "step 43700\n",
            "loss: 1.6491968631744385\n"
          ],
          "name": "stdout"
        },
        {
          "output_type": "stream",
          "text": [
            "05/21/2021 14:09:37 - INFO - __main__ -   12391\n"
          ],
          "name": "stderr"
        },
        {
          "output_type": "stream",
          "text": [
            "step 43750\n",
            "loss: 1.6742892265319824\n"
          ],
          "name": "stdout"
        },
        {
          "output_type": "stream",
          "text": [
            "05/21/2021 14:09:55 - INFO - __main__ -   12441\n"
          ],
          "name": "stderr"
        },
        {
          "output_type": "stream",
          "text": [
            "step 43800\n",
            "loss: 1.5046864748001099\n"
          ],
          "name": "stdout"
        },
        {
          "output_type": "stream",
          "text": [
            "05/21/2021 14:10:13 - INFO - __main__ -   12491\n"
          ],
          "name": "stderr"
        },
        {
          "output_type": "stream",
          "text": [
            "step 43850\n",
            "loss: 1.5579800605773926\n"
          ],
          "name": "stdout"
        },
        {
          "output_type": "stream",
          "text": [
            "05/21/2021 14:10:31 - INFO - __main__ -   12541\n"
          ],
          "name": "stderr"
        },
        {
          "output_type": "stream",
          "text": [
            "step 43900\n",
            "loss: 1.475935459136963\n"
          ],
          "name": "stdout"
        },
        {
          "output_type": "stream",
          "text": [
            "05/21/2021 14:10:50 - INFO - __main__ -   12591\n"
          ],
          "name": "stderr"
        },
        {
          "output_type": "stream",
          "text": [
            "step 43950\n",
            "loss: 2.2317004203796387\n"
          ],
          "name": "stdout"
        },
        {
          "output_type": "stream",
          "text": [
            "05/21/2021 14:11:08 - INFO - __main__ -   12641\n"
          ],
          "name": "stderr"
        },
        {
          "output_type": "stream",
          "text": [
            "step 44000\n",
            "loss: 1.700901746749878\n"
          ],
          "name": "stdout"
        },
        {
          "output_type": "stream",
          "text": [
            "05/21/2021 14:11:26 - INFO - __main__ -   12691\n"
          ],
          "name": "stderr"
        },
        {
          "output_type": "stream",
          "text": [
            "step 44050\n",
            "loss: 1.4139125347137451\n"
          ],
          "name": "stdout"
        },
        {
          "output_type": "stream",
          "text": [
            "05/21/2021 14:11:44 - INFO - __main__ -   12741\n"
          ],
          "name": "stderr"
        },
        {
          "output_type": "stream",
          "text": [
            "step 44100\n",
            "loss: 1.8688409328460693\n"
          ],
          "name": "stdout"
        },
        {
          "output_type": "stream",
          "text": [
            "05/21/2021 14:12:03 - INFO - __main__ -   12791\n"
          ],
          "name": "stderr"
        },
        {
          "output_type": "stream",
          "text": [
            "step 44150\n",
            "loss: 1.3952792882919312\n"
          ],
          "name": "stdout"
        },
        {
          "output_type": "stream",
          "text": [
            "05/21/2021 14:12:21 - INFO - __main__ -   12841\n"
          ],
          "name": "stderr"
        },
        {
          "output_type": "stream",
          "text": [
            "step 44200\n",
            "loss: 1.61513090133667\n"
          ],
          "name": "stdout"
        },
        {
          "output_type": "stream",
          "text": [
            "05/21/2021 14:12:39 - INFO - __main__ -   12891\n"
          ],
          "name": "stderr"
        },
        {
          "output_type": "stream",
          "text": [
            "step 44250\n",
            "loss: 1.6030861139297485\n"
          ],
          "name": "stdout"
        },
        {
          "output_type": "stream",
          "text": [
            "05/21/2021 14:12:57 - INFO - __main__ -   12941\n"
          ],
          "name": "stderr"
        },
        {
          "output_type": "stream",
          "text": [
            "step 44300\n",
            "loss: 1.341895341873169\n"
          ],
          "name": "stdout"
        },
        {
          "output_type": "stream",
          "text": [
            "05/21/2021 14:13:15 - INFO - __main__ -   12991\n"
          ],
          "name": "stderr"
        },
        {
          "output_type": "stream",
          "text": [
            "step 44350\n",
            "loss: 1.3874326944351196\n"
          ],
          "name": "stdout"
        },
        {
          "output_type": "stream",
          "text": [
            "05/21/2021 14:13:34 - INFO - __main__ -   13041\n"
          ],
          "name": "stderr"
        },
        {
          "output_type": "stream",
          "text": [
            "step 44400\n",
            "loss: 1.6627329587936401\n"
          ],
          "name": "stdout"
        },
        {
          "output_type": "stream",
          "text": [
            "05/21/2021 14:13:52 - INFO - __main__ -   13091\n"
          ],
          "name": "stderr"
        },
        {
          "output_type": "stream",
          "text": [
            "step 44450\n",
            "loss: 1.8449934720993042\n"
          ],
          "name": "stdout"
        },
        {
          "output_type": "stream",
          "text": [
            "05/21/2021 14:14:10 - INFO - __main__ -   13141\n"
          ],
          "name": "stderr"
        },
        {
          "output_type": "stream",
          "text": [
            "step 44500\n",
            "loss: 1.470962405204773\n"
          ],
          "name": "stdout"
        },
        {
          "output_type": "stream",
          "text": [
            "05/21/2021 14:14:28 - INFO - __main__ -   13191\n"
          ],
          "name": "stderr"
        },
        {
          "output_type": "stream",
          "text": [
            "step 44550\n",
            "loss: 1.7539918422698975\n"
          ],
          "name": "stdout"
        },
        {
          "output_type": "stream",
          "text": [
            "05/21/2021 14:14:46 - INFO - __main__ -   13241\n"
          ],
          "name": "stderr"
        },
        {
          "output_type": "stream",
          "text": [
            "step 44600\n",
            "loss: 1.85802161693573\n"
          ],
          "name": "stdout"
        },
        {
          "output_type": "stream",
          "text": [
            "05/21/2021 14:15:05 - INFO - __main__ -   13291\n"
          ],
          "name": "stderr"
        },
        {
          "output_type": "stream",
          "text": [
            "step 44650\n",
            "loss: 1.5066896677017212\n"
          ],
          "name": "stdout"
        },
        {
          "output_type": "stream",
          "text": [
            "05/21/2021 14:15:23 - INFO - __main__ -   13341\n"
          ],
          "name": "stderr"
        },
        {
          "output_type": "stream",
          "text": [
            "step 44700\n",
            "loss: 1.27035653591156\n"
          ],
          "name": "stdout"
        },
        {
          "output_type": "stream",
          "text": [
            "05/21/2021 14:15:41 - INFO - __main__ -   13391\n"
          ],
          "name": "stderr"
        },
        {
          "output_type": "stream",
          "text": [
            "step 44750\n",
            "loss: 1.2841256856918335\n"
          ],
          "name": "stdout"
        },
        {
          "output_type": "stream",
          "text": [
            "05/21/2021 14:15:59 - INFO - __main__ -   13441\n"
          ],
          "name": "stderr"
        },
        {
          "output_type": "stream",
          "text": [
            "step 44800\n",
            "loss: 1.7145198583602905\n"
          ],
          "name": "stdout"
        },
        {
          "output_type": "stream",
          "text": [
            "05/21/2021 14:16:18 - INFO - __main__ -   13491\n"
          ],
          "name": "stderr"
        },
        {
          "output_type": "stream",
          "text": [
            "step 44850\n",
            "loss: 2.2830305099487305\n"
          ],
          "name": "stdout"
        },
        {
          "output_type": "stream",
          "text": [
            "05/21/2021 14:16:36 - INFO - __main__ -   13541\n"
          ],
          "name": "stderr"
        },
        {
          "output_type": "stream",
          "text": [
            "step 44900\n",
            "loss: 1.810768723487854\n"
          ],
          "name": "stdout"
        },
        {
          "output_type": "stream",
          "text": [
            "05/21/2021 14:16:55 - INFO - __main__ -   13591\n"
          ],
          "name": "stderr"
        },
        {
          "output_type": "stream",
          "text": [
            "step 44950\n",
            "loss: 1.2515215873718262\n"
          ],
          "name": "stdout"
        },
        {
          "output_type": "stream",
          "text": [
            "05/21/2021 14:17:13 - INFO - __main__ -   13641\n"
          ],
          "name": "stderr"
        },
        {
          "output_type": "stream",
          "text": [
            "step 45000\n",
            "loss: 1.7651469707489014\n"
          ],
          "name": "stdout"
        },
        {
          "output_type": "stream",
          "text": [
            "05/21/2021 14:17:31 - INFO - __main__ -   13691\n"
          ],
          "name": "stderr"
        },
        {
          "output_type": "stream",
          "text": [
            "step 45050\n",
            "loss: 1.901310682296753\n"
          ],
          "name": "stdout"
        },
        {
          "output_type": "stream",
          "text": [
            "05/21/2021 14:17:50 - INFO - __main__ -   13741\n"
          ],
          "name": "stderr"
        },
        {
          "output_type": "stream",
          "text": [
            "step 45100\n",
            "loss: 2.154500722885132\n"
          ],
          "name": "stdout"
        },
        {
          "output_type": "stream",
          "text": [
            "05/21/2021 14:18:08 - INFO - __main__ -   13791\n"
          ],
          "name": "stderr"
        },
        {
          "output_type": "stream",
          "text": [
            "step 45150\n",
            "loss: 1.2136125564575195\n"
          ],
          "name": "stdout"
        },
        {
          "output_type": "stream",
          "text": [
            "05/21/2021 14:18:26 - INFO - __main__ -   13841\n"
          ],
          "name": "stderr"
        },
        {
          "output_type": "stream",
          "text": [
            "step 45200\n",
            "loss: 1.6689236164093018\n"
          ],
          "name": "stdout"
        },
        {
          "output_type": "stream",
          "text": [
            "05/21/2021 14:18:44 - INFO - __main__ -   13891\n"
          ],
          "name": "stderr"
        },
        {
          "output_type": "stream",
          "text": [
            "step 45250\n",
            "loss: 1.6953134536743164\n"
          ],
          "name": "stdout"
        },
        {
          "output_type": "stream",
          "text": [
            "05/21/2021 14:19:03 - INFO - __main__ -   13941\n"
          ],
          "name": "stderr"
        },
        {
          "output_type": "stream",
          "text": [
            "step 45300\n",
            "loss: 1.663635492324829\n"
          ],
          "name": "stdout"
        },
        {
          "output_type": "stream",
          "text": [
            "05/21/2021 14:19:21 - INFO - __main__ -   13991\n"
          ],
          "name": "stderr"
        },
        {
          "output_type": "stream",
          "text": [
            "step 45350\n",
            "loss: 1.9446001052856445\n"
          ],
          "name": "stdout"
        },
        {
          "output_type": "stream",
          "text": [
            "05/21/2021 14:19:39 - INFO - __main__ -   14041\n"
          ],
          "name": "stderr"
        },
        {
          "output_type": "stream",
          "text": [
            "step 45400\n",
            "loss: 2.4096789360046387\n"
          ],
          "name": "stdout"
        },
        {
          "output_type": "stream",
          "text": [
            "05/21/2021 14:19:57 - INFO - __main__ -   14091\n"
          ],
          "name": "stderr"
        },
        {
          "output_type": "stream",
          "text": [
            "step 45450\n",
            "loss: 1.6801517009735107\n"
          ],
          "name": "stdout"
        },
        {
          "output_type": "stream",
          "text": [
            "05/21/2021 14:20:16 - INFO - __main__ -   14141\n"
          ],
          "name": "stderr"
        },
        {
          "output_type": "stream",
          "text": [
            "step 45500\n",
            "loss: 2.4257636070251465\n"
          ],
          "name": "stdout"
        },
        {
          "output_type": "stream",
          "text": [
            "05/21/2021 14:20:34 - INFO - __main__ -   14191\n"
          ],
          "name": "stderr"
        },
        {
          "output_type": "stream",
          "text": [
            "step 45550\n",
            "loss: 1.6483837366104126\n"
          ],
          "name": "stdout"
        },
        {
          "output_type": "stream",
          "text": [
            "05/21/2021 14:20:52 - INFO - __main__ -   14241\n"
          ],
          "name": "stderr"
        },
        {
          "output_type": "stream",
          "text": [
            "step 45600\n",
            "loss: 1.5422351360321045\n"
          ],
          "name": "stdout"
        },
        {
          "output_type": "stream",
          "text": [
            "05/21/2021 14:21:11 - INFO - __main__ -   14291\n"
          ],
          "name": "stderr"
        },
        {
          "output_type": "stream",
          "text": [
            "step 45650\n",
            "loss: 2.0455243587493896\n"
          ],
          "name": "stdout"
        },
        {
          "output_type": "stream",
          "text": [
            "05/21/2021 14:21:29 - INFO - __main__ -   14341\n"
          ],
          "name": "stderr"
        },
        {
          "output_type": "stream",
          "text": [
            "step 45700\n",
            "loss: 1.3600512742996216\n"
          ],
          "name": "stdout"
        },
        {
          "output_type": "stream",
          "text": [
            "05/21/2021 14:21:48 - INFO - __main__ -   14391\n"
          ],
          "name": "stderr"
        },
        {
          "output_type": "stream",
          "text": [
            "step 45750\n",
            "loss: 1.7620060443878174\n"
          ],
          "name": "stdout"
        },
        {
          "output_type": "stream",
          "text": [
            "05/21/2021 14:22:06 - INFO - __main__ -   14441\n"
          ],
          "name": "stderr"
        },
        {
          "output_type": "stream",
          "text": [
            "step 45800\n",
            "loss: 1.4229154586791992\n"
          ],
          "name": "stdout"
        },
        {
          "output_type": "stream",
          "text": [
            "05/21/2021 14:22:24 - INFO - __main__ -   14491\n"
          ],
          "name": "stderr"
        },
        {
          "output_type": "stream",
          "text": [
            "step 45850\n",
            "loss: 1.6533124446868896\n",
            "Gradient overflow.  Skipping step, loss scaler 0 reducing loss scale to 16384.0\n"
          ],
          "name": "stdout"
        },
        {
          "output_type": "stream",
          "text": [
            "05/21/2021 14:22:42 - INFO - __main__ -   14541\n"
          ],
          "name": "stderr"
        },
        {
          "output_type": "stream",
          "text": [
            "step 45900\n",
            "loss: 1.4025315046310425\n"
          ],
          "name": "stdout"
        },
        {
          "output_type": "stream",
          "text": [
            "05/21/2021 14:23:01 - INFO - __main__ -   14591\n"
          ],
          "name": "stderr"
        },
        {
          "output_type": "stream",
          "text": [
            "step 45950\n",
            "loss: 1.346501111984253\n"
          ],
          "name": "stdout"
        },
        {
          "output_type": "stream",
          "text": [
            "05/21/2021 14:23:19 - INFO - __main__ -   14641\n"
          ],
          "name": "stderr"
        },
        {
          "output_type": "stream",
          "text": [
            "step 46000\n",
            "loss: 1.4735846519470215\n"
          ],
          "name": "stdout"
        },
        {
          "output_type": "stream",
          "text": [
            "05/21/2021 14:23:37 - INFO - __main__ -   14691\n"
          ],
          "name": "stderr"
        },
        {
          "output_type": "stream",
          "text": [
            "step 46050\n",
            "loss: 1.3272382020950317\n"
          ],
          "name": "stdout"
        },
        {
          "output_type": "stream",
          "text": [
            "05/21/2021 14:23:55 - INFO - __main__ -   14741\n"
          ],
          "name": "stderr"
        },
        {
          "output_type": "stream",
          "text": [
            "step 46100\n",
            "loss: 1.581610918045044\n"
          ],
          "name": "stdout"
        },
        {
          "output_type": "stream",
          "text": [
            "05/21/2021 14:24:14 - INFO - __main__ -   14791\n"
          ],
          "name": "stderr"
        },
        {
          "output_type": "stream",
          "text": [
            "step 46150\n",
            "loss: 1.6475929021835327\n"
          ],
          "name": "stdout"
        },
        {
          "output_type": "stream",
          "text": [
            "05/21/2021 14:24:32 - INFO - __main__ -   14841\n"
          ],
          "name": "stderr"
        },
        {
          "output_type": "stream",
          "text": [
            "step 46200\n",
            "loss: 1.3903706073760986\n"
          ],
          "name": "stdout"
        },
        {
          "output_type": "stream",
          "text": [
            "05/21/2021 14:24:50 - INFO - __main__ -   14891\n"
          ],
          "name": "stderr"
        },
        {
          "output_type": "stream",
          "text": [
            "step 46250\n",
            "loss: 1.6485371589660645\n"
          ],
          "name": "stdout"
        },
        {
          "output_type": "stream",
          "text": [
            "05/21/2021 14:25:09 - INFO - __main__ -   14941\n"
          ],
          "name": "stderr"
        },
        {
          "output_type": "stream",
          "text": [
            "step 46300\n",
            "loss: 1.8482393026351929\n"
          ],
          "name": "stdout"
        },
        {
          "output_type": "stream",
          "text": [
            "05/21/2021 14:25:27 - INFO - __main__ -   14991\n"
          ],
          "name": "stderr"
        },
        {
          "output_type": "stream",
          "text": [
            "step 46350\n",
            "loss: 1.5141855478286743\n"
          ],
          "name": "stdout"
        },
        {
          "output_type": "stream",
          "text": [
            "05/21/2021 14:25:45 - INFO - __main__ -   15041\n"
          ],
          "name": "stderr"
        },
        {
          "output_type": "stream",
          "text": [
            "step 46400\n",
            "loss: 1.884460687637329\n"
          ],
          "name": "stdout"
        },
        {
          "output_type": "stream",
          "text": [
            "05/21/2021 14:26:03 - INFO - __main__ -   15091\n"
          ],
          "name": "stderr"
        },
        {
          "output_type": "stream",
          "text": [
            "step 46450\n",
            "loss: 1.7190836668014526\n"
          ],
          "name": "stdout"
        },
        {
          "output_type": "stream",
          "text": [
            "05/21/2021 14:26:22 - INFO - __main__ -   15141\n"
          ],
          "name": "stderr"
        },
        {
          "output_type": "stream",
          "text": [
            "step 46500\n",
            "loss: 1.8480613231658936\n"
          ],
          "name": "stdout"
        },
        {
          "output_type": "stream",
          "text": [
            "05/21/2021 14:26:40 - INFO - __main__ -   15191\n"
          ],
          "name": "stderr"
        },
        {
          "output_type": "stream",
          "text": [
            "step 46550\n",
            "loss: 1.5320920944213867\n"
          ],
          "name": "stdout"
        },
        {
          "output_type": "stream",
          "text": [
            "05/21/2021 14:26:58 - INFO - __main__ -   15241\n"
          ],
          "name": "stderr"
        },
        {
          "output_type": "stream",
          "text": [
            "step 46600\n",
            "loss: 1.3249430656433105\n"
          ],
          "name": "stdout"
        },
        {
          "output_type": "stream",
          "text": [
            "05/21/2021 14:27:16 - INFO - __main__ -   15291\n"
          ],
          "name": "stderr"
        },
        {
          "output_type": "stream",
          "text": [
            "step 46650\n",
            "loss: 1.695074439048767\n"
          ],
          "name": "stdout"
        },
        {
          "output_type": "stream",
          "text": [
            "05/21/2021 14:27:35 - INFO - __main__ -   15341\n"
          ],
          "name": "stderr"
        },
        {
          "output_type": "stream",
          "text": [
            "step 46700\n",
            "loss: 1.521841287612915\n"
          ],
          "name": "stdout"
        },
        {
          "output_type": "stream",
          "text": [
            "05/21/2021 14:27:53 - INFO - __main__ -   15391\n"
          ],
          "name": "stderr"
        },
        {
          "output_type": "stream",
          "text": [
            "step 46750\n",
            "loss: 1.8175809383392334\n"
          ],
          "name": "stdout"
        },
        {
          "output_type": "stream",
          "text": [
            "05/21/2021 14:28:12 - INFO - __main__ -   15441\n"
          ],
          "name": "stderr"
        },
        {
          "output_type": "stream",
          "text": [
            "step 46800\n",
            "loss: 1.5720083713531494\n"
          ],
          "name": "stdout"
        },
        {
          "output_type": "stream",
          "text": [
            "05/21/2021 14:28:30 - INFO - __main__ -   15491\n"
          ],
          "name": "stderr"
        },
        {
          "output_type": "stream",
          "text": [
            "step 46850\n",
            "loss: 1.5578421354293823\n"
          ],
          "name": "stdout"
        },
        {
          "output_type": "stream",
          "text": [
            "05/21/2021 14:28:48 - INFO - __main__ -   15541\n"
          ],
          "name": "stderr"
        },
        {
          "output_type": "stream",
          "text": [
            "step 46900\n",
            "loss: 1.420893669128418\n"
          ],
          "name": "stdout"
        },
        {
          "output_type": "stream",
          "text": [
            "05/21/2021 14:29:07 - INFO - __main__ -   15591\n"
          ],
          "name": "stderr"
        },
        {
          "output_type": "stream",
          "text": [
            "step 46950\n",
            "loss: 1.5738792419433594\n"
          ],
          "name": "stdout"
        },
        {
          "output_type": "stream",
          "text": [
            "05/21/2021 14:29:25 - INFO - __main__ -   15641\n"
          ],
          "name": "stderr"
        },
        {
          "output_type": "stream",
          "text": [
            "step 47000\n",
            "loss: 1.4633127450942993\n"
          ],
          "name": "stdout"
        },
        {
          "output_type": "stream",
          "text": [
            "05/21/2021 14:29:43 - INFO - __main__ -   15691\n"
          ],
          "name": "stderr"
        },
        {
          "output_type": "stream",
          "text": [
            "step 47050\n",
            "loss: 1.5731031894683838\n"
          ],
          "name": "stdout"
        },
        {
          "output_type": "stream",
          "text": [
            "05/21/2021 14:30:01 - INFO - __main__ -   15741\n"
          ],
          "name": "stderr"
        },
        {
          "output_type": "stream",
          "text": [
            "step 47100\n",
            "loss: 1.810794711112976\n"
          ],
          "name": "stdout"
        },
        {
          "output_type": "stream",
          "text": [
            "05/21/2021 14:30:20 - INFO - __main__ -   15791\n"
          ],
          "name": "stderr"
        },
        {
          "output_type": "stream",
          "text": [
            "step 47150\n",
            "loss: 1.5152558088302612\n"
          ],
          "name": "stdout"
        },
        {
          "output_type": "stream",
          "text": [
            "05/21/2021 14:30:38 - INFO - __main__ -   15841\n"
          ],
          "name": "stderr"
        },
        {
          "output_type": "stream",
          "text": [
            "step 47200\n",
            "loss: 1.7480502128601074\n"
          ],
          "name": "stdout"
        },
        {
          "output_type": "stream",
          "text": [
            "05/21/2021 14:30:56 - INFO - __main__ -   15891\n"
          ],
          "name": "stderr"
        },
        {
          "output_type": "stream",
          "text": [
            "step 47250\n",
            "loss: 1.4467902183532715\n"
          ],
          "name": "stdout"
        },
        {
          "output_type": "stream",
          "text": [
            "05/21/2021 14:31:15 - INFO - __main__ -   15941\n"
          ],
          "name": "stderr"
        },
        {
          "output_type": "stream",
          "text": [
            "step 47300\n",
            "loss: 1.7837833166122437\n"
          ],
          "name": "stdout"
        },
        {
          "output_type": "stream",
          "text": [
            "05/21/2021 14:31:33 - INFO - __main__ -   15991\n"
          ],
          "name": "stderr"
        },
        {
          "output_type": "stream",
          "text": [
            "step 47350\n",
            "loss: 1.5308688879013062\n"
          ],
          "name": "stdout"
        },
        {
          "output_type": "stream",
          "text": [
            "05/21/2021 14:31:51 - INFO - __main__ -   16041\n"
          ],
          "name": "stderr"
        },
        {
          "output_type": "stream",
          "text": [
            "step 47400\n",
            "loss: 1.7366573810577393\n"
          ],
          "name": "stdout"
        },
        {
          "output_type": "stream",
          "text": [
            "05/21/2021 14:32:09 - INFO - __main__ -   16091\n"
          ],
          "name": "stderr"
        },
        {
          "output_type": "stream",
          "text": [
            "step 47450\n",
            "loss: 1.7270861864089966\n"
          ],
          "name": "stdout"
        },
        {
          "output_type": "stream",
          "text": [
            "05/21/2021 14:32:28 - INFO - __main__ -   16141\n"
          ],
          "name": "stderr"
        },
        {
          "output_type": "stream",
          "text": [
            "step 47500\n",
            "loss: 1.558597207069397\n"
          ],
          "name": "stdout"
        },
        {
          "output_type": "stream",
          "text": [
            "05/21/2021 14:32:46 - INFO - __main__ -   16191\n"
          ],
          "name": "stderr"
        },
        {
          "output_type": "stream",
          "text": [
            "step 47550\n",
            "loss: 1.6645281314849854\n"
          ],
          "name": "stdout"
        },
        {
          "output_type": "stream",
          "text": [
            "05/21/2021 14:33:04 - INFO - __main__ -   16241\n"
          ],
          "name": "stderr"
        },
        {
          "output_type": "stream",
          "text": [
            "step 47600\n",
            "loss: 1.4694883823394775\n"
          ],
          "name": "stdout"
        },
        {
          "output_type": "stream",
          "text": [
            "05/21/2021 14:33:23 - INFO - __main__ -   16291\n"
          ],
          "name": "stderr"
        },
        {
          "output_type": "stream",
          "text": [
            "step 47650\n",
            "loss: 1.5153146982192993\n"
          ],
          "name": "stdout"
        },
        {
          "output_type": "stream",
          "text": [
            "05/21/2021 14:33:41 - INFO - __main__ -   16341\n"
          ],
          "name": "stderr"
        },
        {
          "output_type": "stream",
          "text": [
            "step 47700\n",
            "loss: 1.6274749040603638\n"
          ],
          "name": "stdout"
        },
        {
          "output_type": "stream",
          "text": [
            "05/21/2021 14:33:59 - INFO - __main__ -   16391\n"
          ],
          "name": "stderr"
        },
        {
          "output_type": "stream",
          "text": [
            "step 47750\n",
            "loss: 1.4945968389511108\n"
          ],
          "name": "stdout"
        },
        {
          "output_type": "stream",
          "text": [
            "05/21/2021 14:34:17 - INFO - __main__ -   16441\n"
          ],
          "name": "stderr"
        },
        {
          "output_type": "stream",
          "text": [
            "step 47800\n",
            "loss: 1.6070072650909424\n"
          ],
          "name": "stdout"
        },
        {
          "output_type": "stream",
          "text": [
            "05/21/2021 14:34:35 - INFO - __main__ -   16491\n"
          ],
          "name": "stderr"
        },
        {
          "output_type": "stream",
          "text": [
            "step 47850\n",
            "loss: 1.767547369003296\n"
          ],
          "name": "stdout"
        },
        {
          "output_type": "stream",
          "text": [
            "05/21/2021 14:34:54 - INFO - __main__ -   16541\n"
          ],
          "name": "stderr"
        },
        {
          "output_type": "stream",
          "text": [
            "step 47900\n",
            "loss: 1.2881407737731934\n",
            "Gradient overflow.  Skipping step, loss scaler 0 reducing loss scale to 16384.0\n"
          ],
          "name": "stdout"
        },
        {
          "output_type": "stream",
          "text": [
            "05/21/2021 14:35:12 - INFO - __main__ -   16591\n"
          ],
          "name": "stderr"
        },
        {
          "output_type": "stream",
          "text": [
            "step 47950\n",
            "loss: 1.7122341394424438\n"
          ],
          "name": "stdout"
        },
        {
          "output_type": "stream",
          "text": [
            "05/21/2021 14:35:30 - INFO - __main__ -   16641\n"
          ],
          "name": "stderr"
        },
        {
          "output_type": "stream",
          "text": [
            "step 48000\n",
            "loss: 1.8054211139678955\n"
          ],
          "name": "stdout"
        },
        {
          "output_type": "stream",
          "text": [
            "05/21/2021 14:35:49 - INFO - __main__ -   16691\n"
          ],
          "name": "stderr"
        },
        {
          "output_type": "stream",
          "text": [
            "step 48050\n",
            "loss: 1.4967182874679565\n"
          ],
          "name": "stdout"
        },
        {
          "output_type": "stream",
          "text": [
            "05/21/2021 14:36:07 - INFO - __main__ -   16741\n"
          ],
          "name": "stderr"
        },
        {
          "output_type": "stream",
          "text": [
            "step 48100\n",
            "loss: 1.9437587261199951\n"
          ],
          "name": "stdout"
        },
        {
          "output_type": "stream",
          "text": [
            "05/21/2021 14:36:25 - INFO - __main__ -   16791\n"
          ],
          "name": "stderr"
        },
        {
          "output_type": "stream",
          "text": [
            "step 48150\n",
            "loss: 1.4513729810714722\n"
          ],
          "name": "stdout"
        },
        {
          "output_type": "stream",
          "text": [
            "05/21/2021 14:36:43 - INFO - __main__ -   16841\n"
          ],
          "name": "stderr"
        },
        {
          "output_type": "stream",
          "text": [
            "step 48200\n",
            "loss: 1.473136067390442\n"
          ],
          "name": "stdout"
        },
        {
          "output_type": "stream",
          "text": [
            "05/21/2021 14:37:02 - INFO - __main__ -   16891\n"
          ],
          "name": "stderr"
        },
        {
          "output_type": "stream",
          "text": [
            "step 48250\n",
            "loss: 1.451727271080017\n"
          ],
          "name": "stdout"
        },
        {
          "output_type": "stream",
          "text": [
            "05/21/2021 14:37:20 - INFO - __main__ -   16941\n"
          ],
          "name": "stderr"
        },
        {
          "output_type": "stream",
          "text": [
            "step 48300\n",
            "loss: 1.2918518781661987\n"
          ],
          "name": "stdout"
        },
        {
          "output_type": "stream",
          "text": [
            "05/21/2021 14:37:38 - INFO - __main__ -   16991\n"
          ],
          "name": "stderr"
        },
        {
          "output_type": "stream",
          "text": [
            "step 48350\n",
            "loss: 1.669819712638855\n"
          ],
          "name": "stdout"
        },
        {
          "output_type": "stream",
          "text": [
            "05/21/2021 14:37:56 - INFO - __main__ -   17041\n"
          ],
          "name": "stderr"
        },
        {
          "output_type": "stream",
          "text": [
            "step 48400\n",
            "loss: 1.6784398555755615\n"
          ],
          "name": "stdout"
        },
        {
          "output_type": "stream",
          "text": [
            "05/21/2021 14:38:15 - INFO - __main__ -   17091\n"
          ],
          "name": "stderr"
        },
        {
          "output_type": "stream",
          "text": [
            "step 48450\n",
            "loss: 1.412005066871643\n"
          ],
          "name": "stdout"
        },
        {
          "output_type": "stream",
          "text": [
            "05/21/2021 14:38:33 - INFO - __main__ -   17141\n"
          ],
          "name": "stderr"
        },
        {
          "output_type": "stream",
          "text": [
            "step 48500\n",
            "loss: 1.334005355834961\n"
          ],
          "name": "stdout"
        },
        {
          "output_type": "stream",
          "text": [
            "05/21/2021 14:38:51 - INFO - __main__ -   17191\n"
          ],
          "name": "stderr"
        },
        {
          "output_type": "stream",
          "text": [
            "step 48550\n",
            "loss: 1.6554268598556519\n"
          ],
          "name": "stdout"
        },
        {
          "output_type": "stream",
          "text": [
            "05/21/2021 14:39:09 - INFO - __main__ -   17241\n"
          ],
          "name": "stderr"
        },
        {
          "output_type": "stream",
          "text": [
            "step 48600\n",
            "loss: 1.8997185230255127\n"
          ],
          "name": "stdout"
        },
        {
          "output_type": "stream",
          "text": [
            "05/21/2021 14:39:28 - INFO - __main__ -   17291\n"
          ],
          "name": "stderr"
        },
        {
          "output_type": "stream",
          "text": [
            "step 48650\n",
            "loss: 1.7498399019241333\n"
          ],
          "name": "stdout"
        },
        {
          "output_type": "stream",
          "text": [
            "05/21/2021 14:39:46 - INFO - __main__ -   17341\n"
          ],
          "name": "stderr"
        },
        {
          "output_type": "stream",
          "text": [
            "step 48700\n",
            "loss: 1.277500867843628\n"
          ],
          "name": "stdout"
        },
        {
          "output_type": "stream",
          "text": [
            "05/21/2021 14:40:04 - INFO - __main__ -   17391\n"
          ],
          "name": "stderr"
        },
        {
          "output_type": "stream",
          "text": [
            "step 48750\n",
            "loss: 1.711600661277771\n"
          ],
          "name": "stdout"
        },
        {
          "output_type": "stream",
          "text": [
            "05/21/2021 14:40:22 - INFO - __main__ -   17441\n"
          ],
          "name": "stderr"
        },
        {
          "output_type": "stream",
          "text": [
            "step 48800\n",
            "loss: 1.6754629611968994\n"
          ],
          "name": "stdout"
        },
        {
          "output_type": "stream",
          "text": [
            "05/21/2021 14:40:41 - INFO - __main__ -   17491\n"
          ],
          "name": "stderr"
        },
        {
          "output_type": "stream",
          "text": [
            "step 48850\n",
            "loss: 1.4663281440734863\n"
          ],
          "name": "stdout"
        },
        {
          "output_type": "stream",
          "text": [
            "05/21/2021 14:40:59 - INFO - __main__ -   17541\n"
          ],
          "name": "stderr"
        },
        {
          "output_type": "stream",
          "text": [
            "step 48900\n",
            "loss: 1.696711540222168\n"
          ],
          "name": "stdout"
        },
        {
          "output_type": "stream",
          "text": [
            "05/21/2021 14:41:17 - INFO - __main__ -   17591\n"
          ],
          "name": "stderr"
        },
        {
          "output_type": "stream",
          "text": [
            "step 48950\n",
            "loss: 1.9091012477874756\n"
          ],
          "name": "stdout"
        },
        {
          "output_type": "stream",
          "text": [
            "05/21/2021 14:41:35 - INFO - __main__ -   17641\n"
          ],
          "name": "stderr"
        },
        {
          "output_type": "stream",
          "text": [
            "step 49000\n",
            "loss: 1.585946798324585\n"
          ],
          "name": "stdout"
        },
        {
          "output_type": "stream",
          "text": [
            "05/21/2021 14:41:53 - INFO - __main__ -   17691\n"
          ],
          "name": "stderr"
        },
        {
          "output_type": "stream",
          "text": [
            "step 49050\n",
            "loss: 1.6158908605575562\n"
          ],
          "name": "stdout"
        },
        {
          "output_type": "stream",
          "text": [
            "05/21/2021 14:42:12 - INFO - __main__ -   17741\n"
          ],
          "name": "stderr"
        },
        {
          "output_type": "stream",
          "text": [
            "step 49100\n",
            "loss: 1.8896421194076538\n"
          ],
          "name": "stdout"
        },
        {
          "output_type": "stream",
          "text": [
            "05/21/2021 14:42:30 - INFO - __main__ -   17791\n"
          ],
          "name": "stderr"
        },
        {
          "output_type": "stream",
          "text": [
            "step 49150\n",
            "loss: 1.6278400421142578\n"
          ],
          "name": "stdout"
        },
        {
          "output_type": "stream",
          "text": [
            "05/21/2021 14:42:48 - INFO - __main__ -   17841\n"
          ],
          "name": "stderr"
        },
        {
          "output_type": "stream",
          "text": [
            "step 49200\n",
            "loss: 1.5241062641143799\n"
          ],
          "name": "stdout"
        },
        {
          "output_type": "stream",
          "text": [
            "05/21/2021 14:43:06 - INFO - __main__ -   17891\n"
          ],
          "name": "stderr"
        },
        {
          "output_type": "stream",
          "text": [
            "step 49250\n",
            "loss: 1.8752946853637695\n"
          ],
          "name": "stdout"
        },
        {
          "output_type": "stream",
          "text": [
            "05/21/2021 14:43:25 - INFO - __main__ -   17941\n"
          ],
          "name": "stderr"
        },
        {
          "output_type": "stream",
          "text": [
            "step 49300\n",
            "loss: 1.9387707710266113\n"
          ],
          "name": "stdout"
        },
        {
          "output_type": "stream",
          "text": [
            "05/21/2021 14:43:43 - INFO - __main__ -   17991\n"
          ],
          "name": "stderr"
        },
        {
          "output_type": "stream",
          "text": [
            "step 49350\n",
            "loss: 1.381372094154358\n"
          ],
          "name": "stdout"
        },
        {
          "output_type": "stream",
          "text": [
            "05/21/2021 14:44:01 - INFO - __main__ -   18041\n"
          ],
          "name": "stderr"
        },
        {
          "output_type": "stream",
          "text": [
            "step 49400\n",
            "loss: 1.2490320205688477\n"
          ],
          "name": "stdout"
        },
        {
          "output_type": "stream",
          "text": [
            "05/21/2021 14:44:19 - INFO - __main__ -   18091\n"
          ],
          "name": "stderr"
        },
        {
          "output_type": "stream",
          "text": [
            "step 49450\n",
            "loss: 1.6380536556243896\n"
          ],
          "name": "stdout"
        },
        {
          "output_type": "stream",
          "text": [
            "05/21/2021 14:44:37 - INFO - __main__ -   18141\n"
          ],
          "name": "stderr"
        },
        {
          "output_type": "stream",
          "text": [
            "step 49500\n",
            "loss: 2.088514566421509\n"
          ],
          "name": "stdout"
        },
        {
          "output_type": "stream",
          "text": [
            "05/21/2021 14:44:55 - INFO - __main__ -   18191\n"
          ],
          "name": "stderr"
        },
        {
          "output_type": "stream",
          "text": [
            "step 49550\n",
            "loss: 1.3464308977127075\n"
          ],
          "name": "stdout"
        },
        {
          "output_type": "stream",
          "text": [
            "05/21/2021 14:45:14 - INFO - __main__ -   18241\n"
          ],
          "name": "stderr"
        },
        {
          "output_type": "stream",
          "text": [
            "step 49600\n",
            "loss: 1.296624779701233\n"
          ],
          "name": "stdout"
        },
        {
          "output_type": "stream",
          "text": [
            "05/21/2021 14:45:32 - INFO - __main__ -   18291\n"
          ],
          "name": "stderr"
        },
        {
          "output_type": "stream",
          "text": [
            "step 49650\n",
            "loss: 1.454145073890686\n"
          ],
          "name": "stdout"
        },
        {
          "output_type": "stream",
          "text": [
            "05/21/2021 14:45:50 - INFO - __main__ -   18341\n"
          ],
          "name": "stderr"
        },
        {
          "output_type": "stream",
          "text": [
            "step 49700\n",
            "loss: 1.5458898544311523\n"
          ],
          "name": "stdout"
        },
        {
          "output_type": "stream",
          "text": [
            "05/21/2021 14:46:08 - INFO - __main__ -   18391\n"
          ],
          "name": "stderr"
        },
        {
          "output_type": "stream",
          "text": [
            "step 49750\n",
            "loss: 1.57248055934906\n"
          ],
          "name": "stdout"
        },
        {
          "output_type": "stream",
          "text": [
            "05/21/2021 14:46:26 - INFO - __main__ -   18441\n"
          ],
          "name": "stderr"
        },
        {
          "output_type": "stream",
          "text": [
            "step 49800\n",
            "loss: 1.7586570978164673\n"
          ],
          "name": "stdout"
        },
        {
          "output_type": "stream",
          "text": [
            "05/21/2021 14:46:45 - INFO - __main__ -   18491\n"
          ],
          "name": "stderr"
        },
        {
          "output_type": "stream",
          "text": [
            "step 49850\n",
            "loss: 1.6430548429489136\n"
          ],
          "name": "stdout"
        },
        {
          "output_type": "stream",
          "text": [
            "05/21/2021 14:47:03 - INFO - __main__ -   18541\n"
          ],
          "name": "stderr"
        },
        {
          "output_type": "stream",
          "text": [
            "step 49900\n",
            "loss: 1.8898943662643433\n"
          ],
          "name": "stdout"
        },
        {
          "output_type": "stream",
          "text": [
            "05/21/2021 14:47:21 - INFO - __main__ -   18591\n"
          ],
          "name": "stderr"
        },
        {
          "output_type": "stream",
          "text": [
            "step 49950\n",
            "loss: 1.7797608375549316\n"
          ],
          "name": "stdout"
        },
        {
          "output_type": "stream",
          "text": [
            "05/21/2021 14:47:39 - INFO - __main__ -   18641\n",
            "05/21/2021 14:47:39 - INFO - __main__ -   Saving model checkpoint to ./gdrive/MyDrive/COMP0087/model_checkpoint\n"
          ],
          "name": "stderr"
        },
        {
          "output_type": "stream",
          "text": [
            "step 50000\n",
            "loss: 1.8836798667907715\n"
          ],
          "name": "stdout"
        },
        {
          "output_type": "stream",
          "text": [
            "05/21/2021 14:48:02 - INFO - __main__ -   18691\n"
          ],
          "name": "stderr"
        },
        {
          "output_type": "stream",
          "text": [
            "step 50050\n",
            "loss: 1.5948359966278076\n"
          ],
          "name": "stdout"
        },
        {
          "output_type": "stream",
          "text": [
            "05/21/2021 14:48:20 - INFO - __main__ -   18741\n"
          ],
          "name": "stderr"
        },
        {
          "output_type": "stream",
          "text": [
            "step 50100\n",
            "loss: 2.03507137298584\n"
          ],
          "name": "stdout"
        },
        {
          "output_type": "stream",
          "text": [
            "05/21/2021 14:48:38 - INFO - __main__ -   18791\n"
          ],
          "name": "stderr"
        },
        {
          "output_type": "stream",
          "text": [
            "step 50150\n",
            "loss: 1.355100393295288\n"
          ],
          "name": "stdout"
        },
        {
          "output_type": "stream",
          "text": [
            "05/21/2021 14:48:57 - INFO - __main__ -   18841\n"
          ],
          "name": "stderr"
        },
        {
          "output_type": "stream",
          "text": [
            "step 50200\n",
            "loss: 1.6579118967056274\n"
          ],
          "name": "stdout"
        },
        {
          "output_type": "stream",
          "text": [
            "05/21/2021 14:49:15 - INFO - __main__ -   18891\n"
          ],
          "name": "stderr"
        },
        {
          "output_type": "stream",
          "text": [
            "step 50250\n",
            "loss: 1.3812839984893799\n"
          ],
          "name": "stdout"
        },
        {
          "output_type": "stream",
          "text": [
            "05/21/2021 14:49:33 - INFO - __main__ -   18941\n"
          ],
          "name": "stderr"
        },
        {
          "output_type": "stream",
          "text": [
            "step 50300\n",
            "loss: 1.414145827293396\n"
          ],
          "name": "stdout"
        },
        {
          "output_type": "stream",
          "text": [
            "05/21/2021 14:49:51 - INFO - __main__ -   18991\n"
          ],
          "name": "stderr"
        },
        {
          "output_type": "stream",
          "text": [
            "step 50350\n",
            "loss: 2.273684024810791\n"
          ],
          "name": "stdout"
        },
        {
          "output_type": "stream",
          "text": [
            "05/21/2021 14:50:10 - INFO - __main__ -   19041\n"
          ],
          "name": "stderr"
        },
        {
          "output_type": "stream",
          "text": [
            "step 50400\n",
            "loss: 1.478771686553955\n"
          ],
          "name": "stdout"
        },
        {
          "output_type": "stream",
          "text": [
            "05/21/2021 14:50:28 - INFO - __main__ -   19091\n"
          ],
          "name": "stderr"
        },
        {
          "output_type": "stream",
          "text": [
            "step 50450\n",
            "loss: 1.5823650360107422\n"
          ],
          "name": "stdout"
        },
        {
          "output_type": "stream",
          "text": [
            "05/21/2021 14:50:46 - INFO - __main__ -   19141\n"
          ],
          "name": "stderr"
        },
        {
          "output_type": "stream",
          "text": [
            "step 50500\n",
            "loss: 1.7352570295333862\n",
            "Gradient overflow.  Skipping step, loss scaler 0 reducing loss scale to 16384.0\n"
          ],
          "name": "stdout"
        },
        {
          "output_type": "stream",
          "text": [
            "05/21/2021 14:51:04 - INFO - __main__ -   19191\n"
          ],
          "name": "stderr"
        },
        {
          "output_type": "stream",
          "text": [
            "step 50550\n",
            "loss: 1.6727758646011353\n"
          ],
          "name": "stdout"
        },
        {
          "output_type": "stream",
          "text": [
            "05/21/2021 14:51:22 - INFO - __main__ -   19241\n"
          ],
          "name": "stderr"
        },
        {
          "output_type": "stream",
          "text": [
            "step 50600\n",
            "loss: 2.1014299392700195\n"
          ],
          "name": "stdout"
        },
        {
          "output_type": "stream",
          "text": [
            "05/21/2021 14:51:41 - INFO - __main__ -   19291\n"
          ],
          "name": "stderr"
        },
        {
          "output_type": "stream",
          "text": [
            "step 50650\n",
            "loss: 1.7262394428253174\n"
          ],
          "name": "stdout"
        },
        {
          "output_type": "stream",
          "text": [
            "05/21/2021 14:51:59 - INFO - __main__ -   19341\n"
          ],
          "name": "stderr"
        },
        {
          "output_type": "stream",
          "text": [
            "step 50700\n",
            "loss: 1.116023302078247\n"
          ],
          "name": "stdout"
        },
        {
          "output_type": "stream",
          "text": [
            "05/21/2021 14:52:17 - INFO - __main__ -   19391\n"
          ],
          "name": "stderr"
        },
        {
          "output_type": "stream",
          "text": [
            "step 50750\n",
            "loss: 1.8639662265777588\n"
          ],
          "name": "stdout"
        },
        {
          "output_type": "stream",
          "text": [
            "05/21/2021 14:52:35 - INFO - __main__ -   19441\n"
          ],
          "name": "stderr"
        },
        {
          "output_type": "stream",
          "text": [
            "step 50800\n",
            "loss: 1.6568859815597534\n"
          ],
          "name": "stdout"
        },
        {
          "output_type": "stream",
          "text": [
            "05/21/2021 14:52:54 - INFO - __main__ -   19491\n"
          ],
          "name": "stderr"
        },
        {
          "output_type": "stream",
          "text": [
            "step 50850\n",
            "loss: 1.5467151403427124\n"
          ],
          "name": "stdout"
        },
        {
          "output_type": "stream",
          "text": [
            "05/21/2021 14:53:12 - INFO - __main__ -   19541\n"
          ],
          "name": "stderr"
        },
        {
          "output_type": "stream",
          "text": [
            "step 50900\n",
            "loss: 1.2640759944915771\n"
          ],
          "name": "stdout"
        },
        {
          "output_type": "stream",
          "text": [
            "05/21/2021 14:53:30 - INFO - __main__ -   19591\n"
          ],
          "name": "stderr"
        },
        {
          "output_type": "stream",
          "text": [
            "step 50950\n",
            "loss: 1.9300684928894043\n"
          ],
          "name": "stdout"
        },
        {
          "output_type": "stream",
          "text": [
            "05/21/2021 14:53:48 - INFO - __main__ -   19641\n"
          ],
          "name": "stderr"
        },
        {
          "output_type": "stream",
          "text": [
            "step 51000\n",
            "loss: 1.5217748880386353\n"
          ],
          "name": "stdout"
        },
        {
          "output_type": "stream",
          "text": [
            "05/21/2021 14:54:06 - INFO - __main__ -   19691\n"
          ],
          "name": "stderr"
        },
        {
          "output_type": "stream",
          "text": [
            "step 51050\n",
            "loss: 1.7048968076705933\n"
          ],
          "name": "stdout"
        },
        {
          "output_type": "stream",
          "text": [
            "05/21/2021 14:54:24 - INFO - __main__ -   19741\n"
          ],
          "name": "stderr"
        },
        {
          "output_type": "stream",
          "text": [
            "step 51100\n",
            "loss: 1.24772310256958\n"
          ],
          "name": "stdout"
        },
        {
          "output_type": "stream",
          "text": [
            "05/21/2021 14:54:43 - INFO - __main__ -   19791\n"
          ],
          "name": "stderr"
        },
        {
          "output_type": "stream",
          "text": [
            "step 51150\n",
            "loss: 2.046074390411377\n"
          ],
          "name": "stdout"
        },
        {
          "output_type": "stream",
          "text": [
            "05/21/2021 14:55:01 - INFO - __main__ -   19841\n"
          ],
          "name": "stderr"
        },
        {
          "output_type": "stream",
          "text": [
            "step 51200\n",
            "loss: 1.7498432397842407\n"
          ],
          "name": "stdout"
        },
        {
          "output_type": "stream",
          "text": [
            "05/21/2021 14:55:19 - INFO - __main__ -   19891\n"
          ],
          "name": "stderr"
        },
        {
          "output_type": "stream",
          "text": [
            "step 51250\n",
            "loss: 1.9753118753433228\n"
          ],
          "name": "stdout"
        },
        {
          "output_type": "stream",
          "text": [
            "05/21/2021 14:55:37 - INFO - __main__ -   19941\n"
          ],
          "name": "stderr"
        },
        {
          "output_type": "stream",
          "text": [
            "step 51300\n",
            "loss: 1.3716511726379395\n"
          ],
          "name": "stdout"
        },
        {
          "output_type": "stream",
          "text": [
            "05/21/2021 14:55:56 - INFO - __main__ -   19991\n"
          ],
          "name": "stderr"
        },
        {
          "output_type": "stream",
          "text": [
            "step 51350\n",
            "loss: 1.871809959411621\n"
          ],
          "name": "stdout"
        },
        {
          "output_type": "stream",
          "text": [
            "05/21/2021 14:56:14 - INFO - __main__ -   20041\n"
          ],
          "name": "stderr"
        },
        {
          "output_type": "stream",
          "text": [
            "step 51400\n",
            "loss: 1.7853436470031738\n"
          ],
          "name": "stdout"
        },
        {
          "output_type": "stream",
          "text": [
            "05/21/2021 14:56:32 - INFO - __main__ -   20091\n"
          ],
          "name": "stderr"
        },
        {
          "output_type": "stream",
          "text": [
            "step 51450\n",
            "loss: 1.6852413415908813\n"
          ],
          "name": "stdout"
        },
        {
          "output_type": "stream",
          "text": [
            "05/21/2021 14:56:50 - INFO - __main__ -   20141\n"
          ],
          "name": "stderr"
        },
        {
          "output_type": "stream",
          "text": [
            "step 51500\n",
            "loss: 1.6251927614212036\n"
          ],
          "name": "stdout"
        },
        {
          "output_type": "stream",
          "text": [
            "05/21/2021 14:57:08 - INFO - __main__ -   20191\n"
          ],
          "name": "stderr"
        },
        {
          "output_type": "stream",
          "text": [
            "step 51550\n",
            "loss: 1.4259307384490967\n"
          ],
          "name": "stdout"
        },
        {
          "output_type": "stream",
          "text": [
            "05/21/2021 14:57:26 - INFO - __main__ -   20241\n"
          ],
          "name": "stderr"
        },
        {
          "output_type": "stream",
          "text": [
            "step 51600\n",
            "loss: 1.856801986694336\n"
          ],
          "name": "stdout"
        },
        {
          "output_type": "stream",
          "text": [
            "05/21/2021 14:57:45 - INFO - __main__ -   20291\n"
          ],
          "name": "stderr"
        },
        {
          "output_type": "stream",
          "text": [
            "step 51650\n",
            "loss: 1.6772390604019165\n"
          ],
          "name": "stdout"
        },
        {
          "output_type": "stream",
          "text": [
            "05/21/2021 14:58:03 - INFO - __main__ -   20341\n"
          ],
          "name": "stderr"
        },
        {
          "output_type": "stream",
          "text": [
            "step 51700\n",
            "loss: 1.4107178449630737\n"
          ],
          "name": "stdout"
        },
        {
          "output_type": "stream",
          "text": [
            "05/21/2021 14:58:21 - INFO - __main__ -   20391\n"
          ],
          "name": "stderr"
        },
        {
          "output_type": "stream",
          "text": [
            "step 51750\n",
            "loss: 1.4245481491088867\n"
          ],
          "name": "stdout"
        },
        {
          "output_type": "stream",
          "text": [
            "05/21/2021 14:58:39 - INFO - __main__ -   20441\n"
          ],
          "name": "stderr"
        },
        {
          "output_type": "stream",
          "text": [
            "step 51800\n",
            "loss: 1.7420233488082886\n"
          ],
          "name": "stdout"
        },
        {
          "output_type": "stream",
          "text": [
            "05/21/2021 14:58:58 - INFO - __main__ -   20491\n"
          ],
          "name": "stderr"
        },
        {
          "output_type": "stream",
          "text": [
            "step 51850\n",
            "loss: 1.5731899738311768\n"
          ],
          "name": "stdout"
        },
        {
          "output_type": "stream",
          "text": [
            "05/21/2021 14:59:16 - INFO - __main__ -   20541\n"
          ],
          "name": "stderr"
        },
        {
          "output_type": "stream",
          "text": [
            "step 51900\n",
            "loss: 1.520233392715454\n"
          ],
          "name": "stdout"
        },
        {
          "output_type": "stream",
          "text": [
            "05/21/2021 14:59:34 - INFO - __main__ -   20591\n"
          ],
          "name": "stderr"
        },
        {
          "output_type": "stream",
          "text": [
            "step 51950\n",
            "loss: 2.0661115646362305\n",
            "Gradient overflow.  Skipping step, loss scaler 0 reducing loss scale to 8192.0\n"
          ],
          "name": "stdout"
        },
        {
          "output_type": "stream",
          "text": [
            "05/21/2021 14:59:53 - INFO - __main__ -   20641\n"
          ],
          "name": "stderr"
        },
        {
          "output_type": "stream",
          "text": [
            "step 52000\n",
            "loss: 1.5933985710144043\n"
          ],
          "name": "stdout"
        },
        {
          "output_type": "stream",
          "text": [
            "05/21/2021 15:00:11 - INFO - __main__ -   20691\n"
          ],
          "name": "stderr"
        },
        {
          "output_type": "stream",
          "text": [
            "step 52050\n",
            "loss: 1.1717511415481567\n"
          ],
          "name": "stdout"
        },
        {
          "output_type": "stream",
          "text": [
            "05/21/2021 15:00:29 - INFO - __main__ -   20741\n"
          ],
          "name": "stderr"
        },
        {
          "output_type": "stream",
          "text": [
            "step 52100\n",
            "loss: 2.2058677673339844\n"
          ],
          "name": "stdout"
        },
        {
          "output_type": "stream",
          "text": [
            "05/21/2021 15:00:47 - INFO - __main__ -   20791\n"
          ],
          "name": "stderr"
        },
        {
          "output_type": "stream",
          "text": [
            "step 52150\n",
            "loss: 1.3956068754196167\n"
          ],
          "name": "stdout"
        },
        {
          "output_type": "stream",
          "text": [
            "05/21/2021 15:01:06 - INFO - __main__ -   20841\n"
          ],
          "name": "stderr"
        },
        {
          "output_type": "stream",
          "text": [
            "step 52200\n",
            "loss: 1.5793577432632446\n"
          ],
          "name": "stdout"
        },
        {
          "output_type": "stream",
          "text": [
            "05/21/2021 15:01:24 - INFO - __main__ -   20891\n"
          ],
          "name": "stderr"
        },
        {
          "output_type": "stream",
          "text": [
            "step 52250\n",
            "loss: 2.0002341270446777\n"
          ],
          "name": "stdout"
        },
        {
          "output_type": "stream",
          "text": [
            "05/21/2021 15:01:42 - INFO - __main__ -   20941\n"
          ],
          "name": "stderr"
        },
        {
          "output_type": "stream",
          "text": [
            "step 52300\n",
            "loss: 1.8723937273025513\n"
          ],
          "name": "stdout"
        },
        {
          "output_type": "stream",
          "text": [
            "05/21/2021 15:02:00 - INFO - __main__ -   20991\n"
          ],
          "name": "stderr"
        },
        {
          "output_type": "stream",
          "text": [
            "step 52350\n",
            "loss: 2.187467575073242\n"
          ],
          "name": "stdout"
        },
        {
          "output_type": "stream",
          "text": [
            "05/21/2021 15:02:19 - INFO - __main__ -   21041\n"
          ],
          "name": "stderr"
        },
        {
          "output_type": "stream",
          "text": [
            "step 52400\n",
            "loss: 1.7673349380493164\n"
          ],
          "name": "stdout"
        },
        {
          "output_type": "stream",
          "text": [
            "05/21/2021 15:02:37 - INFO - __main__ -   21091\n"
          ],
          "name": "stderr"
        },
        {
          "output_type": "stream",
          "text": [
            "step 52450\n",
            "loss: 1.733142614364624\n"
          ],
          "name": "stdout"
        },
        {
          "output_type": "stream",
          "text": [
            "05/21/2021 15:02:55 - INFO - __main__ -   21141\n"
          ],
          "name": "stderr"
        },
        {
          "output_type": "stream",
          "text": [
            "step 52500\n",
            "loss: 1.5690029859542847\n"
          ],
          "name": "stdout"
        },
        {
          "output_type": "stream",
          "text": [
            "05/21/2021 15:03:13 - INFO - __main__ -   21191\n"
          ],
          "name": "stderr"
        },
        {
          "output_type": "stream",
          "text": [
            "step 52550\n",
            "loss: 1.1168500185012817\n"
          ],
          "name": "stdout"
        },
        {
          "output_type": "stream",
          "text": [
            "05/21/2021 15:03:32 - INFO - __main__ -   21241\n"
          ],
          "name": "stderr"
        },
        {
          "output_type": "stream",
          "text": [
            "step 52600\n",
            "loss: 1.4590418338775635\n"
          ],
          "name": "stdout"
        },
        {
          "output_type": "stream",
          "text": [
            "05/21/2021 15:03:50 - INFO - __main__ -   21291\n"
          ],
          "name": "stderr"
        },
        {
          "output_type": "stream",
          "text": [
            "step 52650\n",
            "loss: 1.5001927614212036\n"
          ],
          "name": "stdout"
        },
        {
          "output_type": "stream",
          "text": [
            "05/21/2021 15:04:08 - INFO - __main__ -   21341\n"
          ],
          "name": "stderr"
        },
        {
          "output_type": "stream",
          "text": [
            "step 52700\n",
            "loss: 1.5438008308410645\n"
          ],
          "name": "stdout"
        },
        {
          "output_type": "stream",
          "text": [
            "05/21/2021 15:04:26 - INFO - __main__ -   21391\n"
          ],
          "name": "stderr"
        },
        {
          "output_type": "stream",
          "text": [
            "step 52750\n",
            "loss: 1.7486382722854614\n"
          ],
          "name": "stdout"
        },
        {
          "output_type": "stream",
          "text": [
            "05/21/2021 15:04:45 - INFO - __main__ -   21441\n"
          ],
          "name": "stderr"
        },
        {
          "output_type": "stream",
          "text": [
            "step 52800\n",
            "loss: 1.7093276977539062\n"
          ],
          "name": "stdout"
        },
        {
          "output_type": "stream",
          "text": [
            "05/21/2021 15:05:03 - INFO - __main__ -   21491\n"
          ],
          "name": "stderr"
        },
        {
          "output_type": "stream",
          "text": [
            "step 52850\n",
            "loss: 2.192129611968994\n"
          ],
          "name": "stdout"
        },
        {
          "output_type": "stream",
          "text": [
            "05/21/2021 15:05:21 - INFO - __main__ -   21541\n"
          ],
          "name": "stderr"
        },
        {
          "output_type": "stream",
          "text": [
            "step 52900\n",
            "loss: 1.780250072479248\n"
          ],
          "name": "stdout"
        },
        {
          "output_type": "stream",
          "text": [
            "05/21/2021 15:05:39 - INFO - __main__ -   21591\n"
          ],
          "name": "stderr"
        },
        {
          "output_type": "stream",
          "text": [
            "step 52950\n",
            "loss: 1.434036135673523\n"
          ],
          "name": "stdout"
        },
        {
          "output_type": "stream",
          "text": [
            "05/21/2021 15:05:58 - INFO - __main__ -   21641\n"
          ],
          "name": "stderr"
        },
        {
          "output_type": "stream",
          "text": [
            "step 53000\n",
            "loss: 1.8943915367126465\n"
          ],
          "name": "stdout"
        },
        {
          "output_type": "stream",
          "text": [
            "05/21/2021 15:06:16 - INFO - __main__ -   21691\n"
          ],
          "name": "stderr"
        },
        {
          "output_type": "stream",
          "text": [
            "step 53050\n",
            "loss: 1.5336612462997437\n"
          ],
          "name": "stdout"
        },
        {
          "output_type": "stream",
          "text": [
            "05/21/2021 15:06:34 - INFO - __main__ -   21741\n"
          ],
          "name": "stderr"
        },
        {
          "output_type": "stream",
          "text": [
            "step 53100\n",
            "loss: 1.4631236791610718\n"
          ],
          "name": "stdout"
        },
        {
          "output_type": "stream",
          "text": [
            "05/21/2021 15:06:52 - INFO - __main__ -   21791\n"
          ],
          "name": "stderr"
        },
        {
          "output_type": "stream",
          "text": [
            "step 53150\n",
            "loss: 1.5921573638916016\n"
          ],
          "name": "stdout"
        },
        {
          "output_type": "stream",
          "text": [
            "05/21/2021 15:07:11 - INFO - __main__ -   21841\n"
          ],
          "name": "stderr"
        },
        {
          "output_type": "stream",
          "text": [
            "step 53200\n",
            "loss: 1.9003667831420898\n"
          ],
          "name": "stdout"
        },
        {
          "output_type": "stream",
          "text": [
            "05/21/2021 15:07:29 - INFO - __main__ -   21891\n"
          ],
          "name": "stderr"
        },
        {
          "output_type": "stream",
          "text": [
            "step 53250\n",
            "loss: 1.6705031394958496\n"
          ],
          "name": "stdout"
        },
        {
          "output_type": "stream",
          "text": [
            "05/21/2021 15:07:47 - INFO - __main__ -   21941\n"
          ],
          "name": "stderr"
        },
        {
          "output_type": "stream",
          "text": [
            "step 53300\n",
            "loss: 1.3884367942810059\n"
          ],
          "name": "stdout"
        },
        {
          "output_type": "stream",
          "text": [
            "05/21/2021 15:08:05 - INFO - __main__ -   21991\n"
          ],
          "name": "stderr"
        },
        {
          "output_type": "stream",
          "text": [
            "step 53350\n",
            "loss: 2.1600728034973145\n"
          ],
          "name": "stdout"
        },
        {
          "output_type": "stream",
          "text": [
            "05/21/2021 15:08:23 - INFO - __main__ -   22041\n"
          ],
          "name": "stderr"
        },
        {
          "output_type": "stream",
          "text": [
            "step 53400\n",
            "loss: 1.4460078477859497\n"
          ],
          "name": "stdout"
        },
        {
          "output_type": "stream",
          "text": [
            "05/21/2021 15:08:41 - INFO - __main__ -   22091\n"
          ],
          "name": "stderr"
        },
        {
          "output_type": "stream",
          "text": [
            "step 53450\n",
            "loss: 1.6535769701004028\n"
          ],
          "name": "stdout"
        },
        {
          "output_type": "stream",
          "text": [
            "05/21/2021 15:09:00 - INFO - __main__ -   22141\n"
          ],
          "name": "stderr"
        },
        {
          "output_type": "stream",
          "text": [
            "step 53500\n",
            "loss: 1.4657766819000244\n"
          ],
          "name": "stdout"
        },
        {
          "output_type": "stream",
          "text": [
            "05/21/2021 15:09:18 - INFO - __main__ -   22191\n"
          ],
          "name": "stderr"
        },
        {
          "output_type": "stream",
          "text": [
            "step 53550\n",
            "loss: 1.5974140167236328\n"
          ],
          "name": "stdout"
        },
        {
          "output_type": "stream",
          "text": [
            "05/21/2021 15:09:36 - INFO - __main__ -   22241\n"
          ],
          "name": "stderr"
        },
        {
          "output_type": "stream",
          "text": [
            "step 53600\n",
            "loss: 1.4045335054397583\n"
          ],
          "name": "stdout"
        },
        {
          "output_type": "stream",
          "text": [
            "05/21/2021 15:09:54 - INFO - __main__ -   22291\n"
          ],
          "name": "stderr"
        },
        {
          "output_type": "stream",
          "text": [
            "step 53650\n",
            "loss: 1.4839993715286255\n"
          ],
          "name": "stdout"
        },
        {
          "output_type": "stream",
          "text": [
            "05/21/2021 15:10:12 - INFO - __main__ -   22341\n"
          ],
          "name": "stderr"
        },
        {
          "output_type": "stream",
          "text": [
            "step 53700\n",
            "loss: 1.9086246490478516\n"
          ],
          "name": "stdout"
        },
        {
          "output_type": "stream",
          "text": [
            "05/21/2021 15:10:31 - INFO - __main__ -   22391\n"
          ],
          "name": "stderr"
        },
        {
          "output_type": "stream",
          "text": [
            "step 53750\n",
            "loss: 2.012115955352783\n"
          ],
          "name": "stdout"
        },
        {
          "output_type": "stream",
          "text": [
            "05/21/2021 15:10:49 - INFO - __main__ -   22441\n"
          ],
          "name": "stderr"
        },
        {
          "output_type": "stream",
          "text": [
            "step 53800\n",
            "loss: 1.5222314596176147\n"
          ],
          "name": "stdout"
        },
        {
          "output_type": "stream",
          "text": [
            "05/21/2021 15:11:07 - INFO - __main__ -   22491\n"
          ],
          "name": "stderr"
        },
        {
          "output_type": "stream",
          "text": [
            "step 53850\n",
            "loss: 1.432405948638916\n"
          ],
          "name": "stdout"
        },
        {
          "output_type": "stream",
          "text": [
            "05/21/2021 15:11:25 - INFO - __main__ -   22541\n"
          ],
          "name": "stderr"
        },
        {
          "output_type": "stream",
          "text": [
            "step 53900\n",
            "loss: 1.6808186769485474\n"
          ],
          "name": "stdout"
        },
        {
          "output_type": "stream",
          "text": [
            "05/21/2021 15:11:44 - INFO - __main__ -   22591\n"
          ],
          "name": "stderr"
        },
        {
          "output_type": "stream",
          "text": [
            "step 53950\n",
            "loss: 1.6746422052383423\n"
          ],
          "name": "stdout"
        },
        {
          "output_type": "stream",
          "text": [
            "05/21/2021 15:12:02 - INFO - __main__ -   22641\n"
          ],
          "name": "stderr"
        },
        {
          "output_type": "stream",
          "text": [
            "step 54000\n",
            "loss: 1.6970967054367065\n"
          ],
          "name": "stdout"
        },
        {
          "output_type": "stream",
          "text": [
            "05/21/2021 15:12:20 - INFO - __main__ -   22691\n"
          ],
          "name": "stderr"
        },
        {
          "output_type": "stream",
          "text": [
            "step 54050\n",
            "loss: 1.569929838180542\n"
          ],
          "name": "stdout"
        },
        {
          "output_type": "stream",
          "text": [
            "05/21/2021 15:12:38 - INFO - __main__ -   22741\n"
          ],
          "name": "stderr"
        },
        {
          "output_type": "stream",
          "text": [
            "step 54100\n",
            "loss: 1.805398941040039\n"
          ],
          "name": "stdout"
        },
        {
          "output_type": "stream",
          "text": [
            "05/21/2021 15:12:57 - INFO - __main__ -   22791\n"
          ],
          "name": "stderr"
        },
        {
          "output_type": "stream",
          "text": [
            "step 54150\n",
            "loss: 1.9588322639465332\n"
          ],
          "name": "stdout"
        },
        {
          "output_type": "stream",
          "text": [
            "05/21/2021 15:13:15 - INFO - __main__ -   22841\n"
          ],
          "name": "stderr"
        },
        {
          "output_type": "stream",
          "text": [
            "step 54200\n",
            "loss: 1.721684217453003\n"
          ],
          "name": "stdout"
        },
        {
          "output_type": "stream",
          "text": [
            "05/21/2021 15:13:33 - INFO - __main__ -   22891\n"
          ],
          "name": "stderr"
        },
        {
          "output_type": "stream",
          "text": [
            "step 54250\n",
            "loss: 2.1128063201904297\n"
          ],
          "name": "stdout"
        },
        {
          "output_type": "stream",
          "text": [
            "05/21/2021 15:13:51 - INFO - __main__ -   22941\n"
          ],
          "name": "stderr"
        },
        {
          "output_type": "stream",
          "text": [
            "step 54300\n",
            "loss: 1.1445376873016357\n"
          ],
          "name": "stdout"
        },
        {
          "output_type": "stream",
          "text": [
            "05/21/2021 15:14:10 - INFO - __main__ -   22991\n"
          ],
          "name": "stderr"
        },
        {
          "output_type": "stream",
          "text": [
            "step 54350\n",
            "loss: 1.4462172985076904\n"
          ],
          "name": "stdout"
        },
        {
          "output_type": "stream",
          "text": [
            "05/21/2021 15:14:28 - INFO - __main__ -   23041\n"
          ],
          "name": "stderr"
        },
        {
          "output_type": "stream",
          "text": [
            "step 54400\n",
            "loss: 2.145230531692505\n"
          ],
          "name": "stdout"
        },
        {
          "output_type": "stream",
          "text": [
            "05/21/2021 15:14:46 - INFO - __main__ -   23091\n"
          ],
          "name": "stderr"
        },
        {
          "output_type": "stream",
          "text": [
            "step 54450\n",
            "loss: 1.7437304258346558\n"
          ],
          "name": "stdout"
        },
        {
          "output_type": "stream",
          "text": [
            "05/21/2021 15:15:04 - INFO - __main__ -   23141\n"
          ],
          "name": "stderr"
        },
        {
          "output_type": "stream",
          "text": [
            "step 54500\n",
            "loss: 1.5204541683197021\n"
          ],
          "name": "stdout"
        },
        {
          "output_type": "stream",
          "text": [
            "05/21/2021 15:15:22 - INFO - __main__ -   23191\n"
          ],
          "name": "stderr"
        },
        {
          "output_type": "stream",
          "text": [
            "step 54550\n",
            "loss: 1.782949447631836\n"
          ],
          "name": "stdout"
        },
        {
          "output_type": "stream",
          "text": [
            "05/21/2021 15:15:41 - INFO - __main__ -   23241\n"
          ],
          "name": "stderr"
        },
        {
          "output_type": "stream",
          "text": [
            "step 54600\n",
            "loss: 1.6899484395980835\n"
          ],
          "name": "stdout"
        },
        {
          "output_type": "stream",
          "text": [
            "05/21/2021 15:15:59 - INFO - __main__ -   23291\n"
          ],
          "name": "stderr"
        },
        {
          "output_type": "stream",
          "text": [
            "step 54650\n",
            "loss: 1.9105892181396484\n"
          ],
          "name": "stdout"
        },
        {
          "output_type": "stream",
          "text": [
            "05/21/2021 15:16:17 - INFO - __main__ -   23341\n"
          ],
          "name": "stderr"
        },
        {
          "output_type": "stream",
          "text": [
            "step 54700\n",
            "loss: 1.8584370613098145\n"
          ],
          "name": "stdout"
        },
        {
          "output_type": "stream",
          "text": [
            "05/21/2021 15:16:36 - INFO - __main__ -   23391\n"
          ],
          "name": "stderr"
        },
        {
          "output_type": "stream",
          "text": [
            "step 54750\n",
            "loss: 1.756762981414795\n"
          ],
          "name": "stdout"
        },
        {
          "output_type": "stream",
          "text": [
            "05/21/2021 15:16:54 - INFO - __main__ -   23441\n"
          ],
          "name": "stderr"
        },
        {
          "output_type": "stream",
          "text": [
            "step 54800\n",
            "loss: 1.809326171875\n"
          ],
          "name": "stdout"
        },
        {
          "output_type": "stream",
          "text": [
            "05/21/2021 15:17:12 - INFO - __main__ -   23491\n"
          ],
          "name": "stderr"
        },
        {
          "output_type": "stream",
          "text": [
            "step 54850\n",
            "loss: 1.5354793071746826\n"
          ],
          "name": "stdout"
        },
        {
          "output_type": "stream",
          "text": [
            "05/21/2021 15:17:30 - INFO - __main__ -   23541\n"
          ],
          "name": "stderr"
        },
        {
          "output_type": "stream",
          "text": [
            "step 54900\n",
            "loss: 1.347485899925232\n",
            "An error happens, break\n",
            "An error in this batch, break\n"
          ],
          "name": "stdout"
        },
        {
          "output_type": "stream",
          "text": [
            "05/21/2021 15:17:48 - INFO - __main__ -   23592\n"
          ],
          "name": "stderr"
        },
        {
          "output_type": "stream",
          "text": [
            "step 54950\n",
            "loss: 1.6465063095092773\n"
          ],
          "name": "stdout"
        },
        {
          "output_type": "stream",
          "text": [
            "05/21/2021 15:18:07 - INFO - __main__ -   23642\n"
          ],
          "name": "stderr"
        },
        {
          "output_type": "stream",
          "text": [
            "step 55000\n",
            "loss: 1.8540983200073242\n"
          ],
          "name": "stdout"
        },
        {
          "output_type": "stream",
          "text": [
            "05/21/2021 15:18:25 - INFO - __main__ -   23692\n"
          ],
          "name": "stderr"
        },
        {
          "output_type": "stream",
          "text": [
            "step 55050\n",
            "loss: 1.3389983177185059\n"
          ],
          "name": "stdout"
        },
        {
          "output_type": "stream",
          "text": [
            "05/21/2021 15:18:43 - INFO - __main__ -   23742\n"
          ],
          "name": "stderr"
        },
        {
          "output_type": "stream",
          "text": [
            "step 55100\n",
            "loss: 1.6500225067138672\n"
          ],
          "name": "stdout"
        },
        {
          "output_type": "stream",
          "text": [
            "05/21/2021 15:19:01 - INFO - __main__ -   23792\n"
          ],
          "name": "stderr"
        },
        {
          "output_type": "stream",
          "text": [
            "step 55150\n",
            "loss: 1.7524011135101318\n"
          ],
          "name": "stdout"
        },
        {
          "output_type": "stream",
          "text": [
            "05/21/2021 15:19:19 - INFO - __main__ -   23842\n"
          ],
          "name": "stderr"
        },
        {
          "output_type": "stream",
          "text": [
            "step 55200\n",
            "loss: 1.8435300588607788\n"
          ],
          "name": "stdout"
        },
        {
          "output_type": "stream",
          "text": [
            "05/21/2021 15:19:38 - INFO - __main__ -   23892\n"
          ],
          "name": "stderr"
        },
        {
          "output_type": "stream",
          "text": [
            "step 55250\n",
            "loss: 1.4217640161514282\n"
          ],
          "name": "stdout"
        },
        {
          "output_type": "stream",
          "text": [
            "05/21/2021 15:19:56 - INFO - __main__ -   23942\n"
          ],
          "name": "stderr"
        },
        {
          "output_type": "stream",
          "text": [
            "step 55300\n",
            "loss: 1.7393842935562134\n"
          ],
          "name": "stdout"
        },
        {
          "output_type": "stream",
          "text": [
            "05/21/2021 15:20:14 - INFO - __main__ -   23992\n"
          ],
          "name": "stderr"
        },
        {
          "output_type": "stream",
          "text": [
            "step 55350\n",
            "loss: 1.9518688917160034\n"
          ],
          "name": "stdout"
        },
        {
          "output_type": "stream",
          "text": [
            "05/21/2021 15:20:32 - INFO - __main__ -   24042\n"
          ],
          "name": "stderr"
        },
        {
          "output_type": "stream",
          "text": [
            "step 55400\n",
            "loss: 1.6413909196853638\n"
          ],
          "name": "stdout"
        },
        {
          "output_type": "stream",
          "text": [
            "05/21/2021 15:20:51 - INFO - __main__ -   24092\n"
          ],
          "name": "stderr"
        },
        {
          "output_type": "stream",
          "text": [
            "step 55450\n",
            "loss: 1.6212399005889893\n"
          ],
          "name": "stdout"
        },
        {
          "output_type": "stream",
          "text": [
            "05/21/2021 15:21:09 - INFO - __main__ -   24142\n"
          ],
          "name": "stderr"
        },
        {
          "output_type": "stream",
          "text": [
            "step 55500\n",
            "loss: 1.629252552986145\n"
          ],
          "name": "stdout"
        },
        {
          "output_type": "stream",
          "text": [
            "05/21/2021 15:21:27 - INFO - __main__ -   24192\n"
          ],
          "name": "stderr"
        },
        {
          "output_type": "stream",
          "text": [
            "step 55550\n",
            "loss: 2.022099018096924\n"
          ],
          "name": "stdout"
        },
        {
          "output_type": "stream",
          "text": [
            "05/21/2021 15:21:45 - INFO - __main__ -   24242\n"
          ],
          "name": "stderr"
        },
        {
          "output_type": "stream",
          "text": [
            "step 55600\n",
            "loss: 1.6095690727233887\n"
          ],
          "name": "stdout"
        },
        {
          "output_type": "stream",
          "text": [
            "05/21/2021 15:22:04 - INFO - __main__ -   24292\n"
          ],
          "name": "stderr"
        },
        {
          "output_type": "stream",
          "text": [
            "step 55650\n",
            "loss: 1.0195248126983643\n",
            "An error happens, break\n",
            "An error in this batch, break\n"
          ],
          "name": "stdout"
        },
        {
          "output_type": "stream",
          "text": [
            "05/21/2021 15:22:22 - INFO - __main__ -   24343\n"
          ],
          "name": "stderr"
        },
        {
          "output_type": "stream",
          "text": [
            "step 55700\n",
            "loss: 1.9842209815979004\n"
          ],
          "name": "stdout"
        },
        {
          "output_type": "stream",
          "text": [
            "05/21/2021 15:22:40 - INFO - __main__ -   24393\n"
          ],
          "name": "stderr"
        },
        {
          "output_type": "stream",
          "text": [
            "step 55750\n",
            "loss: 2.071392297744751\n"
          ],
          "name": "stdout"
        },
        {
          "output_type": "stream",
          "text": [
            "05/21/2021 15:22:58 - INFO - __main__ -   24443\n"
          ],
          "name": "stderr"
        },
        {
          "output_type": "stream",
          "text": [
            "step 55800\n",
            "loss: 1.8821839094161987\n"
          ],
          "name": "stdout"
        },
        {
          "output_type": "stream",
          "text": [
            "05/21/2021 15:23:17 - INFO - __main__ -   24493\n"
          ],
          "name": "stderr"
        },
        {
          "output_type": "stream",
          "text": [
            "step 55850\n",
            "loss: 1.460723638534546\n",
            "An error happens, break\n",
            "An error in this batch, break\n"
          ],
          "name": "stdout"
        },
        {
          "output_type": "stream",
          "text": [
            "05/21/2021 15:23:35 - INFO - __main__ -   24544\n"
          ],
          "name": "stderr"
        },
        {
          "output_type": "stream",
          "text": [
            "step 55900\n",
            "loss: 1.4022960662841797\n"
          ],
          "name": "stdout"
        },
        {
          "output_type": "stream",
          "text": [
            "05/21/2021 15:23:53 - INFO - __main__ -   24594\n"
          ],
          "name": "stderr"
        },
        {
          "output_type": "stream",
          "text": [
            "step 55950\n",
            "loss: 1.845826506614685\n"
          ],
          "name": "stdout"
        },
        {
          "output_type": "stream",
          "text": [
            "05/21/2021 15:24:11 - INFO - __main__ -   24644\n"
          ],
          "name": "stderr"
        },
        {
          "output_type": "stream",
          "text": [
            "step 56000\n",
            "loss: 1.661753535270691\n"
          ],
          "name": "stdout"
        },
        {
          "output_type": "stream",
          "text": [
            "05/21/2021 15:24:30 - INFO - __main__ -   24694\n"
          ],
          "name": "stderr"
        },
        {
          "output_type": "stream",
          "text": [
            "step 56050\n",
            "loss: 1.9533116817474365\n"
          ],
          "name": "stdout"
        },
        {
          "output_type": "stream",
          "text": [
            "05/21/2021 15:24:48 - INFO - __main__ -   24744\n"
          ],
          "name": "stderr"
        },
        {
          "output_type": "stream",
          "text": [
            "step 56100\n",
            "loss: 1.8121960163116455\n",
            "Gradient overflow.  Skipping step, loss scaler 0 reducing loss scale to 16384.0\n"
          ],
          "name": "stdout"
        },
        {
          "output_type": "stream",
          "text": [
            "05/21/2021 15:25:06 - INFO - __main__ -   24794\n"
          ],
          "name": "stderr"
        },
        {
          "output_type": "stream",
          "text": [
            "step 56150\n",
            "loss: 1.2970625162124634\n"
          ],
          "name": "stdout"
        },
        {
          "output_type": "stream",
          "text": [
            "05/21/2021 15:25:24 - INFO - __main__ -   24844\n"
          ],
          "name": "stderr"
        },
        {
          "output_type": "stream",
          "text": [
            "step 56200\n",
            "loss: 1.6804964542388916\n"
          ],
          "name": "stdout"
        },
        {
          "output_type": "stream",
          "text": [
            "05/21/2021 15:25:42 - INFO - __main__ -   24894\n"
          ],
          "name": "stderr"
        },
        {
          "output_type": "stream",
          "text": [
            "step 56250\n",
            "loss: 1.6050373315811157\n"
          ],
          "name": "stdout"
        },
        {
          "output_type": "stream",
          "text": [
            "05/21/2021 15:26:00 - INFO - __main__ -   24944\n"
          ],
          "name": "stderr"
        },
        {
          "output_type": "stream",
          "text": [
            "step 56300\n",
            "loss: 1.4188390970230103\n"
          ],
          "name": "stdout"
        },
        {
          "output_type": "stream",
          "text": [
            "05/21/2021 15:26:19 - INFO - __main__ -   24994\n"
          ],
          "name": "stderr"
        },
        {
          "output_type": "stream",
          "text": [
            "step 56350\n",
            "loss: 1.4539927244186401\n"
          ],
          "name": "stdout"
        },
        {
          "output_type": "stream",
          "text": [
            "05/21/2021 15:26:37 - INFO - __main__ -   25044\n"
          ],
          "name": "stderr"
        },
        {
          "output_type": "stream",
          "text": [
            "step 56400\n",
            "loss: 1.6111235618591309\n"
          ],
          "name": "stdout"
        },
        {
          "output_type": "stream",
          "text": [
            "05/21/2021 15:26:55 - INFO - __main__ -   25094\n"
          ],
          "name": "stderr"
        },
        {
          "output_type": "stream",
          "text": [
            "step 56450\n",
            "loss: 1.7545509338378906\n",
            "An error happens, break\n",
            "An error in this batch, break\n"
          ],
          "name": "stdout"
        },
        {
          "output_type": "stream",
          "text": [
            "05/21/2021 15:27:13 - INFO - __main__ -   25145\n"
          ],
          "name": "stderr"
        },
        {
          "output_type": "stream",
          "text": [
            "step 56500\n",
            "loss: 1.7653764486312866\n"
          ],
          "name": "stdout"
        },
        {
          "output_type": "stream",
          "text": [
            "05/21/2021 15:27:31 - INFO - __main__ -   25195\n"
          ],
          "name": "stderr"
        },
        {
          "output_type": "stream",
          "text": [
            "step 56550\n",
            "loss: 1.3481308221817017\n"
          ],
          "name": "stdout"
        },
        {
          "output_type": "stream",
          "text": [
            "05/21/2021 15:27:49 - INFO - __main__ -   25245\n"
          ],
          "name": "stderr"
        },
        {
          "output_type": "stream",
          "text": [
            "step 56600\n",
            "loss: 1.3699084520339966\n"
          ],
          "name": "stdout"
        },
        {
          "output_type": "stream",
          "text": [
            "05/21/2021 15:28:08 - INFO - __main__ -   25295\n"
          ],
          "name": "stderr"
        },
        {
          "output_type": "stream",
          "text": [
            "step 56650\n",
            "loss: 1.9136947393417358\n"
          ],
          "name": "stdout"
        },
        {
          "output_type": "stream",
          "text": [
            "05/21/2021 15:28:26 - INFO - __main__ -   25345\n"
          ],
          "name": "stderr"
        },
        {
          "output_type": "stream",
          "text": [
            "step 56700\n",
            "loss: 1.6479896306991577\n"
          ],
          "name": "stdout"
        },
        {
          "output_type": "stream",
          "text": [
            "05/21/2021 15:28:44 - INFO - __main__ -   25395\n"
          ],
          "name": "stderr"
        },
        {
          "output_type": "stream",
          "text": [
            "step 56750\n",
            "loss: 1.5136563777923584\n"
          ],
          "name": "stdout"
        },
        {
          "output_type": "stream",
          "text": [
            "05/21/2021 15:29:02 - INFO - __main__ -   25445\n"
          ],
          "name": "stderr"
        },
        {
          "output_type": "stream",
          "text": [
            "step 56800\n",
            "loss: 1.7638076543807983\n"
          ],
          "name": "stdout"
        },
        {
          "output_type": "stream",
          "text": [
            "05/21/2021 15:29:21 - INFO - __main__ -   25495\n"
          ],
          "name": "stderr"
        },
        {
          "output_type": "stream",
          "text": [
            "step 56850\n",
            "loss: 1.5701934099197388\n"
          ],
          "name": "stdout"
        },
        {
          "output_type": "stream",
          "text": [
            "05/21/2021 15:29:39 - INFO - __main__ -   25545\n"
          ],
          "name": "stderr"
        },
        {
          "output_type": "stream",
          "text": [
            "step 56900\n",
            "loss: 0.9988962411880493\n"
          ],
          "name": "stdout"
        },
        {
          "output_type": "stream",
          "text": [
            "05/21/2021 15:29:57 - INFO - __main__ -   25595\n"
          ],
          "name": "stderr"
        },
        {
          "output_type": "stream",
          "text": [
            "step 56950\n",
            "loss: 1.680199146270752\n"
          ],
          "name": "stdout"
        },
        {
          "output_type": "stream",
          "text": [
            "05/21/2021 15:30:15 - INFO - __main__ -   25645\n"
          ],
          "name": "stderr"
        },
        {
          "output_type": "stream",
          "text": [
            "step 57000\n",
            "loss: 1.5060358047485352\n"
          ],
          "name": "stdout"
        },
        {
          "output_type": "stream",
          "text": [
            "05/21/2021 15:30:34 - INFO - __main__ -   25695\n"
          ],
          "name": "stderr"
        },
        {
          "output_type": "stream",
          "text": [
            "step 57050\n",
            "loss: 1.418907642364502\n"
          ],
          "name": "stdout"
        },
        {
          "output_type": "stream",
          "text": [
            "05/21/2021 15:30:52 - INFO - __main__ -   25745\n"
          ],
          "name": "stderr"
        },
        {
          "output_type": "stream",
          "text": [
            "step 57100\n",
            "loss: 1.6841051578521729\n"
          ],
          "name": "stdout"
        },
        {
          "output_type": "stream",
          "text": [
            "05/21/2021 15:31:10 - INFO - __main__ -   25795\n"
          ],
          "name": "stderr"
        },
        {
          "output_type": "stream",
          "text": [
            "step 57150\n",
            "loss: 1.6672977209091187\n"
          ],
          "name": "stdout"
        },
        {
          "output_type": "stream",
          "text": [
            "05/21/2021 15:31:28 - INFO - __main__ -   25845\n"
          ],
          "name": "stderr"
        },
        {
          "output_type": "stream",
          "text": [
            "step 57200\n",
            "loss: 1.5802582502365112\n"
          ],
          "name": "stdout"
        },
        {
          "output_type": "stream",
          "text": [
            "05/21/2021 15:31:47 - INFO - __main__ -   25895\n"
          ],
          "name": "stderr"
        },
        {
          "output_type": "stream",
          "text": [
            "step 57250\n",
            "loss: 1.4417204856872559\n"
          ],
          "name": "stdout"
        },
        {
          "output_type": "stream",
          "text": [
            "05/21/2021 15:32:05 - INFO - __main__ -   25945\n"
          ],
          "name": "stderr"
        },
        {
          "output_type": "stream",
          "text": [
            "step 57300\n",
            "loss: 1.402786135673523\n"
          ],
          "name": "stdout"
        },
        {
          "output_type": "stream",
          "text": [
            "05/21/2021 15:32:23 - INFO - __main__ -   25995\n"
          ],
          "name": "stderr"
        },
        {
          "output_type": "stream",
          "text": [
            "step 57350\n",
            "loss: 2.1359620094299316\n"
          ],
          "name": "stdout"
        },
        {
          "output_type": "stream",
          "text": [
            "05/21/2021 15:32:41 - INFO - __main__ -   26045\n"
          ],
          "name": "stderr"
        },
        {
          "output_type": "stream",
          "text": [
            "step 57400\n",
            "loss: 1.937013864517212\n"
          ],
          "name": "stdout"
        },
        {
          "output_type": "stream",
          "text": [
            "05/21/2021 15:32:59 - INFO - __main__ -   26095\n"
          ],
          "name": "stderr"
        },
        {
          "output_type": "stream",
          "text": [
            "step 57450\n",
            "loss: 1.5842084884643555\n"
          ],
          "name": "stdout"
        },
        {
          "output_type": "stream",
          "text": [
            "05/21/2021 15:33:18 - INFO - __main__ -   26145\n"
          ],
          "name": "stderr"
        },
        {
          "output_type": "stream",
          "text": [
            "step 57500\n",
            "loss: 1.4720638990402222\n"
          ],
          "name": "stdout"
        },
        {
          "output_type": "stream",
          "text": [
            "05/21/2021 15:33:36 - INFO - __main__ -   26195\n"
          ],
          "name": "stderr"
        },
        {
          "output_type": "stream",
          "text": [
            "step 57550\n",
            "loss: 1.5092707872390747\n"
          ],
          "name": "stdout"
        },
        {
          "output_type": "stream",
          "text": [
            "05/21/2021 15:33:54 - INFO - __main__ -   26245\n"
          ],
          "name": "stderr"
        },
        {
          "output_type": "stream",
          "text": [
            "step 57600\n",
            "loss: 1.6681703329086304\n"
          ],
          "name": "stdout"
        },
        {
          "output_type": "stream",
          "text": [
            "05/21/2021 15:34:12 - INFO - __main__ -   26295\n"
          ],
          "name": "stderr"
        },
        {
          "output_type": "stream",
          "text": [
            "step 57650\n",
            "loss: 1.6899662017822266\n"
          ],
          "name": "stdout"
        },
        {
          "output_type": "stream",
          "text": [
            "05/21/2021 15:34:30 - INFO - __main__ -   26345\n"
          ],
          "name": "stderr"
        },
        {
          "output_type": "stream",
          "text": [
            "step 57700\n",
            "loss: 2.1364736557006836\n"
          ],
          "name": "stdout"
        },
        {
          "output_type": "stream",
          "text": [
            "05/21/2021 15:34:49 - INFO - __main__ -   26395\n"
          ],
          "name": "stderr"
        },
        {
          "output_type": "stream",
          "text": [
            "step 57750\n",
            "loss: 1.9978715181350708\n"
          ],
          "name": "stdout"
        },
        {
          "output_type": "stream",
          "text": [
            "05/21/2021 15:35:07 - INFO - __main__ -   26445\n"
          ],
          "name": "stderr"
        },
        {
          "output_type": "stream",
          "text": [
            "step 57800\n",
            "loss: 1.3025662899017334\n"
          ],
          "name": "stdout"
        },
        {
          "output_type": "stream",
          "text": [
            "05/21/2021 15:35:25 - INFO - __main__ -   26495\n"
          ],
          "name": "stderr"
        },
        {
          "output_type": "stream",
          "text": [
            "step 57850\n",
            "loss: 1.3597862720489502\n"
          ],
          "name": "stdout"
        },
        {
          "output_type": "stream",
          "text": [
            "05/21/2021 15:35:43 - INFO - __main__ -   26545\n"
          ],
          "name": "stderr"
        },
        {
          "output_type": "stream",
          "text": [
            "step 57900\n",
            "loss: 1.8333816528320312\n"
          ],
          "name": "stdout"
        },
        {
          "output_type": "stream",
          "text": [
            "05/21/2021 15:36:02 - INFO - __main__ -   26595\n"
          ],
          "name": "stderr"
        },
        {
          "output_type": "stream",
          "text": [
            "step 57950\n",
            "loss: 2.0431740283966064\n"
          ],
          "name": "stdout"
        },
        {
          "output_type": "stream",
          "text": [
            "05/21/2021 15:36:20 - INFO - __main__ -   26645\n"
          ],
          "name": "stderr"
        },
        {
          "output_type": "stream",
          "text": [
            "step 58000\n",
            "loss: 1.7331675291061401\n"
          ],
          "name": "stdout"
        },
        {
          "output_type": "stream",
          "text": [
            "05/21/2021 15:36:38 - INFO - __main__ -   26695\n"
          ],
          "name": "stderr"
        },
        {
          "output_type": "stream",
          "text": [
            "step 58050\n",
            "loss: 1.5934792757034302\n"
          ],
          "name": "stdout"
        },
        {
          "output_type": "stream",
          "text": [
            "05/21/2021 15:36:57 - INFO - __main__ -   26745\n"
          ],
          "name": "stderr"
        },
        {
          "output_type": "stream",
          "text": [
            "step 58100\n",
            "loss: 1.6794930696487427\n"
          ],
          "name": "stdout"
        },
        {
          "output_type": "stream",
          "text": [
            "05/21/2021 15:37:15 - INFO - __main__ -   26795\n"
          ],
          "name": "stderr"
        },
        {
          "output_type": "stream",
          "text": [
            "step 58150\n",
            "loss: 1.5765690803527832\n"
          ],
          "name": "stdout"
        },
        {
          "output_type": "stream",
          "text": [
            "05/21/2021 15:37:33 - INFO - __main__ -   26845\n"
          ],
          "name": "stderr"
        },
        {
          "output_type": "stream",
          "text": [
            "step 58200\n",
            "loss: 1.9138247966766357\n"
          ],
          "name": "stdout"
        },
        {
          "output_type": "stream",
          "text": [
            "05/21/2021 15:37:51 - INFO - __main__ -   26895\n"
          ],
          "name": "stderr"
        },
        {
          "output_type": "stream",
          "text": [
            "step 58250\n",
            "loss: 1.6575714349746704\n"
          ],
          "name": "stdout"
        },
        {
          "output_type": "stream",
          "text": [
            "05/21/2021 15:38:10 - INFO - __main__ -   26945\n"
          ],
          "name": "stderr"
        },
        {
          "output_type": "stream",
          "text": [
            "step 58300\n",
            "loss: 1.8414461612701416\n",
            "Gradient overflow.  Skipping step, loss scaler 0 reducing loss scale to 16384.0\n"
          ],
          "name": "stdout"
        },
        {
          "output_type": "stream",
          "text": [
            "05/21/2021 15:38:28 - INFO - __main__ -   26995\n"
          ],
          "name": "stderr"
        },
        {
          "output_type": "stream",
          "text": [
            "step 58350\n",
            "loss: 1.463676929473877\n"
          ],
          "name": "stdout"
        },
        {
          "output_type": "stream",
          "text": [
            "05/21/2021 15:38:46 - INFO - __main__ -   27045\n"
          ],
          "name": "stderr"
        },
        {
          "output_type": "stream",
          "text": [
            "step 58400\n",
            "loss: 1.4030048847198486\n"
          ],
          "name": "stdout"
        },
        {
          "output_type": "stream",
          "text": [
            "05/21/2021 15:39:04 - INFO - __main__ -   27095\n"
          ],
          "name": "stderr"
        },
        {
          "output_type": "stream",
          "text": [
            "step 58450\n",
            "loss: 1.3848117589950562\n"
          ],
          "name": "stdout"
        },
        {
          "output_type": "stream",
          "text": [
            "05/21/2021 15:39:23 - INFO - __main__ -   27145\n"
          ],
          "name": "stderr"
        },
        {
          "output_type": "stream",
          "text": [
            "step 58500\n",
            "loss: 1.6377508640289307\n"
          ],
          "name": "stdout"
        },
        {
          "output_type": "stream",
          "text": [
            "05/21/2021 15:39:41 - INFO - __main__ -   27195\n"
          ],
          "name": "stderr"
        },
        {
          "output_type": "stream",
          "text": [
            "step 58550\n",
            "loss: 1.9754393100738525\n"
          ],
          "name": "stdout"
        },
        {
          "output_type": "stream",
          "text": [
            "05/21/2021 15:39:59 - INFO - __main__ -   27245\n"
          ],
          "name": "stderr"
        },
        {
          "output_type": "stream",
          "text": [
            "step 58600\n",
            "loss: 1.5404233932495117\n"
          ],
          "name": "stdout"
        },
        {
          "output_type": "stream",
          "text": [
            "05/21/2021 15:40:17 - INFO - __main__ -   27295\n"
          ],
          "name": "stderr"
        },
        {
          "output_type": "stream",
          "text": [
            "step 58650\n",
            "loss: 1.8107813596725464\n",
            "Gradient overflow.  Skipping step, loss scaler 0 reducing loss scale to 8192.0\n"
          ],
          "name": "stdout"
        },
        {
          "output_type": "stream",
          "text": [
            "05/21/2021 15:40:35 - INFO - __main__ -   27345\n"
          ],
          "name": "stderr"
        },
        {
          "output_type": "stream",
          "text": [
            "step 58700\n",
            "loss: 1.3525813817977905\n"
          ],
          "name": "stdout"
        },
        {
          "output_type": "stream",
          "text": [
            "05/21/2021 15:40:53 - INFO - __main__ -   27395\n"
          ],
          "name": "stderr"
        },
        {
          "output_type": "stream",
          "text": [
            "step 58750\n",
            "loss: 1.5609068870544434\n"
          ],
          "name": "stdout"
        },
        {
          "output_type": "stream",
          "text": [
            "05/21/2021 15:41:12 - INFO - __main__ -   27445\n"
          ],
          "name": "stderr"
        },
        {
          "output_type": "stream",
          "text": [
            "step 58800\n",
            "loss: 1.4756883382797241\n"
          ],
          "name": "stdout"
        },
        {
          "output_type": "stream",
          "text": [
            "05/21/2021 15:41:30 - INFO - __main__ -   27495\n"
          ],
          "name": "stderr"
        },
        {
          "output_type": "stream",
          "text": [
            "step 58850\n",
            "loss: 1.6490947008132935\n"
          ],
          "name": "stdout"
        },
        {
          "output_type": "stream",
          "text": [
            "05/21/2021 15:41:49 - INFO - __main__ -   27545\n"
          ],
          "name": "stderr"
        },
        {
          "output_type": "stream",
          "text": [
            "step 58900\n",
            "loss: 1.540348768234253\n"
          ],
          "name": "stdout"
        },
        {
          "output_type": "stream",
          "text": [
            "05/21/2021 15:42:07 - INFO - __main__ -   27595\n"
          ],
          "name": "stderr"
        },
        {
          "output_type": "stream",
          "text": [
            "step 58950\n",
            "loss: 1.7863006591796875\n"
          ],
          "name": "stdout"
        },
        {
          "output_type": "stream",
          "text": [
            "05/21/2021 15:42:25 - INFO - __main__ -   27645\n"
          ],
          "name": "stderr"
        },
        {
          "output_type": "stream",
          "text": [
            "step 59000\n",
            "loss: 1.6122678518295288\n"
          ],
          "name": "stdout"
        },
        {
          "output_type": "stream",
          "text": [
            "05/21/2021 15:42:44 - INFO - __main__ -   27695\n"
          ],
          "name": "stderr"
        },
        {
          "output_type": "stream",
          "text": [
            "step 59050\n",
            "loss: 1.4811556339263916\n"
          ],
          "name": "stdout"
        },
        {
          "output_type": "stream",
          "text": [
            "05/21/2021 15:43:02 - INFO - __main__ -   27745\n"
          ],
          "name": "stderr"
        },
        {
          "output_type": "stream",
          "text": [
            "step 59100\n",
            "loss: 1.943501591682434\n"
          ],
          "name": "stdout"
        },
        {
          "output_type": "stream",
          "text": [
            "05/21/2021 15:43:20 - INFO - __main__ -   27795\n"
          ],
          "name": "stderr"
        },
        {
          "output_type": "stream",
          "text": [
            "step 59150\n",
            "loss: 1.9462116956710815\n"
          ],
          "name": "stdout"
        },
        {
          "output_type": "stream",
          "text": [
            "05/21/2021 15:43:39 - INFO - __main__ -   27845\n"
          ],
          "name": "stderr"
        },
        {
          "output_type": "stream",
          "text": [
            "step 59200\n",
            "loss: 1.185197353363037\n"
          ],
          "name": "stdout"
        },
        {
          "output_type": "stream",
          "text": [
            "05/21/2021 15:43:57 - INFO - __main__ -   27895\n"
          ],
          "name": "stderr"
        },
        {
          "output_type": "stream",
          "text": [
            "step 59250\n",
            "loss: 1.6619044542312622\n"
          ],
          "name": "stdout"
        },
        {
          "output_type": "stream",
          "text": [
            "05/21/2021 15:44:15 - INFO - __main__ -   27945\n"
          ],
          "name": "stderr"
        },
        {
          "output_type": "stream",
          "text": [
            "step 59300\n",
            "loss: 1.2720071077346802\n"
          ],
          "name": "stdout"
        },
        {
          "output_type": "stream",
          "text": [
            "05/21/2021 15:44:34 - INFO - __main__ -   27995\n"
          ],
          "name": "stderr"
        },
        {
          "output_type": "stream",
          "text": [
            "step 59350\n",
            "loss: 1.2319804430007935\n"
          ],
          "name": "stdout"
        },
        {
          "output_type": "stream",
          "text": [
            "05/21/2021 15:44:52 - INFO - __main__ -   28045\n"
          ],
          "name": "stderr"
        },
        {
          "output_type": "stream",
          "text": [
            "step 59400\n",
            "loss: 1.260213851928711\n"
          ],
          "name": "stdout"
        },
        {
          "output_type": "stream",
          "text": [
            "05/21/2021 15:45:10 - INFO - __main__ -   28095\n"
          ],
          "name": "stderr"
        },
        {
          "output_type": "stream",
          "text": [
            "step 59450\n",
            "loss: 1.7130610942840576\n"
          ],
          "name": "stdout"
        },
        {
          "output_type": "stream",
          "text": [
            "05/21/2021 15:45:29 - INFO - __main__ -   28145\n"
          ],
          "name": "stderr"
        },
        {
          "output_type": "stream",
          "text": [
            "step 59500\n",
            "loss: 1.6065928936004639\n"
          ],
          "name": "stdout"
        },
        {
          "output_type": "stream",
          "text": [
            "05/21/2021 15:45:47 - INFO - __main__ -   28195\n"
          ],
          "name": "stderr"
        },
        {
          "output_type": "stream",
          "text": [
            "step 59550\n",
            "loss: 1.9717681407928467\n"
          ],
          "name": "stdout"
        },
        {
          "output_type": "stream",
          "text": [
            "05/21/2021 15:46:05 - INFO - __main__ -   28245\n"
          ],
          "name": "stderr"
        },
        {
          "output_type": "stream",
          "text": [
            "step 59600\n",
            "loss: 1.6110405921936035\n"
          ],
          "name": "stdout"
        },
        {
          "output_type": "stream",
          "text": [
            "05/21/2021 15:46:23 - INFO - __main__ -   28295\n"
          ],
          "name": "stderr"
        },
        {
          "output_type": "stream",
          "text": [
            "step 59650\n",
            "loss: 1.3044424057006836\n"
          ],
          "name": "stdout"
        },
        {
          "output_type": "stream",
          "text": [
            "05/21/2021 15:46:42 - INFO - __main__ -   28345\n"
          ],
          "name": "stderr"
        },
        {
          "output_type": "stream",
          "text": [
            "step 59700\n",
            "loss: 1.3611184358596802\n",
            "Gradient overflow.  Skipping step, loss scaler 0 reducing loss scale to 4096.0\n"
          ],
          "name": "stdout"
        },
        {
          "output_type": "stream",
          "text": [
            "05/21/2021 15:47:00 - INFO - __main__ -   28395\n"
          ],
          "name": "stderr"
        },
        {
          "output_type": "stream",
          "text": [
            "step 59750\n",
            "loss: 1.7610833644866943\n"
          ],
          "name": "stdout"
        },
        {
          "output_type": "stream",
          "text": [
            "05/21/2021 15:47:18 - INFO - __main__ -   28445\n"
          ],
          "name": "stderr"
        },
        {
          "output_type": "stream",
          "text": [
            "step 59800\n",
            "loss: 1.8852802515029907\n"
          ],
          "name": "stdout"
        },
        {
          "output_type": "stream",
          "text": [
            "05/21/2021 15:47:36 - INFO - __main__ -   28495\n"
          ],
          "name": "stderr"
        },
        {
          "output_type": "stream",
          "text": [
            "step 59850\n",
            "loss: 1.8857433795928955\n"
          ],
          "name": "stdout"
        },
        {
          "output_type": "stream",
          "text": [
            "05/21/2021 15:47:55 - INFO - __main__ -   28545\n"
          ],
          "name": "stderr"
        },
        {
          "output_type": "stream",
          "text": [
            "step 59900\n",
            "loss: 1.8622275590896606\n"
          ],
          "name": "stdout"
        },
        {
          "output_type": "stream",
          "text": [
            "05/21/2021 15:48:13 - INFO - __main__ -   28595\n"
          ],
          "name": "stderr"
        },
        {
          "output_type": "stream",
          "text": [
            "step 59950\n",
            "loss: 2.0511958599090576\n"
          ],
          "name": "stdout"
        },
        {
          "output_type": "stream",
          "text": [
            "05/21/2021 15:48:31 - INFO - __main__ -   28645\n",
            "05/21/2021 15:48:31 - INFO - __main__ -   Saving model checkpoint to ./gdrive/MyDrive/COMP0087/model_checkpoint\n"
          ],
          "name": "stderr"
        },
        {
          "output_type": "stream",
          "text": [
            "step 60000\n",
            "loss: 1.693984031677246\n"
          ],
          "name": "stdout"
        },
        {
          "output_type": "stream",
          "text": [
            "05/21/2021 15:48:56 - INFO - __main__ -   28695\n"
          ],
          "name": "stderr"
        },
        {
          "output_type": "stream",
          "text": [
            "step 60050\n",
            "loss: 1.6911602020263672\n"
          ],
          "name": "stdout"
        },
        {
          "output_type": "stream",
          "text": [
            "05/21/2021 15:49:14 - INFO - __main__ -   28745\n"
          ],
          "name": "stderr"
        },
        {
          "output_type": "stream",
          "text": [
            "step 60100\n",
            "loss: 1.604996919631958\n"
          ],
          "name": "stdout"
        },
        {
          "output_type": "stream",
          "text": [
            "05/21/2021 15:49:32 - INFO - __main__ -   28795\n"
          ],
          "name": "stderr"
        },
        {
          "output_type": "stream",
          "text": [
            "step 60150\n",
            "loss: 1.5746607780456543\n"
          ],
          "name": "stdout"
        },
        {
          "output_type": "stream",
          "text": [
            "05/21/2021 15:49:50 - INFO - __main__ -   28845\n"
          ],
          "name": "stderr"
        },
        {
          "output_type": "stream",
          "text": [
            "step 60200\n",
            "loss: 1.439781904220581\n"
          ],
          "name": "stdout"
        },
        {
          "output_type": "stream",
          "text": [
            "05/21/2021 15:50:09 - INFO - __main__ -   28895\n"
          ],
          "name": "stderr"
        },
        {
          "output_type": "stream",
          "text": [
            "step 60250\n",
            "loss: 1.6808772087097168\n"
          ],
          "name": "stdout"
        },
        {
          "output_type": "stream",
          "text": [
            "05/21/2021 15:50:27 - INFO - __main__ -   28945\n"
          ],
          "name": "stderr"
        },
        {
          "output_type": "stream",
          "text": [
            "step 60300\n",
            "loss: 1.707667589187622\n"
          ],
          "name": "stdout"
        },
        {
          "output_type": "stream",
          "text": [
            "05/21/2021 15:50:45 - INFO - __main__ -   28995\n"
          ],
          "name": "stderr"
        },
        {
          "output_type": "stream",
          "text": [
            "step 60350\n",
            "loss: 1.2868964672088623\n"
          ],
          "name": "stdout"
        },
        {
          "output_type": "stream",
          "text": [
            "05/21/2021 15:51:03 - INFO - __main__ -   29045\n"
          ],
          "name": "stderr"
        },
        {
          "output_type": "stream",
          "text": [
            "step 60400\n",
            "loss: 1.3599653244018555\n"
          ],
          "name": "stdout"
        },
        {
          "output_type": "stream",
          "text": [
            "05/21/2021 15:51:22 - INFO - __main__ -   29095\n"
          ],
          "name": "stderr"
        },
        {
          "output_type": "stream",
          "text": [
            "step 60450\n",
            "loss: 1.27792227268219\n"
          ],
          "name": "stdout"
        },
        {
          "output_type": "stream",
          "text": [
            "05/21/2021 15:51:40 - INFO - __main__ -   29145\n"
          ],
          "name": "stderr"
        },
        {
          "output_type": "stream",
          "text": [
            "step 60500\n",
            "loss: 1.602683186531067\n"
          ],
          "name": "stdout"
        },
        {
          "output_type": "stream",
          "text": [
            "05/21/2021 15:51:58 - INFO - __main__ -   29195\n"
          ],
          "name": "stderr"
        },
        {
          "output_type": "stream",
          "text": [
            "step 60550\n",
            "loss: 1.698506236076355\n"
          ],
          "name": "stdout"
        },
        {
          "output_type": "stream",
          "text": [
            "05/21/2021 15:52:16 - INFO - __main__ -   29245\n"
          ],
          "name": "stderr"
        },
        {
          "output_type": "stream",
          "text": [
            "step 60600\n",
            "loss: 2.0833511352539062\n"
          ],
          "name": "stdout"
        },
        {
          "output_type": "stream",
          "text": [
            "05/21/2021 15:52:35 - INFO - __main__ -   29295\n"
          ],
          "name": "stderr"
        },
        {
          "output_type": "stream",
          "text": [
            "step 60650\n",
            "loss: 1.4550949335098267\n"
          ],
          "name": "stdout"
        },
        {
          "output_type": "stream",
          "text": [
            "05/21/2021 15:52:53 - INFO - __main__ -   29345\n"
          ],
          "name": "stderr"
        },
        {
          "output_type": "stream",
          "text": [
            "step 60700\n",
            "loss: 1.5302850008010864\n"
          ],
          "name": "stdout"
        },
        {
          "output_type": "stream",
          "text": [
            "05/21/2021 15:53:11 - INFO - __main__ -   29395\n"
          ],
          "name": "stderr"
        },
        {
          "output_type": "stream",
          "text": [
            "step 60750\n",
            "loss: 1.4887243509292603\n"
          ],
          "name": "stdout"
        },
        {
          "output_type": "stream",
          "text": [
            "05/21/2021 15:53:29 - INFO - __main__ -   29445\n"
          ],
          "name": "stderr"
        },
        {
          "output_type": "stream",
          "text": [
            "step 60800\n",
            "loss: 1.647674322128296\n"
          ],
          "name": "stdout"
        },
        {
          "output_type": "stream",
          "text": [
            "05/21/2021 15:53:48 - INFO - __main__ -   29495\n"
          ],
          "name": "stderr"
        },
        {
          "output_type": "stream",
          "text": [
            "step 60850\n",
            "loss: 1.5746327638626099\n"
          ],
          "name": "stdout"
        },
        {
          "output_type": "stream",
          "text": [
            "05/21/2021 15:54:06 - INFO - __main__ -   29545\n"
          ],
          "name": "stderr"
        },
        {
          "output_type": "stream",
          "text": [
            "step 60900\n",
            "loss: 1.6485284566879272\n"
          ],
          "name": "stdout"
        },
        {
          "output_type": "stream",
          "text": [
            "05/21/2021 15:54:24 - INFO - __main__ -   29595\n"
          ],
          "name": "stderr"
        },
        {
          "output_type": "stream",
          "text": [
            "step 60950\n",
            "loss: 1.5485044717788696\n"
          ],
          "name": "stdout"
        },
        {
          "output_type": "stream",
          "text": [
            "05/21/2021 15:54:42 - INFO - __main__ -   29645\n"
          ],
          "name": "stderr"
        },
        {
          "output_type": "stream",
          "text": [
            "step 61000\n",
            "loss: 1.5849686861038208\n"
          ],
          "name": "stdout"
        },
        {
          "output_type": "stream",
          "text": [
            "05/21/2021 15:55:01 - INFO - __main__ -   29695\n"
          ],
          "name": "stderr"
        },
        {
          "output_type": "stream",
          "text": [
            "step 61050\n",
            "loss: 1.4679545164108276\n"
          ],
          "name": "stdout"
        },
        {
          "output_type": "stream",
          "text": [
            "05/21/2021 15:55:19 - INFO - __main__ -   29745\n"
          ],
          "name": "stderr"
        },
        {
          "output_type": "stream",
          "text": [
            "step 61100\n",
            "loss: 1.8128585815429688\n"
          ],
          "name": "stdout"
        },
        {
          "output_type": "stream",
          "text": [
            "05/21/2021 15:55:37 - INFO - __main__ -   29795\n"
          ],
          "name": "stderr"
        },
        {
          "output_type": "stream",
          "text": [
            "step 61150\n",
            "loss: 1.8333559036254883\n"
          ],
          "name": "stdout"
        },
        {
          "output_type": "stream",
          "text": [
            "05/21/2021 15:55:56 - INFO - __main__ -   29845\n"
          ],
          "name": "stderr"
        },
        {
          "output_type": "stream",
          "text": [
            "step 61200\n",
            "loss: 1.5691319704055786\n"
          ],
          "name": "stdout"
        },
        {
          "output_type": "stream",
          "text": [
            "05/21/2021 15:56:14 - INFO - __main__ -   29895\n"
          ],
          "name": "stderr"
        },
        {
          "output_type": "stream",
          "text": [
            "step 61250\n",
            "loss: 1.4347705841064453\n"
          ],
          "name": "stdout"
        },
        {
          "output_type": "stream",
          "text": [
            "05/21/2021 15:56:32 - INFO - __main__ -   29945\n"
          ],
          "name": "stderr"
        },
        {
          "output_type": "stream",
          "text": [
            "step 61300\n",
            "loss: 1.4325917959213257\n"
          ],
          "name": "stdout"
        },
        {
          "output_type": "stream",
          "text": [
            "05/21/2021 15:56:50 - INFO - __main__ -   29995\n"
          ],
          "name": "stderr"
        },
        {
          "output_type": "stream",
          "text": [
            "step 61350\n",
            "loss: 1.7149724960327148\n"
          ],
          "name": "stdout"
        },
        {
          "output_type": "stream",
          "text": [
            "05/21/2021 15:57:09 - INFO - __main__ -   30045\n"
          ],
          "name": "stderr"
        },
        {
          "output_type": "stream",
          "text": [
            "step 61400\n",
            "loss: 1.8768929243087769\n"
          ],
          "name": "stdout"
        },
        {
          "output_type": "stream",
          "text": [
            "05/21/2021 15:57:27 - INFO - __main__ -   30095\n"
          ],
          "name": "stderr"
        },
        {
          "output_type": "stream",
          "text": [
            "step 61450\n",
            "loss: 1.5224562883377075\n"
          ],
          "name": "stdout"
        },
        {
          "output_type": "stream",
          "text": [
            "05/21/2021 15:57:45 - INFO - __main__ -   30145\n"
          ],
          "name": "stderr"
        },
        {
          "output_type": "stream",
          "text": [
            "step 61500\n",
            "loss: 2.0823042392730713\n"
          ],
          "name": "stdout"
        },
        {
          "output_type": "stream",
          "text": [
            "05/21/2021 15:58:04 - INFO - __main__ -   30195\n"
          ],
          "name": "stderr"
        },
        {
          "output_type": "stream",
          "text": [
            "step 61550\n",
            "loss: 1.6589539051055908\n"
          ],
          "name": "stdout"
        },
        {
          "output_type": "stream",
          "text": [
            "05/21/2021 15:58:22 - INFO - __main__ -   30245\n"
          ],
          "name": "stderr"
        },
        {
          "output_type": "stream",
          "text": [
            "step 61600\n",
            "loss: 1.6754932403564453\n"
          ],
          "name": "stdout"
        },
        {
          "output_type": "stream",
          "text": [
            "05/21/2021 15:58:40 - INFO - __main__ -   30295\n"
          ],
          "name": "stderr"
        },
        {
          "output_type": "stream",
          "text": [
            "step 61650\n",
            "loss: 1.5977957248687744\n"
          ],
          "name": "stdout"
        },
        {
          "output_type": "stream",
          "text": [
            "05/21/2021 15:58:58 - INFO - __main__ -   30345\n"
          ],
          "name": "stderr"
        },
        {
          "output_type": "stream",
          "text": [
            "step 61700\n",
            "loss: 1.6450289487838745\n"
          ],
          "name": "stdout"
        },
        {
          "output_type": "stream",
          "text": [
            "05/21/2021 15:59:17 - INFO - __main__ -   30395\n"
          ],
          "name": "stderr"
        },
        {
          "output_type": "stream",
          "text": [
            "step 61750\n",
            "loss: 1.8532782793045044\n"
          ],
          "name": "stdout"
        },
        {
          "output_type": "stream",
          "text": [
            "05/21/2021 15:59:35 - INFO - __main__ -   30445\n"
          ],
          "name": "stderr"
        },
        {
          "output_type": "stream",
          "text": [
            "step 61800\n",
            "loss: 1.5911973714828491\n"
          ],
          "name": "stdout"
        },
        {
          "output_type": "stream",
          "text": [
            "05/21/2021 15:59:53 - INFO - __main__ -   30495\n"
          ],
          "name": "stderr"
        },
        {
          "output_type": "stream",
          "text": [
            "step 61850\n",
            "loss: 1.794783592224121\n"
          ],
          "name": "stdout"
        },
        {
          "output_type": "stream",
          "text": [
            "05/21/2021 16:00:12 - INFO - __main__ -   30545\n"
          ],
          "name": "stderr"
        },
        {
          "output_type": "stream",
          "text": [
            "step 61900\n",
            "loss: 1.411263346672058\n"
          ],
          "name": "stdout"
        },
        {
          "output_type": "stream",
          "text": [
            "05/21/2021 16:00:30 - INFO - __main__ -   30595\n"
          ],
          "name": "stderr"
        },
        {
          "output_type": "stream",
          "text": [
            "step 61950\n",
            "loss: 2.1647255420684814\n"
          ],
          "name": "stdout"
        },
        {
          "output_type": "stream",
          "text": [
            "05/21/2021 16:00:48 - INFO - __main__ -   30645\n"
          ],
          "name": "stderr"
        },
        {
          "output_type": "stream",
          "text": [
            "step 62000\n",
            "loss: 1.564118504524231\n"
          ],
          "name": "stdout"
        },
        {
          "output_type": "stream",
          "text": [
            "05/21/2021 16:01:07 - INFO - __main__ -   30695\n"
          ],
          "name": "stderr"
        },
        {
          "output_type": "stream",
          "text": [
            "step 62050\n",
            "loss: 1.2454214096069336\n"
          ],
          "name": "stdout"
        },
        {
          "output_type": "stream",
          "text": [
            "05/21/2021 16:01:25 - INFO - __main__ -   30745\n"
          ],
          "name": "stderr"
        },
        {
          "output_type": "stream",
          "text": [
            "step 62100\n",
            "loss: 1.53178870677948\n"
          ],
          "name": "stdout"
        },
        {
          "output_type": "stream",
          "text": [
            "05/21/2021 16:01:43 - INFO - __main__ -   30795\n"
          ],
          "name": "stderr"
        },
        {
          "output_type": "stream",
          "text": [
            "step 62150\n",
            "loss: 2.0363259315490723\n"
          ],
          "name": "stdout"
        },
        {
          "output_type": "stream",
          "text": [
            "05/21/2021 16:02:02 - INFO - __main__ -   30845\n"
          ],
          "name": "stderr"
        },
        {
          "output_type": "stream",
          "text": [
            "step 62200\n",
            "loss: 1.4516910314559937\n"
          ],
          "name": "stdout"
        },
        {
          "output_type": "stream",
          "text": [
            "05/21/2021 16:02:20 - INFO - __main__ -   30895\n"
          ],
          "name": "stderr"
        },
        {
          "output_type": "stream",
          "text": [
            "step 62250\n",
            "loss: 1.8681809902191162\n"
          ],
          "name": "stdout"
        },
        {
          "output_type": "stream",
          "text": [
            "05/21/2021 16:02:38 - INFO - __main__ -   30945\n"
          ],
          "name": "stderr"
        },
        {
          "output_type": "stream",
          "text": [
            "step 62300\n",
            "loss: 1.5802415609359741\n"
          ],
          "name": "stdout"
        },
        {
          "output_type": "stream",
          "text": [
            "05/21/2021 16:02:56 - INFO - __main__ -   30995\n"
          ],
          "name": "stderr"
        },
        {
          "output_type": "stream",
          "text": [
            "step 62350\n",
            "loss: 1.4208489656448364\n"
          ],
          "name": "stdout"
        },
        {
          "output_type": "stream",
          "text": [
            "05/21/2021 16:03:15 - INFO - __main__ -   31045\n"
          ],
          "name": "stderr"
        },
        {
          "output_type": "stream",
          "text": [
            "step 62400\n",
            "loss: 2.037339925765991\n"
          ],
          "name": "stdout"
        },
        {
          "output_type": "stream",
          "text": [
            "05/21/2021 16:03:33 - INFO - __main__ -   31095\n"
          ],
          "name": "stderr"
        },
        {
          "output_type": "stream",
          "text": [
            "step 62450\n",
            "loss: 1.4988007545471191\n"
          ],
          "name": "stdout"
        },
        {
          "output_type": "stream",
          "text": [
            "05/21/2021 16:03:51 - INFO - __main__ -   31145\n"
          ],
          "name": "stderr"
        },
        {
          "output_type": "stream",
          "text": [
            "step 62500\n",
            "loss: 1.6424634456634521\n"
          ],
          "name": "stdout"
        },
        {
          "output_type": "stream",
          "text": [
            "05/21/2021 16:04:10 - INFO - __main__ -   31195\n"
          ],
          "name": "stderr"
        },
        {
          "output_type": "stream",
          "text": [
            "step 62550\n",
            "loss: 1.748795509338379\n"
          ],
          "name": "stdout"
        },
        {
          "output_type": "stream",
          "text": [
            "05/21/2021 16:04:28 - INFO - __main__ -   31245\n"
          ],
          "name": "stderr"
        },
        {
          "output_type": "stream",
          "text": [
            "step 62600\n",
            "loss: 1.9403263330459595\n"
          ],
          "name": "stdout"
        },
        {
          "output_type": "stream",
          "text": [
            "05/21/2021 16:04:46 - INFO - __main__ -   31295\n"
          ],
          "name": "stderr"
        },
        {
          "output_type": "stream",
          "text": [
            "step 62650\n",
            "loss: 1.2383302450180054\n"
          ],
          "name": "stdout"
        },
        {
          "output_type": "stream",
          "text": [
            "05/21/2021 16:05:04 - INFO - __main__ -   31345\n"
          ],
          "name": "stderr"
        },
        {
          "output_type": "stream",
          "text": [
            "step 62700\n",
            "loss: 1.615312933921814\n"
          ],
          "name": "stdout"
        }
      ]
    },
    {
      "cell_type": "markdown",
      "metadata": {
        "id": "IXzoNYpwlYz0"
      },
      "source": [
        "## evaluation"
      ]
    },
    {
      "cell_type": "code",
      "metadata": {
        "id": "UQL7vPBEDZjK"
      },
      "source": [
        "def save_model(args,model,tokenizer,model_class,tokenizer_class):\n",
        "  # Create output directory if neede\n",
        "  if not os.path.exists(args.output_dir):\n",
        "    os.makedirs(args.output_dir)\n",
        "\n",
        "  logger.info(\"Saving model checkpoint to %s\", args.output_dir)\n",
        "  # Save a trained model, configuration and tokenizer using `save_pretrained()`.\n",
        "  # They can then be reloaded using `from_pretrained()`\n",
        "  model_to_save = model.module if hasattr(model, 'module') else model  # Take care of distributed/parallel training\n",
        "  model_to_save.save_pretrained(args.output_dir)\n",
        "  tokenizer.save_pretrained(args.output_dir)\n",
        "\n",
        "  # Good practice: save your training arguments together with the trained model\n",
        "  torch.save(args, os.path.join(args.output_dir, 'training_args.bin'))\n",
        "\n",
        "  # Load a trained model and vocabulary that you have fine-tuned\n",
        "  model = model_class.from_pretrained(args.output_dir)\n",
        "  tokenizer = tokenizer_class.from_pretrained(args.output_dir, do_lower_case=args.do_lower_case)\n",
        "  model.to(args.device)\n",
        "\n"
      ],
      "execution_count": null,
      "outputs": []
    },
    {
      "cell_type": "code",
      "metadata": {
        "id": "FpKZFikiiyaE",
        "colab": {
          "base_uri": "https://localhost:8080/"
        },
        "outputId": "8ae259ab-2882-4f59-88ce-c7546b27a10a"
      },
      "source": [
        "model = mybart.bart\n",
        "model_class = BartForCausalLM\n",
        "tokenizer_class = BartTokenizer\n",
        "save_model(args,model,tokenizer,model_class,tokenizer_class)"
      ],
      "execution_count": null,
      "outputs": [
        {
          "output_type": "stream",
          "text": [
            "05/21/2021 16:05:12 - INFO - __main__ -   Saving model checkpoint to ./gdrive/MyDrive/COMP0087/model_checkpoint\n"
          ],
          "name": "stderr"
        }
      ]
    },
    {
      "cell_type": "code",
      "metadata": {
        "id": "mks92fFx8vfS"
      },
      "source": [
        "# model = BartForCausalLM.from_pretrained(args.output_dir)"
      ],
      "execution_count": null,
      "outputs": []
    },
    {
      "cell_type": "code",
      "metadata": {
        "id": "oa-gH4egxBBD"
      },
      "source": [
        "def evaluate(args, model, tokenizer, prefix=\"\"):\n",
        "    # Loop to handle MNLI double evaluation (matched, mis-matched)\n",
        "    eval_output_dir = args.output_dir\n",
        "\n",
        "    eval_dataset = load_and_cache_examples(args, tokenizer, evaluate=True)\n",
        "\n",
        "    if not os.path.exists(eval_output_dir):\n",
        "        os.makedirs(eval_output_dir)\n",
        "\n",
        "    args.eval_batch_size = args.per_gpu_eval_batch_size * max(1, args.n_gpu)\n",
        "    # Note that DistributedSampler samples randomly\n",
        "    eval_sampler = SequentialSampler(eval_dataset)\n",
        "    eval_dataloader = DataLoader(eval_dataset, sampler=eval_sampler, batch_size=args.eval_batch_size)\n",
        "\n",
        "    # Eval!\n",
        "    logger.info(\"***** Running evaluation {} *****\".format(prefix))\n",
        "    logger.info(\"  Num examples = %d\", len(eval_dataset))\n",
        "    logger.info(\"  Batch size = %d\", args.eval_batch_size)\n",
        "    eval_loss = 0.0\n",
        "    nb_eval_steps = 0\n",
        "    model.eval()\n",
        "\n",
        "    for batch in tqdm(eval_dataloader, desc=\"Evaluating\"):\n",
        "        batch = batch.to(args.device)\n",
        "\n",
        "        with torch.no_grad():\n",
        "            outputs = model(batch, labels=batch)\n",
        "            lm_loss = outputs[0]\n",
        "            eval_loss += lm_loss.mean().item()\n",
        "        nb_eval_steps += 1\n",
        "\n",
        "    eval_loss = eval_loss / nb_eval_steps\n",
        "    perplexity = torch.exp(torch.tensor(eval_loss))\n",
        "\n",
        "    result = {\n",
        "        \"perplexity\": perplexity\n",
        "    }\n",
        "\n",
        "    output_eval_file = os.path.join(eval_output_dir, \"eval_results.txt\")\n",
        "    with open(output_eval_file, \"w\") as writer:\n",
        "        logger.info(\"***** Eval results {} *****\".format(prefix))\n",
        "        for key in sorted(result.keys()):\n",
        "            logger.info(\"  %s = %s\", key, str(result[key]))\n",
        "            writer.write(\"%s = %s\\n\" % (key, str(result[key])))\n",
        "\n",
        "    return result"
      ],
      "execution_count": null,
      "outputs": []
    },
    {
      "cell_type": "code",
      "metadata": {
        "id": "tvYkcy_EmF_M",
        "colab": {
          "base_uri": "https://localhost:8080/"
        },
        "outputId": "d1c9d121-1578-4a07-b3a4-51678d477a8c"
      },
      "source": [
        "# Evaluation\n",
        "results = {}\n",
        "checkpoints = [args.output_dir]\n",
        "if args.eval_all_checkpoints:\n",
        "  checkpoints = list(os.path.dirname(c) for c in sorted(glob.glob(args.output_dir + '/**/' + WEIGHTS_NAME, recursive=True)))\n",
        "  logging.getLogger(\"transformers.modeling_utils\").setLevel(logging.WARN)  # Reduce logging\n",
        "logger.info(\"Evaluate the following checkpoints: %s\", checkpoints)\n",
        "for checkpoint in checkpoints:\n",
        "  global_step = checkpoint.split('-')[-1] if len(checkpoints) > 1 else \"\"\n",
        "  model_class = BartForCausalLM#BartForConditionalGeneration#GPT2LMHeadModel # BartForCausalLM\n",
        "  model = model_class.from_pretrained(checkpoint)\n",
        "  model.to(args.device)\n",
        "  result = evaluate(args, model, tokenizer, prefix=global_step)\n",
        "  result = dict((k + '_{}'.format(global_step), v) for k, v in result.items())\n",
        "  results.update(result)"
      ],
      "execution_count": null,
      "outputs": [
        {
          "output_type": "stream",
          "text": [
            "05/21/2021 16:05:17 - INFO - __main__ -   Evaluate the following checkpoints: ['./gdrive/MyDrive/COMP0087/model_checkpoint']\n",
            "05/21/2021 16:05:19 - INFO - __main__ -   Loading features from cached file unsupervised.h5\n",
            "05/21/2021 16:05:19 - INFO - __main__ -   ***** Running evaluation  *****\n",
            "05/21/2021 16:05:19 - INFO - __main__ -     Num examples = 27\n",
            "05/21/2021 16:05:19 - INFO - __main__ -     Batch size = 4\n",
            "Evaluating:  14%|█▍        | 1/7 [00:00<00:00,  6.65it/s]"
          ],
          "name": "stderr"
        },
        {
          "output_type": "stream",
          "text": [
            "tensor([[    0, 50273, 50275,  ..., 50274, 50274, 50274],\n",
            "        [    0, 50273, 50275,  ..., 50274, 50274, 50274],\n",
            "        [    0, 50273, 50275,  ..., 50274, 50274, 50274],\n",
            "        [    0, 50273, 50275,  ..., 50274, 50274, 50274],\n",
            "        [    0, 50273, 50275,  ..., 50274, 50274, 50274]])\n"
          ],
          "name": "stdout"
        },
        {
          "output_type": "stream",
          "text": [
            "Evaluating: 100%|██████████| 7/7 [00:00<00:00,  7.25it/s]\n",
            "05/21/2021 16:05:20 - INFO - __main__ -   ***** Eval results  *****\n",
            "05/21/2021 16:05:20 - INFO - __main__ -     perplexity = tensor(11198.6689)\n"
          ],
          "name": "stderr"
        }
      ]
    },
    {
      "cell_type": "markdown",
      "metadata": {
        "id": "MXpDix2yd3lB"
      },
      "source": [
        "# generation"
      ]
    },
    {
      "cell_type": "code",
      "metadata": {
        "id": "yX9UqNILeAvK"
      },
      "source": [
        "#model loading\n",
        "#tokenizer = AutoTokenizer.from_pretrained(\"mbien/recipenlg\")\n",
        "#model = AutoModelWithLMHead.from_pretrained(\"mbien/recipenlg\")"
      ],
      "execution_count": null,
      "outputs": []
    },
    {
      "cell_type": "code",
      "metadata": {
        "id": "MPi6Xwt5GrvO",
        "colab": {
          "base_uri": "https://localhost:8080/"
        },
        "outputId": "ab765b44-55cb-43a6-8a8c-cb9e6bea56a9"
      },
      "source": [
        "raw_text = 'tomato,egg'\n",
        "prepared_input = ' <RECIPE_START> <INPUT_START> ' + raw_text.replace(',', ' <NEXT_INPUT> ').replace(';', ' <INPUT_END>')\n",
        "tokenizer.encode(prepared_input)[0:-1]"
      ],
      "execution_count": null,
      "outputs": [
        {
          "output_type": "execute_result",
          "data": {
            "text/plain": [
              "[0, 50273, 50275, 33063, 3938, 50277, 38299]"
            ]
          },
          "metadata": {
            "tags": []
          },
          "execution_count": 36
        }
      ]
    },
    {
      "cell_type": "code",
      "metadata": {
        "id": "b8ea0cb0AdLu"
      },
      "source": [
        "#new_model = BartForCausalLM.from_pretrained(args.output_dir)\n",
        "#new_tokenizer = BartTokenizer.from_pretrained(args.output_dir)\n",
        "#new_model = GPT2LMHeadModel.from_pretrained(args.output_dir)\n",
        "#new_tokenizer = GPT2LMHeadModel.from_pretrained(args.output_dir)\n",
        "#new_model = BartForConditionalGeneration.from_pretrained(args.output_dir)\n",
        "#new_tokenizer= BartForConditionalGeneration.from_pretrained(args.output_dir)"
      ],
      "execution_count": null,
      "outputs": []
    },
    {
      "cell_type": "code",
      "metadata": {
        "id": "ofrfJDXw_iqf"
      },
      "source": [
        "def set_seed(args):\n",
        "    np.random.seed(args.seed)\n",
        "    torch.manual_seed(args.seed)\n",
        "    if args.n_gpu > 0:\n",
        "        torch.cuda.manual_seed_all(args.seed)\n",
        "\n",
        "\n",
        "def top_k_top_p_filtering(logits, top_k=0, top_p=0.0, filter_value=-float('Inf')):\n",
        "    \"\"\" Filter a distribution of logits using top-k and/or nucleus (top-p) filtering\n",
        "        Args:\n",
        "            logits: logits distribution shape (vocabulary size)\n",
        "            top_k > 0: keep only top k tokens with highest probability (top-k filtering).\n",
        "            top_p > 0.0: keep the top tokens with cumulative probability >= top_p (nucleus filtering).\n",
        "                Nucleus filtering is described in Holtzman et al. (http://arxiv.org/abs/1904.09751)\n",
        "        From: https://gist.github.com/thomwolf/1a5a29f6962089e871b94cbd09daf317\n",
        "    \"\"\"\n",
        "    assert logits.dim() == 1  # batch size 1 for now - could be updated for more but the code would be less clear\n",
        "    top_k = min(top_k, logits.size(-1))  # Safety check\n",
        "    if top_k > 0:\n",
        "        # Remove all tokens with a probability less than the last token of the top-k\n",
        "        indices_to_remove = logits < torch.topk(logits, top_k)[0][..., -1, None]\n",
        "        logits[indices_to_remove] = filter_value\n",
        "\n",
        "    if top_p > 0.0:\n",
        "        sorted_logits, sorted_indices = torch.sort(logits, descending=True)\n",
        "        cumulative_probs = torch.cumsum(F.softmax(sorted_logits, dim=-1), dim=-1)\n",
        "\n",
        "        # Remove tokens with cumulative probability above the threshold\n",
        "        sorted_indices_to_remove = cumulative_probs > top_p\n",
        "        # Shift the indices to the right to keep also the first token above the threshold\n",
        "        sorted_indices_to_remove[..., 1:] = sorted_indices_to_remove[..., :-1].clone()\n",
        "        sorted_indices_to_remove[..., 0] = 0\n",
        "\n",
        "        indices_to_remove = sorted_indices[sorted_indices_to_remove]\n",
        "        logits[indices_to_remove] = filter_value\n",
        "    return logits\n",
        "\n",
        "\n",
        "def sample_sequence(model, length, context, tokenizer, num_samples=1, temperature=1, top_k=0, top_p=0.0, device='cpu'):\n",
        "    end_token = tokenizer.convert_tokens_to_ids([\"<RECIPE_END>\"])[0]\n",
        "    context = torch.tensor(context, dtype=torch.long, device=device)\n",
        "    context = context.unsqueeze(0).repeat(num_samples, 1)\n",
        "    generated = context\n",
        "    with torch.no_grad():\n",
        "        for _ in range(length):\n",
        "            inputs = {'input_ids': generated}\n",
        "            outputs = model(**inputs)  # Note: we could also use 'past' with GPT-2/Transfo-XL/XLNet (cached hidden-states)\n",
        "            # print(outputs)\n",
        "            next_token_logits = outputs[\"logits\"][0, -1, :] / temperature\n",
        "            \n",
        "            filtered_logits = top_k_top_p_filtering(next_token_logits, top_k=top_k, top_p=top_p)\n",
        "            next_token = torch.multinomial(F.softmax(filtered_logits, dim=-1), num_samples=1)\n",
        "            generated = torch.cat((generated, next_token.unsqueeze(0)), dim=1)\n",
        "            #print(next_token)\n",
        "            if next_token.item() == end_token:\n",
        "                break\n",
        "    return generated"
      ],
      "execution_count": null,
      "outputs": []
    },
    {
      "cell_type": "code",
      "metadata": {
        "id": "z6VNmuOzd4vW",
        "colab": {
          "base_uri": "https://localhost:8080/"
        },
        "outputId": "094f77af-5b89-4da5-a111-051d750f66a0"
      },
      "source": [
        "# raw_text = args.prompt if args.prompt else input(\"Comma-separated ingredients, semicolon to close the list >>> \")\n",
        "raw_text = 'tomato, potato, beef'\n",
        "\n",
        "prepared_input = ' <RECIPE_START> <INPUT_START> ' + raw_text.replace(',', ' <NEXT_INPUT> ').replace(';', ' <INPUT_END>')\n",
        "context_tokens = tokenizer.encode(prepared_input)[0:-1]\n",
        "out = sample_sequence(\n",
        "            model=mybart.bart,\n",
        "            context=context_tokens,\n",
        "            tokenizer=tokenizer,\n",
        "            length=800,\n",
        "            device = args.device\n",
        "        )\n",
        "out = out[0, len(context_tokens):].tolist()\n",
        "text = tokenizer.decode(out, clean_up_tokenization_spaces=True)\n",
        "if \"<RECIPE_END>\" not in text:\n",
        "  print(text)\n",
        "  print(\"Failed to generate, recipe's too long\")\n",
        "  full_text = prepared_input + text\n",
        "  print(full_text)\n",
        "else:\n",
        "  full_text = prepared_input + text\n",
        "  print(full_text)\n",
        "  markdown = re.sub(\"<RECIPE_(START|END)>\", \"\", full_text)\n",
        "  recipe_n_title = markdown.split(\"<TITLE_START>\")\n",
        "  title = \"# \" + recipe_n_title[1].replace(\"<TITLE_END>\", \"\") + \" #\\n\"\n",
        "  markdown = recipe_n_title[0].replace(\"<INPUT_START>\", \"## Input ingredients ##\\n`\").replace(\"<INPUT_END>\", \"`\\n\")\n",
        "  markdown = markdown.replace(\"<NEXT_INPUT>\", \"`\\n`\").replace(\"<INGR_START>\", \"## Ingredients ##\\n* \").replace(\"<NEXT_INGR>\", \"\\n* \").replace(\"<INGR_END>\", \"\\n\")\n",
        "  markdown = markdown.replace(\"<INSTR_START>\", \"## Instructions ##\\n1) \").replace(\"<NEXT_INSTR>\", \"\\n1) \").replace(\"<INSTR_END>\", \"\\n\")\n",
        "  markdown = re.sub(\"$ +#\", \"#\", markdown)\n",
        "  markdown = re.sub(\"( +`|` +)\", \"`\", markdown)\n",
        "  print(title+markdown)#\n"
      ],
      "execution_count": null,
      "outputs": [
        {
          "output_type": "stream",
          "text": [
            " <RECIPE_START> <INPUT_START> tomato <NEXT_INPUT>  potato <NEXT_INPUT>  beef<NEXT_INPUT> vegetable sprouts <NEXT_INPUT> butter <NEXT_INPUT> thyme <INPUT_END> <INGR_START> 1 medium tomato, chopped <NEXT_INGR> 1 medium potato, diced <NEXT_INGR> 8 marinated beef sprouts <NEXT_INGR> 2 tablespoons butter <NEXT_INGR> 1 teaspoon dried thyme <NEXT_INGR> 1 stick artichoke hearts, minced <INGR_END> <INSTR_START> Use very finely chopped tomatoes and celery with low cut off sauce. <NEXT_INSTR> Set aside. <NEXT_INSTR> When I'm paaing, squeeze hot grease with hand. When my machine starts to start to turn high. <NEXT_INSTR> Now, tactfully but slightly the sun, steam the tomatoes until they start to turn golden brown (about 5 minutes). Watch them carefully. <NEXT_INSTR> If your sun heats, place them on tray at the stove for 15-20 minutes. <NEXT_INSTR> When they smell like burning, lower heat again. <NEXT_INSTR> Once oil is fully shaking the tomatoes you added them in 1 tablespoon. <NEXT_INSTR> Serve with poppy seeds; they will have a nice coating in the bottom. povertyid knifePicked up and bring back times around it. <NEXT_INSTR> Place tomato and potatoes in a pot that has been heated till tender. <NEXT_INSTR> To fry, add artichoke hearts and season with salt and pepper to taste. I chili left for a couple of minutes. <NEXT_INSTR> Stop stirring and add invalid oftesame. Allow to cook for for a further 5-10 minutes on medium-low heat. <NEXT_INSTR> Take a spoonful or dessert and serve. <NEXT_INSTR> Cut and leave for another. <INSTR_END> <TITLE_START> Kwant Needed Finger Soup with Tomato <TITLE_END> <RECIPE_END>\n",
            "#  Kwant Needed Finger Soup with Tomato   #\n",
            "  ## Input ingredients ##\n",
            "`tomato`\n",
            "`potato`\n",
            "`beef`\n",
            "`vegetable sprouts`\n",
            "`butter`\n",
            "`thyme`\n",
            " ## Ingredients ##\n",
            "*  1 medium tomato, chopped \n",
            "*  1 medium potato, diced \n",
            "*  8 marinated beef sprouts \n",
            "*  2 tablespoons butter \n",
            "*  1 teaspoon dried thyme \n",
            "*  1 stick artichoke hearts, minced \n",
            " ## Instructions ##\n",
            "1)  Use very finely chopped tomatoes and celery with low cut off sauce. \n",
            "1)  Set aside. \n",
            "1)  When I'm paaing, squeeze hot grease with hand. When my machine starts to start to turn high. \n",
            "1)  Now, tactfully but slightly the sun, steam the tomatoes until they start to turn golden brown (about 5 minutes). Watch them carefully. \n",
            "1)  If your sun heats, place them on tray at the stove for 15-20 minutes. \n",
            "1)  When they smell like burning, lower heat again. \n",
            "1)  Once oil is fully shaking the tomatoes you added them in 1 tablespoon. \n",
            "1)  Serve with poppy seeds; they will have a nice coating in the bottom. povertyid knifePicked up and bring back times around it. \n",
            "1)  Place tomato and potatoes in a pot that has been heated till tender. \n",
            "1)  To fry, add artichoke hearts and season with salt and pepper to taste. I chili left for a couple of minutes. \n",
            "1)  Stop stirring and add invalid oftesame. Allow to cook for for a further 5-10 minutes on medium-low heat. \n",
            "1)  Take a spoonful or dessert and serve. \n",
            "1)  Cut and leave for another. \n",
            " \n"
          ],
          "name": "stdout"
        }
      ]
    },
    {
      "cell_type": "code",
      "metadata": {
        "id": "O0HDQ4nKd68D",
        "colab": {
          "base_uri": "https://localhost:8080/"
        },
        "outputId": "e32e2df6-95d8-4ef8-8e57-e5b1c95d1ae2"
      },
      "source": [
        "print(title+markdown)"
      ],
      "execution_count": null,
      "outputs": [
        {
          "output_type": "stream",
          "text": [
            "#  Kwant Needed Finger Soup with Tomato   #\n",
            "  ## Input ingredients ##\n",
            "`tomato`\n",
            "`potato`\n",
            "`beef`\n",
            "`vegetable sprouts`\n",
            "`butter`\n",
            "`thyme`\n",
            " ## Ingredients ##\n",
            "*  1 medium tomato, chopped \n",
            "*  1 medium potato, diced \n",
            "*  8 marinated beef sprouts \n",
            "*  2 tablespoons butter \n",
            "*  1 teaspoon dried thyme \n",
            "*  1 stick artichoke hearts, minced \n",
            " ## Instructions ##\n",
            "1)  Use very finely chopped tomatoes and celery with low cut off sauce. \n",
            "1)  Set aside. \n",
            "1)  When I'm paaing, squeeze hot grease with hand. When my machine starts to start to turn high. \n",
            "1)  Now, tactfully but slightly the sun, steam the tomatoes until they start to turn golden brown (about 5 minutes). Watch them carefully. \n",
            "1)  If your sun heats, place them on tray at the stove for 15-20 minutes. \n",
            "1)  When they smell like burning, lower heat again. \n",
            "1)  Once oil is fully shaking the tomatoes you added them in 1 tablespoon. \n",
            "1)  Serve with poppy seeds; they will have a nice coating in the bottom. povertyid knifePicked up and bring back times around it. \n",
            "1)  Place tomato and potatoes in a pot that has been heated till tender. \n",
            "1)  To fry, add artichoke hearts and season with salt and pepper to taste. I chili left for a couple of minutes. \n",
            "1)  Stop stirring and add invalid oftesame. Allow to cook for for a further 5-10 minutes on medium-low heat. \n",
            "1)  Take a spoonful or dessert and serve. \n",
            "1)  Cut and leave for another. \n",
            " \n"
          ],
          "name": "stdout"
        }
      ]
    },
    {
      "cell_type": "code",
      "metadata": {
        "id": "9KoPaCB2vVej"
      },
      "source": [
        "# gold standard\n",
        "#df_eval = gold_st\n",
        "model.to(args.device)\n",
        "test_input = test.reset_index()\n",
        "df_eval_ner = test_input[\"NER\"]  #NER\n",
        "df_eval_dir = test_input[\"directions\"]"
      ],
      "execution_count": null,
      "outputs": []
    },
    {
      "cell_type": "code",
      "metadata": {
        "id": "TY78AVj4vcEU"
      },
      "source": [
        "def get_raw_input(NER):\n",
        "    test_str = NER\n",
        "    test_str = test_str.replace(\"[\",\"\")\n",
        "    test_str = test_str.replace(\"]\",\"\")\n",
        "    test_str = test_str.replace(\"\\\"\",\"\")\n",
        "\n",
        "    return test_str\n",
        "\n",
        "def get_instr(markdown):\n",
        "  markdown = markdown.split(\"\\n\")\n",
        "  if ' ## Instructions ##' in markdown:\n",
        "    instr_index = markdown.index(' ## Instructions ##')\n",
        "    \n",
        "    output = [i for i in markdown[instr_index+1:]]\n",
        "\n",
        "    if \" \" in output:\n",
        "        output.remove(\" \")\n",
        "\n",
        "    if \"\" in output:\n",
        "        output.remove(\"\")    \n",
        "    \n",
        "    return output\n",
        "\n",
        "  elif '## Instructions ##' in markdown:\n",
        "    instr_index = markdown.index('## Instructions ##')\n",
        "\n",
        "    output = [i for i in markdown[instr_index+1:]]\n",
        "\n",
        "    if \" \" in output:\n",
        "        output.remove(\" \")\n",
        "        \n",
        "    if \"\" in output:\n",
        "        output.remove(\"\")    \n",
        "\n",
        "    return output\n",
        "    \n",
        "  else:\n",
        "    return [\"failed to generate\"]\n",
        "\n",
        "\n",
        "def generate_recipe(raw_text):\n",
        "\n",
        "    prepared_input = ' <RECIPE_START> <INPUT_START> ' + raw_text.replace(',', ' <NEXT_INPUT> ').replace(';', ' <INPUT_END>')\n",
        "    context_tokens = tokenizer.encode(prepared_input)[0:-1]\n",
        "    out = sample_sequence(\n",
        "                model=model,\n",
        "                context=context_tokens,\n",
        "                tokenizer=tokenizer,\n",
        "                length=800,\n",
        "                device = args.device\n",
        "            )\n",
        "    out = out[0, len(context_tokens):].tolist()\n",
        "    text = tokenizer.decode(out, clean_up_tokenization_spaces=True)\n",
        "    if \"<RECIPE_END>\" not in text:\n",
        "      # print(text)\n",
        "      print(\"Failed to generate, recipe's too long\")\n",
        "      full_text = prepared_input + text\n",
        "      # print(full_text)\n",
        "      return generate_recipe(raw_text)\n",
        "    else:\n",
        "      full_text = prepared_input + text\n",
        "      # print(full_text)\n",
        "      markdown = re.sub(\"<RECIPE_(START|END)>\", \"\", full_text)\n",
        "      recipe_n_title = markdown.split(\"<TITLE_START>\")\n",
        "      if len(recipe_n_title)<=1:\n",
        "        return generate_recipe(raw_text)\n",
        "      title = \"# \" + recipe_n_title[1].replace(\"<TITLE_END>\", \"\") + \" #\\n\"\n",
        "      markdown = recipe_n_title[0].replace(\"<INPUT_START>\", \"## Input ingredients ##\\n`\").replace(\"<INPUT_END>\", \"`\\n\")\n",
        "      markdown = markdown.replace(\"<NEXT_INPUT>\", \"`\\n`\").replace(\"<INGR_START>\", \"## Ingredients ##\\n* \").replace(\"<NEXT_INGR>\", \"\\n* \").replace(\"<INGR_END>\", \"\\n\")\n",
        "      #markdown = markdown.replace(\"<INSTR_START>\", \"## Instructions ##\\n\\\"\").replace(\"<NEXT_INSTR>\", \"\\n\\\"\").replace(\"<INSTR_END>\", \"\\n\")\n",
        "      markdown = markdown.replace(\"<INSTR_START>\", \"## Instructions ##\\n\").replace(\"<NEXT_INSTR>\", \"\\n\").replace(\"<INSTR_END>\", \"\\n\")\n",
        "      markdown = re.sub(\"$ +#\", \"#\", markdown)\n",
        "      markdown = re.sub(\"( +`|` +)\", \"`\", markdown)\n",
        "  \n",
        "      return markdown"
      ],
      "execution_count": null,
      "outputs": []
    },
    {
      "cell_type": "code",
      "metadata": {
        "id": "h84dStu7vegL",
        "colab": {
          "base_uri": "https://localhost:8080/"
        },
        "outputId": "fdc01efc-6524-4754-a6ea-ba4cb784087e"
      },
      "source": [
        "df_eval_dir"
      ],
      "execution_count": null,
      "outputs": [
        {
          "output_type": "execute_result",
          "data": {
            "text/plain": [
              "0     [\"Preheat oven to 350 degrees. Grease muffin t...\n",
              "1     [\"Preheat oven to 350F.\", \"Microwave chocolate...\n",
              "2     [\"Sprinkle pepper on both sides of veal and ro...\n",
              "3     [\"In a small bowl, combine the first six ingre...\n",
              "4     [\"Brown and drain meat and onions.\", \"Add all ...\n",
              "                            ...                        \n",
              "95    [\"Place raw vegetables in food processor. Proc...\n",
              "96    [\"add to food processor and turn on.\", \"blend ...\n",
              "97    [\"Heat oven to 350\\u00b0.\", \"Grease and flour ...\n",
              "98    [\"Combine and pour over beets.\", \"Let set over...\n",
              "99    [\"Butter an 8x8-inch or 9x9-inch square pan.\",...\n",
              "Name: directions, Length: 100, dtype: object"
            ]
          },
          "metadata": {
            "tags": []
          },
          "execution_count": 55
        }
      ]
    },
    {
      "cell_type": "code",
      "metadata": {
        "id": "-w_xrYOqvgkE",
        "colab": {
          "base_uri": "https://localhost:8080/"
        },
        "outputId": "80803b84-2b94-40e5-ca3b-f916f866d23b"
      },
      "source": [
        "torch.manual_seed(0)\n",
        "# generate recipes derived from gold standard ones\n",
        "test_size = 100\n",
        "replicated_size = 10\n",
        "directions =  [[] for i in range(test_size)]\n",
        "\n",
        "for i in range(test_size):\n",
        "  raw_text = get_raw_input(df_eval_ner[i])\n",
        "  print(\"\\n Generating the recipe: \",i)\n",
        "\n",
        "  for j in range(replicated_size):\n",
        "    print(\"recipe: \",j)\n",
        "    md = generate_recipe(raw_text)\n",
        "    directions[i].append(get_instr(md))"
      ],
      "execution_count": null,
      "outputs": [
        {
          "output_type": "stream",
          "text": [
            "\n",
            " Generating the recipe:  0\n",
            "recipe:  0\n",
            "recipe:  1\n",
            "recipe:  2\n",
            "recipe:  3\n",
            "recipe:  4\n",
            "recipe:  5\n",
            "recipe:  6\n",
            "recipe:  7\n",
            "recipe:  8\n",
            "recipe:  9\n",
            "\n",
            " Generating the recipe:  1\n",
            "recipe:  0\n",
            "recipe:  1\n",
            "recipe:  2\n",
            "recipe:  3\n",
            "recipe:  4\n",
            "recipe:  5\n",
            "recipe:  6\n",
            "recipe:  7\n",
            "recipe:  8\n",
            "recipe:  9\n",
            "\n",
            " Generating the recipe:  2\n",
            "recipe:  0\n",
            "recipe:  1\n",
            "recipe:  2\n",
            "recipe:  3\n",
            "recipe:  4\n",
            "recipe:  5\n",
            "recipe:  6\n",
            "recipe:  7\n",
            "recipe:  8\n",
            "recipe:  9\n",
            "\n",
            " Generating the recipe:  3\n",
            "recipe:  0\n",
            "recipe:  1\n",
            "recipe:  2\n",
            "recipe:  3\n",
            "recipe:  4\n",
            "recipe:  5\n",
            "recipe:  6\n",
            "recipe:  7\n",
            "recipe:  8\n",
            "recipe:  9\n",
            "\n",
            " Generating the recipe:  4\n",
            "recipe:  0\n",
            "recipe:  1\n",
            "recipe:  2\n",
            "recipe:  3\n",
            "recipe:  4\n",
            "recipe:  5\n",
            "recipe:  6\n",
            "recipe:  7\n",
            "recipe:  8\n",
            "recipe:  9\n",
            "\n",
            " Generating the recipe:  5\n",
            "recipe:  0\n",
            "recipe:  1\n",
            "recipe:  2\n",
            "recipe:  3\n",
            "recipe:  4\n",
            "recipe:  5\n",
            "recipe:  6\n",
            "recipe:  7\n",
            "recipe:  8\n",
            "recipe:  9\n",
            "\n",
            " Generating the recipe:  6\n",
            "recipe:  0\n",
            "recipe:  1\n",
            "recipe:  2\n",
            "recipe:  3\n",
            "recipe:  4\n",
            "recipe:  5\n",
            "recipe:  6\n",
            "recipe:  7\n",
            "recipe:  8\n",
            "recipe:  9\n",
            "\n",
            " Generating the recipe:  7\n",
            "recipe:  0\n",
            "recipe:  1\n",
            "recipe:  2\n",
            "recipe:  3\n",
            "recipe:  4\n",
            "recipe:  5\n",
            "recipe:  6\n",
            "recipe:  7\n",
            "recipe:  8\n",
            "recipe:  9\n",
            "\n",
            " Generating the recipe:  8\n",
            "recipe:  0\n",
            "recipe:  1\n",
            "recipe:  2\n",
            "recipe:  3\n",
            "recipe:  4\n",
            "recipe:  5\n",
            "recipe:  6\n",
            "recipe:  7\n",
            "recipe:  8\n",
            "recipe:  9\n",
            "\n",
            " Generating the recipe:  9\n",
            "recipe:  0\n",
            "recipe:  1\n",
            "recipe:  2\n",
            "recipe:  3\n",
            "recipe:  4\n",
            "recipe:  5\n",
            "recipe:  6\n",
            "recipe:  7\n",
            "recipe:  8\n",
            "recipe:  9\n",
            "\n",
            " Generating the recipe:  10\n",
            "recipe:  0\n",
            "recipe:  1\n",
            "recipe:  2\n",
            "recipe:  3\n",
            "recipe:  4\n",
            "recipe:  5\n",
            "recipe:  6\n",
            "recipe:  7\n",
            "recipe:  8\n",
            "recipe:  9\n",
            "\n",
            " Generating the recipe:  11\n",
            "recipe:  0\n",
            "recipe:  1\n",
            "recipe:  2\n",
            "recipe:  3\n",
            "recipe:  4\n",
            "recipe:  5\n",
            "recipe:  6\n",
            "recipe:  7\n",
            "recipe:  8\n",
            "recipe:  9\n",
            "\n",
            " Generating the recipe:  12\n",
            "recipe:  0\n",
            "recipe:  1\n",
            "recipe:  2\n",
            "recipe:  3\n",
            "recipe:  4\n",
            "recipe:  5\n",
            "recipe:  6\n",
            "Failed to generate, recipe's too long\n",
            "recipe:  7\n",
            "recipe:  8\n",
            "recipe:  9\n",
            "\n",
            " Generating the recipe:  13\n",
            "recipe:  0\n",
            "recipe:  1\n",
            "recipe:  2\n",
            "recipe:  3\n",
            "recipe:  4\n",
            "recipe:  5\n",
            "recipe:  6\n",
            "recipe:  7\n",
            "recipe:  8\n",
            "recipe:  9\n",
            "\n",
            " Generating the recipe:  14\n",
            "recipe:  0\n",
            "recipe:  1\n",
            "recipe:  2\n",
            "recipe:  3\n",
            "recipe:  4\n",
            "recipe:  5\n",
            "recipe:  6\n",
            "recipe:  7\n",
            "recipe:  8\n",
            "recipe:  9\n",
            "\n",
            " Generating the recipe:  15\n",
            "recipe:  0\n",
            "recipe:  1\n",
            "recipe:  2\n",
            "recipe:  3\n",
            "recipe:  4\n",
            "recipe:  5\n",
            "recipe:  6\n",
            "recipe:  7\n",
            "recipe:  8\n",
            "recipe:  9\n",
            "\n",
            " Generating the recipe:  16\n",
            "recipe:  0\n",
            "recipe:  1\n",
            "recipe:  2\n",
            "recipe:  3\n",
            "recipe:  4\n",
            "recipe:  5\n",
            "recipe:  6\n",
            "recipe:  7\n",
            "recipe:  8\n",
            "recipe:  9\n",
            "\n",
            " Generating the recipe:  17\n",
            "recipe:  0\n",
            "recipe:  1\n",
            "recipe:  2\n",
            "recipe:  3\n",
            "recipe:  4\n",
            "recipe:  5\n",
            "recipe:  6\n",
            "recipe:  7\n",
            "recipe:  8\n",
            "Failed to generate, recipe's too long\n",
            "recipe:  9\n",
            "\n",
            " Generating the recipe:  18\n",
            "recipe:  0\n",
            "recipe:  1\n",
            "recipe:  2\n",
            "recipe:  3\n",
            "recipe:  4\n",
            "recipe:  5\n",
            "recipe:  6\n",
            "recipe:  7\n",
            "recipe:  8\n",
            "recipe:  9\n",
            "\n",
            " Generating the recipe:  19\n",
            "recipe:  0\n",
            "recipe:  1\n",
            "recipe:  2\n",
            "recipe:  3\n",
            "recipe:  4\n",
            "recipe:  5\n",
            "recipe:  6\n",
            "recipe:  7\n",
            "recipe:  8\n",
            "recipe:  9\n",
            "\n",
            " Generating the recipe:  20\n",
            "recipe:  0\n",
            "recipe:  1\n",
            "recipe:  2\n",
            "recipe:  3\n",
            "recipe:  4\n",
            "recipe:  5\n",
            "recipe:  6\n",
            "recipe:  7\n",
            "recipe:  8\n",
            "recipe:  9\n",
            "\n",
            " Generating the recipe:  21\n",
            "recipe:  0\n",
            "recipe:  1\n",
            "recipe:  2\n",
            "recipe:  3\n",
            "recipe:  4\n",
            "recipe:  5\n",
            "recipe:  6\n",
            "recipe:  7\n",
            "recipe:  8\n",
            "recipe:  9\n",
            "\n",
            " Generating the recipe:  22\n",
            "recipe:  0\n",
            "recipe:  1\n",
            "recipe:  2\n",
            "recipe:  3\n",
            "recipe:  4\n",
            "recipe:  5\n",
            "recipe:  6\n",
            "recipe:  7\n",
            "recipe:  8\n",
            "recipe:  9\n",
            "\n",
            " Generating the recipe:  23\n",
            "recipe:  0\n",
            "recipe:  1\n",
            "recipe:  2\n",
            "recipe:  3\n",
            "recipe:  4\n",
            "recipe:  5\n",
            "recipe:  6\n",
            "recipe:  7\n",
            "Failed to generate, recipe's too long\n",
            "recipe:  8\n",
            "recipe:  9\n",
            "\n",
            " Generating the recipe:  24\n",
            "recipe:  0\n",
            "recipe:  1\n",
            "recipe:  2\n",
            "recipe:  3\n",
            "recipe:  4\n",
            "recipe:  5\n",
            "recipe:  6\n",
            "recipe:  7\n",
            "recipe:  8\n",
            "recipe:  9\n",
            "\n",
            " Generating the recipe:  25\n",
            "recipe:  0\n",
            "recipe:  1\n",
            "recipe:  2\n",
            "recipe:  3\n",
            "recipe:  4\n",
            "recipe:  5\n",
            "recipe:  6\n",
            "recipe:  7\n",
            "recipe:  8\n",
            "recipe:  9\n",
            "\n",
            " Generating the recipe:  26\n",
            "recipe:  0\n",
            "recipe:  1\n",
            "recipe:  2\n",
            "recipe:  3\n",
            "recipe:  4\n",
            "recipe:  5\n",
            "recipe:  6\n",
            "recipe:  7\n",
            "recipe:  8\n",
            "recipe:  9\n",
            "\n",
            " Generating the recipe:  27\n",
            "recipe:  0\n",
            "recipe:  1\n",
            "recipe:  2\n",
            "recipe:  3\n",
            "recipe:  4\n",
            "recipe:  5\n",
            "recipe:  6\n",
            "recipe:  7\n",
            "recipe:  8\n",
            "recipe:  9\n",
            "\n",
            " Generating the recipe:  28\n",
            "recipe:  0\n",
            "recipe:  1\n",
            "recipe:  2\n",
            "recipe:  3\n",
            "recipe:  4\n",
            "recipe:  5\n",
            "recipe:  6\n",
            "recipe:  7\n",
            "recipe:  8\n",
            "recipe:  9\n",
            "\n",
            " Generating the recipe:  29\n",
            "recipe:  0\n",
            "recipe:  1\n",
            "recipe:  2\n",
            "recipe:  3\n",
            "recipe:  4\n",
            "recipe:  5\n",
            "recipe:  6\n",
            "recipe:  7\n",
            "recipe:  8\n",
            "recipe:  9\n",
            "\n",
            " Generating the recipe:  30\n",
            "recipe:  0\n",
            "recipe:  1\n",
            "recipe:  2\n",
            "recipe:  3\n",
            "recipe:  4\n",
            "recipe:  5\n",
            "recipe:  6\n",
            "recipe:  7\n",
            "recipe:  8\n",
            "recipe:  9\n",
            "\n",
            " Generating the recipe:  31\n",
            "recipe:  0\n",
            "recipe:  1\n",
            "recipe:  2\n",
            "recipe:  3\n",
            "recipe:  4\n",
            "recipe:  5\n",
            "recipe:  6\n",
            "recipe:  7\n",
            "recipe:  8\n",
            "recipe:  9\n",
            "\n",
            " Generating the recipe:  32\n",
            "recipe:  0\n",
            "recipe:  1\n",
            "recipe:  2\n",
            "recipe:  3\n",
            "recipe:  4\n",
            "recipe:  5\n",
            "recipe:  6\n",
            "recipe:  7\n",
            "recipe:  8\n",
            "recipe:  9\n",
            "\n",
            " Generating the recipe:  33\n",
            "recipe:  0\n",
            "recipe:  1\n",
            "recipe:  2\n",
            "recipe:  3\n",
            "recipe:  4\n",
            "recipe:  5\n",
            "recipe:  6\n",
            "recipe:  7\n",
            "recipe:  8\n",
            "recipe:  9\n",
            "\n",
            " Generating the recipe:  34\n",
            "recipe:  0\n",
            "recipe:  1\n",
            "recipe:  2\n",
            "recipe:  3\n",
            "recipe:  4\n",
            "recipe:  5\n",
            "recipe:  6\n",
            "recipe:  7\n",
            "recipe:  8\n",
            "recipe:  9\n",
            "\n",
            " Generating the recipe:  35\n",
            "recipe:  0\n",
            "recipe:  1\n",
            "recipe:  2\n",
            "recipe:  3\n",
            "recipe:  4\n",
            "recipe:  5\n",
            "recipe:  6\n",
            "recipe:  7\n",
            "recipe:  8\n",
            "recipe:  9\n",
            "\n",
            " Generating the recipe:  36\n",
            "recipe:  0\n",
            "recipe:  1\n",
            "recipe:  2\n",
            "recipe:  3\n",
            "recipe:  4\n",
            "recipe:  5\n",
            "recipe:  6\n",
            "recipe:  7\n",
            "recipe:  8\n",
            "recipe:  9\n",
            "\n",
            " Generating the recipe:  37\n",
            "recipe:  0\n",
            "recipe:  1\n",
            "recipe:  2\n",
            "recipe:  3\n",
            "Failed to generate, recipe's too long\n",
            "recipe:  4\n",
            "recipe:  5\n",
            "recipe:  6\n",
            "recipe:  7\n",
            "Failed to generate, recipe's too long\n",
            "recipe:  8\n",
            "recipe:  9\n",
            "\n",
            " Generating the recipe:  38\n",
            "recipe:  0\n",
            "recipe:  1\n",
            "recipe:  2\n",
            "recipe:  3\n",
            "recipe:  4\n",
            "recipe:  5\n",
            "recipe:  6\n",
            "recipe:  7\n",
            "recipe:  8\n",
            "recipe:  9\n",
            "\n",
            " Generating the recipe:  39\n",
            "recipe:  0\n",
            "recipe:  1\n",
            "recipe:  2\n",
            "recipe:  3\n",
            "recipe:  4\n",
            "recipe:  5\n",
            "recipe:  6\n",
            "recipe:  7\n",
            "recipe:  8\n",
            "recipe:  9\n",
            "\n",
            " Generating the recipe:  40\n",
            "recipe:  0\n",
            "recipe:  1\n",
            "recipe:  2\n",
            "recipe:  3\n",
            "recipe:  4\n",
            "recipe:  5\n",
            "recipe:  6\n",
            "recipe:  7\n",
            "recipe:  8\n",
            "recipe:  9\n",
            "\n",
            " Generating the recipe:  41\n",
            "recipe:  0\n",
            "recipe:  1\n",
            "recipe:  2\n",
            "recipe:  3\n",
            "recipe:  4\n",
            "recipe:  5\n",
            "recipe:  6\n",
            "recipe:  7\n",
            "recipe:  8\n",
            "recipe:  9\n",
            "\n",
            " Generating the recipe:  42\n",
            "recipe:  0\n",
            "recipe:  1\n",
            "recipe:  2\n",
            "recipe:  3\n",
            "recipe:  4\n",
            "recipe:  5\n",
            "recipe:  6\n",
            "recipe:  7\n",
            "recipe:  8\n",
            "recipe:  9\n",
            "\n",
            " Generating the recipe:  43\n",
            "recipe:  0\n",
            "recipe:  1\n",
            "recipe:  2\n",
            "recipe:  3\n",
            "recipe:  4\n",
            "recipe:  5\n",
            "recipe:  6\n",
            "recipe:  7\n",
            "recipe:  8\n",
            "recipe:  9\n",
            "\n",
            " Generating the recipe:  44\n",
            "recipe:  0\n",
            "recipe:  1\n",
            "recipe:  2\n",
            "recipe:  3\n",
            "recipe:  4\n",
            "recipe:  5\n",
            "recipe:  6\n",
            "recipe:  7\n",
            "recipe:  8\n",
            "recipe:  9\n",
            "\n",
            " Generating the recipe:  45\n",
            "recipe:  0\n",
            "recipe:  1\n",
            "recipe:  2\n",
            "recipe:  3\n",
            "recipe:  4\n",
            "recipe:  5\n",
            "recipe:  6\n",
            "recipe:  7\n",
            "recipe:  8\n",
            "recipe:  9\n",
            "\n",
            " Generating the recipe:  46\n",
            "recipe:  0\n",
            "recipe:  1\n",
            "recipe:  2\n",
            "recipe:  3\n",
            "recipe:  4\n",
            "recipe:  5\n",
            "recipe:  6\n",
            "recipe:  7\n",
            "recipe:  8\n",
            "recipe:  9\n",
            "\n",
            " Generating the recipe:  47\n",
            "recipe:  0\n",
            "recipe:  1\n",
            "recipe:  2\n",
            "recipe:  3\n",
            "recipe:  4\n",
            "recipe:  5\n",
            "recipe:  6\n",
            "recipe:  7\n",
            "recipe:  8\n",
            "recipe:  9\n",
            "\n",
            " Generating the recipe:  48\n",
            "recipe:  0\n",
            "recipe:  1\n",
            "recipe:  2\n",
            "recipe:  3\n",
            "recipe:  4\n",
            "recipe:  5\n",
            "recipe:  6\n",
            "recipe:  7\n",
            "recipe:  8\n",
            "recipe:  9\n",
            "Failed to generate, recipe's too long\n",
            "\n",
            " Generating the recipe:  49\n",
            "recipe:  0\n",
            "recipe:  1\n",
            "recipe:  2\n",
            "recipe:  3\n",
            "recipe:  4\n",
            "recipe:  5\n",
            "recipe:  6\n",
            "recipe:  7\n",
            "recipe:  8\n",
            "recipe:  9\n",
            "\n",
            " Generating the recipe:  50\n",
            "recipe:  0\n",
            "recipe:  1\n",
            "recipe:  2\n",
            "recipe:  3\n",
            "recipe:  4\n",
            "recipe:  5\n",
            "recipe:  6\n",
            "recipe:  7\n",
            "recipe:  8\n",
            "recipe:  9\n",
            "\n",
            " Generating the recipe:  51\n",
            "recipe:  0\n",
            "recipe:  1\n",
            "recipe:  2\n",
            "recipe:  3\n",
            "recipe:  4\n",
            "recipe:  5\n",
            "recipe:  6\n",
            "recipe:  7\n",
            "recipe:  8\n",
            "recipe:  9\n",
            "\n",
            " Generating the recipe:  52\n",
            "recipe:  0\n",
            "recipe:  1\n",
            "recipe:  2\n",
            "recipe:  3\n",
            "recipe:  4\n",
            "recipe:  5\n",
            "recipe:  6\n",
            "recipe:  7\n",
            "recipe:  8\n",
            "recipe:  9\n",
            "\n",
            " Generating the recipe:  53\n",
            "recipe:  0\n",
            "recipe:  1\n",
            "recipe:  2\n",
            "recipe:  3\n",
            "recipe:  4\n",
            "recipe:  5\n",
            "recipe:  6\n",
            "recipe:  7\n",
            "recipe:  8\n",
            "recipe:  9\n",
            "\n",
            " Generating the recipe:  54\n",
            "recipe:  0\n",
            "recipe:  1\n",
            "recipe:  2\n",
            "recipe:  3\n",
            "recipe:  4\n",
            "recipe:  5\n",
            "recipe:  6\n",
            "recipe:  7\n",
            "recipe:  8\n",
            "recipe:  9\n",
            "\n",
            " Generating the recipe:  55\n",
            "recipe:  0\n",
            "recipe:  1\n",
            "recipe:  2\n",
            "recipe:  3\n",
            "recipe:  4\n",
            "recipe:  5\n",
            "recipe:  6\n",
            "recipe:  7\n",
            "recipe:  8\n",
            "recipe:  9\n",
            "\n",
            " Generating the recipe:  56\n",
            "recipe:  0\n",
            "recipe:  1\n",
            "recipe:  2\n",
            "recipe:  3\n",
            "recipe:  4\n",
            "recipe:  5\n",
            "recipe:  6\n",
            "recipe:  7\n",
            "recipe:  8\n",
            "recipe:  9\n",
            "\n",
            " Generating the recipe:  57\n",
            "recipe:  0\n",
            "recipe:  1\n",
            "recipe:  2\n",
            "recipe:  3\n",
            "recipe:  4\n",
            "recipe:  5\n",
            "recipe:  6\n",
            "recipe:  7\n",
            "recipe:  8\n",
            "recipe:  9\n",
            "\n",
            " Generating the recipe:  58\n",
            "recipe:  0\n",
            "recipe:  1\n",
            "recipe:  2\n",
            "recipe:  3\n",
            "recipe:  4\n",
            "recipe:  5\n",
            "recipe:  6\n",
            "recipe:  7\n",
            "recipe:  8\n",
            "recipe:  9\n",
            "\n",
            " Generating the recipe:  59\n",
            "recipe:  0\n",
            "recipe:  1\n",
            "recipe:  2\n",
            "recipe:  3\n",
            "recipe:  4\n",
            "recipe:  5\n",
            "recipe:  6\n",
            "recipe:  7\n",
            "recipe:  8\n",
            "recipe:  9\n",
            "\n",
            " Generating the recipe:  60\n",
            "recipe:  0\n",
            "recipe:  1\n",
            "recipe:  2\n",
            "recipe:  3\n",
            "recipe:  4\n",
            "recipe:  5\n",
            "recipe:  6\n",
            "recipe:  7\n",
            "recipe:  8\n",
            "recipe:  9\n",
            "\n",
            " Generating the recipe:  61\n",
            "recipe:  0\n",
            "recipe:  1\n",
            "recipe:  2\n",
            "recipe:  3\n",
            "recipe:  4\n",
            "recipe:  5\n",
            "recipe:  6\n",
            "recipe:  7\n",
            "recipe:  8\n",
            "recipe:  9\n",
            "\n",
            " Generating the recipe:  62\n",
            "recipe:  0\n",
            "recipe:  1\n",
            "recipe:  2\n",
            "recipe:  3\n",
            "recipe:  4\n",
            "recipe:  5\n",
            "recipe:  6\n",
            "recipe:  7\n",
            "recipe:  8\n",
            "recipe:  9\n",
            "\n",
            " Generating the recipe:  63\n",
            "recipe:  0\n",
            "recipe:  1\n",
            "recipe:  2\n",
            "recipe:  3\n",
            "recipe:  4\n",
            "recipe:  5\n",
            "recipe:  6\n",
            "recipe:  7\n",
            "recipe:  8\n",
            "recipe:  9\n",
            "\n",
            " Generating the recipe:  64\n",
            "recipe:  0\n",
            "recipe:  1\n",
            "recipe:  2\n",
            "recipe:  3\n",
            "recipe:  4\n",
            "recipe:  5\n",
            "recipe:  6\n",
            "recipe:  7\n",
            "recipe:  8\n",
            "recipe:  9\n",
            "\n",
            " Generating the recipe:  65\n",
            "recipe:  0\n",
            "recipe:  1\n",
            "recipe:  2\n",
            "recipe:  3\n",
            "recipe:  4\n",
            "recipe:  5\n",
            "recipe:  6\n",
            "recipe:  7\n",
            "recipe:  8\n",
            "recipe:  9\n",
            "\n",
            " Generating the recipe:  66\n",
            "recipe:  0\n",
            "recipe:  1\n",
            "recipe:  2\n",
            "recipe:  3\n",
            "recipe:  4\n",
            "recipe:  5\n",
            "recipe:  6\n",
            "recipe:  7\n",
            "recipe:  8\n",
            "recipe:  9\n",
            "\n",
            " Generating the recipe:  67\n",
            "recipe:  0\n",
            "recipe:  1\n",
            "recipe:  2\n",
            "recipe:  3\n",
            "recipe:  4\n",
            "recipe:  5\n",
            "recipe:  6\n",
            "recipe:  7\n",
            "recipe:  8\n",
            "recipe:  9\n",
            "\n",
            " Generating the recipe:  68\n",
            "recipe:  0\n",
            "recipe:  1\n",
            "recipe:  2\n",
            "recipe:  3\n",
            "recipe:  4\n",
            "recipe:  5\n",
            "recipe:  6\n",
            "recipe:  7\n",
            "recipe:  8\n",
            "recipe:  9\n",
            "\n",
            " Generating the recipe:  69\n",
            "recipe:  0\n",
            "recipe:  1\n",
            "recipe:  2\n",
            "recipe:  3\n",
            "recipe:  4\n",
            "recipe:  5\n",
            "recipe:  6\n",
            "recipe:  7\n",
            "recipe:  8\n",
            "recipe:  9\n",
            "\n",
            " Generating the recipe:  70\n",
            "recipe:  0\n",
            "recipe:  1\n",
            "recipe:  2\n",
            "recipe:  3\n",
            "recipe:  4\n",
            "recipe:  5\n",
            "recipe:  6\n",
            "recipe:  7\n",
            "recipe:  8\n",
            "recipe:  9\n",
            "\n",
            " Generating the recipe:  71\n",
            "recipe:  0\n",
            "recipe:  1\n",
            "recipe:  2\n",
            "recipe:  3\n",
            "recipe:  4\n",
            "recipe:  5\n",
            "recipe:  6\n",
            "recipe:  7\n",
            "recipe:  8\n",
            "recipe:  9\n",
            "\n",
            " Generating the recipe:  72\n",
            "recipe:  0\n",
            "recipe:  1\n",
            "Failed to generate, recipe's too long\n",
            "recipe:  2\n",
            "recipe:  3\n",
            "recipe:  4\n",
            "recipe:  5\n",
            "recipe:  6\n",
            "recipe:  7\n",
            "recipe:  8\n",
            "recipe:  9\n",
            "\n",
            " Generating the recipe:  73\n",
            "recipe:  0\n",
            "recipe:  1\n",
            "recipe:  2\n",
            "recipe:  3\n",
            "recipe:  4\n",
            "recipe:  5\n",
            "recipe:  6\n",
            "recipe:  7\n",
            "recipe:  8\n",
            "recipe:  9\n",
            "\n",
            " Generating the recipe:  74\n",
            "recipe:  0\n",
            "recipe:  1\n",
            "recipe:  2\n",
            "recipe:  3\n",
            "recipe:  4\n",
            "recipe:  5\n",
            "recipe:  6\n",
            "recipe:  7\n",
            "recipe:  8\n",
            "recipe:  9\n",
            "\n",
            " Generating the recipe:  75\n",
            "recipe:  0\n",
            "recipe:  1\n",
            "recipe:  2\n",
            "recipe:  3\n",
            "recipe:  4\n",
            "recipe:  5\n",
            "recipe:  6\n",
            "recipe:  7\n",
            "recipe:  8\n",
            "recipe:  9\n",
            "\n",
            " Generating the recipe:  76\n",
            "recipe:  0\n",
            "recipe:  1\n",
            "recipe:  2\n",
            "recipe:  3\n",
            "recipe:  4\n",
            "recipe:  5\n",
            "recipe:  6\n",
            "recipe:  7\n",
            "recipe:  8\n",
            "recipe:  9\n",
            "\n",
            " Generating the recipe:  77\n",
            "recipe:  0\n",
            "recipe:  1\n",
            "recipe:  2\n",
            "recipe:  3\n",
            "recipe:  4\n",
            "recipe:  5\n",
            "recipe:  6\n",
            "recipe:  7\n",
            "recipe:  8\n",
            "recipe:  9\n",
            "\n",
            " Generating the recipe:  78\n",
            "recipe:  0\n",
            "recipe:  1\n",
            "recipe:  2\n",
            "recipe:  3\n",
            "recipe:  4\n",
            "recipe:  5\n",
            "recipe:  6\n",
            "recipe:  7\n",
            "recipe:  8\n",
            "recipe:  9\n",
            "\n",
            " Generating the recipe:  79\n",
            "recipe:  0\n",
            "recipe:  1\n",
            "recipe:  2\n",
            "recipe:  3\n",
            "recipe:  4\n",
            "recipe:  5\n",
            "recipe:  6\n",
            "recipe:  7\n",
            "recipe:  8\n",
            "recipe:  9\n",
            "\n",
            " Generating the recipe:  80\n",
            "recipe:  0\n",
            "recipe:  1\n",
            "recipe:  2\n",
            "recipe:  3\n",
            "recipe:  4\n",
            "recipe:  5\n",
            "recipe:  6\n",
            "recipe:  7\n",
            "recipe:  8\n",
            "recipe:  9\n",
            "\n",
            " Generating the recipe:  81\n",
            "recipe:  0\n",
            "recipe:  1\n",
            "recipe:  2\n",
            "recipe:  3\n",
            "recipe:  4\n",
            "recipe:  5\n",
            "recipe:  6\n",
            "recipe:  7\n",
            "recipe:  8\n",
            "recipe:  9\n",
            "\n",
            " Generating the recipe:  82\n",
            "recipe:  0\n",
            "recipe:  1\n",
            "recipe:  2\n",
            "recipe:  3\n",
            "recipe:  4\n",
            "recipe:  5\n",
            "recipe:  6\n",
            "recipe:  7\n",
            "recipe:  8\n",
            "recipe:  9\n",
            "\n",
            " Generating the recipe:  83\n",
            "recipe:  0\n",
            "recipe:  1\n",
            "recipe:  2\n",
            "recipe:  3\n",
            "recipe:  4\n",
            "recipe:  5\n",
            "recipe:  6\n",
            "recipe:  7\n",
            "recipe:  8\n",
            "recipe:  9\n",
            "\n",
            " Generating the recipe:  84\n",
            "recipe:  0\n",
            "recipe:  1\n",
            "recipe:  2\n",
            "recipe:  3\n",
            "recipe:  4\n",
            "recipe:  5\n",
            "recipe:  6\n",
            "recipe:  7\n",
            "recipe:  8\n",
            "recipe:  9\n",
            "\n",
            " Generating the recipe:  85\n",
            "recipe:  0\n",
            "recipe:  1\n",
            "recipe:  2\n",
            "recipe:  3\n",
            "recipe:  4\n",
            "recipe:  5\n",
            "recipe:  6\n",
            "recipe:  7\n",
            "recipe:  8\n",
            "recipe:  9\n",
            "\n",
            " Generating the recipe:  86\n",
            "recipe:  0\n",
            "recipe:  1\n",
            "recipe:  2\n",
            "recipe:  3\n",
            "recipe:  4\n",
            "recipe:  5\n",
            "recipe:  6\n",
            "recipe:  7\n",
            "recipe:  8\n",
            "recipe:  9\n",
            "\n",
            " Generating the recipe:  87\n",
            "recipe:  0\n",
            "recipe:  1\n",
            "recipe:  2\n",
            "recipe:  3\n",
            "recipe:  4\n",
            "recipe:  5\n",
            "recipe:  6\n",
            "recipe:  7\n",
            "recipe:  8\n",
            "recipe:  9\n",
            "\n",
            " Generating the recipe:  88\n",
            "recipe:  0\n",
            "recipe:  1\n",
            "recipe:  2\n",
            "recipe:  3\n",
            "recipe:  4\n",
            "recipe:  5\n",
            "recipe:  6\n",
            "recipe:  7\n",
            "recipe:  8\n",
            "recipe:  9\n",
            "\n",
            " Generating the recipe:  89\n",
            "recipe:  0\n",
            "recipe:  1\n",
            "recipe:  2\n",
            "recipe:  3\n",
            "recipe:  4\n",
            "recipe:  5\n",
            "recipe:  6\n",
            "recipe:  7\n",
            "recipe:  8\n",
            "recipe:  9\n",
            "\n",
            " Generating the recipe:  90\n",
            "recipe:  0\n",
            "recipe:  1\n",
            "recipe:  2\n",
            "recipe:  3\n",
            "recipe:  4\n",
            "recipe:  5\n",
            "recipe:  6\n",
            "recipe:  7\n",
            "recipe:  8\n",
            "recipe:  9\n",
            "\n",
            " Generating the recipe:  91\n",
            "recipe:  0\n",
            "recipe:  1\n",
            "recipe:  2\n",
            "recipe:  3\n",
            "recipe:  4\n",
            "recipe:  5\n",
            "recipe:  6\n",
            "recipe:  7\n",
            "recipe:  8\n",
            "recipe:  9\n",
            "\n",
            " Generating the recipe:  92\n",
            "recipe:  0\n",
            "recipe:  1\n",
            "recipe:  2\n",
            "recipe:  3\n",
            "recipe:  4\n",
            "recipe:  5\n",
            "recipe:  6\n",
            "recipe:  7\n",
            "recipe:  8\n",
            "recipe:  9\n",
            "\n",
            " Generating the recipe:  93\n",
            "recipe:  0\n",
            "recipe:  1\n",
            "recipe:  2\n",
            "recipe:  3\n",
            "recipe:  4\n",
            "recipe:  5\n",
            "recipe:  6\n",
            "recipe:  7\n",
            "recipe:  8\n",
            "recipe:  9\n",
            "\n",
            " Generating the recipe:  94\n",
            "recipe:  0\n",
            "recipe:  1\n",
            "recipe:  2\n",
            "recipe:  3\n",
            "recipe:  4\n",
            "recipe:  5\n",
            "recipe:  6\n",
            "recipe:  7\n",
            "recipe:  8\n",
            "recipe:  9\n",
            "\n",
            " Generating the recipe:  95\n",
            "recipe:  0\n",
            "recipe:  1\n",
            "recipe:  2\n",
            "recipe:  3\n",
            "recipe:  4\n",
            "recipe:  5\n",
            "recipe:  6\n",
            "recipe:  7\n",
            "recipe:  8\n",
            "recipe:  9\n",
            "\n",
            " Generating the recipe:  96\n",
            "recipe:  0\n",
            "recipe:  1\n",
            "recipe:  2\n",
            "recipe:  3\n",
            "recipe:  4\n",
            "recipe:  5\n",
            "recipe:  6\n",
            "recipe:  7\n",
            "recipe:  8\n",
            "recipe:  9\n",
            "\n",
            " Generating the recipe:  97\n",
            "recipe:  0\n",
            "recipe:  1\n",
            "recipe:  2\n",
            "recipe:  3\n",
            "recipe:  4\n",
            "recipe:  5\n",
            "recipe:  6\n",
            "recipe:  7\n",
            "recipe:  8\n",
            "recipe:  9\n",
            "\n",
            " Generating the recipe:  98\n",
            "recipe:  0\n",
            "recipe:  1\n",
            "recipe:  2\n",
            "recipe:  3\n",
            "recipe:  4\n",
            "recipe:  5\n",
            "recipe:  6\n",
            "recipe:  7\n",
            "recipe:  8\n",
            "recipe:  9\n",
            "\n",
            " Generating the recipe:  99\n",
            "recipe:  0\n",
            "recipe:  1\n",
            "recipe:  2\n",
            "recipe:  3\n",
            "recipe:  4\n",
            "recipe:  5\n",
            "recipe:  6\n",
            "recipe:  7\n",
            "recipe:  8\n",
            "recipe:  9\n"
          ],
          "name": "stdout"
        }
      ]
    },
    {
      "cell_type": "code",
      "metadata": {
        "id": "fY7IJP1tvtDY"
      },
      "source": [
        "#func of cos_sim\n",
        "import re\n",
        "import math\n",
        "from collections import Counter\n",
        "\n",
        "\n",
        "def get_cosine(vec1, vec2):\n",
        "    intersection = set(vec1.keys()) & set(vec2.keys())\n",
        "    numerator = sum([vec1[x] * vec2[x] for x in intersection])\n",
        "\n",
        "    sum1 = sum([vec1[x]**2 for x in vec1.keys()])\n",
        "    sum2 = sum([vec2[x]**2 for x in vec2.keys()])\n",
        "    denominator = math.sqrt(sum1) * math.sqrt(sum2)\n",
        "\n",
        "    if not denominator:\n",
        "        return 0.0\n",
        "    else:\n",
        "        return float(numerator) / denominator\n",
        "\n",
        "\n",
        "def text_to_vector(text):\n",
        "    word = re.compile(r'\\w+')\n",
        "    words = word.findall(text)\n",
        "    return Counter(words)\n",
        "\n",
        "\n",
        "def get_result(content_a, content_b):\n",
        "    text1 = content_a\n",
        "    text2 = content_b\n",
        "\n",
        "    vector1 = text_to_vector(text1)\n",
        "    vector2 = text_to_vector(text2)\n",
        "\n",
        "    cosine_result = get_cosine(vector1, vector2)\n",
        "    return cosine_result"
      ],
      "execution_count": null,
      "outputs": []
    },
    {
      "cell_type": "code",
      "metadata": {
        "id": "RA6mX6-bvzes"
      },
      "source": [
        "#cosine_similarity\n",
        "\n",
        "def COS_SIM(df_eval_dir,directions):\n",
        "  \"\"\"\n",
        "  df_eval_dir := gold_standard recipes\n",
        "  directions  := corresponding recipes \"\"\"\n",
        "\n",
        "  avg = 0\n",
        "\n",
        "  for i in range(len(directions)):\n",
        "    best = 0\n",
        "    for j in range(len(directions[i])):\n",
        "      cos = get_result(\" \".join(eval(df_eval_dir[i])),\n",
        "                      \" \".join(directions[i][j]))\n",
        "      best = max(best, cos)\n",
        "\n",
        "    avg += best\n",
        "\n",
        "  avg = avg/len(directions)\n",
        "\n",
        "  print(\"avg:\", avg)"
      ],
      "execution_count": null,
      "outputs": []
    },
    {
      "cell_type": "code",
      "metadata": {
        "id": "d8nbUd8qvzqd",
        "colab": {
          "base_uri": "https://localhost:8080/"
        },
        "outputId": "f7fe4dc9-9e01-4cc7-ddce-d934278dc016"
      },
      "source": [
        "COS_SIM(df_eval_dir,directions)"
      ],
      "execution_count": null,
      "outputs": [
        {
          "output_type": "stream",
          "text": [
            "avg: 0.5582292684602654\n"
          ],
          "name": "stdout"
        }
      ]
    },
    {
      "cell_type": "code",
      "metadata": {
        "id": "ASj6tFpXv4MZ",
        "colab": {
          "base_uri": "https://localhost:8080/"
        },
        "outputId": "32583f68-93af-4ffe-e36a-f802dc285233"
      },
      "source": [
        "!pip install jiwer==2.2.0\n",
        "!pip install -U nltk"
      ],
      "execution_count": null,
      "outputs": [
        {
          "output_type": "stream",
          "text": [
            "Requirement already satisfied: jiwer==2.2.0 in /usr/local/lib/python3.7/dist-packages (2.2.0)\n",
            "Requirement already satisfied: python-Levenshtein in /usr/local/lib/python3.7/dist-packages (from jiwer==2.2.0) (0.12.2)\n",
            "Requirement already satisfied: numpy in /usr/local/lib/python3.7/dist-packages (from jiwer==2.2.0) (1.19.5)\n",
            "Requirement already satisfied: setuptools in /usr/local/lib/python3.7/dist-packages (from python-Levenshtein->jiwer==2.2.0) (56.1.0)\n",
            "Requirement already up-to-date: nltk in /usr/local/lib/python3.7/dist-packages (3.6.2)\n",
            "Requirement already satisfied, skipping upgrade: joblib in /usr/local/lib/python3.7/dist-packages (from nltk) (1.0.1)\n",
            "Requirement already satisfied, skipping upgrade: regex in /usr/local/lib/python3.7/dist-packages (from nltk) (2019.12.20)\n",
            "Requirement already satisfied, skipping upgrade: click in /usr/local/lib/python3.7/dist-packages (from nltk) (8.0.0)\n",
            "Requirement already satisfied, skipping upgrade: tqdm in /usr/local/lib/python3.7/dist-packages (from nltk) (4.41.1)\n"
          ],
          "name": "stdout"
        }
      ]
    },
    {
      "cell_type": "code",
      "metadata": {
        "id": "BhmPW8Jvv4Oq"
      },
      "source": [
        "import nltk\n",
        "import nltk.translate.bleu_score as bleu\n",
        "from nltk.translate.bleu_score import SmoothingFunction\n",
        "\n",
        "import nltk.translate.gleu_score as gleu\n",
        "import nltk.translate.meteor_score as meteor"
      ],
      "execution_count": null,
      "outputs": []
    },
    {
      "cell_type": "code",
      "metadata": {
        "id": "39CPJFonv4SC"
      },
      "source": [
        "# Helper Func.\n",
        "def list_to_words(recipe):\n",
        "  words = []\n",
        "  for i in recipe:\n",
        "    words += i.split()\n",
        "\n",
        "  return words\n",
        "\n",
        "# New BLEU/GLEU\n",
        "def bleu_score(recipe, refer):\n",
        "    hyp = list_to_words(eval(recipe))\n",
        "    refs = []\n",
        "    for i in refer:\n",
        "        # print(list_to_words(i))\n",
        "        refs.append(list_to_words(i))\n",
        "\n",
        "    smoothie = SmoothingFunction().method5\n",
        "    score_ref_a = bleu.sentence_bleu(refs, hyp, smoothing_function=smoothie, weights=(1,0,0,0))\n",
        "    return score_ref_a\n",
        "\n",
        "def gleu_score(recipe, refer):\n",
        "    hyp = list_to_words(eval(recipe))\n",
        "    refs = []\n",
        "    for i in refer:\n",
        "        refs.append(list_to_words(i))\n",
        "\n",
        "    score_ref_a = gleu.sentence_gleu(refs, hyp)\n",
        "    return score_ref_a"
      ],
      "execution_count": null,
      "outputs": []
    },
    {
      "cell_type": "code",
      "metadata": {
        "id": "IjOFqH23v4Um",
        "colab": {
          "base_uri": "https://localhost:8080/"
        },
        "outputId": "a0c9baa5-f795-4e4e-fcd5-d3afdba741e4"
      },
      "source": [
        "bleu_avg = []\n",
        "gleu_avg = []\n",
        "\n",
        "for i in range(len(directions)):\n",
        "  # print(bleu_score(df_eval_dir[i], directions[i]))\n",
        "  bleu_avg.append(bleu_score(df_eval_dir[i], directions[i]))\n",
        "\n",
        "for i in range(len(directions)):\n",
        "  gleu_avg.append(gleu_score(df_eval_dir[i], directions[i]))\n",
        "print(np.mean(bleu_avg))\n",
        "print(np.mean(gleu_avg))"
      ],
      "execution_count": null,
      "outputs": [
        {
          "output_type": "stream",
          "text": [
            "0.7910421396331373\n",
            "0.09752564271635114\n"
          ],
          "name": "stdout"
        }
      ]
    },
    {
      "cell_type": "code",
      "metadata": {
        "id": "PFxAgVNc0zOO"
      },
      "source": [
        ""
      ],
      "execution_count": null,
      "outputs": []
    }
  ]
}